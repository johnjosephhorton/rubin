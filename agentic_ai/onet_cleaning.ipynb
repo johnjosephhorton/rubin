{
 "cells": [
  {
   "cell_type": "markdown",
   "id": "bc7fc397",
   "metadata": {},
   "source": [
    "#### By: Peyman Shahidi\n",
    "#### Created: Oct 10, 2025\n",
    "\n",
    "<br>"
   ]
  },
  {
   "cell_type": "code",
   "execution_count": 1,
   "id": "10366af0",
   "metadata": {},
   "outputs": [],
   "source": [
    "#Python\n",
    "import getpass\n",
    "import numpy as np\n",
    "import pandas as pd\n",
    "from collections import defaultdict\n",
    "import itertools\n",
    "import random \n",
    "\n",
    "## formatting number to appear comma separated and with two digits after decimal: e.g, 1000 shown as 1,000.00\n",
    "pd.set_option('float_format', \"{:,.2f}\".format)\n",
    "\n",
    "import matplotlib.pyplot as plt\n",
    "#%matplotlib inline\n",
    "#from matplotlib.legend import Legend\n",
    "\n",
    "import warnings\n",
    "warnings.filterwarnings('ignore')\n",
    "pd.set_option('display.max_rows', 200)"
   ]
  },
  {
   "cell_type": "code",
   "execution_count": 2,
   "id": "519e43cb",
   "metadata": {},
   "outputs": [],
   "source": [
    "main_folder_path = \"..\"\n",
    "input_data_path = f\"{main_folder_path}/data\"\n",
    "output_data_path = f'{input_data_path}/computed_objects'\n",
    "output_plot_path = f\"{main_folder_path}/writeup/plots\""
   ]
  },
  {
   "cell_type": "code",
   "execution_count": 3,
   "id": "84e6e6cd",
   "metadata": {},
   "outputs": [],
   "source": [
    "# Create directories if they don't exist\n",
    "import os\n",
    "\n",
    "for path in [output_data_path, output_plot_path]:\n",
    "    if not os.path.exists(path):\n",
    "        os.makedirs(path)"
   ]
  },
  {
   "cell_type": "markdown",
   "id": "9be56448",
   "metadata": {},
   "source": [
    "### O*NET Data Processing"
   ]
  },
  {
   "cell_type": "code",
   "execution_count": 4,
   "id": "857f1b98",
   "metadata": {},
   "outputs": [],
   "source": [
    "# Read all datasets\n",
    "task_ratings_df = pd.read_csv(f'{input_data_path}/db_27_3_text/Task Ratings.txt', sep='\\t')\n",
    "task_categories_df = pd.read_csv(f'{input_data_path}/db_27_3_text/Task Categories.txt', sep='\\t')\n",
    "tasks_to_dwas_df = pd.read_csv(f'{input_data_path}/db_27_3_text/Tasks to DWAs.txt', sep='\\t')\n",
    "dwa_reference_df = pd.read_csv(f'{input_data_path}/db_27_3_text/DWA Reference.txt', sep='\\t')\n",
    "job_zones_df = pd.read_csv(f'{input_data_path}/db_27_3_text/Job Zones.txt', sep='\\t')\n",
    "task_statements_df = pd.read_csv(f'{input_data_path}/db_27_3_text/Task Statements.txt', sep='\\t')\n",
    "occupation_data_df = pd.read_csv(f'{input_data_path}/db_27_3_text/Occupation Data.txt', sep='\\t')\n",
    "soc_structure_df = pd.read_csv(f'{input_data_path}/SOC_Structure.csv')"
   ]
  },
  {
   "cell_type": "code",
   "execution_count": 5,
   "id": "e4c8ebdf",
   "metadata": {},
   "outputs": [],
   "source": [
    "# Merge and transform O*NET task data\n",
    "ONET = task_ratings_df.merge(task_categories_df, on=['Scale ID', 'Category'], how='left')\n",
    "\n",
    "# Process Category Description\n",
    "ONET['Category Description'] = ONET['Category Description'].apply(lambda x: f'FT_{x}' if pd.notna(x) else x)\n",
    "ONET['Category Description'] = ONET['Category Description'].fillna(ONET['Scale ID'])\n",
    "ONET['Category Description'] = ONET['Category Description'].replace({'IM': 'Importance', 'RT': 'Relevance'})\n",
    "\n",
    "# Reshape from long to wide format\n",
    "ONET = ONET.pivot_table(\n",
    "    index=['O*NET-SOC Code', 'Task ID'],\n",
    "    columns='Category Description',\n",
    "    values='Data Value',\n",
    "    aggfunc='first'\n",
    ").reset_index()\n",
    "ONET.columns.name = None\n",
    "\n",
    "# Merge additional data\n",
    "ONET = ONET.merge(occupation_data_df[['O*NET-SOC Code', 'Title']], on='O*NET-SOC Code', how='left')\n",
    "ONET.rename(columns={'Title': 'Occupation Title'}, inplace=True)\n",
    "\n",
    "ONET = ONET.merge(task_statements_df[['O*NET-SOC Code', 'Task ID', 'Task', 'Task Type']], on=['O*NET-SOC Code', 'Task ID'], how='left')\n",
    "ONET.rename(columns={'Task': 'Task Title'}, inplace=True)\n",
    "\n",
    "ONET = ONET.merge(tasks_to_dwas_df[['O*NET-SOC Code', 'Task ID', 'DWA ID']], on=['O*NET-SOC Code', 'Task ID'], how='left')\n",
    "ONET = ONET.merge(dwa_reference_df[['DWA ID', 'DWA Title']], on='DWA ID', how='left')\n",
    "ONET = ONET.merge(job_zones_df[['O*NET-SOC Code', 'Job Zone']], on='O*NET-SOC Code', how='left')\n",
    "\n",
    "# Reorder columns\n",
    "fixed_cols = ['O*NET-SOC Code', 'Occupation Title', 'Task ID', 'Task Title', 'Task Type', 'DWA ID', 'DWA Title', 'Job Zone']\n",
    "other_cols = [col for col in ONET.columns if col not in fixed_cols]\n",
    "ONET = ONET[fixed_cols + other_cols]"
   ]
  },
  {
   "cell_type": "markdown",
   "id": "0ae99494",
   "metadata": {},
   "source": [
    "### SOC Industry Structure"
   ]
  },
  {
   "cell_type": "code",
   "execution_count": 6,
   "id": "8c842646",
   "metadata": {},
   "outputs": [],
   "source": [
    "# Create SOC Code-to-Label mapping\n",
    "code_label_rows = []\n",
    "for idx, row in soc_structure_df.iterrows():\n",
    "    if pd.notna(row['Major Group']):\n",
    "        code = row['Major Group']\n",
    "    elif pd.notna(row['Minor Group']):\n",
    "        code = row['Minor Group']\n",
    "    elif pd.notna(row['Broad Occupation']):\n",
    "        code = row['Broad Occupation']\n",
    "    elif pd.notna(row['Detailed Occupation']):\n",
    "        code = row['Detailed Occupation']\n",
    "    elif pd.notna(row['Detailed O*NET-SOC']):\n",
    "        code = row['Detailed O*NET-SOC']\n",
    "    else:\n",
    "        continue\n",
    "    code_label_rows.append({'Code': code, 'Label': row['SOC or O*NET-SOC 2019 Title']})\n",
    "\n",
    "soc_code_label = pd.DataFrame(code_label_rows)\n",
    "soc_code_label.to_csv(f'{output_data_path}/SOC_Code_Label_Mapping.csv', index=False)"
   ]
  },
  {
   "cell_type": "code",
   "execution_count": 7,
   "id": "1c480f45",
   "metadata": {},
   "outputs": [],
   "source": [
    "# Create industry codes at different hierarchy levels\n",
    "ONET['SOC_Code_7digit'] = ONET['O*NET-SOC Code'].str.split('.').str[0]\n",
    "\n",
    "industry_levels = {\n",
    "    2: 'Major_Group',\n",
    "    5: 'Minor_Group', \n",
    "    6: 'Broad_Occupation',\n",
    "    7: 'Detailed_Occupation'\n",
    "}\n",
    "\n",
    "for num_digits, level_name in industry_levels.items():\n",
    "    if num_digits == 2:\n",
    "        ONET[f'{level_name}_Code'] = ONET['SOC_Code_7digit'].str[:2] + '-0000'\n",
    "    elif num_digits == 5:\n",
    "        ONET[f'{level_name}_Code'] = ONET['SOC_Code_7digit'].str[:5] + '00'\n",
    "    elif num_digits == 6:\n",
    "        ONET[f'{level_name}_Code'] = ONET['SOC_Code_7digit'].str[:6] + '0'\n",
    "    else:\n",
    "        ONET[f'{level_name}_Code'] = ONET['SOC_Code_7digit']"
   ]
  },
  {
   "cell_type": "code",
   "execution_count": 8,
   "id": "e3e69f2f",
   "metadata": {},
   "outputs": [],
   "source": [
    "# Add title labels for each industry level\n",
    "for num_digits, level_name in industry_levels.items():\n",
    "    code_col = f'{level_name}_Code'\n",
    "    label_col = f'{level_name}_Title'\n",
    "    ONET = ONET.merge(\n",
    "        soc_code_label.rename(columns={'Code': code_col, 'Label': label_col}),\n",
    "        on=code_col,\n",
    "        how='left'\n",
    "    )\n",
    "\n",
    "# Save final dataset\n",
    "ONET.to_csv(f'{output_data_path}/ONET_cleaned_tasks.csv', index=False)"
   ]
  },
  {
   "cell_type": "code",
   "execution_count": 9,
   "id": "cec7206c",
   "metadata": {},
   "outputs": [
    {
     "name": "stdout",
     "output_type": "stream",
     "text": [
      "Dataset shape: (22310, 26)\n",
      "Total rows: 22,310\n",
      "\n",
      "Columns with NaN values:\n",
      "==================================================\n",
      "Minor_Group_Title: 4,231 (18.96%)\n",
      "DWA ID: 425 (1.90%)\n",
      "DWA Title: 425 (1.90%)\n",
      "Broad_Occupation_Title: 215 (0.96%)\n"
     ]
    }
   ],
   "source": [
    "# Sanity check: NaN values\n",
    "nan_counts = ONET.isna().sum()\n",
    "nan_summary = nan_counts[nan_counts > 0].sort_values(ascending=False)\n",
    "\n",
    "print(f\"Dataset shape: {ONET.shape}\")\n",
    "print(f\"Total rows: {len(ONET):,}\\n\")\n",
    "\n",
    "if len(nan_summary) > 0:\n",
    "    print(\"Columns with NaN values:\")\n",
    "    print(\"=\" * 50)\n",
    "    for col, count in nan_summary.items():\n",
    "        percentage = (count / len(ONET)) * 100\n",
    "        print(f\"{col}: {count:,} ({percentage:.2f}%)\")\n",
    "else:\n",
    "    print(\"✓ No NaN values found in any column!\")"
   ]
  }
 ],
 "metadata": {
  "kernelspec": {
   "display_name": "base",
   "language": "python",
   "name": "python3"
  },
  "language_info": {
   "codemirror_mode": {
    "name": "ipython",
    "version": 3
   },
   "file_extension": ".py",
   "mimetype": "text/x-python",
   "name": "python",
   "nbconvert_exporter": "python",
   "pygments_lexer": "ipython3",
   "version": "3.12.4"
  }
 },
 "nbformat": 4,
 "nbformat_minor": 5
}
