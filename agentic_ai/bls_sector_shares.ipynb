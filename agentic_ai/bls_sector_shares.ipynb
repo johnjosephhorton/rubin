{
 "cells": [
  {
   "cell_type": "markdown",
   "id": "bc7fc397",
   "metadata": {},
   "source": [
    "#### By: Peyman Shahidi\n",
    "#### Created: Oct 29, 2025\n",
    "#### Last Edit: Oct 30, 2025\n",
    "\n",
    "<br>"
   ]
  },
  {
   "cell_type": "code",
   "execution_count": null,
   "id": "10366af0",
   "metadata": {},
   "outputs": [],
   "source": [
    "#Python\n",
    "import getpass\n",
    "import numpy as np\n",
    "import pandas as pd\n",
    "from collections import defaultdict\n",
    "import itertools\n",
    "import random \n",
    "\n",
    "## formatting number to appear comma separated and with two digits after decimal: e.g, 1000 shown as 1,000.00\n",
    "pd.set_option('float_format', \"{:,.2f}\".format)\n",
    "\n",
    "import matplotlib.pyplot as plt\n",
    "#%matplotlib inline\n",
    "#from matplotlib.legend import Legend\n",
    "\n",
    "import warnings\n",
    "warnings.filterwarnings('ignore')\n",
    "pd.set_option('display.max_rows', 200)"
   ]
  },
  {
   "cell_type": "code",
   "execution_count": null,
   "id": "519e43cb",
   "metadata": {},
   "outputs": [],
   "source": [
    "main_folder_path = \"..\"\n",
    "input_data_path = f\"{main_folder_path}/data\"\n",
    "output_data_path = f'{input_data_path}/computed_objects'\n",
    "output_plot_path = f\"{main_folder_path}/writeup/plots\""
   ]
  },
  {
   "cell_type": "code",
   "execution_count": null,
   "id": "84e6e6cd",
   "metadata": {},
   "outputs": [],
   "source": [
    "# Create directories if they don't exist\n",
    "import os\n",
    "\n",
    "for path in [output_data_path, output_plot_path]:\n",
    "    if not os.path.exists(path):\n",
    "        os.makedirs(path)"
   ]
  },
  {
   "cell_type": "markdown",
   "id": "f43a275a",
   "metadata": {},
   "source": [
    "## Create Employment Shares from BLS"
   ]
  },
  {
   "cell_type": "code",
   "execution_count": null,
   "id": "e013796a",
   "metadata": {},
   "outputs": [],
   "source": [
    "bls_df = pd.read_excel(f\"{main_folder_path}/data/oesm23all/all_data_M_2023.xlsx\")\n",
    "\n",
    "# Keep only national-level data\n",
    "bls_df = bls_df[bls_df.AREA == 99]\n",
    "\n",
    "# Drop rows whose TOT_EMP and PCT_TOTAL are both NaN\n",
    "print('Length before dropping TOT_EMP == \"**\":', len(bls_df))\n",
    "bls_df = bls_df[bls_df.TOT_EMP != '**']\n",
    "print('Length After dropping TOT_EMP == \"**\":', len(bls_df))\n",
    "\n",
    "# Get sector shares and drop aggregate occupation codes\n",
    "sector_total_shares_df = bls_df[bls_df.OCC_CODE == '00-0000'][['NAICS', 'TOT_EMP']]\n",
    "sector_total_shares_df = sector_total_shares_df.rename(columns={'TOT_EMP': 'totalSectorEmp'})\n",
    "sector_total_shares_df['sectorEmpShare'] = sector_total_shares_df['totalSectorEmp'] / sector_total_shares_df['totalSectorEmp'].sum()\n",
    "\n",
    "# Drop aggregate occupation codes\n",
    "bls_df = bls_df[bls_df.OCC_CODE != '00-0000']\n",
    "\n",
    "# Keep only relevant columns\n",
    "cols = ['NAICS', 'NAICS_TITLE', 'I_GROUP', 'OCC_CODE', 'OCC_TITLE', 'O_GROUP', 'TOT_EMP']\n",
    "bls_df = bls_df[cols]"
   ]
  },
  {
   "cell_type": "code",
   "execution_count": null,
   "id": "0bb3b3b7",
   "metadata": {},
   "outputs": [],
   "source": [
    "# Specify sector and ONET levels of interest\n",
    "my_sector = 'sector'\n",
    "my_onet_level = 'detailed'"
   ]
  },
  {
   "cell_type": "code",
   "execution_count": null,
   "id": "a6cec669",
   "metadata": {},
   "outputs": [],
   "source": [
    "# Subset to BLS industry and O*NET level of interest\n",
    "sector_df = bls_df[(bls_df['I_GROUP'] == my_sector) & (bls_df['O_GROUP'] == my_onet_level)].copy()\n",
    "sector_df = sector_df.drop_duplicates()\n",
    "\n",
    "# Clean TOT_EMP: coerce to numeric, set non-integer and NaN values to 0\n",
    "sector_df['TOT_EMP'] = pd.to_numeric(sector_df['TOT_EMP'], errors='coerce')\n",
    "# Identify non-integer entries (fractional values) and set them to 0\n",
    "non_integer_mask = sector_df['TOT_EMP'].notna() & (sector_df['TOT_EMP'] % 1 != 0)\n",
    "if non_integer_mask.any():\n",
    "    num_non_int = non_integer_mask.sum()\n",
    "    print(f\"Setting {num_non_int} non-integer TOT_EMP values to 0\")\n",
    "    sector_df.loc[non_integer_mask, 'TOT_EMP'] = 0\n",
    "\n",
    "# Replace remaining NaN with 0 and cast to integer\n",
    "sector_df['TOT_EMP'] = sector_df['TOT_EMP'].fillna(0).astype(int)\n",
    "\n",
    "# Compute employment shares\n",
    "# 1) add total sector employment and sector shares\n",
    "sector_df = sector_df.merge(sector_total_shares_df, on='NAICS', how='left')\n",
    "\n",
    "# 2) occ_sectorEmpShare: share of employment within the NAICS / NAICS_TITLE group\n",
    "group_cols = ['NAICS', 'NAICS_TITLE']\n",
    "group_total = sector_df.groupby(group_cols)['totalSectorEmp'].transform('first')\n",
    "sector_df['occ_sectorEmpShare'] = (sector_df['TOT_EMP'] / group_total).fillna(0)\n",
    "\n",
    "# 3) occ_totalEmpShare: share of employment across the entire economy\n",
    "total_emp = sector_total_shares_df[['NAICS', 'totalSectorEmp']].drop_duplicates().sum()['totalSectorEmp']\n",
    "sector_df['occ_totalEmpShare'] = sector_df['TOT_EMP'] / total_emp\n",
    "\n",
    "# Save sector_df for further analysis (overwrites previous file)\n",
    "sector_df.to_csv(f'{output_data_path}/bls_sector_shares.csv', index=False)\n",
    "print(f\"✓ Sector-level BLS data saved with {sector_df.shape[0]:,} rows (with ind_emp_share & total_emp_share)\")"
   ]
  },
  {
   "cell_type": "code",
   "execution_count": null,
   "id": "30ff2065",
   "metadata": {},
   "outputs": [],
   "source": [
    "# Calculate counts per occupation title grouped by NAICS, I_GROUP, OCC_TITLE, OCC_CODE\n",
    "# - row_count: total rows in sector_df for the group\n",
    "# - unique_OCC_CODE: number of unique OCC_CODE per (NAICS, I_GROUP, OCC_TITLE) (if OCC_CODE exists)\n",
    "\n",
    "required_cols = ['NAICS', 'OCC_TITLE', 'OCC_CODE']\n",
    "\n",
    "# Count rows per exact group (OCC_TITLE, OCC_CODE)\n",
    "counts_df = sector_df.groupby(['NAICS', 'OCC_TITLE', 'OCC_CODE']).size().rename('row_count').reset_index()\n",
    "\n",
    "# Sort by row_count descending\n",
    "counts_df = counts_df.sort_values(by=['row_count'], ascending=False).reset_index(drop=True)\n",
    "\n",
    "# Sanity check -- max row count must be one\n",
    "max_unique_occ_codes = counts_df['row_count'].max()\n",
    "print(f\"Max unique OCC_CODE per (NAICS, OCC_TITLE): {max_unique_occ_codes}\")\n",
    "\n",
    "# Calculate NAICS per occupation code\n",
    "naics_per_occ_code = sector_df.groupby(['OCC_TITLE', 'OCC_CODE'])['NAICS'].nunique().reset_index()\n",
    "naics_per_occ_code = naics_per_occ_code.rename(columns={'NAICS': 'num_unique_NAICS_per_OCC_CODE'})\n",
    "naics_per_occ_code = naics_per_occ_code.sort_values(by=['num_unique_NAICS_per_OCC_CODE', 'OCC_CODE'], ascending=[False, True]).reset_index(drop=True)\n",
    "\n",
    "# Save the NAICS per OCC_CODE data\n",
    "# naics_per_occ_code.to_csv(f'{output_data_path}/naics_per_occ_code_counts.csv', index=False)\n",
    "print(f\"✓ NAICS per OCC_CODE data saved with {naics_per_occ_code.shape[0]:,} rows\")\n",
    "naics_per_occ_code"
   ]
  }
 ],
 "metadata": {
  "kernelspec": {
   "display_name": "edsl",
   "language": "python",
   "name": "python3"
  },
  "language_info": {
   "codemirror_mode": {
    "name": "ipython",
    "version": 3
   },
   "file_extension": ".py",
   "mimetype": "text/x-python",
   "name": "python",
   "nbconvert_exporter": "python",
   "pygments_lexer": "ipython3",
   "version": "3.12.11"
  }
 },
 "nbformat": 4,
 "nbformat_minor": 5
}
