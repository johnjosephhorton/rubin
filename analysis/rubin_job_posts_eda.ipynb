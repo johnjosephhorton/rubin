{
 "cells": [
  {
   "cell_type": "code",
   "execution_count": 34,
   "id": "a1bf2f35-57ef-4bb4-8cc3-0ea2f7952c08",
   "metadata": {},
   "outputs": [],
   "source": [
    "import pandas\n",
    "import nltk\n",
    "file_path = \"/home/john/topics/rubin/computed_objects/posts_v2.csv\""
   ]
  },
  {
   "cell_type": "code",
   "execution_count": 13,
   "id": "13040d9c-12ed-41c8-8d9a-e632629df4f8",
   "metadata": {},
   "outputs": [],
   "source": [
    "df = pd.read_csv(file_path)"
   ]
  },
  {
   "cell_type": "code",
   "execution_count": 15,
   "id": "ce40c603-c928-488e-b8ac-3f87f2ae4791",
   "metadata": {},
   "outputs": [
    {
     "data": {
      "text/plain": [
       "Index(['Unnamed: 0', 'person_id', 'cell', 'post_key', 'post_ts',\n",
       "       'l1_ontology_name', 'post_type_code', 'post_title', 'post_desc',\n",
       "       'job_skill_string', 'skill_count', 'reason', 'is_fjp', 'uid',\n",
       "       'reason_no_talent', 'reason_cancelled', 'ts', 'jpg_version',\n",
       "       'total_make_it_formal', 'total_make_it_casual',\n",
       "       'total_add_more_details', 'total_shorten_it', 'total_rewrite_it',\n",
       "       'input_title', 'input_skills', 'input_duration', 'total_time_to_post',\n",
       "       'opt_in_ai', 'retry_amount', 'is_finished_ai_post_jpgv2',\n",
       "       'generated_description_ai', 'num_apps', 'mean.rec', 'sum.rec',\n",
       "       'sum.invited', 'sum.sl', 'sum.interview', 'mean.bid.hr',\n",
       "       'median.bid.hr', 'mean.bid.fp', 'median.bid.fp', 'hired_14d',\n",
       "       'hired_ever', 'total_time_to_post_filtered', 'minutes_to_post',\n",
       "       'allocated_ts', 'treatment', 'anglo', 'us', 'post_14d', 'post_1d',\n",
       "       'software', 'design', 'admin', 'writing', 'customer', 'sales',\n",
       "       'accounting', 'opt.in', 'hr', 'num_apps_filtered', 'first',\n",
       "       'num_words'],\n",
       "      dtype='object')"
      ]
     },
     "execution_count": 15,
     "metadata": {},
     "output_type": "execute_result"
    }
   ],
   "source": [
    "df.columns"
   ]
  },
  {
   "cell_type": "code",
   "execution_count": 17,
   "id": "b80b083d-ed57-4d69-b463-f16124339513",
   "metadata": {},
   "outputs": [
    {
     "data": {
      "text/plain": [
       "count    48975.000000\n",
       "mean        14.887392\n",
       "std         12.548521\n",
       "min          0.000000\n",
       "25%          5.000000\n",
       "50%         12.000000\n",
       "75%         21.000000\n",
       "max         64.000000\n",
       "Name: num_apps_filtered, dtype: float64"
      ]
     },
     "execution_count": 17,
     "metadata": {},
     "output_type": "execute_result"
    }
   ],
   "source": [
    "df['num_apps_filtered'].describe()"
   ]
  },
  {
   "cell_type": "code",
   "execution_count": 18,
   "id": "0e1276ec-148f-47ed-9b41-2ce6937a2a7a",
   "metadata": {},
   "outputs": [
    {
     "data": {
      "text/plain": [
       "count    38860.000000\n",
       "mean         6.079134\n",
       "std          7.187411\n",
       "min          0.483333\n",
       "25%          2.016667\n",
       "50%          3.650000\n",
       "75%          7.066667\n",
       "max         63.283333\n",
       "Name: minutes_to_post, dtype: float64"
      ]
     },
     "execution_count": 18,
     "metadata": {},
     "output_type": "execute_result"
    }
   ],
   "source": [
    "df['minutes_to_post'].describe()"
   ]
  },
  {
   "cell_type": "code",
   "execution_count": 25,
   "id": "40075370-7563-46df-a4e9-5543f80de5bc",
   "metadata": {},
   "outputs": [
    {
     "data": {
      "text/plain": [
       "'We are seeking a developer to create a chatbot-based onboarding experience for prospective students. The chatbot should provide a personalized experience that guides the user through the onboarding process. The ideal candidate should have experience with chatbot development, as well as strong skills in natural language processing and AI. Familiarity with education industry trends and best practices is a plus.'"
      ]
     },
     "execution_count": 25,
     "metadata": {},
     "output_type": "execute_result"
    }
   ],
   "source": [
    "s0 = df['generated_description_ai'][0]\n",
    "s0"
   ]
  },
  {
   "cell_type": "code",
   "execution_count": 26,
   "id": "5afaf335-2f4e-486b-b9dd-b78a8e0fa3b3",
   "metadata": {},
   "outputs": [
    {
     "data": {
      "text/plain": [
       "'I want to create a chatbot by using the below-following model or something similar to this model. I want to train the model based on the pdf file input. The student will enter the value in the chatbot prompt and, based on that, it should answer the student. In short - I want to create something similar to ChatGPT.\\\\n\\\\n•\\\\tVicuna\\\\n•\\\\topensource GPT versions \\\\n•\\\\tLLAMA and/or openLLAMA (link removed)\\\\n•\\\\tAlpaca such as stanford_alpaca (link removed)\\\\n•\\\\tBLOOM\\\\n•\\\\tLaMDA\\\\n•\\\\tALEXA TM\\\\n\\\\nplease find the attached dataset pdf on which I need to train for now. This is just one PDF, but there can be many more in the future, so please consider that too.'"
      ]
     },
     "execution_count": 26,
     "metadata": {},
     "output_type": "execute_result"
    }
   ],
   "source": [
    "s1 = df['post_desc'][0]\n",
    "s1"
   ]
  },
  {
   "cell_type": "code",
   "execution_count": 21,
   "id": "92290798-c083-4e6b-9559-3eed4a8fff85",
   "metadata": {},
   "outputs": [
    {
     "data": {
      "text/plain": [
       "'Control'"
      ]
     },
     "execution_count": 21,
     "metadata": {},
     "output_type": "execute_result"
    }
   ],
   "source": [
    "df['cell'][0]"
   ]
  },
  {
   "cell_type": "code",
   "execution_count": 27,
   "id": "db4ca43b-5744-4413-ad90-e55c1290e72f",
   "metadata": {},
   "outputs": [],
   "source": [
    "def edit_distance_nltk(str1, str2):\n",
    "    return nltk.edit_distance(str1, str2)"
   ]
  },
  {
   "cell_type": "code",
   "execution_count": 29,
   "id": "b010ff24-e877-4844-b5b9-c9b6d1c3c7a8",
   "metadata": {},
   "outputs": [
    {
     "data": {
      "text/plain": [
       "482"
      ]
     },
     "execution_count": 29,
     "metadata": {},
     "output_type": "execute_result"
    }
   ],
   "source": [
    "edit_distance_nltk(s0,s1)"
   ]
  },
  {
   "cell_type": "code",
   "execution_count": 30,
   "id": "10dcaf83-7148-4ef7-bd38-95154bedb230",
   "metadata": {},
   "outputs": [],
   "source": [
    "def distance_by_observation(i):\n",
    "    s0 = df['generated_description_ai'][i]\n",
    "    s1 = df['post_desc'][i]\n",
    "    cell = df['cell'][i]\n",
    "    return edit_distance_nltk(s0,s1), cell"
   ]
  },
  {
   "cell_type": "code",
   "execution_count": 33,
   "id": "63d98220-79f2-4403-8ba1-80764d57fb3e",
   "metadata": {},
   "outputs": [
    {
     "name": "stdout",
     "output_type": "stream",
     "text": [
      "(482, 'Control')\n",
      "(1563, 'Treatment')\n",
      "(498, 'Control')\n",
      "(1095, 'Control')\n",
      "(332, 'Treatment')\n",
      "(0, 'Treatment')\n",
      "(605, 'Control')\n",
      "(0, 'Treatment')\n",
      "(1043, 'Control')\n",
      "(351, 'Treatment')\n",
      "(1077, 'Control')\n",
      "(444, 'Treatment')\n",
      "(419, 'Control')\n",
      "(249, 'Treatment')\n",
      "(6, 'Treatment')\n",
      "(609, 'Control')\n",
      "(1462, 'Control')\n",
      "(834, 'Control')\n",
      "(765, 'Treatment')\n",
      "(238, 'Control')\n",
      "(324, 'Control')\n",
      "(402, 'Control')\n",
      "(128, 'Treatment')\n",
      "(0, 'Treatment')\n",
      "(557, 'Treatment')\n",
      "(0, 'Treatment')\n",
      "(405, 'Control')\n",
      "(339, 'Control')\n",
      "(532, 'Control')\n",
      "(472, 'Control')\n",
      "(0, 'Treatment')\n",
      "(1545, 'Control')\n",
      "(684, 'Control')\n",
      "(0, 'Treatment')\n",
      "(454, 'Treatment')\n",
      "(480, 'Control')\n",
      "(0, 'Treatment')\n",
      "(2522, 'Control')\n",
      "(497, 'Control')\n",
      "(0, 'Treatment')\n",
      "(19, 'Treatment')\n",
      "(0, 'Treatment')\n",
      "(799, 'Control')\n",
      "(771, 'Treatment')\n",
      "(0, 'Treatment')\n",
      "(609, 'Treatment')\n",
      "(420, 'Treatment')\n",
      "(249, 'Control')\n",
      "(2007, 'Control')\n",
      "(286, 'Control')\n",
      "(0, 'Treatment')\n",
      "(252, 'Treatment')\n",
      "(0, 'Treatment')\n",
      "(0, 'Treatment')\n",
      "(289, 'Control')\n",
      "(0, 'Treatment')\n",
      "(455, 'Control')\n",
      "(543, 'Treatment')\n",
      "(25, 'Treatment')\n",
      "(0, 'Treatment')\n",
      "(435, 'Control')\n",
      "(377, 'Control')\n",
      "(61, 'Treatment')\n",
      "(324, 'Control')\n",
      "(0, 'Treatment')\n",
      "(0, 'Treatment')\n",
      "(554, 'Control')\n",
      "(0, 'Treatment')\n",
      "(0, 'Treatment')\n",
      "(406, 'Control')\n",
      "(532, 'Control')\n",
      "(1369, 'Treatment')\n",
      "(413, 'Control')\n",
      "(2173, 'Control')\n",
      "(435, 'Control')\n",
      "(0, 'Treatment')\n",
      "(245, 'Treatment')\n",
      "(0, 'Treatment')\n",
      "(0, 'Treatment')\n",
      "(0, 'Treatment')\n",
      "(757, 'Control')\n",
      "(437, 'Control')\n",
      "(0, 'Treatment')\n",
      "(264, 'Treatment')\n",
      "(392, 'Treatment')\n",
      "(282, 'Treatment')\n",
      "(0, 'Treatment')\n",
      "(0, 'Treatment')\n",
      "(0, 'Treatment')\n",
      "(387, 'Control')\n",
      "(0, 'Treatment')\n",
      "(909, 'Treatment')\n",
      "(519, 'Control')\n",
      "(0, 'Treatment')\n",
      "(2642, 'Control')\n",
      "(0, 'Treatment')\n",
      "(375, 'Control')\n"
     ]
    },
    {
     "ename": "TypeError",
     "evalue": "object of type 'float' has no len()",
     "output_type": "error",
     "traceback": [
      "\u001b[0;31m---------------------------------------------------------------------------\u001b[0m",
      "\u001b[0;31mTypeError\u001b[0m                                 Traceback (most recent call last)",
      "Cell \u001b[0;32mIn[33], line 2\u001b[0m\n\u001b[1;32m      1\u001b[0m \u001b[38;5;28;01mfor\u001b[39;00m i \u001b[38;5;129;01min\u001b[39;00m \u001b[38;5;28mrange\u001b[39m(\u001b[38;5;241m100\u001b[39m):\n\u001b[0;32m----> 2\u001b[0m     \u001b[38;5;28mprint\u001b[39m(\u001b[43mdistance_by_observation\u001b[49m\u001b[43m(\u001b[49m\u001b[43mi\u001b[49m\u001b[43m)\u001b[49m)\n",
      "Cell \u001b[0;32mIn[30], line 5\u001b[0m, in \u001b[0;36mdistance_by_observation\u001b[0;34m(i)\u001b[0m\n\u001b[1;32m      3\u001b[0m s1 \u001b[38;5;241m=\u001b[39m df[\u001b[38;5;124m'\u001b[39m\u001b[38;5;124mpost_desc\u001b[39m\u001b[38;5;124m'\u001b[39m][i]\n\u001b[1;32m      4\u001b[0m cell \u001b[38;5;241m=\u001b[39m df[\u001b[38;5;124m'\u001b[39m\u001b[38;5;124mcell\u001b[39m\u001b[38;5;124m'\u001b[39m][i]\n\u001b[0;32m----> 5\u001b[0m \u001b[38;5;28;01mreturn\u001b[39;00m \u001b[43medit_distance_nltk\u001b[49m\u001b[43m(\u001b[49m\u001b[43ms0\u001b[49m\u001b[43m,\u001b[49m\u001b[43ms1\u001b[49m\u001b[43m)\u001b[49m, cell\n",
      "Cell \u001b[0;32mIn[27], line 4\u001b[0m, in \u001b[0;36medit_distance_nltk\u001b[0;34m(str1, str2)\u001b[0m\n\u001b[1;32m      3\u001b[0m \u001b[38;5;28;01mdef\u001b[39;00m \u001b[38;5;21medit_distance_nltk\u001b[39m(str1, str2):\n\u001b[0;32m----> 4\u001b[0m     \u001b[38;5;28;01mreturn\u001b[39;00m \u001b[43mnltk\u001b[49m\u001b[38;5;241;43m.\u001b[39;49m\u001b[43medit_distance\u001b[49m\u001b[43m(\u001b[49m\u001b[43mstr1\u001b[49m\u001b[43m,\u001b[49m\u001b[43m \u001b[49m\u001b[43mstr2\u001b[49m\u001b[43m)\u001b[49m\n",
      "File \u001b[0;32m~/miniconda3/lib/python3.10/site-packages/nltk/metrics/distance.py:89\u001b[0m, in \u001b[0;36medit_distance\u001b[0;34m(s1, s2, substitution_cost, transpositions)\u001b[0m\n\u001b[1;32m     64\u001b[0m \u001b[38;5;250m\u001b[39m\u001b[38;5;124;03m\"\"\"\u001b[39;00m\n\u001b[1;32m     65\u001b[0m \u001b[38;5;124;03mCalculate the Levenshtein edit-distance between two strings.\u001b[39;00m\n\u001b[1;32m     66\u001b[0m \u001b[38;5;124;03mThe edit distance is the number of characters that need to be\u001b[39;00m\n\u001b[0;32m   (...)\u001b[0m\n\u001b[1;32m     86\u001b[0m \u001b[38;5;124;03m:rtype: int\u001b[39;00m\n\u001b[1;32m     87\u001b[0m \u001b[38;5;124;03m\"\"\"\u001b[39;00m\n\u001b[1;32m     88\u001b[0m \u001b[38;5;66;03m# set up a 2-D array\u001b[39;00m\n\u001b[0;32m---> 89\u001b[0m len1 \u001b[38;5;241m=\u001b[39m \u001b[38;5;28;43mlen\u001b[39;49m\u001b[43m(\u001b[49m\u001b[43ms1\u001b[49m\u001b[43m)\u001b[49m\n\u001b[1;32m     90\u001b[0m len2 \u001b[38;5;241m=\u001b[39m \u001b[38;5;28mlen\u001b[39m(s2)\n\u001b[1;32m     91\u001b[0m lev \u001b[38;5;241m=\u001b[39m _edit_dist_init(len1 \u001b[38;5;241m+\u001b[39m \u001b[38;5;241m1\u001b[39m, len2 \u001b[38;5;241m+\u001b[39m \u001b[38;5;241m1\u001b[39m)\n",
      "\u001b[0;31mTypeError\u001b[0m: object of type 'float' has no len()"
     ]
    }
   ],
   "source": [
    "for i in range(100):\n",
    "    print(distance_by_observation(i))"
   ]
  }
 ],
 "metadata": {
  "kernelspec": {
   "display_name": "Python 3 (ipykernel)",
   "language": "python",
   "name": "python3"
  },
  "language_info": {
   "codemirror_mode": {
    "name": "ipython",
    "version": 3
   },
   "file_extension": ".py",
   "mimetype": "text/x-python",
   "name": "python",
   "nbconvert_exporter": "python",
   "pygments_lexer": "ipython3",
   "version": "3.10.10"
  }
 },
 "nbformat": 4,
 "nbformat_minor": 5
}
