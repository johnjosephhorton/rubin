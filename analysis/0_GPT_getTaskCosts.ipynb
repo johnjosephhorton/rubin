{
 "cells": [
  {
   "cell_type": "code",
   "execution_count": 67,
   "id": "b861f4f4",
   "metadata": {},
   "outputs": [],
   "source": [
    "with open('libraries.py') as f:\n",
    "    code = f.read()\n",
    "exec(code)"
   ]
  },
  {
   "cell_type": "code",
   "execution_count": 68,
   "id": "280bdd06",
   "metadata": {},
   "outputs": [],
   "source": [
    "# determine user\n",
    "user = getpass.getuser()\n",
    "if user == 'peymansh':\n",
    "    main_folder_path = '/Users/peymansh/Dropbox (MIT)/Research/AI and Occupations/ai-exposure'\n",
    "    data_path = f'{main_folder_path}/output'"
   ]
  },
  {
   "cell_type": "markdown",
   "id": "846a7229",
   "metadata": {},
   "source": [
    "### GPT questions for assessing task stats"
   ]
  },
  {
   "cell_type": "code",
   "execution_count": 69,
   "id": "a83b0a61",
   "metadata": {},
   "outputs": [],
   "source": [
    "from edsl.questions import QuestionNumerical\n",
    "\n",
    "def get_tasks_stas(occupation, tasks):\n",
    "   scenarios = [Scenario({\"occupation\": occupation, \"task\": task}) for task in tasks]\n",
    "\n",
    "   q_human_cost = QuestionNumerical(\n",
    "      question_name = \"human_cost\",\n",
    "      question_text = dedent(\"\"\"\n",
    "                           Consider {{ occupation }} as an occupation. \n",
    "                           And consider this task {{ task }}.\n",
    "                           How long (in minutes) does it take a person to complete this task? \n",
    "                           (5 = 5 minutes or less, 480 = a full day, or 8 hours)\n",
    "                           \"\"\"),\n",
    "      min_value = 5, # 5 minutes or less\n",
    "      max_value = 480, # a full day, or 8 hours\n",
    "   )\n",
    "\n",
    "   q_machine_cost = QuestionNumerical(\n",
    "      question_name = \"machine_cost\",\n",
    "      question_text = dedent(\"\"\"\n",
    "                           Consider {{ occupation }} as an occupation. \n",
    "                           And consider this task {{ task }}.\n",
    "                           If the task is to be automated using artificial intelligence (AI),\n",
    "                           how long (in minutes) does it take a machine to complete this task? \n",
    "                           (5 = 5 minutes or less, 480 = a full day, or 8 hours)\n",
    "                           \"\"\"),\n",
    "      min_value = 5, # 5 minutes or less\n",
    "      max_value = 480, # a full day, or 8 hours\n",
    "   )\n",
    "\n",
    "   q_difficulty = QuestionNumerical(\n",
    "      question_name = \"difficulty\",\n",
    "      question_text = dedent(\"\"\"\n",
    "                           Consider {{ occupation }} as an occupation. \n",
    "                           And consider this task {{ task }}.\n",
    "                           Suppose this task is automated using artificial intelligence (AI).\n",
    "                           Given that AI is general purpose and is not specilized in doing tasks of {{ occupation }},\n",
    "                           how difficult is it for a machine to do this task?\n",
    "                           (0 = not difficult at all, 15 = so difficult AI cannot do it at all)\n",
    "                           \"\"\"),\n",
    "      min_value = 0, # not difficult at all\n",
    "      max_value = 15, # so difficult AI cannot do it at all\n",
    "   )\n",
    "\n",
    "\n",
    "   # Run questions\n",
    "   results_human_cost = q_human_cost.by(m4).by(scenarios).run()\n",
    "   results_machine_cost = q_machine_cost.by(m4).by(scenarios).run()\n",
    "   results_difficulty = q_difficulty.by(m4).by(scenarios).run()\n",
    "\n",
    "   # Convert outputs to pandas dataframe\n",
    "   human_cost_df = results_human_cost.to_pandas()\n",
    "   machine_cost_df = results_machine_cost.to_pandas()\n",
    "   difficulty_df = results_difficulty.to_pandas()\n",
    "\n",
    "   # Subset dataframe\n",
    "   human_cost_df = human_cost_df[['scenario.task', 'answer.human_cost']]\n",
    "   machine_cost_df = machine_cost_df[['scenario.task', 'answer.machine_cost']]\n",
    "   difficulty_df = difficulty_df[['scenario.task', 'answer.difficulty']]\n",
    "\n",
    "   # Merge outputs\n",
    "   tasks_stats = pd.merge(human_cost_df, machine_cost_df, on='scenario.task', how='inner')\n",
    "   tasks_stats = pd.merge(tasks_stats, difficulty_df, on='scenario.task', how='inner')\n",
    "\n",
    "   # Rename columns\n",
    "   tasks_stats.rename(columns={'scenario.task': 'task', \n",
    "                               'answer.human_cost': 'human_cost', \n",
    "                               'answer.machine_cost': 'machine_cost', \n",
    "                               'answer.difficulty': 'difficulty'}, inplace=True)\n",
    "   \n",
    "   return tasks_stats"
   ]
  },
  {
   "cell_type": "markdown",
   "id": "07b72532",
   "metadata": {},
   "source": [
    "### Main Code"
   ]
  },
  {
   "cell_type": "code",
   "execution_count": 70,
   "id": "2a30342c",
   "metadata": {},
   "outputs": [],
   "source": [
    "# Pick occupation\n",
    "def pick_occupation(occupation):\n",
    "    if occupation == 'travelAgents':\n",
    "        GPT_input_occupation = 'travel agents'\n",
    "        plot_title_occupation = 'Travel Agents'\n",
    "        occupation_code = '41-3041'\n",
    "    elif occupation == 'insuranceUnderwriters':\n",
    "        GPT_input_occupation = 'insurance underwriters'\n",
    "        plot_title_occupation = 'Insurance Underwriters'\n",
    "        occupation_code = '13-2053'\n",
    "    \n",
    "    occupation_folder = f'{data_path}/daily_tasks_occupations_analysis/{occupation}'\n",
    "    return GPT_input_occupation, plot_title_occupation, occupation_code, occupation_folder\n"
   ]
  },
  {
   "cell_type": "code",
   "execution_count": 71,
   "id": "9747ba91",
   "metadata": {},
   "outputs": [
    {
     "name": "stdout",
     "output_type": "stream",
     "text": [
      "Occupation: travelAgents\n",
      "Occupation: insuranceUnderwriters\n"
     ]
    }
   ],
   "source": [
    "occupation_list = ['travelAgents', 'insuranceUnderwriters']\n",
    "for occupation in occupation_list:\n",
    "    print(f'Occupation: {occupation}')\n",
    "\n",
    "    # Initialize variables\n",
    "    GPT_input_occupation, plot_title_occupation, occupation_code, occupation_folder = pick_occupation(occupation)\n",
    "\n",
    "    # Load ONET data\n",
    "    onet = pd.read_csv(f'{data_path}/data/onet_occupations_yearly.csv')\n",
    "    onet = onet.sort_values(by=['year', 'occ_code', 'occ_title', 'task_id'])\n",
    "    onet = onet[onet['year'] == 2023].reset_index(drop=True)\n",
    "\n",
    "    # Get list of tasks in occupation\n",
    "    my_df = onet[(onet.occ_code == f'{occupation_code}') & (onet.year == 2023)]\n",
    "    tasks = my_df['task'].unique().tolist()\n",
    "\n",
    "    # Ask GPT to assess tasks' stats\n",
    "    tasks_stats = get_tasks_stas(GPT_input_occupation, tasks)\n",
    "\n",
    "    # Save output\n",
    "    tasks_stats.to_csv(f'{occupation_folder}/{occupation}_taskStats.csv', index=False)\n"
   ]
  }
 ],
 "metadata": {
  "kernelspec": {
   "display_name": "Python 3 (ipykernel)",
   "language": "python",
   "name": "python3"
  },
  "language_info": {
   "codemirror_mode": {
    "name": "ipython",
    "version": 3
   },
   "file_extension": ".py",
   "mimetype": "text/x-python",
   "name": "python",
   "nbconvert_exporter": "python",
   "pygments_lexer": "ipython3",
   "version": "3.12.2"
  }
 },
 "nbformat": 4,
 "nbformat_minor": 5
}
