{
 "cells": [
  {
   "cell_type": "code",
   "execution_count": null,
   "id": "b861f4f4",
   "metadata": {},
   "outputs": [],
   "source": [
    "with open('libraries.py') as f:\n",
    "    code = f.read()\n",
    "exec(code)\n",
    "\n",
    "with open('functions.py') as f:\n",
    "    code = f.read()\n",
    "exec(code)"
   ]
  },
  {
   "cell_type": "code",
   "execution_count": null,
   "id": "a4c27b37",
   "metadata": {},
   "outputs": [],
   "source": [
    "# determine user\n",
    "user = getpass.getuser()\n",
    "if user == 'peymanshahidi':\n",
    "    main_folder_path = '/Users/peymanshahidi/Dropbox (MIT)/Research/AI and Occupations/ai-exposure'\n",
    "    data_path = f'{main_folder_path}/output/sparseVsDense_DAGs'"
   ]
  },
  {
   "cell_type": "code",
   "execution_count": null,
   "id": "0623da09",
   "metadata": {},
   "outputs": [],
   "source": [
    "DAG_dict = {'Manual DAG': 'M',\n",
    "           'Naive DAG': 'N',\n",
    "           'Conditioned Naive DAG': 'CN',\n",
    "           'First-Last Task DAG': 'FLT',\n",
    "           'Conditioned First-Last Task DAG': 'CFLT',\n",
    "           'Partitioned DAG': 'P',\n",
    "           'Conditioned Partitioned DAG': 'CP'}"
   ]
  },
  {
   "cell_type": "code",
   "execution_count": null,
   "id": "e0c01952",
   "metadata": {},
   "outputs": [],
   "source": [
    "data_v1 = pd.read_csv(f'{data_path}/costMin_stats_1.csv')\n",
    "data_v2 = pd.read_csv(f'{data_path}/costMin_stats.csv')\n",
    "data_v2 = data_v2.dropna(how='all')\n",
    "\n",
    "data = pd.concat([data_v1, data_v2], axis=0)\n",
    "data['exec_time_sec'] = data['exec_time_min'] * 60\n",
    "data['DAG_type'] = data['DAG_type'].replace(DAG_dict)\n",
    "data#.iloc[290:300]"
   ]
  },
  {
   "cell_type": "code",
   "execution_count": null,
   "id": "5d3976d9",
   "metadata": {},
   "outputs": [],
   "source": [
    "import matplotlib.cm as cm\n",
    "\n",
    "output_col = 'exec_time_sec'\n",
    "x_axis_col = 'DAG_sparsity'\n",
    "\n",
    "# Get unique values of alpha and occupations\n",
    "#data = data.iloc[-100:]\n",
    "unique_alphas = sorted(data['alpha'].unique())\n",
    "unique_occupations = data['occupation'].unique()\n",
    "\n",
    "# Create subplots\n",
    "fig, axes = plt.subplots(nrows=len(unique_occupations), ncols=len(unique_alphas), figsize=(18, 13 * len(unique_alphas)))\n",
    "\n",
    "# Loop through each unique alpha and occupation to create subplots\n",
    "for i, occupation in enumerate(unique_occupations):\n",
    "    for j, alpha in enumerate(unique_alphas):\n",
    "        ax = axes[i, j] if len(unique_alphas) > 1 else axes[j]  # Adjust indexing for single alpha case\n",
    "        subset_alpha = data[data['alpha'] == alpha]\n",
    "        subset_occupation = subset_alpha[subset_alpha['occupation'] == occupation]\n",
    "        subset_occupation[f'{output_col}'] = subset_occupation[f'{output_col}'] / subset_occupation[f'{output_col}'].min()\n",
    "        unique_DAG_types = subset_occupation['DAG_type'].unique()\n",
    "        n = int(subset_occupation['num_tasks'].iloc[0])\n",
    "\n",
    "        # Create a colormap for the DAG types\n",
    "        colors = cm.get_cmap('tab10', len(unique_DAG_types))\n",
    "\n",
    "        # Plot each DAG type within the occupation\n",
    "        for k, DAG_type in enumerate(unique_DAG_types):\n",
    "            subset_DAG_type = subset_occupation[subset_occupation['DAG_type'] == DAG_type]\n",
    "            ax.scatter(subset_DAG_type[f'{x_axis_col}'], subset_DAG_type[f'{output_col}'], label=DAG_type, color=colors(k))\n",
    "\n",
    "        # Set labels and title for each subplot\n",
    "        ax.set_title(f'{occupation} ({n})\\nalpha: {alpha}')\n",
    "        ax.legend(loc='best')\n",
    "        ax.set_xlabel(f'{x_axis_col}')\n",
    "        if j == 0:\n",
    "            ax.set_ylabel(f'{output_col}')\n",
    "        \n",
    "\n",
    "# Adjust layout\n",
    "plt.tight_layout()\n",
    "plt.savefig(f'{data_path}/scatterplot_{output_col}_vs_{x_axis_col}.png', dpi=100)\n",
    "plt.show()"
   ]
  },
  {
   "cell_type": "code",
   "execution_count": null,
   "id": "6eca4a36",
   "metadata": {},
   "outputs": [],
   "source": [
    "# Calculate the average of \"exec_time_sec\" over \"DAG_type\" for each alpha\n",
    "average_df = df.groupby(['alpha', 'DAG_type'])['exec_time_sec'].mean().reset_index()\n",
    "\n",
    "# Get unique alpha values\n",
    "unique_alphas = sorted(average_df['alpha'].unique())\n",
    "\n",
    "# Create subplots\n",
    "fig, axes = plt.subplots(nrows=1, ncols=4, figsize=(20, 5))  # 4 subplots in a single row\n",
    "\n",
    "# Loop through each unique alpha and create a scatter plot in each subplot\n",
    "for i, alpha in enumerate(unique_alphas):\n",
    "    ax = axes[i]  # Select the subplot axis\n",
    "    subset = average_df[average_df['alpha'] == alpha]\n",
    "    ax.scatter(subset['DAG_type'], subset['exec_time_sec'], s=30)  # s=100 sets marker size\n",
    "    ax.set_title(f'Alpha = {alpha}')\n",
    "    ax.set_xlabel('DAG Type')\n",
    "    ax.set_ylabel('Average Exec Time (sec)')\n",
    "    ax.grid(visible=True, linestyle='--', alpha=0.5)\n",
    "\n",
    "# Adjust layout to prevent overlap\n",
    "plt.tight_layout()\n",
    "plt.show()"
   ]
  },
  {
   "cell_type": "code",
   "execution_count": null,
   "id": "4991b12b",
   "metadata": {},
   "outputs": [],
   "source": [
    "# Calculate the average of \"exec_time_sec\" over \"alpha\" for each DAG_type\n",
    "average_df = df.groupby(['DAG_type', 'alpha'])['exec_time_sec'].mean().reset_index()\n",
    "\n",
    "# Get unique DAG_type values\n",
    "unique_DAG_types = average_df['DAG_type'].unique()\n",
    "\n",
    "# Create subplots\n",
    "fig, axes = plt.subplots(nrows=1, ncols=len(unique_DAG_types), figsize=(20, 5))  # 4 subplots in a single row\n",
    "\n",
    "# Loop through each unique DAG_type and create a scatter plot in each subplot\n",
    "for i, dag_type in enumerate(unique_DAG_types):\n",
    "    ax = axes[i]  # Select the subplot axis\n",
    "    subset = average_df[average_df['DAG_type'] == dag_type]\n",
    "    ax.scatter(subset['alpha'], subset['exec_time_sec'], s=30)  # s=100 sets marker size\n",
    "    ax.set_xscale('log')  # Set x-axis to log scale\n",
    "    ax.set_title(f'DAG Type = {dag_type}')\n",
    "    ax.set_xlabel('Alpha')\n",
    "    ax.set_ylabel('Average Exec Time (sec)')\n",
    "    ax.grid(visible=True, linestyle='--', alpha=0.5)\n",
    "\n",
    "# Adjust layout to prevent overlap\n",
    "plt.tight_layout()\n",
    "plt.show()"
   ]
  },
  {
   "cell_type": "code",
   "execution_count": null,
   "id": "260ed2ab",
   "metadata": {},
   "outputs": [],
   "source": []
  }
 ],
 "metadata": {
  "kernelspec": {
   "display_name": "base",
   "language": "python",
   "name": "python3"
  },
  "language_info": {
   "codemirror_mode": {
    "name": "ipython",
    "version": 3
   },
   "file_extension": ".py",
   "mimetype": "text/x-python",
   "name": "python",
   "nbconvert_exporter": "python",
   "pygments_lexer": "ipython3",
   "version": "3.12.4"
  }
 },
 "nbformat": 4,
 "nbformat_minor": 5
}
