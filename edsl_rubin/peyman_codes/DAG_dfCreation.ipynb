{
 "cells": [
  {
   "cell_type": "markdown",
   "metadata": {},
   "source": [
    "# Load libraries and functions"
   ]
  },
  {
   "cell_type": "code",
   "execution_count": 1,
   "metadata": {},
   "outputs": [],
   "source": [
    "with open('libraries.py') as f:\n",
    "    code = f.read()\n",
    "exec(code)\n",
    "\n",
    "with open('functions.py') as f:\n",
    "    code = f.read()\n",
    "exec(code)"
   ]
  },
  {
   "cell_type": "code",
   "execution_count": 2,
   "metadata": {},
   "outputs": [],
   "source": [
    "# determine user\n",
    "user = getpass.getuser()\n",
    "if user == 'peymansh':\n",
    "    main_folder_path = '/Users/peymansh/Dropbox (MIT)/Research/AI and Occupations/ai-exposure'\n",
    "    data_path = f'{main_folder_path}/output'"
   ]
  },
  {
   "cell_type": "markdown",
   "metadata": {},
   "source": [
    "## Main Code"
   ]
  },
  {
   "cell_type": "code",
   "execution_count": 3,
   "metadata": {},
   "outputs": [],
   "source": [
    "# Pick occupation and initialize variables\n",
    "occupation = 'travelAgents'\n",
    "#occupation = 'insuranceUnderwriters'\n",
    "#occupation = 'pileDriverOperators'\n",
    "# # occupation = 'shampooers'\n",
    "# # occupation = 'dredgeOperators'\n",
    "\n",
    "\n",
    "GPT_input_occupation, plot_title_occupation, occupation_code, occupation_folder = pick_occupation(occupation)"
   ]
  },
  {
   "cell_type": "code",
   "execution_count": 4,
   "metadata": {},
   "outputs": [
    {
     "data": {
      "text/plain": [
       "['Collect payment for transportation and accommodations from customer.',\n",
       " 'Converse with customer to determine destination, mode of transportation, travel dates, financial considerations, and accommodations required.',\n",
       " \"Compute cost of travel and accommodations, using calculator, computer, carrier tariff books, and hotel rate books, or quote package tour's costs.\",\n",
       " 'Book transportation and hotel reservations, using computer or telephone.',\n",
       " 'Plan, describe, arrange, and sell itinerary tour packages and promotional travel incentives offered by various travel carriers.',\n",
       " 'Provide customer with brochures and publications containing travel information, such as local customs, points of interest, or foreign country regulations.',\n",
       " 'Print or request transportation carrier tickets, using computer printer system or system link to travel carrier.',\n",
       " 'Record and maintain information on clients, vendors, and travel packages.']"
      ]
     },
     "execution_count": 4,
     "metadata": {},
     "output_type": "execute_result"
    }
   ],
   "source": [
    "# Load the data\n",
    "onet = pd.read_csv(f'{data_path}/data/onet_occupations_yearly.csv')\n",
    "onet = onet.sort_values(by=['year', 'occ_code', 'occ_title', 'task_id'])\n",
    "onet = onet[onet['year'] == 2023].reset_index(drop=True)\n",
    "\n",
    "# Get list of tasks\n",
    "my_df = onet[(onet.occ_code == f'{occupation_code}') & (onet.year == 2023)]\n",
    "tasks = my_df['task'].unique().tolist()\n",
    "tasks"
   ]
  },
  {
   "cell_type": "markdown",
   "metadata": {},
   "source": [
    "<br>\n",
    "\n",
    "<br>\n",
    "\n",
    "# 1) Manual DAG df"
   ]
  },
  {
   "cell_type": "code",
   "execution_count": 5,
   "metadata": {},
   "outputs": [],
   "source": [
    "# Read manual adjacency matrix\n",
    "manual_AM = pd.read_csv(f'{occupation_folder}/{occupation}_AM.csv', index_col=0)\n",
    "#manual_AM = add_sink_node(manual_AM, occupation)\n",
    "\n",
    "# Initialize lists to store the source and target nodes\n",
    "sources = []\n",
    "targets = []\n",
    "\n",
    "# Iterate over the adjacency matrix to find ones and populate the lists\n",
    "for row_label, row in manual_AM.iterrows():\n",
    "    for col_label, value in row.items():\n",
    "        if value == 1:\n",
    "            sources.append(row_label)\n",
    "            targets.append(col_label)\n",
    "\n",
    "# Create data frame\n",
    "manual_DAG_df = pd.DataFrame({'source': sources, 'target': targets})\n",
    "\n",
    "# Remove \"Sink\" node for now\n",
    "manual_DAG_df = manual_DAG_df[~manual_DAG_df.isin(['\"Sink\"']).any(axis=1)]\n",
    "\n",
    "# Save output\n",
    "manual_DAG_df.to_csv(f'{occupation_folder}/{occupation}_manual_DAG_df.csv', index=False)"
   ]
  },
  {
   "cell_type": "markdown",
   "metadata": {},
   "source": [
    "<br>\n",
    "\n",
    "<br>\n",
    "\n",
    "# 2) GPT DAG df"
   ]
  },
  {
   "cell_type": "markdown",
   "metadata": {},
   "source": [
    "### 2.1) One Step Method: Directly ask for pairwise comparison w/o giving the \"either\" option"
   ]
  },
  {
   "cell_type": "code",
   "execution_count": 6,
   "metadata": {},
   "outputs": [
    {
     "data": {
      "application/vnd.jupyter.widget-view+json": {
       "model_id": "87e62d39675647d7beaed7ccc33b51ea",
       "version_major": 2,
       "version_minor": 0
      },
      "text/plain": [
       "Output()"
      ]
     },
     "metadata": {},
     "output_type": "display_data"
    },
    {
     "data": {
      "text/html": [
       "<pre style=\"white-space:pre;overflow-x:auto;line-height:normal;font-family:Menlo,'DejaVu Sans Mono',consolas,'Courier New',monospace\"></pre>\n"
      ],
      "text/plain": []
     },
     "metadata": {},
     "output_type": "display_data"
    }
   ],
   "source": [
    "# Compare pair of tasks\n",
    "def task_relationships(occupation, tasks):\n",
    "    if '\"Sink\"' in tasks:\n",
    "        tasks.remove('\"Sink\"')\n",
    "\n",
    "    scenarios = [Scenario({\"occupation\": occupation, \"task_A\": task_A, \"task_B\": task_B}) \n",
    "        for task_A, task_B in combinations(tasks, 2)]\n",
    "\n",
    "    q = QuestionMultipleChoice(\n",
    "        question_name = \"ordering\",\n",
    "        question_text = dedent(\"\"\"\\\n",
    "            Consider {{ occupation }}. \n",
    "            And consider these two tasks: \n",
    "            A) {{ task_A }} \n",
    "            B) {{ task_B }}\n",
    "            What is the relationship between these tasks?\n",
    "            \"\"\"),\n",
    "        question_options = [\n",
    "            \"A would be done first\", \n",
    "            \"B would be done first\",\n",
    "            \"Not part of the same task sequence\"]\n",
    "    )\n",
    "    results = q.by(m4).by(scenarios).run(progress_bar = True)\n",
    "    return results\n",
    "\n",
    "results = task_relationships(GPT_input_occupation, tasks)\n",
    "#results.select(\"task_A\", \"task_B\", \"ordering\", \"comment.ordering_comment\").print()\n",
    "pairwise_relationships_wo_raw = results.select(\"task_A\", \"task_B\", \"ordering\", \"comment.ordering_comment\").to_pandas()"
   ]
  },
  {
   "cell_type": "code",
   "execution_count": 7,
   "metadata": {},
   "outputs": [],
   "source": [
    "# Swap columns and subset only those that are part of the same task sequence \n",
    "pairwise_relationships_wo = pairwise_relationships_wo_raw.copy()\n",
    "mask = pairwise_relationships_wo['answer.ordering'] == 'B would be done first'\n",
    "pairwise_relationships_wo.loc[mask, ['scenario.task_A', 'scenario.task_B']] = pairwise_relationships_wo.loc[mask, ['scenario.task_B', 'scenario.task_A']].values\n",
    "pairwise_relationships_wo.loc[mask, 'answer.ordering'] = 'A would be done first'\n",
    "pairwise_relationships_wo = pairwise_relationships_wo[pairwise_relationships_wo['answer.ordering']=='A would be done first']\n",
    "pairwise_relationships_wo = pairwise_relationships_wo[['scenario.task_A', 'scenario.task_B', 'comment.ordering_comment']]\n",
    "\n",
    "# Change column names\n",
    "pairwise_relationships_wo = pairwise_relationships_wo.rename(columns={'scenario.task_A': 'source', \n",
    "                                                                      'scenario.task_B': 'target', \n",
    "                                                                      'comment.ordering_comment': 'comment'})\n",
    "\n",
    "# Save output\n",
    "pairwise_relationships_wo.to_csv(f'{occupation_folder}/{occupation}_oneStepGPT_DAG_df.csv', index=False)"
   ]
  },
  {
   "cell_type": "markdown",
   "metadata": {},
   "source": [
    "### 2.2) Two Steps Method: Give option of \"either\" and then filter symmetric edges\n",
    "### Step 1:"
   ]
  },
  {
   "cell_type": "code",
   "execution_count": 8,
   "metadata": {},
   "outputs": [
    {
     "data": {
      "application/vnd.jupyter.widget-view+json": {
       "model_id": "e862b9af2f2343da8086eade8fd0fd7d",
       "version_major": 2,
       "version_minor": 0
      },
      "text/plain": [
       "Output()"
      ]
     },
     "metadata": {},
     "output_type": "display_data"
    },
    {
     "data": {
      "text/html": [
       "<pre style=\"white-space:pre;overflow-x:auto;line-height:normal;font-family:Menlo,'DejaVu Sans Mono',consolas,'Courier New',monospace\"></pre>\n"
      ],
      "text/plain": []
     },
     "metadata": {},
     "output_type": "display_data"
    }
   ],
   "source": [
    "# Compare pair of tasks\n",
    "def task_relationships(occupation, tasks):\n",
    "    if '\"Sink\"' in tasks:\n",
    "        tasks.remove('\"Sink\"')\n",
    "\n",
    "    scenarios = [Scenario({\"occupation\": occupation, \"task_A\": task_A, \"task_B\": task_B}) \n",
    "        for task_A, task_B in combinations(tasks, 2)]\n",
    "\n",
    "    q = QuestionMultipleChoice(\n",
    "        question_name = \"ordering\",\n",
    "        question_text = dedent(\"\"\"\\\n",
    "            Consider {{ occupation }}. \n",
    "            And consider these two tasks: \n",
    "            A) {{ task_A }} \n",
    "            B) {{ task_B }}\n",
    "            What is the relationship between these tasks?\n",
    "            \"\"\"),\n",
    "        question_options = [\n",
    "            \"A would be done first\", \n",
    "            \"B would be done first\",\n",
    "            \"Could be done in either order, but still part of the same sequence\",\n",
    "            \"Not part of the same task sequence\"]\n",
    "    )\n",
    "    results = q.by(m4).by(scenarios).run(progress_bar = True)\n",
    "    return results\n",
    "\n",
    "results = task_relationships(GPT_input_occupation, tasks)\n",
    "#results.select(\"task_A\", \"task_B\", \"ordering\", \"comment.ordering_comment\").print()\n",
    "pairwise_relationships_w_raw = results.select(\"task_A\", \"task_B\", \"ordering\", \"comment.ordering_comment\").to_pandas()"
   ]
  },
  {
   "cell_type": "markdown",
   "metadata": {},
   "source": [
    "### Step 2:"
   ]
  },
  {
   "cell_type": "code",
   "execution_count": 9,
   "metadata": {},
   "outputs": [
    {
     "data": {
      "application/vnd.jupyter.widget-view+json": {
       "model_id": "a0445b790bfb49d8b4af51bd5803cfa5",
       "version_major": 2,
       "version_minor": 0
      },
      "text/plain": [
       "Output()"
      ]
     },
     "metadata": {},
     "output_type": "display_data"
    },
    {
     "data": {
      "text/html": [
       "<pre style=\"white-space:pre;overflow-x:auto;line-height:normal;font-family:Menlo,'DejaVu Sans Mono',consolas,'Courier New',monospace\"></pre>\n"
      ],
      "text/plain": []
     },
     "metadata": {},
     "output_type": "display_data"
    }
   ],
   "source": [
    "# subset symmetric edges\n",
    "both_edges = pairwise_relationships_w_raw[pairwise_relationships_w_raw['answer.ordering'] == 'Could be done in either order, but still part of the same sequence']\n",
    "task_A_list = both_edges['scenario.task_A'].tolist()\n",
    "task_B_list = both_edges['scenario.task_B'].tolist()\n",
    "\n",
    "\n",
    "# Decide which one of symmetric edges to keep\n",
    "def pick_oneOf_symmetricEdges(occupation, task_A_list, task_B_list):\n",
    "    scenarios = [Scenario({\"occupation\": occupation, \"task_A\": task_A, \"task_B\": task_B}) \n",
    "        for task_A, task_B in zip(task_A_list, task_B_list)]\n",
    "\n",
    "    q = QuestionMultipleChoice(\n",
    "        question_name = \"ordering\",\n",
    "        question_text = dedent(\"\"\"\\\n",
    "            Consider {{ occupation }}. \n",
    "            And consider these two tasks: \n",
    "            A) {{ task_A }} \n",
    "            B) {{ task_B }}\n",
    "            What is the relationship between these tasks?\n",
    "            \"\"\"),\n",
    "        question_options = [\n",
    "            \"A would be done first\", \n",
    "            \"B would be done first\",]\n",
    "    )\n",
    "    results = q.by(m4).by(scenarios).run(progress_bar = True)\n",
    "    return results\n",
    "\n",
    "results = pick_oneOf_symmetricEdges(GPT_input_occupation, task_A_list, task_B_list)\n",
    "#results.select(\"task_A\", \"task_B\", \"ordering\", \"comment.ordering_comment\").print()\n",
    "which_symmetric_edge = results.select(\"task_A\", \"task_B\", \"ordering\", \"comment.ordering_comment\").to_pandas()"
   ]
  },
  {
   "cell_type": "code",
   "execution_count": 10,
   "metadata": {},
   "outputs": [],
   "source": [
    "# Merge datasets\n",
    "pairwise_relationships_w = pairwise_relationships_w_raw[pairwise_relationships_w_raw['answer.ordering'].isin(['A would be done first', 'B would be done first'])]\n",
    "pairwise_relationships_w = pd.concat([pairwise_relationships_w, which_symmetric_edge], ignore_index=True)\n",
    "\n",
    "# Swap columns\n",
    "mask = pairwise_relationships_w['answer.ordering'] == 'B would be done first'\n",
    "pairwise_relationships_w.loc[mask, ['scenario.task_A', 'scenario.task_B']] = pairwise_relationships_w.loc[mask, ['scenario.task_B', 'scenario.task_A']].values\n",
    "pairwise_relationships_w.loc[mask, 'answer.ordering'] = 'A would be done first'\n",
    "pairwise_relationships_w = pairwise_relationships_w[pairwise_relationships_w['answer.ordering']=='A would be done first']\n",
    "pairwise_relationships_w = pairwise_relationships_w[['scenario.task_A', 'scenario.task_B', 'comment.ordering_comment']]\n",
    "\n",
    "# Change column names\n",
    "pairwise_relationships_w = pairwise_relationships_w.rename(columns={'scenario.task_A': 'source', \n",
    "                                                                    'scenario.task_B': 'target', \n",
    "                                                                    'comment.ordering_comment': 'comment'})\n",
    "\n",
    "# Save output\n",
    "pairwise_relationships_w.to_csv(f'{occupation_folder}/{occupation}_twoStepGPT_DAG_df.csv', index=False)"
   ]
  },
  {
   "cell_type": "markdown",
   "metadata": {},
   "source": [
    "<br>\n",
    "\n",
    "<br>\n",
    "\n",
    "# 3) GPT First Last Task Method df"
   ]
  },
  {
   "cell_type": "markdown",
   "metadata": {},
   "source": [
    "### Use One Step Method: Directly ask for pairwise comparison w/o giving the \"either\" option\n",
    "### Next determine first and last task/tasks to be done in the sequence and ask GPT to produce DAG"
   ]
  },
  {
   "cell_type": "code",
   "execution_count": 11,
   "metadata": {},
   "outputs": [],
   "source": [
    "def first_last_tasks(occupation, tasks):\n",
    "    # Remove \"Sink\" node if it exists\n",
    "    if '\"Sink\"' in tasks:\n",
    "        tasks.remove('\"Sink\"')\n",
    "\n",
    "    scenarios = [Scenario({\"occupation\": GPT_input_occupation, \"tasks\": tasks})]\n",
    "\n",
    "    # First task\n",
    "    q1 = QuestionCheckBox(\n",
    "        question_name = \"firstTask\",\n",
    "        question_text = dedent(\"\"\"\\\n",
    "            Consider {{ occupation }}.\n",
    "            The tasks below are part of the job of a {{ occupation }}: {{ tasks }}.\n",
    "            Among the following, which task or set of tasks would be done before all other tasks in order to compelete the job?\n",
    "            \"\"\"),\n",
    "        question_options = tasks,\n",
    "        min_selections = 1,\n",
    "        max_selections = 3\n",
    "    )\n",
    "    results1 = q1.by(m4).by(scenarios).run().to_pandas()\n",
    "    first_task = results1['answer.firstTask'][0]\n",
    "    first_task = ast.literal_eval(first_task) # convert from string resembling list format to actual list\n",
    "\n",
    "\n",
    "    # Last task\n",
    "    q2 = QuestionCheckBox(\n",
    "        question_name = \"lastTask\",\n",
    "        question_text = dedent(\"\"\"\\\n",
    "            Consider {{ occupation }}. \n",
    "            The tasks below are part of the job of {{ occupation }}: {{ tasks }}.\n",
    "            Among the following, which task or set of tasks would be done after all other tasks are completed?\n",
    "            \"\"\"),\n",
    "        question_options = tasks,\n",
    "        min_selections = 1,\n",
    "        max_selections = 3\n",
    "    )\n",
    "    results2 = q2.by(m4).by(scenarios).run().to_pandas()\n",
    "    last_task = results2['answer.lastTask'][0]\n",
    "    last_task = ast.literal_eval(last_task) # convert from string resembling list format to actual list\n",
    "    \n",
    "    return first_task, last_task\n",
    "    "
   ]
  },
  {
   "cell_type": "code",
   "execution_count": 12,
   "metadata": {},
   "outputs": [],
   "source": [
    "first_task, last_task = first_last_tasks(GPT_input_occupation, tasks)\n",
    "firstLast_tasks_df = pd.DataFrame({'first_task': [first_task], 'last_task': [last_task]})\n",
    "firstLast_tasks_df.to_csv(f'{occupation_folder}/{occupation}_firstLastTask.csv', index=False)"
   ]
  },
  {
   "cell_type": "code",
   "execution_count": 13,
   "metadata": {},
   "outputs": [
    {
     "data": {
      "application/vnd.jupyter.widget-view+json": {
       "model_id": "05387a1cec904946b8a4300436689d67",
       "version_major": 2,
       "version_minor": 0
      },
      "text/plain": [
       "Output()"
      ]
     },
     "metadata": {},
     "output_type": "display_data"
    },
    {
     "data": {
      "text/html": [
       "<pre style=\"white-space:pre;overflow-x:auto;line-height:normal;font-family:Menlo,'DejaVu Sans Mono',consolas,'Courier New',monospace\"></pre>\n"
      ],
      "text/plain": []
     },
     "metadata": {},
     "output_type": "display_data"
    }
   ],
   "source": [
    "# Compare pair of tasks\n",
    "def task_relationships_firstLast_included(occupation, tasks, first_task, last_task):\n",
    "    if '\"Sink\"' in tasks:\n",
    "        tasks.remove('\"Sink\"')\n",
    "\n",
    "    # Modify the first task and last task to appear as a single string\n",
    "    first_task = \" And \".join(first_task)\n",
    "    last_task = \" And \".join(last_task)\n",
    "\n",
    "    scenarios = [Scenario({\"occupation\": occupation, \n",
    "                           \"task_A\": task_A, \"task_B\": task_B,\n",
    "                           \"first_task\": first_task, \"last_task\": last_task}) \n",
    "                           for task_A, task_B in combinations(tasks, 2)]\n",
    "\n",
    "    q = QuestionMultipleChoice(\n",
    "        question_name = \"ordering\",\n",
    "        question_text = dedent(\"\"\"\\\n",
    "            Consider {{ occupation }}.\n",
    "            The first task (or set of tasks) to be completed for the job is: {{ first_task }}\n",
    "            The last task (or set of tasks) to be completed for the job is: {{ last_task }}. \n",
    "            Now consider these two tasks: \n",
    "            A) {{ task_A }} \n",
    "            B) {{ task_B }}\n",
    "            What is the relationship between these tasks?\n",
    "            \"\"\"),\n",
    "        question_options = [\n",
    "            \"A would be done first\", \n",
    "            \"B would be done first\",\n",
    "            \"Not part of the same task sequence\"]\n",
    "    )\n",
    "    results = q.by(m4).by(scenarios).run(progress_bar = True)\n",
    "    return results\n",
    "\n",
    "results = task_relationships_firstLast_included(GPT_input_occupation, tasks, first_task, last_task)\n",
    "#results.select(\"task_A\", \"task_B\", \"ordering\", \"comment.ordering_comment\").print()\n",
    "GPT_firstLast_df_raw = results.select(\"task_A\", \"task_B\", \"ordering\", \"comment.ordering_comment\").to_pandas()\n",
    "\n",
    "# Swap columns and subset only those that are part of the same task sequence \n",
    "GPT_firstLast_df = GPT_firstLast_df_raw.copy()\n",
    "mask = GPT_firstLast_df['answer.ordering'] == 'B would be done first'\n",
    "GPT_firstLast_df.loc[mask, ['scenario.task_A', 'scenario.task_B']] = GPT_firstLast_df.loc[mask, ['scenario.task_B', 'scenario.task_A']].values\n",
    "GPT_firstLast_df.loc[mask, 'answer.ordering'] = 'A would be done first'\n",
    "GPT_firstLast_df = GPT_firstLast_df[GPT_firstLast_df['answer.ordering']=='A would be done first']\n",
    "GPT_firstLast_df = GPT_firstLast_df[['scenario.task_A', 'scenario.task_B', 'comment.ordering_comment']]\n",
    "\n",
    "# Change column names\n",
    "GPT_firstLast_df = GPT_firstLast_df.rename(columns={'scenario.task_A': 'source', \n",
    "                                                    'scenario.task_B': 'target', \n",
    "                                                    'comment.ordering_comment': 'comment'})\n",
    "\n",
    "# Save output\n",
    "GPT_firstLast_df.to_csv(f'{occupation_folder}/{occupation}_firstLastTaskGPT_DAG_df.csv', index=False)"
   ]
  },
  {
   "cell_type": "markdown",
   "metadata": {},
   "source": [
    "<br>\n",
    "\n",
    "<br>\n",
    "\n",
    "# 4) GPT Triangles/Conditioned Method df"
   ]
  },
  {
   "cell_type": "markdown",
   "metadata": {},
   "source": [
    "#### Approach: Use First Last method in creating original GPT DAG. Next use the \"Triangles\" or \"Conditioning\" method for narrowing down set of edges."
   ]
  },
  {
   "cell_type": "markdown",
   "metadata": {},
   "source": [
    "<br> \n",
    "\n",
    "### Step 1:\n",
    "\n",
    "#### Find all \"triangles\", defined as cases with:\n",
    "##### A --> B --> C\n",
    "##### A --> C"
   ]
  },
  {
   "cell_type": "code",
   "execution_count": 14,
   "metadata": {},
   "outputs": [],
   "source": [
    "# Read output of one step GPT DAG\n",
    "GPT_AM_df = pd.read_csv(f'{occupation_folder}/{occupation}_firstLastTaskGPT_DAG_df.csv')\n",
    "\n",
    "# Convert GPT AM data frame to adjacency matrix\n",
    "GPT_AM = pd.DataFrame(0, index=tasks, columns=tasks)\n",
    "for index, row in GPT_AM_df.iterrows():\n",
    "    GPT_AM.at[row['source'], row['target']] = 1"
   ]
  },
  {
   "cell_type": "code",
   "execution_count": 15,
   "metadata": {},
   "outputs": [
    {
     "name": "stdout",
     "output_type": "stream",
     "text": [
      "Examples of triangles: [[1, 0, 6], [1, 0, 7], [1, 2, 0], [1, 2, 3], [1, 2, 6]]\n",
      "Count of triangles: 50\n"
     ]
    }
   ],
   "source": [
    "def find_triangles(matrix):\n",
    "    # Ensure matrix is a numpy array\n",
    "    if not isinstance(matrix, np.ndarray):\n",
    "        matrix = matrix.to_numpy()\n",
    "    \n",
    "    # get length of matrix\n",
    "    n = matrix.shape[0]\n",
    "\n",
    "    # create list containing integers from 0 to n-1 for indexing\n",
    "    numbers = list(range(n))\n",
    "\n",
    "    # Find triangles\n",
    "    triangles = []\n",
    "    for x, y, z in itertools.permutations(numbers, 3):\n",
    "        # get indices of destination nodes for outgoing edges of x\n",
    "        out_edges_destination_x = np.where(matrix[x] == 1)[0]\n",
    "        out_edges_destination_x = list(out_edges_destination_x)\n",
    "\n",
    "        # check if x has outgoing edge to both y and z\n",
    "        # if yes, check if y has outgoing edge to z\n",
    "        if y in out_edges_destination_x and z in out_edges_destination_x:\n",
    "            out_edges_destination_y = np.where(matrix[y] == 1)[0]\n",
    "            out_edges_destination_y = list(out_edges_destination_y)\n",
    "            \n",
    "            # check if y has outgoing edge to z\n",
    "            # if yes, we have a triangle\n",
    "            if z in out_edges_destination_y:\n",
    "                triangles.append([x, y, z])\n",
    "    \n",
    "    return triangles\n",
    "\n",
    "# Find triangles\n",
    "GPT_AM_triangles_list = find_triangles(GPT_AM)\n",
    "print(f'Examples of triangles: {GPT_AM_triangles_list[:5]}')\n",
    "print(f'Count of triangles: {len(GPT_AM_triangles_list)}')"
   ]
  },
  {
   "cell_type": "markdown",
   "metadata": {},
   "source": [
    "### Step 2: \n",
    "#### Ask GPT whether conditional on having B --> C we need A --> C"
   ]
  },
  {
   "cell_type": "code",
   "execution_count": 16,
   "metadata": {},
   "outputs": [
    {
     "data": {
      "application/vnd.jupyter.widget-view+json": {
       "model_id": "902f8694a2f446b28652cf18cd6c8b9f",
       "version_major": 2,
       "version_minor": 0
      },
      "text/plain": [
       "Output()"
      ]
     },
     "metadata": {},
     "output_type": "display_data"
    },
    {
     "data": {
      "text/html": [
       "<pre style=\"white-space:pre;overflow-x:auto;line-height:normal;font-family:Menlo,'DejaVu Sans Mono',consolas,'Courier New',monospace\"></pre>\n"
      ],
      "text/plain": []
     },
     "metadata": {},
     "output_type": "display_data"
    }
   ],
   "source": [
    "def triangle_check(occupation, tasks, triangles_list):\n",
    "    triangles = np.array(triangles_list)\n",
    "    task_A_list = triangles[:, 0]\n",
    "    task_B_list = triangles[:, 1]\n",
    "    task_C_list = triangles[:, 2]\n",
    "    scenarios = [Scenario({\"occupation\": occupation, \"task_A\": tasks[task_A], \"task_B\": tasks[task_B], \"task_C\": tasks[task_C]}) \n",
    "        for task_A, task_B, task_C in zip(task_A_list, task_B_list, task_C_list)]\n",
    "\n",
    "    q = QuestionMultipleChoice(\n",
    "        question_name = \"ordering\",\n",
    "        question_text = dedent(\"\"\"\\\n",
    "            Consider {{ occupation }}. \n",
    "            And consider these three tasks: \n",
    "            A) {{ task_A }} \n",
    "            B) {{ task_B }}\n",
    "            C) {{ task_C }} \n",
    "            What are the prerequisites of doing task C?\n",
    "            \"\"\"),\n",
    "        question_options = [\n",
    "            \"C can be done after A without having to do B\",\n",
    "            \"C can only be done after B\",\n",
    "            \"These are not part of the same task sequence\"]\n",
    "    )\n",
    "    results = q.by(m4).by(scenarios).run(progress_bar = True)\n",
    "    return results\n",
    "\n",
    "results = triangle_check(GPT_input_occupation, tasks, GPT_AM_triangles_list)\n",
    "#results.select(\"task_A\", \"task_B\", \"task_C\", \"ordering\", \"comment.ordering_comment\").print()\n",
    "GPT_trianglesCheck_output = results.select(\"task_A\", \"task_B\", \"task_C\", \"ordering\", \"comment.ordering_comment\").to_pandas()\n",
    "GPT_trianglesCheck_output = GPT_trianglesCheck_output.sort_values(by=['scenario.task_A', 'scenario.task_C', 'scenario.task_B']).reset_index(drop=True)"
   ]
  },
  {
   "cell_type": "markdown",
   "metadata": {},
   "source": [
    "### In cases where A --> C is shared among multiple triangles, only delete when all triangles say delete"
   ]
  },
  {
   "cell_type": "code",
   "execution_count": 17,
   "metadata": {},
   "outputs": [],
   "source": [
    "GPT_trianglesCheck_output = results.select(\"task_A\", \"task_B\", \"task_C\", \"ordering\", \"comment.ordering_comment\").to_pandas()\n",
    "GPT_trianglesCheck_output = GPT_trianglesCheck_output.sort_values(by=['scenario.task_A', 'scenario.task_C', 'scenario.task_B'])\n",
    "\n",
    "# Step 1: Find the count of triangles for each A --> C pair\n",
    "GPT_trianglesCheck_output['AC_pair_triangles_count'] = GPT_trianglesCheck_output.groupby(['scenario.task_A', 'scenario.task_C'])['scenario.task_A'].transform('count')\n",
    "\n",
    "\n",
    "# Step 2: Find if all triangles say delete\n",
    "aux_df = GPT_trianglesCheck_output.groupby(['scenario.task_A', 'scenario.task_C'])['answer.ordering'].apply(lambda x: (x == 'C can only be done after B').mean()*100).reset_index()\n",
    "aux_df.columns = ['scenario.task_A', 'scenario.task_C', 'fraction_triangles_say_delete']\n",
    "edges_to_remove = aux_df[aux_df['fraction_triangles_say_delete']==100]\n",
    "\n",
    "\n",
    "# Step 3: Delete the rows where all triangles say delete\n",
    "modified_GPT_trianglesCheck = pd.merge(GPT_trianglesCheck_output, edges_to_remove, how='left', \n",
    "                              on=['scenario.task_A', 'scenario.task_C'], \n",
    "                              indicator=True)\n",
    "modified_GPT_trianglesCheck = modified_GPT_trianglesCheck[modified_GPT_trianglesCheck['_merge'] == 'left_only'].drop(columns=['_merge', 'AC_pair_triangles_count', 'fraction_triangles_say_delete'])\n",
    "modified_GPT_trianglesCheck = modified_GPT_trianglesCheck.reset_index(drop=True)"
   ]
  },
  {
   "cell_type": "markdown",
   "metadata": {},
   "source": [
    "#### Create a variable saying how many times each node appears as which node in a triangle\n",
    "##### Purpose: find quanrangles"
   ]
  },
  {
   "cell_type": "code",
   "execution_count": 18,
   "metadata": {},
   "outputs": [
    {
     "name": "stdout",
     "output_type": "stream",
     "text": [
      "Nodes stats as nodes A, B, C of a triangle:\n"
     ]
    },
    {
     "data": {
      "text/html": [
       "<div>\n",
       "<style scoped>\n",
       "    .dataframe tbody tr th:only-of-type {\n",
       "        vertical-align: middle;\n",
       "    }\n",
       "\n",
       "    .dataframe tbody tr th {\n",
       "        vertical-align: top;\n",
       "    }\n",
       "\n",
       "    .dataframe thead th {\n",
       "        text-align: right;\n",
       "    }\n",
       "</style>\n",
       "<table border=\"1\" class=\"dataframe\">\n",
       "  <thead>\n",
       "    <tr style=\"text-align: right;\">\n",
       "      <th></th>\n",
       "      <th>scenario.task_A</th>\n",
       "      <th>scenario.task_B</th>\n",
       "      <th>scenario.task_C</th>\n",
       "    </tr>\n",
       "  </thead>\n",
       "  <tbody>\n",
       "    <tr>\n",
       "      <th>Collect payment for transportation and accommodations from customer.</th>\n",
       "      <td>0</td>\n",
       "      <td>7</td>\n",
       "      <td>4</td>\n",
       "    </tr>\n",
       "    <tr>\n",
       "      <th>Converse with customer to determine destination, mode of transportation, travel dates, financial considerations, and accommodations required.</th>\n",
       "      <td>20</td>\n",
       "      <td>0</td>\n",
       "      <td>0</td>\n",
       "    </tr>\n",
       "    <tr>\n",
       "      <th>Compute cost of travel and accommodations, using calculator, computer, carrier tariff books, and hotel rate books, or quote package tour's costs.</th>\n",
       "      <td>2</td>\n",
       "      <td>6</td>\n",
       "      <td>2</td>\n",
       "    </tr>\n",
       "    <tr>\n",
       "      <th>Book transportation and hotel reservations, using computer or telephone.</th>\n",
       "      <td>2</td>\n",
       "      <td>6</td>\n",
       "      <td>3</td>\n",
       "    </tr>\n",
       "    <tr>\n",
       "      <th>Plan, describe, arrange, and sell itinerary tour packages and promotional travel incentives offered by various travel carriers.</th>\n",
       "      <td>3</td>\n",
       "      <td>6</td>\n",
       "      <td>1</td>\n",
       "    </tr>\n",
       "    <tr>\n",
       "      <th>Provide customer with brochures and publications containing travel information, such as local customs, points of interest, or foreign country regulations.</th>\n",
       "      <td>4</td>\n",
       "      <td>6</td>\n",
       "      <td>0</td>\n",
       "    </tr>\n",
       "    <tr>\n",
       "      <th>Print or request transportation carrier tickets, using computer printer system or system link to travel carrier.</th>\n",
       "      <td>0</td>\n",
       "      <td>0</td>\n",
       "      <td>6</td>\n",
       "    </tr>\n",
       "    <tr>\n",
       "      <th>Record and maintain information on clients, vendors, and travel packages.</th>\n",
       "      <td>0</td>\n",
       "      <td>0</td>\n",
       "      <td>15</td>\n",
       "    </tr>\n",
       "  </tbody>\n",
       "</table>\n",
       "</div>"
      ],
      "text/plain": [
       "                                                    scenario.task_A  \\\n",
       "Collect payment for transportation and accommod...                0   \n",
       "Converse with customer to determine destination...               20   \n",
       "Compute cost of travel and accommodations, usin...                2   \n",
       "Book transportation and hotel reservations, usi...                2   \n",
       "Plan, describe, arrange, and sell itinerary tou...                3   \n",
       "Provide customer with brochures and publication...                4   \n",
       "Print or request transportation carrier tickets...                0   \n",
       "Record and maintain information on clients, ven...                0   \n",
       "\n",
       "                                                    scenario.task_B  \\\n",
       "Collect payment for transportation and accommod...                7   \n",
       "Converse with customer to determine destination...                0   \n",
       "Compute cost of travel and accommodations, usin...                6   \n",
       "Book transportation and hotel reservations, usi...                6   \n",
       "Plan, describe, arrange, and sell itinerary tou...                6   \n",
       "Provide customer with brochures and publication...                6   \n",
       "Print or request transportation carrier tickets...                0   \n",
       "Record and maintain information on clients, ven...                0   \n",
       "\n",
       "                                                    scenario.task_C  \n",
       "Collect payment for transportation and accommod...                4  \n",
       "Converse with customer to determine destination...                0  \n",
       "Compute cost of travel and accommodations, usin...                2  \n",
       "Book transportation and hotel reservations, usi...                3  \n",
       "Plan, describe, arrange, and sell itinerary tou...                1  \n",
       "Provide customer with brochures and publication...                0  \n",
       "Print or request transportation carrier tickets...                6  \n",
       "Record and maintain information on clients, ven...               15  "
      ]
     },
     "execution_count": 18,
     "metadata": {},
     "output_type": "execute_result"
    }
   ],
   "source": [
    "# Initialize an empty DataFrame with unique values as columns and original columns as rows\n",
    "aux_df = pd.DataFrame(0, index=['scenario.task_A', 'scenario.task_B', 'scenario.task_C'], columns=tasks)\n",
    "\n",
    "# Fill the new DataFrame with counts\n",
    "for col in modified_GPT_trianglesCheck[['scenario.task_A', 'scenario.task_B', 'scenario.task_C']].columns:\n",
    "    value_counts = modified_GPT_trianglesCheck[col].value_counts()\n",
    "    aux_df.loc[col, value_counts.index] = value_counts.values\n",
    "aux_df = aux_df.T\n",
    "\n",
    "# Keep tasks which are sometimes node A of a triangle and sometimes node B of a triangle\n",
    "#aux_df = aux_df[(aux_df > 0).all(axis=1)]\n",
    "print('Nodes stats as nodes A, B, C of a triangle:')\n",
    "aux_df\n",
    "\n",
    "# get list of pivotal tasks\n",
    "#pivotal_tasks = aux_df.index.tolist()"
   ]
  },
  {
   "cell_type": "markdown",
   "metadata": {},
   "source": [
    "##### In cases where \n",
    "A --> B --> C and D --> A --> C \n",
    "##### the situation is different from when \n",
    "A --> B --> C and A --> D --> C\n",
    "##### In such cases, edges A --> C and D --> C must be considered simultaneously as triangles are not totally \"independent\". \n",
    "#### So we look for \"quadrangles\""
   ]
  },
  {
   "cell_type": "code",
   "execution_count": 19,
   "metadata": {},
   "outputs": [],
   "source": [
    "q_AC_DC = QuestionMultipleChoice(\n",
    "    question_name = \"AC_DC\",\n",
    "    question_text = dedent(\"\"\"\\\n",
    "        Consider {{ occupation }} as an occupation.\n",
    "        And consider these tasks: {{ tasks }}.           \n",
    "        As part of the steps leading up to completion of this job '{{ task_B }}' is done after '{{ task_A }}' but before '{{ task_C }}'.\n",
    "        Furthermore, '{{ task_A }}' is done after '{{ task_D }}' but before '{{ task_C }}'.\n",
    "        Given this structure, determine if A and D below are direct prerequisites of doing C?\n",
    "        A) {{ task_A }}\n",
    "        B) {{ task_B }}\n",
    "        C) {{ task_C }}\n",
    "        D) {{ task_D }}\n",
    "        \"\"\"),\n",
    "    question_options = [\n",
    "    \"C can be done after B only after both A and D have been done earlier\", # drop AC, drop DC\n",
    "    \"C can be done after A only after having done D first, but without having to do B\", # keep AC, drop DC\n",
    "    \"C can be done immediately after D without having to do A or B, but it cannot be done after A without having done D or B first\", # drop AC, keep DC\n",
    "    \"C can be done immediately after D without having to do A or B, and it can also be done after A without having done D or B\", # keep AC, keep DC\n",
    "    \"These are not part of the same task sequence\"\n",
    "    ]        \n",
    ")\n",
    "##### Note:\n",
    "##### must check these questions options. not sure if they work properly or our travel agents example is not a exhausting all possibilities"
   ]
  },
  {
   "cell_type": "code",
   "execution_count": 20,
   "metadata": {},
   "outputs": [],
   "source": [
    "# Iterate over the list of tuples and subset the DataFrame\n",
    "quadrangles_tasks = []\n",
    "for A, B, C, D in itertools.permutations(tasks, 4):\n",
    "    # Initialize an empty list to collect the indices of desired rows\n",
    "    quadrangle_indices = []\n",
    "\n",
    "    # Find rows where triangle nodes are A, B, C\n",
    "    condition1 = (modified_GPT_trianglesCheck['scenario.task_A'] == A) & (modified_GPT_trianglesCheck['scenario.task_B'] == B) & (modified_GPT_trianglesCheck['scenario.task_C'] == C)\n",
    "    rows1 = modified_GPT_trianglesCheck[condition1]\n",
    "    \n",
    "    # Find rows where triangle nodes are D, A, C\n",
    "    condition2 = (modified_GPT_trianglesCheck['scenario.task_A'] == D) & (modified_GPT_trianglesCheck['scenario.task_B'] == A) & (modified_GPT_trianglesCheck['scenario.task_C'] == C)\n",
    "    rows2 = modified_GPT_trianglesCheck[condition2]\n",
    "    \n",
    "    # If both conditions are met, add the indices to the list\n",
    "    if not rows1.empty and not rows2.empty:\n",
    "        quadrangles_tasks.append((A, B, C, D))    \n",
    "\n",
    "scenarios = [Scenario({\"occupation\": GPT_input_occupation, \"tasks\": tasks,\n",
    "                \"task_A\": A, \"task_B\": B, \"task_C\": C, \"task_D\": D})\n",
    "                for A, B, C, D in quadrangles_tasks]\n",
    "results_AC_DC = q_AC_DC.by(m4).by(scenarios).run()\n",
    "#results_AC_DC.select(['answer.AC_DC', 'scenario.task_A', 'scenario.task_B', 'scenario.task_C', 'scenario.task_D', 'comment.AC_DC_comment']).print()\n",
    "quadrangles_df = results_AC_DC.select(['answer.AC_DC', 'scenario.task_A', 'scenario.task_B', 'scenario.task_C', 'scenario.task_D', 'comment.AC_DC_comment']).to_pandas()"
   ]
  },
  {
   "cell_type": "code",
   "execution_count": 21,
   "metadata": {},
   "outputs": [
    {
     "data": {
      "text/html": [
       "<div>\n",
       "<style scoped>\n",
       "    .dataframe tbody tr th:only-of-type {\n",
       "        vertical-align: middle;\n",
       "    }\n",
       "\n",
       "    .dataframe tbody tr th {\n",
       "        vertical-align: top;\n",
       "    }\n",
       "\n",
       "    .dataframe thead th {\n",
       "        text-align: right;\n",
       "    }\n",
       "</style>\n",
       "<table border=\"1\" class=\"dataframe\">\n",
       "  <thead>\n",
       "    <tr style=\"text-align: right;\">\n",
       "      <th></th>\n",
       "      <th>answer.AC_DC</th>\n",
       "      <th>comment.AC_DC_comment</th>\n",
       "      <th>scenario.task_A</th>\n",
       "      <th>scenario.task_B</th>\n",
       "      <th>scenario.task_C</th>\n",
       "      <th>scenario.task_D</th>\n",
       "      <th>keep_AC</th>\n",
       "      <th>keep_DC</th>\n",
       "    </tr>\n",
       "  </thead>\n",
       "  <tbody>\n",
       "    <tr>\n",
       "      <th>0</th>\n",
       "      <td>C can be done after A only after having done D...</td>\n",
       "      <td>C (Record and maintain information on clients,...</td>\n",
       "      <td>Compute cost of travel and accommodations, usi...</td>\n",
       "      <td>Collect payment for transportation and accommo...</td>\n",
       "      <td>Record and maintain information on clients, ve...</td>\n",
       "      <td>Converse with customer to determine destinatio...</td>\n",
       "      <td>True</td>\n",
       "      <td>False</td>\n",
       "    </tr>\n",
       "    <tr>\n",
       "      <th>1</th>\n",
       "      <td>C can be done after A only after having done D...</td>\n",
       "      <td>C (Record and maintain information on clients,...</td>\n",
       "      <td>Compute cost of travel and accommodations, usi...</td>\n",
       "      <td>Collect payment for transportation and accommo...</td>\n",
       "      <td>Record and maintain information on clients, ve...</td>\n",
       "      <td>Plan, describe, arrange, and sell itinerary to...</td>\n",
       "      <td>True</td>\n",
       "      <td>False</td>\n",
       "    </tr>\n",
       "    <tr>\n",
       "      <th>2</th>\n",
       "      <td>C can be done after A only after having done D...</td>\n",
       "      <td>C (Record and maintain information on clients,...</td>\n",
       "      <td>Compute cost of travel and accommodations, usi...</td>\n",
       "      <td>Collect payment for transportation and accommo...</td>\n",
       "      <td>Record and maintain information on clients, ve...</td>\n",
       "      <td>Provide customer with brochures and publicatio...</td>\n",
       "      <td>True</td>\n",
       "      <td>False</td>\n",
       "    </tr>\n",
       "    <tr>\n",
       "      <th>3</th>\n",
       "      <td>C can be done after A only after having done D...</td>\n",
       "      <td>C (Record and maintain information on clients,...</td>\n",
       "      <td>Compute cost of travel and accommodations, usi...</td>\n",
       "      <td>Book transportation and hotel reservations, us...</td>\n",
       "      <td>Record and maintain information on clients, ve...</td>\n",
       "      <td>Converse with customer to determine destinatio...</td>\n",
       "      <td>True</td>\n",
       "      <td>False</td>\n",
       "    </tr>\n",
       "    <tr>\n",
       "      <th>4</th>\n",
       "      <td>C can be done after B only after both A and D ...</td>\n",
       "      <td>The task 'Record and maintain information on c...</td>\n",
       "      <td>Compute cost of travel and accommodations, usi...</td>\n",
       "      <td>Book transportation and hotel reservations, us...</td>\n",
       "      <td>Record and maintain information on clients, ve...</td>\n",
       "      <td>Plan, describe, arrange, and sell itinerary to...</td>\n",
       "      <td>False</td>\n",
       "      <td>False</td>\n",
       "    </tr>\n",
       "    <tr>\n",
       "      <th>5</th>\n",
       "      <td>C can be done after A only after having done D...</td>\n",
       "      <td>According to the given structure, 'Record and ...</td>\n",
       "      <td>Compute cost of travel and accommodations, usi...</td>\n",
       "      <td>Book transportation and hotel reservations, us...</td>\n",
       "      <td>Record and maintain information on clients, ve...</td>\n",
       "      <td>Provide customer with brochures and publicatio...</td>\n",
       "      <td>True</td>\n",
       "      <td>False</td>\n",
       "    </tr>\n",
       "    <tr>\n",
       "      <th>6</th>\n",
       "      <td>C can be done after A only after having done D...</td>\n",
       "      <td>According to the given structure, 'Print or re...</td>\n",
       "      <td>Book transportation and hotel reservations, us...</td>\n",
       "      <td>Collect payment for transportation and accommo...</td>\n",
       "      <td>Print or request transportation carrier ticket...</td>\n",
       "      <td>Converse with customer to determine destinatio...</td>\n",
       "      <td>True</td>\n",
       "      <td>False</td>\n",
       "    </tr>\n",
       "    <tr>\n",
       "      <th>7</th>\n",
       "      <td>C can be done after A only after having done D...</td>\n",
       "      <td>According to the given structure, 'Record and ...</td>\n",
       "      <td>Book transportation and hotel reservations, us...</td>\n",
       "      <td>Collect payment for transportation and accommo...</td>\n",
       "      <td>Record and maintain information on clients, ve...</td>\n",
       "      <td>Converse with customer to determine destinatio...</td>\n",
       "      <td>True</td>\n",
       "      <td>False</td>\n",
       "    </tr>\n",
       "    <tr>\n",
       "      <th>8</th>\n",
       "      <td>C can be done after A only after having done D...</td>\n",
       "      <td>C (Record and maintain information on clients,...</td>\n",
       "      <td>Book transportation and hotel reservations, us...</td>\n",
       "      <td>Collect payment for transportation and accommo...</td>\n",
       "      <td>Record and maintain information on clients, ve...</td>\n",
       "      <td>Compute cost of travel and accommodations, usi...</td>\n",
       "      <td>True</td>\n",
       "      <td>False</td>\n",
       "    </tr>\n",
       "    <tr>\n",
       "      <th>9</th>\n",
       "      <td>C can be done after A only after having done D...</td>\n",
       "      <td>C (Record and maintain information on clients,...</td>\n",
       "      <td>Book transportation and hotel reservations, us...</td>\n",
       "      <td>Collect payment for transportation and accommo...</td>\n",
       "      <td>Record and maintain information on clients, ve...</td>\n",
       "      <td>Plan, describe, arrange, and sell itinerary to...</td>\n",
       "      <td>True</td>\n",
       "      <td>False</td>\n",
       "    </tr>\n",
       "    <tr>\n",
       "      <th>10</th>\n",
       "      <td>C can be done after A only after having done D...</td>\n",
       "      <td>C (Record and maintain information on clients,...</td>\n",
       "      <td>Book transportation and hotel reservations, us...</td>\n",
       "      <td>Collect payment for transportation and accommo...</td>\n",
       "      <td>Record and maintain information on clients, ve...</td>\n",
       "      <td>Provide customer with brochures and publicatio...</td>\n",
       "      <td>True</td>\n",
       "      <td>False</td>\n",
       "    </tr>\n",
       "    <tr>\n",
       "      <th>11</th>\n",
       "      <td>C can be done after A only after having done D...</td>\n",
       "      <td>C (Record and maintain information on clients,...</td>\n",
       "      <td>Plan, describe, arrange, and sell itinerary to...</td>\n",
       "      <td>Collect payment for transportation and accommo...</td>\n",
       "      <td>Record and maintain information on clients, ve...</td>\n",
       "      <td>Converse with customer to determine destinatio...</td>\n",
       "      <td>True</td>\n",
       "      <td>False</td>\n",
       "    </tr>\n",
       "    <tr>\n",
       "      <th>12</th>\n",
       "      <td>C can be done after B only after both A and D ...</td>\n",
       "      <td>According to the given structure, 'Record and ...</td>\n",
       "      <td>Plan, describe, arrange, and sell itinerary to...</td>\n",
       "      <td>Collect payment for transportation and accommo...</td>\n",
       "      <td>Record and maintain information on clients, ve...</td>\n",
       "      <td>Provide customer with brochures and publicatio...</td>\n",
       "      <td>False</td>\n",
       "      <td>False</td>\n",
       "    </tr>\n",
       "    <tr>\n",
       "      <th>13</th>\n",
       "      <td>C can be done after B only after both A and D ...</td>\n",
       "      <td>C (Record and maintain information on clients,...</td>\n",
       "      <td>Plan, describe, arrange, and sell itinerary to...</td>\n",
       "      <td>Compute cost of travel and accommodations, usi...</td>\n",
       "      <td>Record and maintain information on clients, ve...</td>\n",
       "      <td>Converse with customer to determine destinatio...</td>\n",
       "      <td>False</td>\n",
       "      <td>False</td>\n",
       "    </tr>\n",
       "    <tr>\n",
       "      <th>14</th>\n",
       "      <td>C can be done after B only after both A and D ...</td>\n",
       "      <td>C (Record and maintain information on clients,...</td>\n",
       "      <td>Plan, describe, arrange, and sell itinerary to...</td>\n",
       "      <td>Compute cost of travel and accommodations, usi...</td>\n",
       "      <td>Record and maintain information on clients, ve...</td>\n",
       "      <td>Provide customer with brochures and publicatio...</td>\n",
       "      <td>False</td>\n",
       "      <td>False</td>\n",
       "    </tr>\n",
       "    <tr>\n",
       "      <th>15</th>\n",
       "      <td>C can be done after B only after both A and D ...</td>\n",
       "      <td>C (Record and maintain information on clients,...</td>\n",
       "      <td>Plan, describe, arrange, and sell itinerary to...</td>\n",
       "      <td>Book transportation and hotel reservations, us...</td>\n",
       "      <td>Record and maintain information on clients, ve...</td>\n",
       "      <td>Converse with customer to determine destinatio...</td>\n",
       "      <td>False</td>\n",
       "      <td>False</td>\n",
       "    </tr>\n",
       "    <tr>\n",
       "      <th>16</th>\n",
       "      <td>C can be done after A only after having done D...</td>\n",
       "      <td>C (Record and maintain information on clients,...</td>\n",
       "      <td>Plan, describe, arrange, and sell itinerary to...</td>\n",
       "      <td>Book transportation and hotel reservations, us...</td>\n",
       "      <td>Record and maintain information on clients, ve...</td>\n",
       "      <td>Provide customer with brochures and publicatio...</td>\n",
       "      <td>True</td>\n",
       "      <td>False</td>\n",
       "    </tr>\n",
       "    <tr>\n",
       "      <th>17</th>\n",
       "      <td>C can be done after A only after having done D...</td>\n",
       "      <td>According to the given structure, 'Record and ...</td>\n",
       "      <td>Provide customer with brochures and publicatio...</td>\n",
       "      <td>Collect payment for transportation and accommo...</td>\n",
       "      <td>Record and maintain information on clients, ve...</td>\n",
       "      <td>Converse with customer to determine destinatio...</td>\n",
       "      <td>True</td>\n",
       "      <td>False</td>\n",
       "    </tr>\n",
       "    <tr>\n",
       "      <th>18</th>\n",
       "      <td>C can be done after B only after both A and D ...</td>\n",
       "      <td>C can be done after B only after both A and D ...</td>\n",
       "      <td>Provide customer with brochures and publicatio...</td>\n",
       "      <td>Compute cost of travel and accommodations, usi...</td>\n",
       "      <td>Record and maintain information on clients, ve...</td>\n",
       "      <td>Converse with customer to determine destinatio...</td>\n",
       "      <td>False</td>\n",
       "      <td>False</td>\n",
       "    </tr>\n",
       "    <tr>\n",
       "      <th>19</th>\n",
       "      <td>C can be done after A only after having done D...</td>\n",
       "      <td>C (Record and maintain information on clients,...</td>\n",
       "      <td>Provide customer with brochures and publicatio...</td>\n",
       "      <td>Book transportation and hotel reservations, us...</td>\n",
       "      <td>Record and maintain information on clients, ve...</td>\n",
       "      <td>Converse with customer to determine destinatio...</td>\n",
       "      <td>True</td>\n",
       "      <td>False</td>\n",
       "    </tr>\n",
       "    <tr>\n",
       "      <th>20</th>\n",
       "      <td>C can be done after B only after both A and D ...</td>\n",
       "      <td>According to the given structure, 'Record and ...</td>\n",
       "      <td>Provide customer with brochures and publicatio...</td>\n",
       "      <td>Plan, describe, arrange, and sell itinerary to...</td>\n",
       "      <td>Record and maintain information on clients, ve...</td>\n",
       "      <td>Converse with customer to determine destinatio...</td>\n",
       "      <td>False</td>\n",
       "      <td>False</td>\n",
       "    </tr>\n",
       "  </tbody>\n",
       "</table>\n",
       "</div>"
      ],
      "text/plain": [
       "                                         answer.AC_DC  \\\n",
       "0   C can be done after A only after having done D...   \n",
       "1   C can be done after A only after having done D...   \n",
       "2   C can be done after A only after having done D...   \n",
       "3   C can be done after A only after having done D...   \n",
       "4   C can be done after B only after both A and D ...   \n",
       "5   C can be done after A only after having done D...   \n",
       "6   C can be done after A only after having done D...   \n",
       "7   C can be done after A only after having done D...   \n",
       "8   C can be done after A only after having done D...   \n",
       "9   C can be done after A only after having done D...   \n",
       "10  C can be done after A only after having done D...   \n",
       "11  C can be done after A only after having done D...   \n",
       "12  C can be done after B only after both A and D ...   \n",
       "13  C can be done after B only after both A and D ...   \n",
       "14  C can be done after B only after both A and D ...   \n",
       "15  C can be done after B only after both A and D ...   \n",
       "16  C can be done after A only after having done D...   \n",
       "17  C can be done after A only after having done D...   \n",
       "18  C can be done after B only after both A and D ...   \n",
       "19  C can be done after A only after having done D...   \n",
       "20  C can be done after B only after both A and D ...   \n",
       "\n",
       "                                comment.AC_DC_comment  \\\n",
       "0   C (Record and maintain information on clients,...   \n",
       "1   C (Record and maintain information on clients,...   \n",
       "2   C (Record and maintain information on clients,...   \n",
       "3   C (Record and maintain information on clients,...   \n",
       "4   The task 'Record and maintain information on c...   \n",
       "5   According to the given structure, 'Record and ...   \n",
       "6   According to the given structure, 'Print or re...   \n",
       "7   According to the given structure, 'Record and ...   \n",
       "8   C (Record and maintain information on clients,...   \n",
       "9   C (Record and maintain information on clients,...   \n",
       "10  C (Record and maintain information on clients,...   \n",
       "11  C (Record and maintain information on clients,...   \n",
       "12  According to the given structure, 'Record and ...   \n",
       "13  C (Record and maintain information on clients,...   \n",
       "14  C (Record and maintain information on clients,...   \n",
       "15  C (Record and maintain information on clients,...   \n",
       "16  C (Record and maintain information on clients,...   \n",
       "17  According to the given structure, 'Record and ...   \n",
       "18  C can be done after B only after both A and D ...   \n",
       "19  C (Record and maintain information on clients,...   \n",
       "20  According to the given structure, 'Record and ...   \n",
       "\n",
       "                                      scenario.task_A  \\\n",
       "0   Compute cost of travel and accommodations, usi...   \n",
       "1   Compute cost of travel and accommodations, usi...   \n",
       "2   Compute cost of travel and accommodations, usi...   \n",
       "3   Compute cost of travel and accommodations, usi...   \n",
       "4   Compute cost of travel and accommodations, usi...   \n",
       "5   Compute cost of travel and accommodations, usi...   \n",
       "6   Book transportation and hotel reservations, us...   \n",
       "7   Book transportation and hotel reservations, us...   \n",
       "8   Book transportation and hotel reservations, us...   \n",
       "9   Book transportation and hotel reservations, us...   \n",
       "10  Book transportation and hotel reservations, us...   \n",
       "11  Plan, describe, arrange, and sell itinerary to...   \n",
       "12  Plan, describe, arrange, and sell itinerary to...   \n",
       "13  Plan, describe, arrange, and sell itinerary to...   \n",
       "14  Plan, describe, arrange, and sell itinerary to...   \n",
       "15  Plan, describe, arrange, and sell itinerary to...   \n",
       "16  Plan, describe, arrange, and sell itinerary to...   \n",
       "17  Provide customer with brochures and publicatio...   \n",
       "18  Provide customer with brochures and publicatio...   \n",
       "19  Provide customer with brochures and publicatio...   \n",
       "20  Provide customer with brochures and publicatio...   \n",
       "\n",
       "                                      scenario.task_B  \\\n",
       "0   Collect payment for transportation and accommo...   \n",
       "1   Collect payment for transportation and accommo...   \n",
       "2   Collect payment for transportation and accommo...   \n",
       "3   Book transportation and hotel reservations, us...   \n",
       "4   Book transportation and hotel reservations, us...   \n",
       "5   Book transportation and hotel reservations, us...   \n",
       "6   Collect payment for transportation and accommo...   \n",
       "7   Collect payment for transportation and accommo...   \n",
       "8   Collect payment for transportation and accommo...   \n",
       "9   Collect payment for transportation and accommo...   \n",
       "10  Collect payment for transportation and accommo...   \n",
       "11  Collect payment for transportation and accommo...   \n",
       "12  Collect payment for transportation and accommo...   \n",
       "13  Compute cost of travel and accommodations, usi...   \n",
       "14  Compute cost of travel and accommodations, usi...   \n",
       "15  Book transportation and hotel reservations, us...   \n",
       "16  Book transportation and hotel reservations, us...   \n",
       "17  Collect payment for transportation and accommo...   \n",
       "18  Compute cost of travel and accommodations, usi...   \n",
       "19  Book transportation and hotel reservations, us...   \n",
       "20  Plan, describe, arrange, and sell itinerary to...   \n",
       "\n",
       "                                      scenario.task_C  \\\n",
       "0   Record and maintain information on clients, ve...   \n",
       "1   Record and maintain information on clients, ve...   \n",
       "2   Record and maintain information on clients, ve...   \n",
       "3   Record and maintain information on clients, ve...   \n",
       "4   Record and maintain information on clients, ve...   \n",
       "5   Record and maintain information on clients, ve...   \n",
       "6   Print or request transportation carrier ticket...   \n",
       "7   Record and maintain information on clients, ve...   \n",
       "8   Record and maintain information on clients, ve...   \n",
       "9   Record and maintain information on clients, ve...   \n",
       "10  Record and maintain information on clients, ve...   \n",
       "11  Record and maintain information on clients, ve...   \n",
       "12  Record and maintain information on clients, ve...   \n",
       "13  Record and maintain information on clients, ve...   \n",
       "14  Record and maintain information on clients, ve...   \n",
       "15  Record and maintain information on clients, ve...   \n",
       "16  Record and maintain information on clients, ve...   \n",
       "17  Record and maintain information on clients, ve...   \n",
       "18  Record and maintain information on clients, ve...   \n",
       "19  Record and maintain information on clients, ve...   \n",
       "20  Record and maintain information on clients, ve...   \n",
       "\n",
       "                                      scenario.task_D  keep_AC  keep_DC  \n",
       "0   Converse with customer to determine destinatio...     True    False  \n",
       "1   Plan, describe, arrange, and sell itinerary to...     True    False  \n",
       "2   Provide customer with brochures and publicatio...     True    False  \n",
       "3   Converse with customer to determine destinatio...     True    False  \n",
       "4   Plan, describe, arrange, and sell itinerary to...    False    False  \n",
       "5   Provide customer with brochures and publicatio...     True    False  \n",
       "6   Converse with customer to determine destinatio...     True    False  \n",
       "7   Converse with customer to determine destinatio...     True    False  \n",
       "8   Compute cost of travel and accommodations, usi...     True    False  \n",
       "9   Plan, describe, arrange, and sell itinerary to...     True    False  \n",
       "10  Provide customer with brochures and publicatio...     True    False  \n",
       "11  Converse with customer to determine destinatio...     True    False  \n",
       "12  Provide customer with brochures and publicatio...    False    False  \n",
       "13  Converse with customer to determine destinatio...    False    False  \n",
       "14  Provide customer with brochures and publicatio...    False    False  \n",
       "15  Converse with customer to determine destinatio...    False    False  \n",
       "16  Provide customer with brochures and publicatio...     True    False  \n",
       "17  Converse with customer to determine destinatio...     True    False  \n",
       "18  Converse with customer to determine destinatio...    False    False  \n",
       "19  Converse with customer to determine destinatio...     True    False  \n",
       "20  Converse with customer to determine destinatio...    False    False  "
      ]
     },
     "execution_count": 21,
     "metadata": {},
     "output_type": "execute_result"
    }
   ],
   "source": [
    "# decide whether to keep or drop AC and DC\n",
    "quadrangles_df['keep_AC'] = quadrangles_df['answer.AC_DC'].apply(lambda x: x in ['C can be done after A only after having done D first, but without having to do B', \n",
    "                                                                                   'C can be done immediately after D without having to do A or B, and it can also be done after A without having done D or B'])\n",
    "quadrangles_df['keep_DC'] = quadrangles_df['answer.AC_DC'].apply(lambda x: x in ['C can be done immediately after D without having to do A or B, but it cannot be done after A without having done D or B first', \n",
    "                                                                                   'C can be done immediately after D without having to do A or B, and it can also be done after A without having done D or B'])\n",
    "quadrangles_df"
   ]
  },
  {
   "cell_type": "markdown",
   "metadata": {},
   "source": [
    "#### Drop extra AC and DC edges"
   ]
  },
  {
   "cell_type": "code",
   "execution_count": 22,
   "metadata": {},
   "outputs": [],
   "source": [
    "def remove_duplicates(input_list):\n",
    "    seen = set()\n",
    "    unique_list = []\n",
    "    for item in input_list:\n",
    "        if item not in seen:\n",
    "            unique_list.append(item)\n",
    "            seen.add(item)\n",
    "    return unique_list\n",
    "\n",
    "# Step 1: Get list of unique edges found in all quadrangles\n",
    "pairs_AC = list(zip(quadrangles_df[\"scenario.task_A\"], quadrangles_df[\"scenario.task_C\"]))\n",
    "pairs_DC = list(zip(quadrangles_df[\"scenario.task_D\"], quadrangles_df[\"scenario.task_C\"]))\n",
    "all_pairs = pairs_AC + pairs_DC\n",
    "ACDC_edges_list = remove_duplicates(all_pairs)\n",
    "\n",
    "\n",
    "# Step 2: Get list of edges to keep\n",
    "aux_df = quadrangles_df[quadrangles_df['keep_AC']==True]\n",
    "pairs_AC_toKeep = list(zip(aux_df[\"scenario.task_A\"], aux_df[\"scenario.task_C\"]))\n",
    "aux_df = quadrangles_df[quadrangles_df['keep_DC']==True]\n",
    "pairs_DC_toKeep = list(zip(aux_df[\"scenario.task_D\"], aux_df[\"scenario.task_C\"]))\n",
    "all_pairs_toKeep = pairs_AC_toKeep + pairs_DC_toKeep\n",
    "ACDC_edges_toKeep_list = remove_duplicates(all_pairs_toKeep)\n",
    "\n",
    "\n",
    "# Step 3: Get list of edges to drop\n",
    "ACDC_edges_toDrop_list = [item for item in ACDC_edges_list if item not in ACDC_edges_toKeep_list]\n",
    "\n",
    "\n",
    "# Create a DataFrame of edges to be dropped from this analysis and earlier analyses\n",
    "ACDC_edges_to_remove = pd.DataFrame(ACDC_edges_toDrop_list, columns=[\"scenario.task_A\", \"scenario.task_C\"])\n",
    "edges_to_remove = pd.concat([edges_to_remove, ACDC_edges_to_remove], ignore_index=True)"
   ]
  },
  {
   "cell_type": "code",
   "execution_count": 23,
   "metadata": {},
   "outputs": [],
   "source": [
    "# Remove redundant edges\n",
    "modified_GPT_AM_df = GPT_AM_df.copy()\n",
    "modified_GPT_AM_df = pd.merge(modified_GPT_AM_df, edges_to_remove, how='left', \n",
    "                              left_on=['source', 'target'], right_on=['scenario.task_A', 'scenario.task_C'], \n",
    "                              indicator=True)\n",
    "modified_GPT_AM_df = modified_GPT_AM_df[modified_GPT_AM_df['_merge'] == 'left_only'].drop(columns=['_merge', 'scenario.task_A', 'scenario.task_C'])\n",
    "modified_GPT_AM_df = modified_GPT_AM_df.reset_index(drop=True)\n",
    "\n",
    "# Save output\n",
    "modified_GPT_AM_df.to_csv(f'{occupation_folder}/{occupation}_conditionedGPT_DAG_df.csv', index=False)"
   ]
  },
  {
   "cell_type": "markdown",
   "metadata": {},
   "source": [
    "<br>\n",
    "\n",
    "<br>\n",
    "\n",
    "# 5) GPT Task Partitioning Method df"
   ]
  },
  {
   "cell_type": "markdown",
   "metadata": {},
   "source": [
    "### Start w/ breaking down the DAG into multiple minimally-connected subgraphs"
   ]
  },
  {
   "cell_type": "code",
   "execution_count": 24,
   "metadata": {},
   "outputs": [
    {
     "data": {
      "application/vnd.jupyter.widget-view+json": {
       "model_id": "41590ad681114abda149631002cef109",
       "version_major": 2,
       "version_minor": 0
      },
      "text/plain": [
       "Output()"
      ]
     },
     "metadata": {},
     "output_type": "display_data"
    },
    {
     "data": {
      "text/html": [
       "<pre style=\"white-space:pre;overflow-x:auto;line-height:normal;font-family:Menlo,'DejaVu Sans Mono',consolas,'Courier New',monospace\"></pre>\n"
      ],
      "text/plain": []
     },
     "metadata": {},
     "output_type": "display_data"
    }
   ],
   "source": [
    "# Compare pair of tasks\n",
    "def partition_tasks(occupation, tasks):\n",
    "    if '\"Sink\"' in tasks:\n",
    "        tasks.remove('\"Sink\"')\n",
    "\n",
    "    scenarios = [Scenario({\"occupation\": occupation, \"tasks\": tasks})]\n",
    "\n",
    "    q = QuestionFreeText(\n",
    "        question_name = \"partition\",\n",
    "        question_text = dedent(\"\"\"\\\n",
    "            Consider {{ occupation }}. \n",
    "            And consider these tasks: {{ tasks }}.\n",
    "            Can these tasks be partitioned into separate, minimally connected groups of tasks?\n",
    "            If so, give the number of groups and list tasks in each group. \n",
    "            Avoid using \\n in the answer, and list groups in the following format: Group x: ['task1', 'task2', 'task3'].\n",
    "            \"\"\")\n",
    "    )\n",
    "    results = q.by(m4).by(scenarios).run(progress_bar = True)\n",
    "    return results\n",
    "\n",
    "results = partition_tasks(GPT_input_occupation, tasks)\n",
    "#results.print()\n",
    "partition_tasks_output_str = results.select(\"answer.partition\").to_pandas().iloc[0,0]"
   ]
  },
  {
   "cell_type": "markdown",
   "metadata": {},
   "source": [
    "#### Group tasks into smaller partitions"
   ]
  },
  {
   "cell_type": "code",
   "execution_count": 25,
   "metadata": {},
   "outputs": [],
   "source": [
    "# Find all \"Group x\" occurrences in LLM output\n",
    "groups = re.findall(r'Group \\d+', partition_tasks_output_str)\n",
    "\n",
    "# Split the text at each \"Group x\"\n",
    "parts = re.split(r'(Group \\d+:)', partition_tasks_output_str)\n",
    "\n",
    "# Initialize a dictionary to hold the group texts\n",
    "partitions_dict = {}\n",
    "\n",
    "# Iterate through the parts and store the texts in the dictionary\n",
    "for i in range(1, len(parts), 2):\n",
    "    group_name = parts[i].strip(': ')\n",
    "    group_number = int(re.search(r'\\d+', group_name).group())\n",
    "    group_text = parts[i+1].strip().rstrip('.,')\n",
    "    \n",
    "    # Convert the string representation of the list to an actual list\n",
    "    partitions_dict[group_number] = group_text\n",
    "\n",
    "# Save partitions\n",
    "partitions_df = pd.DataFrame.from_dict(partitions_dict, orient='index')\n",
    "partitions_df.to_csv(f'{occupation_folder}/{occupation}_partitions.csv', index=False, header=False) "
   ]
  },
  {
   "cell_type": "markdown",
   "metadata": {},
   "source": [
    "#### Determine relation of partitions"
   ]
  },
  {
   "cell_type": "code",
   "execution_count": 26,
   "metadata": {},
   "outputs": [
    {
     "data": {
      "application/vnd.jupyter.widget-view+json": {
       "model_id": "80772158e9354b91818cc1518e6867ef",
       "version_major": 2,
       "version_minor": 0
      },
      "text/plain": [
       "Output()"
      ]
     },
     "metadata": {},
     "output_type": "display_data"
    },
    {
     "data": {
      "text/html": [
       "<pre style=\"white-space:pre;overflow-x:auto;line-height:normal;font-family:Menlo,'DejaVu Sans Mono',consolas,'Courier New',monospace\"></pre>\n"
      ],
      "text/plain": []
     },
     "metadata": {},
     "output_type": "display_data"
    }
   ],
   "source": [
    "# Compare pair of tasks\n",
    "def partition_relationships(occupation, partitions_dict):\n",
    "    scenarios = [Scenario({\"occupation\": occupation, \"partition_A\": A, \"partition_B\": B}) \n",
    "        for A, B in itertools.combinations(partitions_dict.values(), 2)]\n",
    "\n",
    "    q = QuestionMultipleChoice(\n",
    "        question_name = \"ordering\",\n",
    "        question_text = dedent(\"\"\"\\\n",
    "            Consider {{ occupation }}. \n",
    "            And consider these two partitions of tasks: \n",
    "            A) {{ partition_A }} \n",
    "            B) {{ partition_B }}\n",
    "            What is the relationship between these groups of tasks?\n",
    "            \"\"\"),\n",
    "        question_options = [\n",
    "            \"Tasks of partition A would be done first\", \n",
    "            \"Tasks of partition B would be done first\",\n",
    "            \"Could be done in either order, but still part of the same sequence\",\n",
    "            \"Not part of the same task sequence\"]\n",
    "    )\n",
    "    results = q.by(m4).by(scenarios).run(progress_bar = True)\n",
    "    return results\n",
    "\n",
    "results = partition_relationships(GPT_input_occupation, partitions_dict)\n",
    "#results.print()\n",
    "partitions_ordering_df = results.select(\"partition_A\", \"partition_B\", \"ordering\", \"ordering_comment\").to_pandas()"
   ]
  },
  {
   "cell_type": "code",
   "execution_count": 27,
   "metadata": {},
   "outputs": [],
   "source": [
    "# Swap columns so that all partitions in first column are done earlier\n",
    "mask = partitions_ordering_df['answer.ordering'] == 'Tasks of partition B would be done first'\n",
    "partitions_ordering_df.loc[mask, ['scenario.partition_A', 'scenario.partition_B']] = partitions_ordering_df.loc[mask, ['scenario.partition_B', 'scenario.partition_A']].values\n",
    "partitions_ordering_df.loc[mask, 'answer.ordering'] = 'Tasks of partition A would be done first'\n",
    "partitions_ordering_df = partitions_ordering_df[partitions_ordering_df['answer.ordering']=='Tasks of partition A would be done first']"
   ]
  },
  {
   "cell_type": "code",
   "execution_count": 28,
   "metadata": {},
   "outputs": [
    {
     "data": {
      "text/html": [
       "<div>\n",
       "<style scoped>\n",
       "    .dataframe tbody tr th:only-of-type {\n",
       "        vertical-align: middle;\n",
       "    }\n",
       "\n",
       "    .dataframe tbody tr th {\n",
       "        vertical-align: top;\n",
       "    }\n",
       "\n",
       "    .dataframe thead th {\n",
       "        text-align: right;\n",
       "    }\n",
       "</style>\n",
       "<table border=\"1\" class=\"dataframe\">\n",
       "  <thead>\n",
       "    <tr style=\"text-align: right;\">\n",
       "      <th></th>\n",
       "      <th>answer.ordering</th>\n",
       "      <th>comment.ordering_comment</th>\n",
       "      <th>scenario.partition_A</th>\n",
       "      <th>scenario.partition_B</th>\n",
       "      <th>partition_A_groupNum</th>\n",
       "      <th>partition_B_groupNum</th>\n",
       "    </tr>\n",
       "  </thead>\n",
       "  <tbody>\n",
       "    <tr>\n",
       "      <th>0</th>\n",
       "      <td>Tasks of partition A would be done first</td>\n",
       "      <td>Tasks in partition B involve initial interacti...</td>\n",
       "      <td>['Converse with customer to determine destinat...</td>\n",
       "      <td>['Collect payment for transportation and accom...</td>\n",
       "      <td>2</td>\n",
       "      <td>1</td>\n",
       "    </tr>\n",
       "    <tr>\n",
       "      <th>1</th>\n",
       "      <td>Tasks of partition A would be done first</td>\n",
       "      <td>Tasks in partition A involve collecting paymen...</td>\n",
       "      <td>['Collect payment for transportation and accom...</td>\n",
       "      <td>['Book transportation and hotel reservations, ...</td>\n",
       "      <td>1</td>\n",
       "      <td>3</td>\n",
       "    </tr>\n",
       "    <tr>\n",
       "      <th>2</th>\n",
       "      <td>Tasks of partition A would be done first</td>\n",
       "      <td>Tasks of partition B would be done first becau...</td>\n",
       "      <td>['Provide customer with brochures and publicat...</td>\n",
       "      <td>['Collect payment for transportation and accom...</td>\n",
       "      <td>4</td>\n",
       "      <td>1</td>\n",
       "    </tr>\n",
       "    <tr>\n",
       "      <th>3</th>\n",
       "      <td>Tasks of partition A would be done first</td>\n",
       "      <td>Tasks of partition A involve initial planning ...</td>\n",
       "      <td>['Converse with customer to determine destinat...</td>\n",
       "      <td>['Book transportation and hotel reservations, ...</td>\n",
       "      <td>2</td>\n",
       "      <td>3</td>\n",
       "    </tr>\n",
       "    <tr>\n",
       "      <th>4</th>\n",
       "      <td>Tasks of partition A would be done first</td>\n",
       "      <td>Tasks in partition A involve initial interacti...</td>\n",
       "      <td>['Converse with customer to determine destinat...</td>\n",
       "      <td>['Provide customer with brochures and publicat...</td>\n",
       "      <td>2</td>\n",
       "      <td>4</td>\n",
       "    </tr>\n",
       "  </tbody>\n",
       "</table>\n",
       "</div>"
      ],
      "text/plain": [
       "                            answer.ordering  \\\n",
       "0  Tasks of partition A would be done first   \n",
       "1  Tasks of partition A would be done first   \n",
       "2  Tasks of partition A would be done first   \n",
       "3  Tasks of partition A would be done first   \n",
       "4  Tasks of partition A would be done first   \n",
       "\n",
       "                            comment.ordering_comment  \\\n",
       "0  Tasks in partition B involve initial interacti...   \n",
       "1  Tasks in partition A involve collecting paymen...   \n",
       "2  Tasks of partition B would be done first becau...   \n",
       "3  Tasks of partition A involve initial planning ...   \n",
       "4  Tasks in partition A involve initial interacti...   \n",
       "\n",
       "                                scenario.partition_A  \\\n",
       "0  ['Converse with customer to determine destinat...   \n",
       "1  ['Collect payment for transportation and accom...   \n",
       "2  ['Provide customer with brochures and publicat...   \n",
       "3  ['Converse with customer to determine destinat...   \n",
       "4  ['Converse with customer to determine destinat...   \n",
       "\n",
       "                                scenario.partition_B  partition_A_groupNum  \\\n",
       "0  ['Collect payment for transportation and accom...                     2   \n",
       "1  ['Book transportation and hotel reservations, ...                     1   \n",
       "2  ['Collect payment for transportation and accom...                     4   \n",
       "3  ['Book transportation and hotel reservations, ...                     2   \n",
       "4  ['Provide customer with brochures and publicat...                     2   \n",
       "\n",
       "   partition_B_groupNum  \n",
       "0                     1  \n",
       "1                     3  \n",
       "2                     1  \n",
       "3                     3  \n",
       "4                     4  "
      ]
     },
     "execution_count": 28,
     "metadata": {},
     "output_type": "execute_result"
    }
   ],
   "source": [
    "# Add group numbers to data frame\n",
    "aux_dict = {v: k for k, v in partitions_dict.items()}\n",
    "partitions_ordering_df['partition_A_groupNum'] = partitions_ordering_df['scenario.partition_A'].map(aux_dict)\n",
    "partitions_ordering_df['partition_B_groupNum'] = partitions_ordering_df['scenario.partition_B'].map(aux_dict)\n",
    "partitions_ordering_df"
   ]
  },
  {
   "cell_type": "code",
   "execution_count": 29,
   "metadata": {},
   "outputs": [
    {
     "data": {
      "application/vnd.jupyter.widget-view+json": {
       "model_id": "785e42e7492d4408929a77b38dfff02b",
       "version_major": 2,
       "version_minor": 0
      },
      "text/plain": [
       "Output()"
      ]
     },
     "metadata": {},
     "output_type": "display_data"
    },
    {
     "data": {
      "text/html": [
       "<pre style=\"white-space:pre;overflow-x:auto;line-height:normal;font-family:Menlo,'DejaVu Sans Mono',consolas,'Courier New',monospace\"></pre>\n"
      ],
      "text/plain": []
     },
     "metadata": {},
     "output_type": "display_data"
    },
    {
     "data": {
      "application/vnd.jupyter.widget-view+json": {
       "model_id": "5aa36e924092478198ee3cb7abf12d87",
       "version_major": 2,
       "version_minor": 0
      },
      "text/plain": [
       "Output()"
      ]
     },
     "metadata": {},
     "output_type": "display_data"
    },
    {
     "data": {
      "text/html": [
       "<pre style=\"white-space:pre;overflow-x:auto;line-height:normal;font-family:Menlo,'DejaVu Sans Mono',consolas,'Courier New',monospace\"></pre>\n"
      ],
      "text/plain": []
     },
     "metadata": {},
     "output_type": "display_data"
    },
    {
     "data": {
      "application/vnd.jupyter.widget-view+json": {
       "model_id": "a2abcd39b2b44176940777b95e0f81b1",
       "version_major": 2,
       "version_minor": 0
      },
      "text/plain": [
       "Output()"
      ]
     },
     "metadata": {},
     "output_type": "display_data"
    },
    {
     "data": {
      "text/html": [
       "<pre style=\"white-space:pre;overflow-x:auto;line-height:normal;font-family:Menlo,'DejaVu Sans Mono',consolas,'Courier New',monospace\"></pre>\n"
      ],
      "text/plain": []
     },
     "metadata": {},
     "output_type": "display_data"
    }
   ],
   "source": [
    "# Compare pair of tasks within each partition\n",
    "def task_relationships_within_partition(occupation, tasks):\n",
    "    if '\"Sink\"' in tasks:\n",
    "        tasks.remove('\"Sink\"')\n",
    "\n",
    "    scenarios = [Scenario({\"occupation\": occupation, \"task_A\": task_A, \"task_B\": task_B}) \n",
    "        for task_A, task_B in combinations(tasks, 2)]\n",
    "\n",
    "    q = QuestionMultipleChoice(\n",
    "        question_name = \"ordering\",\n",
    "        question_text = dedent(\"\"\"\\\n",
    "            Consider {{ occupation }}. \n",
    "            And consider these two tasks: \n",
    "            A) {{ task_A }} \n",
    "            B) {{ task_B }}\n",
    "            What is the relationship between these tasks?\n",
    "            \"\"\"),\n",
    "        question_options = [\n",
    "            \"A would be done first\", \n",
    "            \"B would be done first\",\n",
    "            \"Not part of the same task sequence\"]\n",
    "    )\n",
    "    results = q.by(m4).by(scenarios).run(progress_bar = True)\n",
    "    return results\n",
    "\n",
    "\n",
    "# Function to handle apastrophes and commas in the list string\n",
    "def clean_list_string(s):\n",
    "    # Escape the apostrophe in specific problematic cases\n",
    "    s = re.sub(r\"(?<!\\\\)'s costs\", r\"\\\\'s costs\", s)\n",
    "    return s\n",
    "\n",
    "\n",
    "task_relationships_within_partition_df = pd.DataFrame()\n",
    "for key, value in partitions_dict.items():\n",
    "    # Get list of tasks in the partition\n",
    "    my_partition_tasks = clean_list_string(value)\n",
    "    my_partition_tasks = ast.literal_eval(my_partition_tasks)\n",
    "    if len(my_partition_tasks) < 2:\n",
    "        continue\n",
    "\n",
    "    # Run the function\n",
    "    results = task_relationships_within_partition(GPT_input_occupation, my_partition_tasks)\n",
    "    aux_df = results.select(\"task_A\", \"task_B\", \"ordering\", \"comment.ordering_comment\").to_pandas()\n",
    "    aux_df['partition'] = key\n",
    "\n",
    "    # Add to data frame\n",
    "    task_relationships_within_partition_df = pd.concat([task_relationships_within_partition_df, aux_df], ignore_index=True)"
   ]
  },
  {
   "cell_type": "code",
   "execution_count": 30,
   "metadata": {},
   "outputs": [
    {
     "data": {
      "application/vnd.jupyter.widget-view+json": {
       "model_id": "62ac2bdeb478436c8cd6702f7ef848eb",
       "version_major": 2,
       "version_minor": 0
      },
      "text/plain": [
       "Output()"
      ]
     },
     "metadata": {},
     "output_type": "display_data"
    },
    {
     "data": {
      "text/html": [
       "<pre style=\"white-space:pre;overflow-x:auto;line-height:normal;font-family:Menlo,'DejaVu Sans Mono',consolas,'Courier New',monospace\"></pre>\n"
      ],
      "text/plain": []
     },
     "metadata": {},
     "output_type": "display_data"
    },
    {
     "data": {
      "application/vnd.jupyter.widget-view+json": {
       "model_id": "c333fd5cf6fb42168fb0c89a8e42bf64",
       "version_major": 2,
       "version_minor": 0
      },
      "text/plain": [
       "Output()"
      ]
     },
     "metadata": {},
     "output_type": "display_data"
    },
    {
     "data": {
      "text/html": [
       "<pre style=\"white-space:pre;overflow-x:auto;line-height:normal;font-family:Menlo,'DejaVu Sans Mono',consolas,'Courier New',monospace\"></pre>\n"
      ],
      "text/plain": []
     },
     "metadata": {},
     "output_type": "display_data"
    },
    {
     "data": {
      "application/vnd.jupyter.widget-view+json": {
       "model_id": "96cc2810ef7741ada598a9816990c0ed",
       "version_major": 2,
       "version_minor": 0
      },
      "text/plain": [
       "Output()"
      ]
     },
     "metadata": {},
     "output_type": "display_data"
    },
    {
     "data": {
      "text/html": [
       "<pre style=\"white-space:pre;overflow-x:auto;line-height:normal;font-family:Menlo,'DejaVu Sans Mono',consolas,'Courier New',monospace\"></pre>\n"
      ],
      "text/plain": []
     },
     "metadata": {},
     "output_type": "display_data"
    },
    {
     "data": {
      "application/vnd.jupyter.widget-view+json": {
       "model_id": "2c0fd769e26444159da537e4b7bbc4f5",
       "version_major": 2,
       "version_minor": 0
      },
      "text/plain": [
       "Output()"
      ]
     },
     "metadata": {},
     "output_type": "display_data"
    },
    {
     "data": {
      "text/html": [
       "<pre style=\"white-space:pre;overflow-x:auto;line-height:normal;font-family:Menlo,'DejaVu Sans Mono',consolas,'Courier New',monospace\"></pre>\n"
      ],
      "text/plain": []
     },
     "metadata": {},
     "output_type": "display_data"
    },
    {
     "data": {
      "application/vnd.jupyter.widget-view+json": {
       "model_id": "4e1cc451d1a048a29befe8a9af13bc00",
       "version_major": 2,
       "version_minor": 0
      },
      "text/plain": [
       "Output()"
      ]
     },
     "metadata": {},
     "output_type": "display_data"
    },
    {
     "data": {
      "text/html": [
       "<pre style=\"white-space:pre;overflow-x:auto;line-height:normal;font-family:Menlo,'DejaVu Sans Mono',consolas,'Courier New',monospace\"></pre>\n"
      ],
      "text/plain": []
     },
     "metadata": {},
     "output_type": "display_data"
    }
   ],
   "source": [
    "# Compare pair of tasks within each partition\n",
    "def task_relationships_between_partitions(occupation, tasks_partition1, tasks_partition2):\n",
    "    if '\"Sink\"' in tasks_partition1:\n",
    "        tasks_partition1.remove('\"Sink\"')\n",
    "    if '\"Sink\"' in tasks_partition2:\n",
    "        tasks_partition2.remove('\"Sink\"')\n",
    "    \n",
    "\n",
    "    scenarios = [Scenario({\"occupation\": occupation, \n",
    "                           \"tasks_partition1\": tasks_partition1, \"tasks_partition2\": tasks_partition2,\n",
    "                           \"task_A\": task_A, \"task_B\": task_B}) \n",
    "        for task_A, task_B in itertools.product(tasks_partition1, tasks_partition2)]\n",
    "\n",
    "    q = QuestionMultipleChoice(\n",
    "        question_name = \"ordering\",\n",
    "        question_text = dedent(\"\"\"\\\n",
    "            Consider {{ occupation }}. \n",
    "            And consider these two partitions of tasks; partition 1: {{ tasks_partition1 }} and partition 2: {{ tasks_partition2 }}.\n",
    "            We know that tasks in partition 1 would be done before tasks in partition 2.\n",
    "            Now consider these two tasks:\n",
    "            A) {{ task_A }} \n",
    "            B) {{ task_B }}\n",
    "            Knowing that task A is from partition 1 and task B is from partition 2, what is the relationship between these tasks?\n",
    "            \"\"\"),\n",
    "        question_options = [\n",
    "            \"A must be done in order to do B\", \n",
    "            \"A is not required for doing B\",\n",
    "            ]\n",
    "    )\n",
    "    results = q.by(m4).by(scenarios).run(progress_bar = True)\n",
    "    return results\n",
    "\n",
    "\n",
    "task_relationships_between_partitions_df = pd.DataFrame()\n",
    "for (key1, value1), (key2, value2) in itertools.combinations(partitions_dict.items(), 2):\n",
    "    # determine which partition is done first\n",
    "    if len(partitions_ordering_df[(partitions_ordering_df['partition_A_groupNum'] == key1) & (partitions_ordering_df['partition_B_groupNum'] == key2)]) > 0:\n",
    "        first_partition = key1\n",
    "        second_partition = key2\n",
    "    elif len(partitions_ordering_df[(partitions_ordering_df['partition_A_groupNum'] == key2) & (partitions_ordering_df['partition_B_groupNum'] == key1)]) > 0:\n",
    "        first_partition = key2\n",
    "        second_partition = key1\n",
    "    else:\n",
    "        continue\n",
    "\n",
    "    # Get list of tasks in the partition\n",
    "    tasks_partition1 = ast.literal_eval(clean_list_string(value1))\n",
    "    tasks_partition2 = ast.literal_eval(clean_list_string(value2))\n",
    "    \n",
    "    # Run the function\n",
    "    results = task_relationships_between_partitions(GPT_input_occupation, tasks_partition1, tasks_partition2)\n",
    "    aux_df = results.select(\"task_A\", \"task_B\", \"ordering\", \"comment.ordering_comment\").to_pandas()\n",
    "    \n",
    "    # Add to data frame\n",
    "    task_relationships_between_partitions_df = pd.concat([task_relationships_between_partitions_df, aux_df], ignore_index=True)"
   ]
  },
  {
   "cell_type": "code",
   "execution_count": 31,
   "metadata": {},
   "outputs": [],
   "source": [
    "# Get edges from within and between partitions data frames\n",
    "between_edges = task_relationships_between_partitions_df[task_relationships_between_partitions_df['answer.ordering'] == 'A must be done in order to do B']\n",
    "between_edges = between_edges[['scenario.task_A', 'scenario.task_B', 'comment.ordering_comment']]\n",
    "within_edges = task_relationships_within_partition_df[['scenario.task_A', 'scenario.task_B', 'comment.ordering_comment']]\n",
    "\n",
    "# Combine edges from within and between partitions\n",
    "partitions_DAG_df = pd.concat([within_edges, between_edges], ignore_index=True)\n",
    "\n",
    "# Change column names\n",
    "partitions_DAG_df = partitions_DAG_df.rename(columns={'scenario.task_A': 'source', \n",
    "                                                    'scenario.task_B': 'target', \n",
    "                                                    'comment.ordering_comment': 'comment'})\n",
    "\n",
    "# Save output\n",
    "partitions_DAG_df.to_csv(f'{occupation_folder}/{occupation}_partitionedGPT_DAG_df.csv', index=False)"
   ]
  },
  {
   "cell_type": "markdown",
   "metadata": {},
   "source": []
  }
 ],
 "metadata": {
  "kernelspec": {
   "display_name": "base",
   "language": "python",
   "name": "python3"
  },
  "language_info": {
   "codemirror_mode": {
    "name": "ipython",
    "version": 3
   },
   "file_extension": ".py",
   "mimetype": "text/x-python",
   "name": "python",
   "nbconvert_exporter": "python",
   "pygments_lexer": "ipython3",
   "version": "3.12.2"
  }
 },
 "nbformat": 4,
 "nbformat_minor": 2
}
