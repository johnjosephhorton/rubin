{
 "cells": [
  {
   "cell_type": "markdown",
   "metadata": {},
   "source": [
    "# Load libraries and functions"
   ]
  },
  {
   "cell_type": "markdown",
   "metadata": {},
   "source": []
  },
  {
   "cell_type": "code",
   "execution_count": 201,
   "metadata": {},
   "outputs": [],
   "source": [
    "with open('libraries.py') as f:\n",
    "    code = f.read()\n",
    "exec(code)\n",
    "\n",
    "with open('functions.py') as f:\n",
    "    code = f.read()\n",
    "exec(code)"
   ]
  },
  {
   "cell_type": "code",
   "execution_count": 202,
   "metadata": {},
   "outputs": [],
   "source": [
    "# determine user\n",
    "user = getpass.getuser()\n",
    "if user == 'peymansh':\n",
    "    main_folder_path = '/Users/peymansh/Dropbox (MIT)/Research/AI and Occupations/ai-exposure'\n",
    "    data_path = f'{main_folder_path}/output'"
   ]
  },
  {
   "cell_type": "markdown",
   "metadata": {},
   "source": [
    "## Main Code"
   ]
  },
  {
   "cell_type": "code",
   "execution_count": 203,
   "metadata": {},
   "outputs": [],
   "source": [
    "# Pick occupation and initialize variables\n",
    "occupation = 'travelAgents'\n",
    "# occupation = 'insuranceUnderwriters'\n",
    "# occupation = 'pileDriverOperators'\n",
    "# occupation = 'dredgeOperators'\n",
    "# occupation = 'gradersAndSorters'\n",
    "# occupation = 'reinforcingIron'\n",
    "# occupation = 'insuranceAppraisers'\n",
    "# occupation = 'floorSanders'\n",
    "# occupation = 'dataEntryKeyer'\n",
    "# occupation = 'athletesAndSportsCompetitors'\n",
    "# # occupation = 'shampooers'\n",
    "\n",
    "GPT_input_occupation, plot_title_occupation, occupation_code, occupation_folder = pick_occupation(occupation)"
   ]
  },
  {
   "cell_type": "code",
   "execution_count": 204,
   "metadata": {},
   "outputs": [
    {
     "data": {
      "text/plain": [
       "['Attend scheduled practice or training sessions.',\n",
       " 'Participate in athletic events or competitive sports, according to established rules and regulations.',\n",
       " 'Exercise or practice under the direction of athletic trainers or professional coaches to develop skills, improve physical condition, or prepare for competitions.',\n",
       " 'Maintain equipment used in a particular sport.',\n",
       " 'Maintain optimum physical fitness levels by training regularly, following nutrition plans, or consulting with health professionals.',\n",
       " 'Assess performance following athletic competition, identifying strengths and weaknesses and making adjustments to improve future performance.',\n",
       " 'Represent teams or professional sports clubs, performing such activities as meeting with members of the media, making speeches, or participating in charity events.',\n",
       " 'Lead teams by serving as captain.',\n",
       " 'Receive instructions from coaches or other sports staff prior to events and discuss performance afterwards.']"
      ]
     },
     "execution_count": 204,
     "metadata": {},
     "output_type": "execute_result"
    }
   ],
   "source": [
    "# Load the data\n",
    "onet = pd.read_csv(f'{data_path}/data/onet_occupations_yearly.csv')\n",
    "onet = onet.sort_values(by=['year', 'occ_code', 'occ_title', 'task_id'])\n",
    "onet = onet[onet['year'] == 2023].reset_index(drop=True)\n",
    "\n",
    "# Get list of tasks\n",
    "my_df = onet[(onet.occ_code == f'{occupation_code}') & (onet.year == 2023)]\n",
    "tasks = my_df['task'].unique().tolist()\n",
    "tasks"
   ]
  },
  {
   "cell_type": "markdown",
   "metadata": {},
   "source": [
    "<br>\n",
    "\n",
    "<br>\n",
    "\n",
    "# 2) GPT Naive DAG"
   ]
  },
  {
   "cell_type": "code",
   "execution_count": 205,
   "metadata": {},
   "outputs": [],
   "source": [
    "version = ''"
   ]
  },
  {
   "cell_type": "code",
   "execution_count": 206,
   "metadata": {},
   "outputs": [],
   "source": [
    "# Set output names\n",
    "lastTask_output_filename = f'{occupation_folder}/{version}{occupation}_N_lastTasks.csv'\n",
    "output_filename_wo = f'{occupation_folder}/{version}{occupation}_N_GPT_DAG_df.csv'\n",
    "output_filename_w = f'{occupation_folder}/{version}{occupation}_N2_GPT_DAG_df.csv'"
   ]
  },
  {
   "cell_type": "markdown",
   "metadata": {},
   "source": [
    "### Set up the questions for GPT"
   ]
  },
  {
   "cell_type": "code",
   "execution_count": 207,
   "metadata": {},
   "outputs": [],
   "source": [
    "task_relationships_question_options_wo = {'A first': \"Worker working on task B needs to know the output of worker working on task A\",\n",
    "                                          'B first': \"Worker working on task A needs to know the output of worker working on task B\",\n",
    "                                          'neither': \"Neither worker needs to know the output of the other worker\"\n",
    "                                          }\n",
    "\n",
    "task_relationships_question_options_w = {'A first': \"Worker working on task B needs to know the output of worker working on task A\",\n",
    "                                          'B first': \"Worker working on task A needs to know the output of worker working on task B\",\n",
    "                                          'either': \"Either worker can start first, but the output of one worker is needed by the other worker\",\n",
    "                                          'neither': \"Neither worker needs to know the output of the other worker\"\n",
    "                                        }\n",
    "\n",
    "symmetric_edges_question_options = {'A first': \"Worker working on task B needs to know the output of worker working on task A\",\n",
    "                                    'B first': \"Worker working on task A needs to know the output of worker working on task B\",\n",
    "                                    }\n",
    "\n",
    "task_relationships_question_text = dedent(\"\"\"\\\n",
    "                                        Consider {{ occupation }} as an occupation. \n",
    "                                        And consider these two tasks: \n",
    "                                        A) {{ task_A }} \n",
    "                                        B) {{ task_B }}\n",
    "                                        Imagine there are two workers, one working on task A and the other on task B.\n",
    "                                        Does the worker working on task B need to know the output of the worker working on task A before getting started? What about the opposite?\n",
    "                                        Avoid using words like \"task A\" and \"task B\" in the answer.\n",
    "                                        Explain the reasoning behind your answer in a couple of sentences.\n",
    "                                        \"\"\")\n",
    "\n",
    "symmetric_edges_question_text = dedent(\"\"\"\\\n",
    "                                      Consider {{ occupation }} as an occupation. \n",
    "                                      And consider these two tasks: \n",
    "                                      A) {{ task_A }} \n",
    "                                      B) {{ task_B }}\n",
    "                                      Imagine there are two workers, one working on task A and the other on task B.\n",
    "                                      Does the worker working on task B need to know the output of the worker working on task A before getting started? What about the opposite?\n",
    "                                      Avoid using words like \"task A\" and \"task B\" in the answer.\n",
    "                                      Explain the reasoning behind your answer in a couple of sentences.\n",
    "                                      \"\"\")"
   ]
  },
  {
   "cell_type": "code",
   "execution_count": 208,
   "metadata": {},
   "outputs": [],
   "source": [
    "task_relationships_question_options_wo_list = list(task_relationships_question_options_wo.values())\n",
    "task_relationships_question_options_w_list = list(task_relationships_question_options_w.values())\n",
    "symmetric_edges_question_options_list = list(symmetric_edges_question_options.values())"
   ]
  },
  {
   "cell_type": "code",
   "execution_count": 209,
   "metadata": {},
   "outputs": [],
   "source": [
    "def get_last_tasks(occupation, tasks):\n",
    "    scenarios = [Scenario({\"occupation\": occupation, \"tasks\": tasks})]\n",
    "\n",
    "    # Last task\n",
    "    q2 = QuestionCheckBox(\n",
    "        question_name = \"lastTask\",\n",
    "        question_text = dedent(\"\"\"\\\n",
    "            Consider {{ occupation }} as an occupation. \n",
    "            The tasks below are part of the job of {{ occupation }}: {{ tasks }}.\n",
    "            Among the following, which task or set of tasks would be done after all other tasks are completed?\n",
    "            \"\"\"),\n",
    "        question_options = tasks,\n",
    "        min_selections = 1,\n",
    "        max_selections = int(np.floor(len(tasks) / 2)) # an upper bound for how many tasks can be considered as last task\n",
    "    )\n",
    "    results2 = q2.by(m4).by(scenarios).run().to_pandas()\n",
    "    last_task = results2['answer.lastTask'][0]\n",
    "    last_task = ast.literal_eval(last_task) # convert from string resembling list format to actual list\n",
    "    \n",
    "    return last_task"
   ]
  },
  {
   "cell_type": "code",
   "execution_count": 210,
   "metadata": {},
   "outputs": [],
   "source": [
    "# Get last task(s) to be done in occupation\n",
    "last_task = get_last_tasks(GPT_input_occupation, tasks)\n",
    "last_tasks_df = pd.DataFrame({'last_task': [last_task]})\n",
    "last_tasks_df.to_csv(lastTask_output_filename, index=False)"
   ]
  },
  {
   "cell_type": "markdown",
   "metadata": {},
   "source": [
    "### 2.1) One Step Method: Directly ask for pairwise comparison w/o giving the \"either\" option"
   ]
  },
  {
   "cell_type": "code",
   "execution_count": 211,
   "metadata": {},
   "outputs": [
    {
     "data": {
      "application/vnd.jupyter.widget-view+json": {
       "model_id": "8ecb2c8932b34f0bbc20434735cd1d87",
       "version_major": 2,
       "version_minor": 0
      },
      "text/plain": [
       "Output()"
      ]
     },
     "metadata": {},
     "output_type": "display_data"
    },
    {
     "data": {
      "text/html": [
       "<pre style=\"white-space:pre;overflow-x:auto;line-height:normal;font-family:Menlo,'DejaVu Sans Mono',consolas,'Courier New',monospace\"></pre>\n"
      ],
      "text/plain": []
     },
     "metadata": {},
     "output_type": "display_data"
    }
   ],
   "source": [
    "# Compare pair of tasks\n",
    "def task_relationships(occupation, tasks, question_text, question_options):\n",
    "    scenarios = [Scenario({\"occupation\": occupation, \"task_A\": task_A, \"task_B\": task_B}) \n",
    "        for task_A, task_B in combinations(tasks, 2)]\n",
    "\n",
    "    q = QuestionMultipleChoice(\n",
    "        question_name = \"ordering\",\n",
    "        question_text = question_text,\n",
    "        question_options = question_options\n",
    "    )\n",
    "    results = q.by(m4).by(scenarios).run(progress_bar = True)\n",
    "    return results\n",
    "\n",
    "results = task_relationships(GPT_input_occupation, tasks, task_relationships_question_text, task_relationships_question_options_wo_list)\n",
    "#results.select(\"task_A\", \"task_B\", \"ordering\", \"comment.ordering_comment\").print()\n",
    "pairwise_relationships_wo_raw = results.select(\"task_A\", \"task_B\", \"ordering\", \"comment.ordering_comment\").to_pandas()"
   ]
  },
  {
   "cell_type": "code",
   "execution_count": 212,
   "metadata": {},
   "outputs": [],
   "source": [
    "# Swap columns and subset only those that are part of the same task sequence \n",
    "pairwise_relationships_wo = pairwise_relationships_wo_raw.copy()\n",
    "mask = pairwise_relationships_wo['answer.ordering'] == task_relationships_question_options_wo['B first']\n",
    "pairwise_relationships_wo.loc[mask, ['scenario.task_A', 'scenario.task_B']] = pairwise_relationships_wo.loc[mask, ['scenario.task_B', 'scenario.task_A']].values\n",
    "pairwise_relationships_wo.loc[mask, 'answer.ordering'] = task_relationships_question_options_wo['A first']\n",
    "pairwise_relationships_wo = pairwise_relationships_wo[pairwise_relationships_wo['answer.ordering'] == task_relationships_question_options_wo['A first']]\n",
    "pairwise_relationships_wo = pairwise_relationships_wo[['scenario.task_A', 'scenario.task_B', 'comment.ordering_comment']]\n",
    "\n",
    "# Change column names\n",
    "pairwise_relationships_wo = pairwise_relationships_wo.rename(columns={'scenario.task_A': 'source', \n",
    "                                                                      'scenario.task_B': 'target', \n",
    "                                                                      'comment.ordering_comment': 'comment'})"
   ]
  },
  {
   "cell_type": "code",
   "execution_count": 213,
   "metadata": {},
   "outputs": [],
   "source": [
    "# Add outgoing edges from last task(s) to \"Target\" node\n",
    "for task in last_task:\n",
    "    aux_df = pd.DataFrame({'source': [task],\n",
    "                           'target': ['\"Target\"'],\n",
    "                           'comment': ['Job Completion Indicator']})\n",
    "    pairwise_relationships_wo = pd.concat([pairwise_relationships_wo, aux_df], ignore_index=True)"
   ]
  },
  {
   "cell_type": "code",
   "execution_count": 214,
   "metadata": {},
   "outputs": [],
   "source": [
    "# Save one-step Naive output\n",
    "pairwise_relationships_wo.to_csv(output_filename_wo, index=False)"
   ]
  },
  {
   "cell_type": "markdown",
   "metadata": {},
   "source": [
    "### 2.2) Two Steps Method: Give option of \"either\" and then filter symmetric edges\n",
    "### Step 1:"
   ]
  },
  {
   "cell_type": "code",
   "execution_count": 215,
   "metadata": {},
   "outputs": [
    {
     "data": {
      "application/vnd.jupyter.widget-view+json": {
       "model_id": "9956771827d349c1b59b5c98f941e109",
       "version_major": 2,
       "version_minor": 0
      },
      "text/plain": [
       "Output()"
      ]
     },
     "metadata": {},
     "output_type": "display_data"
    },
    {
     "data": {
      "text/html": [
       "<pre style=\"white-space:pre;overflow-x:auto;line-height:normal;font-family:Menlo,'DejaVu Sans Mono',consolas,'Courier New',monospace\"></pre>\n"
      ],
      "text/plain": []
     },
     "metadata": {},
     "output_type": "display_data"
    }
   ],
   "source": [
    "# Compare pair of tasks\n",
    "def task_relationships(occupation, tasks, question_text, question_options):\n",
    "    scenarios = [Scenario({\"occupation\": occupation, \"task_A\": task_A, \"task_B\": task_B}) \n",
    "        for task_A, task_B in combinations(tasks, 2)]\n",
    "\n",
    "    q = QuestionMultipleChoice(\n",
    "        question_name = \"ordering\",\n",
    "        question_text = question_text,\n",
    "        question_options = question_options\n",
    "    )\n",
    "    results = q.by(m4).by(scenarios).run(progress_bar = True)\n",
    "    return results\n",
    "\n",
    "results = task_relationships(GPT_input_occupation, tasks, task_relationships_question_text, task_relationships_question_options_w_list)\n",
    "#results.select(\"task_A\", \"task_B\", \"ordering\", \"comment.ordering_comment\").print()\n",
    "pairwise_relationships_w_raw = results.select(\"task_A\", \"task_B\", \"ordering\", \"comment.ordering_comment\").to_pandas()"
   ]
  },
  {
   "cell_type": "markdown",
   "metadata": {},
   "source": [
    "### Step 2:"
   ]
  },
  {
   "cell_type": "code",
   "execution_count": 216,
   "metadata": {},
   "outputs": [
    {
     "data": {
      "application/vnd.jupyter.widget-view+json": {
       "model_id": "0e7f3d230f674f8da0387106d3b3ae9c",
       "version_major": 2,
       "version_minor": 0
      },
      "text/plain": [
       "Output()"
      ]
     },
     "metadata": {},
     "output_type": "display_data"
    },
    {
     "data": {
      "text/html": [
       "<pre style=\"white-space:pre;overflow-x:auto;line-height:normal;font-family:Menlo,'DejaVu Sans Mono',consolas,'Courier New',monospace\"></pre>\n"
      ],
      "text/plain": []
     },
     "metadata": {},
     "output_type": "display_data"
    }
   ],
   "source": [
    "# subset symmetric edges\n",
    "both_edges = pairwise_relationships_w_raw[pairwise_relationships_w_raw['answer.ordering'] == task_relationships_question_options_w['either']]\n",
    "if len(both_edges) > 0:\n",
    "    task_A_list = both_edges['scenario.task_A'].tolist()\n",
    "    task_B_list = both_edges['scenario.task_B'].tolist()\n",
    "\n",
    "\n",
    "    # Decide which one of symmetric edges to keep\n",
    "    def pick_oneOf_symmetricEdges(occupation, task_A_list, task_B_list, question_text, question_options):\n",
    "        scenarios = [Scenario({\"occupation\": occupation, \"task_A\": task_A, \"task_B\": task_B}) \n",
    "            for task_A, task_B in zip(task_A_list, task_B_list)]\n",
    "\n",
    "        q = QuestionMultipleChoice(\n",
    "            question_name = \"ordering\",\n",
    "            question_text = question_text,\n",
    "            question_options = question_options\n",
    "        )\n",
    "        results = q.by(m4).by(scenarios).run(progress_bar = True)\n",
    "        return results\n",
    "\n",
    "    results = pick_oneOf_symmetricEdges(GPT_input_occupation, task_A_list, task_B_list, task_relationships_question_text, symmetric_edges_question_options_list)\n",
    "    #results.select(\"task_A\", \"task_B\", \"ordering\", \"comment.ordering_comment\").print()\n",
    "    which_symmetric_edge = results.select(\"task_A\", \"task_B\", \"ordering\", \"comment.ordering_comment\").to_pandas()"
   ]
  },
  {
   "cell_type": "code",
   "execution_count": 217,
   "metadata": {},
   "outputs": [],
   "source": [
    "if len(both_edges) > 0:\n",
    "    # Merge datasets\n",
    "    pairwise_relationships_w = pairwise_relationships_w_raw[pairwise_relationships_w_raw['answer.ordering'].isin(symmetric_edges_question_options_list)]\n",
    "    pairwise_relationships_w = pd.concat([pairwise_relationships_w, which_symmetric_edge], ignore_index=True)\n",
    "else:\n",
    "    pairwise_relationships_w = pairwise_relationships_w_raw[pairwise_relationships_w_raw['answer.ordering'].isin(symmetric_edges_question_options_list)]\n",
    "\n",
    "# Swap columns\n",
    "mask = pairwise_relationships_w['answer.ordering'] == task_relationships_question_options_w['B first']\n",
    "pairwise_relationships_w.loc[mask, ['scenario.task_A', 'scenario.task_B']] = pairwise_relationships_w.loc[mask, ['scenario.task_B', 'scenario.task_A']].values\n",
    "pairwise_relationships_w.loc[mask, 'answer.ordering'] = task_relationships_question_options_w['A first']\n",
    "pairwise_relationships_w = pairwise_relationships_w[pairwise_relationships_w['answer.ordering'] == task_relationships_question_options_w['A first']]\n",
    "pairwise_relationships_w = pairwise_relationships_w[['scenario.task_A', 'scenario.task_B', 'comment.ordering_comment']]\n",
    "\n",
    "# Change column names\n",
    "pairwise_relationships_w = pairwise_relationships_w.rename(columns={'scenario.task_A': 'source', \n",
    "                                                                    'scenario.task_B': 'target', \n",
    "                                                                    'comment.ordering_comment': 'comment'})"
   ]
  },
  {
   "cell_type": "code",
   "execution_count": 218,
   "metadata": {},
   "outputs": [],
   "source": [
    "# Add outgoing edges from last task(s) to \"Target\" node\n",
    "for task in last_task:\n",
    "    aux_df = pd.DataFrame({'source': [task],\n",
    "                           'target': ['\"Target\"'],\n",
    "                           'comment': ['Job Completion Indicator']})\n",
    "    pairwise_relationships_w = pd.concat([pairwise_relationships_w, aux_df], ignore_index=True)"
   ]
  },
  {
   "cell_type": "code",
   "execution_count": 219,
   "metadata": {},
   "outputs": [],
   "source": [
    "# Save two-step Naive output\n",
    "pairwise_relationships_w.to_csv(output_filename_w, index=False)"
   ]
  },
  {
   "cell_type": "markdown",
   "metadata": {},
   "source": [
    "### Apply \"conditioning\" procedure to Naive (a.k.a. one-step) output"
   ]
  },
  {
   "cell_type": "code",
   "execution_count": 220,
   "metadata": {},
   "outputs": [
    {
     "data": {
      "application/vnd.jupyter.widget-view+json": {
       "model_id": "a55616f067ed4cc5891193789fe4be22",
       "version_major": 2,
       "version_minor": 0
      },
      "text/plain": [
       "Output()"
      ]
     },
     "metadata": {},
     "output_type": "display_data"
    },
    {
     "name": "stdout",
     "output_type": "stream",
     "text": [
      "Examples of triangles: [[0, 1, 5], [0, 1, 7], [0, 1, 8], [0, 5, 7], [0, 5, 8]]\n",
      "Count of triangles: 35\n"
     ]
    },
    {
     "data": {
      "text/html": [
       "<pre style=\"white-space:pre;overflow-x:auto;line-height:normal;font-family:Menlo,'DejaVu Sans Mono',consolas,'Courier New',monospace\"></pre>\n"
      ],
      "text/plain": []
     },
     "metadata": {},
     "output_type": "display_data"
    },
    {
     "name": "stdout",
     "output_type": "stream",
     "text": [
      "Nodes stats as nodes A, B, C of a triangle:\n",
      "Number of quadrilaterals: 0\n",
      "Number of AC-DC edges to remove: 0\n",
      "Number of AC edges to remove: 30\n",
      "Total number of edges to remove: 30\n"
     ]
    }
   ],
   "source": [
    "# Read function\n",
    "with open('condition_DAG_function.py') as f:\n",
    "    code = f.read()\n",
    "exec(code)\n",
    "\n",
    "condition_DAG(GPT_input_occupation, \n",
    "              tasks, \n",
    "              input_filename = f'{occupation_folder}/{occupation}_N_GPT_DAG_df.csv', \n",
    "              output_filename = f'{occupation_folder}/{occupation}_CN_GPT_DAG_df.csv')"
   ]
  }
 ],
 "metadata": {
  "kernelspec": {
   "display_name": "base",
   "language": "python",
   "name": "python3"
  },
  "language_info": {
   "codemirror_mode": {
    "name": "ipython",
    "version": 3
   },
   "file_extension": ".py",
   "mimetype": "text/x-python",
   "name": "python",
   "nbconvert_exporter": "python",
   "pygments_lexer": "ipython3",
   "version": "3.12.2"
  }
 },
 "nbformat": 4,
 "nbformat_minor": 2
}
