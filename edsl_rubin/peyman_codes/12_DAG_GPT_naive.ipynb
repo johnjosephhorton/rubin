{
 "cells": [
  {
   "cell_type": "markdown",
   "metadata": {},
   "source": [
    "# Load libraries and functions"
   ]
  },
  {
   "cell_type": "markdown",
   "metadata": {},
   "source": []
  },
  {
   "cell_type": "code",
   "execution_count": 98,
   "metadata": {},
   "outputs": [],
   "source": [
    "with open('libraries.py') as f:\n",
    "    code = f.read()\n",
    "exec(code)\n",
    "\n",
    "with open('functions.py') as f:\n",
    "    code = f.read()\n",
    "exec(code)"
   ]
  },
  {
   "cell_type": "code",
   "execution_count": 99,
   "metadata": {},
   "outputs": [],
   "source": [
    "# determine user\n",
    "user = getpass.getuser()\n",
    "if user == 'peymansh':\n",
    "    main_folder_path = '/Users/peymansh/Dropbox (MIT)/Research/AI and Occupations/ai-exposure'\n",
    "    data_path = f'{main_folder_path}/output'"
   ]
  },
  {
   "cell_type": "markdown",
   "metadata": {},
   "source": [
    "## Main Code"
   ]
  },
  {
   "cell_type": "code",
   "execution_count": 100,
   "metadata": {},
   "outputs": [],
   "source": [
    "# Pick occupation and initialize variables\n",
    "occupation = 'travelAgents'\n",
    "occupation = 'insuranceUnderwriters'\n",
    "# occupation = 'pileDriverOperators'\n",
    "# # occupation = 'shampooers'\n",
    "# # occupation = 'dredgeOperators'\n",
    "\n",
    "\n",
    "GPT_input_occupation, plot_title_occupation, occupation_code, occupation_folder = pick_occupation(occupation)"
   ]
  },
  {
   "cell_type": "code",
   "execution_count": 101,
   "metadata": {},
   "outputs": [
    {
     "data": {
      "text/plain": [
       "['Decline excessive risks.',\n",
       " 'Write to field representatives, medical personnel, or others to obtain further information, quote rates, or explain company underwriting policies.',\n",
       " 'Evaluate possibility of losses due to catastrophe or excessive insurance.',\n",
       " 'Decrease value of policy when risk is substandard and specify applicable endorsements or apply rating to ensure safe, profitable distribution of risks, using reference materials.',\n",
       " 'Review company records to determine amount of insurance in force on single risk or group of closely related risks.',\n",
       " 'Authorize reinsurance of policy when risk is high.',\n",
       " 'Examine documents to determine degree of risk from factors such as applicant health, financial standing and value, and condition of property.']"
      ]
     },
     "execution_count": 101,
     "metadata": {},
     "output_type": "execute_result"
    }
   ],
   "source": [
    "# Load the data\n",
    "onet = pd.read_csv(f'{data_path}/data/onet_occupations_yearly.csv')\n",
    "onet = onet.sort_values(by=['year', 'occ_code', 'occ_title', 'task_id'])\n",
    "onet = onet[onet['year'] == 2023].reset_index(drop=True)\n",
    "\n",
    "# Get list of tasks\n",
    "my_df = onet[(onet.occ_code == f'{occupation_code}') & (onet.year == 2023)]\n",
    "tasks = my_df['task'].unique().tolist()\n",
    "tasks"
   ]
  },
  {
   "cell_type": "markdown",
   "metadata": {},
   "source": [
    "<br>\n",
    "\n",
    "<br>\n",
    "\n",
    "# 2) GPT Naive DAG"
   ]
  },
  {
   "cell_type": "code",
   "execution_count": 102,
   "metadata": {},
   "outputs": [],
   "source": [
    "version = 'v0/'\n",
    "version = 'v1/'"
   ]
  },
  {
   "cell_type": "code",
   "execution_count": 103,
   "metadata": {},
   "outputs": [],
   "source": [
    "# Set output names\n",
    "output_filename_wo = f'{occupation_folder}/{version}{occupation}_oneStepGPT_DAG_df.csv'\n",
    "output_filename_w = f'{occupation_folder}/{version}{occupation}_twoStepGPT_DAG_df.csv'"
   ]
  },
  {
   "cell_type": "markdown",
   "metadata": {},
   "source": [
    "### Set up the questions for GPT"
   ]
  },
  {
   "cell_type": "code",
   "execution_count": 104,
   "metadata": {},
   "outputs": [],
   "source": [
    "if version == 'v0/':\n",
    "    task_relationships_question_options_wo = {'A first': \"A would be done first\",\n",
    "                                            'B first': \"B would be done first\",\n",
    "                                            'neither': \"These are not part of the same task sequence\"\n",
    "                                            }\n",
    "\n",
    "    task_relationships_question_options_w = {'A first': \"A would be done first\",\n",
    "                                            'B first': \"B would be done first\",\n",
    "                                            'either': \"Could be done in either order, but still part of the same sequence\",\n",
    "                                            'neither': \"These are not part of the same task sequence\"\n",
    "                                            }\n",
    "\n",
    "    symmetric_edges_question_options = {'A first': \"A would be done first\",\n",
    "                                        'B first': \"B would be done first\",\n",
    "                                        }\n",
    "\n",
    "    task_relationships_question_text = dedent(\"\"\"\\\n",
    "                                            Consider {{ occupation }} as an occupation. \n",
    "                                            And consider these two tasks: \n",
    "                                            A) {{ task_A }} \n",
    "                                            B) {{ task_B }}\n",
    "                                            What is the relationship between these tasks?\n",
    "                                            Avoid using words like \"task A\" and \"task B\" in the answer.\n",
    "                                            Explain the reasoning behind your answer in a couple of sentences.\n",
    "                                            \"\"\")\n",
    "\n",
    "    symmetric_edges_question_text = dedent(\"\"\"\\\n",
    "                                        Consider {{ occupation }} as an occupation. \n",
    "                                        And consider these two tasks: \n",
    "                                        A) {{ task_A }} \n",
    "                                        B) {{ task_B }}\n",
    "                                        What is the relationship between these tasks?\n",
    "                                        Avoid using words like \"task A\" and \"task B\" in the answer.\n",
    "                                        Explain the reasoning behind your answer in a couple of sentences.\n",
    "                                        \"\"\")"
   ]
  },
  {
   "cell_type": "code",
   "execution_count": 105,
   "metadata": {},
   "outputs": [],
   "source": [
    "if version == 'v1/':\n",
    "  task_relationships_question_options_wo = {'A first': \"Worker working on task B needs to know the output of worker working on task A\",\n",
    "                                            'B first': \"Worker working on task A needs to know the output of worker working on task B\",\n",
    "                                            'neither': \"Neither worker needs to know the output of the other worker\"\n",
    "                                            }\n",
    "\n",
    "  task_relationships_question_options_w = {'A first': \"Worker working on task B needs to know the output of worker working on task A\",\n",
    "                                            'B first': \"Worker working on task A needs to know the output of worker working on task B\",\n",
    "                                            'either': \"Either worker can start first, but the output of one worker is needed by the other worker\",\n",
    "                                            'neither': \"Neither worker needs to know the output of the other worker\"\n",
    "                                          }\n",
    "\n",
    "  symmetric_edges_question_options = {'A first': \"Worker working on task B needs to know the output of worker working on task A\",\n",
    "                                      'B first': \"Worker working on task A needs to know the output of worker working on task B\",\n",
    "                                      }\n",
    "\n",
    "  task_relationships_question_text = dedent(\"\"\"\\\n",
    "                                          Consider {{ occupation }} as an occupation. \n",
    "                                          And consider these two tasks: \n",
    "                                          A) {{ task_A }} \n",
    "                                          B) {{ task_B }}\n",
    "                                          Imagine there are two workers, one working on task A and the other on task B.\n",
    "                                          Does the worker working on task B need to know the output of the worker working on task A before getting started? What about the opposite?\n",
    "                                          Avoid using words like \"task A\" and \"task B\" in the answer.\n",
    "                                          Explain the reasoning behind your answer in a couple of sentences.\n",
    "                                          \"\"\")\n",
    "\n",
    "  symmetric_edges_question_text = dedent(\"\"\"\\\n",
    "                                        Consider {{ occupation }} as an occupation. \n",
    "                                        And consider these two tasks: \n",
    "                                        A) {{ task_A }} \n",
    "                                        B) {{ task_B }}\n",
    "                                        Imagine there are two workers, one working on task A and the other on task B.\n",
    "                                        Does the worker working on task B need to know the output of the worker working on task A before getting started? What about the opposite?\n",
    "                                        Avoid using words like \"task A\" and \"task B\" in the answer.\n",
    "                                        Explain the reasoning behind your answer in a couple of sentences.\n",
    "                                        \"\"\")"
   ]
  },
  {
   "cell_type": "code",
   "execution_count": 106,
   "metadata": {},
   "outputs": [],
   "source": [
    "task_relationships_question_options_wo_list = list(task_relationships_question_options_wo.values())\n",
    "task_relationships_question_options_w_list = list(task_relationships_question_options_w.values())\n",
    "symmetric_edges_question_options_list = list(symmetric_edges_question_options.values())"
   ]
  },
  {
   "cell_type": "markdown",
   "metadata": {},
   "source": [
    "### 2.1) One Step Method: Directly ask for pairwise comparison w/o giving the \"either\" option"
   ]
  },
  {
   "cell_type": "code",
   "execution_count": 107,
   "metadata": {},
   "outputs": [
    {
     "data": {
      "application/vnd.jupyter.widget-view+json": {
       "model_id": "7e83032810b34c1a9460f6886e6f3263",
       "version_major": 2,
       "version_minor": 0
      },
      "text/plain": [
       "Output()"
      ]
     },
     "metadata": {},
     "output_type": "display_data"
    },
    {
     "data": {
      "text/html": [
       "<pre style=\"white-space:pre;overflow-x:auto;line-height:normal;font-family:Menlo,'DejaVu Sans Mono',consolas,'Courier New',monospace\"></pre>\n"
      ],
      "text/plain": []
     },
     "metadata": {},
     "output_type": "display_data"
    }
   ],
   "source": [
    "# Compare pair of tasks\n",
    "def task_relationships(occupation, tasks, question_text, question_options):\n",
    "    if '\"Sink\"' in tasks:\n",
    "        tasks.remove('\"Sink\"')\n",
    "\n",
    "    scenarios = [Scenario({\"occupation\": occupation, \"task_A\": task_A, \"task_B\": task_B}) \n",
    "        for task_A, task_B in combinations(tasks, 2)]\n",
    "\n",
    "    q = QuestionMultipleChoice(\n",
    "        question_name = \"ordering\",\n",
    "        question_text = question_text,\n",
    "        question_options = question_options\n",
    "    )\n",
    "    results = q.by(m4).by(scenarios).run(progress_bar = True)\n",
    "    return results\n",
    "\n",
    "results = task_relationships(GPT_input_occupation, tasks, task_relationships_question_text, task_relationships_question_options_wo_list)\n",
    "#results.select(\"task_A\", \"task_B\", \"ordering\", \"comment.ordering_comment\").print()\n",
    "pairwise_relationships_wo_raw = results.select(\"task_A\", \"task_B\", \"ordering\", \"comment.ordering_comment\").to_pandas()"
   ]
  },
  {
   "cell_type": "code",
   "execution_count": 108,
   "metadata": {},
   "outputs": [],
   "source": [
    "# Swap columns and subset only those that are part of the same task sequence \n",
    "pairwise_relationships_wo = pairwise_relationships_wo_raw.copy()\n",
    "mask = pairwise_relationships_wo['answer.ordering'] == task_relationships_question_options_wo['B first']\n",
    "pairwise_relationships_wo.loc[mask, ['scenario.task_A', 'scenario.task_B']] = pairwise_relationships_wo.loc[mask, ['scenario.task_B', 'scenario.task_A']].values\n",
    "pairwise_relationships_wo.loc[mask, 'answer.ordering'] = task_relationships_question_options_wo['A first']\n",
    "pairwise_relationships_wo = pairwise_relationships_wo[pairwise_relationships_wo['answer.ordering'] == task_relationships_question_options_wo['A first']]\n",
    "pairwise_relationships_wo = pairwise_relationships_wo[['scenario.task_A', 'scenario.task_B', 'comment.ordering_comment']]\n",
    "\n",
    "# Change column names\n",
    "pairwise_relationships_wo = pairwise_relationships_wo.rename(columns={'scenario.task_A': 'source', \n",
    "                                                                      'scenario.task_B': 'target', \n",
    "                                                                      'comment.ordering_comment': 'comment'})\n",
    "\n",
    "# Save output\n",
    "pairwise_relationships_wo.to_csv(output_filename_wo, index=False)"
   ]
  },
  {
   "cell_type": "markdown",
   "metadata": {},
   "source": [
    "### 2.2) Two Steps Method: Give option of \"either\" and then filter symmetric edges\n",
    "### Step 1:"
   ]
  },
  {
   "cell_type": "code",
   "execution_count": 109,
   "metadata": {},
   "outputs": [
    {
     "data": {
      "application/vnd.jupyter.widget-view+json": {
       "model_id": "714e95a3c3c34da99a78e53984097666",
       "version_major": 2,
       "version_minor": 0
      },
      "text/plain": [
       "Output()"
      ]
     },
     "metadata": {},
     "output_type": "display_data"
    },
    {
     "data": {
      "text/html": [
       "<pre style=\"white-space:pre;overflow-x:auto;line-height:normal;font-family:Menlo,'DejaVu Sans Mono',consolas,'Courier New',monospace\"></pre>\n"
      ],
      "text/plain": []
     },
     "metadata": {},
     "output_type": "display_data"
    }
   ],
   "source": [
    "# Compare pair of tasks\n",
    "def task_relationships(occupation, tasks, question_text, question_options):\n",
    "    if '\"Sink\"' in tasks:\n",
    "        tasks.remove('\"Sink\"')\n",
    "\n",
    "    scenarios = [Scenario({\"occupation\": occupation, \"task_A\": task_A, \"task_B\": task_B}) \n",
    "        for task_A, task_B in combinations(tasks, 2)]\n",
    "\n",
    "    q = QuestionMultipleChoice(\n",
    "        question_name = \"ordering\",\n",
    "        question_text = question_text,\n",
    "        question_options = question_options\n",
    "    )\n",
    "    results = q.by(m4).by(scenarios).run(progress_bar = True)\n",
    "    return results\n",
    "\n",
    "results = task_relationships(GPT_input_occupation, tasks, task_relationships_question_text, task_relationships_question_options_w_list)\n",
    "#results.select(\"task_A\", \"task_B\", \"ordering\", \"comment.ordering_comment\").print()\n",
    "pairwise_relationships_w_raw = results.select(\"task_A\", \"task_B\", \"ordering\", \"comment.ordering_comment\").to_pandas()"
   ]
  },
  {
   "cell_type": "markdown",
   "metadata": {},
   "source": [
    "### Step 2:"
   ]
  },
  {
   "cell_type": "code",
   "execution_count": 110,
   "metadata": {},
   "outputs": [
    {
     "ename": "IndexError",
     "evalue": "list index out of range",
     "output_type": "error",
     "traceback": [
      "\u001b[0;31m---------------------------------------------------------------------------\u001b[0m",
      "\u001b[0;31mIndexError\u001b[0m                                Traceback (most recent call last)",
      "Cell \u001b[0;32mIn[110], line 20\u001b[0m\n\u001b[1;32m     17\u001b[0m     results \u001b[38;5;241m=\u001b[39m q\u001b[38;5;241m.\u001b[39mby(m4)\u001b[38;5;241m.\u001b[39mby(scenarios)\u001b[38;5;241m.\u001b[39mrun(progress_bar \u001b[38;5;241m=\u001b[39m \u001b[38;5;28;01mTrue\u001b[39;00m)\n\u001b[1;32m     18\u001b[0m     \u001b[38;5;28;01mreturn\u001b[39;00m results\n\u001b[0;32m---> 20\u001b[0m results \u001b[38;5;241m=\u001b[39m pick_oneOf_symmetricEdges(GPT_input_occupation, task_A_list, task_B_list, task_relationships_question_text, symmetric_edges_question_options_list)\n\u001b[1;32m     21\u001b[0m \u001b[38;5;66;03m#results.select(\"task_A\", \"task_B\", \"ordering\", \"comment.ordering_comment\").print()\u001b[39;00m\n\u001b[1;32m     22\u001b[0m which_symmetric_edge \u001b[38;5;241m=\u001b[39m results\u001b[38;5;241m.\u001b[39mselect(\u001b[38;5;124m\"\u001b[39m\u001b[38;5;124mtask_A\u001b[39m\u001b[38;5;124m\"\u001b[39m, \u001b[38;5;124m\"\u001b[39m\u001b[38;5;124mtask_B\u001b[39m\u001b[38;5;124m\"\u001b[39m, \u001b[38;5;124m\"\u001b[39m\u001b[38;5;124mordering\u001b[39m\u001b[38;5;124m\"\u001b[39m, \u001b[38;5;124m\"\u001b[39m\u001b[38;5;124mcomment.ordering_comment\u001b[39m\u001b[38;5;124m\"\u001b[39m)\u001b[38;5;241m.\u001b[39mto_pandas()\n",
      "Cell \u001b[0;32mIn[110], line 17\u001b[0m, in \u001b[0;36mpick_oneOf_symmetricEdges\u001b[0;34m(occupation, task_A_list, task_B_list, question_text, question_options)\u001b[0m\n\u001b[1;32m      9\u001b[0m scenarios \u001b[38;5;241m=\u001b[39m [Scenario({\u001b[38;5;124m\"\u001b[39m\u001b[38;5;124moccupation\u001b[39m\u001b[38;5;124m\"\u001b[39m: occupation, \u001b[38;5;124m\"\u001b[39m\u001b[38;5;124mtask_A\u001b[39m\u001b[38;5;124m\"\u001b[39m: task_A, \u001b[38;5;124m\"\u001b[39m\u001b[38;5;124mtask_B\u001b[39m\u001b[38;5;124m\"\u001b[39m: task_B}) \n\u001b[1;32m     10\u001b[0m     \u001b[38;5;28;01mfor\u001b[39;00m task_A, task_B \u001b[38;5;129;01min\u001b[39;00m \u001b[38;5;28mzip\u001b[39m(task_A_list, task_B_list)]\n\u001b[1;32m     12\u001b[0m q \u001b[38;5;241m=\u001b[39m QuestionMultipleChoice(\n\u001b[1;32m     13\u001b[0m     question_name \u001b[38;5;241m=\u001b[39m \u001b[38;5;124m\"\u001b[39m\u001b[38;5;124mordering\u001b[39m\u001b[38;5;124m\"\u001b[39m,\n\u001b[1;32m     14\u001b[0m     question_text \u001b[38;5;241m=\u001b[39m question_text,\n\u001b[1;32m     15\u001b[0m     question_options \u001b[38;5;241m=\u001b[39m question_options\n\u001b[1;32m     16\u001b[0m )\n\u001b[0;32m---> 17\u001b[0m results \u001b[38;5;241m=\u001b[39m q\u001b[38;5;241m.\u001b[39mby(m4)\u001b[38;5;241m.\u001b[39mby(scenarios)\u001b[38;5;241m.\u001b[39mrun(progress_bar \u001b[38;5;241m=\u001b[39m \u001b[38;5;28;01mTrue\u001b[39;00m)\n\u001b[1;32m     18\u001b[0m \u001b[38;5;28;01mreturn\u001b[39;00m results\n",
      "File \u001b[0;32m~/anaconda3/lib/python3.12/site-packages/edsl/jobs/Jobs.py:87\u001b[0m, in \u001b[0;36mJobs.by\u001b[0;34m(self, *args)\u001b[0m\n\u001b[1;32m     61\u001b[0m \u001b[38;5;250m\u001b[39m\u001b[38;5;124;03m\"\"\"\u001b[39;00m\n\u001b[1;32m     62\u001b[0m \u001b[38;5;124;03mAdd Agents, Scenarios and LanguageModels to a job. If no objects of this type exist in the Jobs instance, it stores the new objects as a list in the corresponding attribute. Otherwise, it combines the new objects with existing objects using the object's `__add__` method.\u001b[39;00m\n\u001b[1;32m     63\u001b[0m \n\u001b[0;32m   (...)\u001b[0m\n\u001b[1;32m     82\u001b[0m \u001b[38;5;124;03m- models: new models overwrite old models.\u001b[39;00m\n\u001b[1;32m     83\u001b[0m \u001b[38;5;124;03m\"\"\"\u001b[39;00m\n\u001b[1;32m     84\u001b[0m passed_objects \u001b[38;5;241m=\u001b[39m \u001b[38;5;28mself\u001b[39m\u001b[38;5;241m.\u001b[39m_turn_args_to_list(args)\n\u001b[1;32m     86\u001b[0m current_objects, objects_key \u001b[38;5;241m=\u001b[39m \u001b[38;5;28mself\u001b[39m\u001b[38;5;241m.\u001b[39m_get_current_objects_of_this_type(\n\u001b[0;32m---> 87\u001b[0m     passed_objects[\u001b[38;5;241m0\u001b[39m]\n\u001b[1;32m     88\u001b[0m )\n\u001b[1;32m     90\u001b[0m \u001b[38;5;28;01mif\u001b[39;00m \u001b[38;5;129;01mnot\u001b[39;00m current_objects:\n\u001b[1;32m     91\u001b[0m     new_objects \u001b[38;5;241m=\u001b[39m passed_objects\n",
      "\u001b[0;31mIndexError\u001b[0m: list index out of range"
     ]
    }
   ],
   "source": [
    "# subset symmetric edges\n",
    "both_edges = pairwise_relationships_w_raw[pairwise_relationships_w_raw['answer.ordering'] == task_relationships_question_options_w['either']]\n",
    "task_A_list = both_edges['scenario.task_A'].tolist()\n",
    "task_B_list = both_edges['scenario.task_B'].tolist()\n",
    "\n",
    "\n",
    "# Decide which one of symmetric edges to keep\n",
    "def pick_oneOf_symmetricEdges(occupation, task_A_list, task_B_list, question_text, question_options):\n",
    "    scenarios = [Scenario({\"occupation\": occupation, \"task_A\": task_A, \"task_B\": task_B}) \n",
    "        for task_A, task_B in zip(task_A_list, task_B_list)]\n",
    "\n",
    "    q = QuestionMultipleChoice(\n",
    "        question_name = \"ordering\",\n",
    "        question_text = question_text,\n",
    "        question_options = question_options\n",
    "    )\n",
    "    results = q.by(m4).by(scenarios).run(progress_bar = True)\n",
    "    return results\n",
    "\n",
    "results = pick_oneOf_symmetricEdges(GPT_input_occupation, task_A_list, task_B_list, task_relationships_question_text, symmetric_edges_question_options_list)\n",
    "#results.select(\"task_A\", \"task_B\", \"ordering\", \"comment.ordering_comment\").print()\n",
    "which_symmetric_edge = results.select(\"task_A\", \"task_B\", \"ordering\", \"comment.ordering_comment\").to_pandas()"
   ]
  },
  {
   "cell_type": "code",
   "execution_count": null,
   "metadata": {},
   "outputs": [],
   "source": [
    "# Merge datasets\n",
    "pairwise_relationships_w = pairwise_relationships_w_raw[pairwise_relationships_w_raw['answer.ordering'].isin(symmetric_edges_question_options_list)]\n",
    "pairwise_relationships_w = pd.concat([pairwise_relationships_w, which_symmetric_edge], ignore_index=True)\n",
    "\n",
    "# Swap columns\n",
    "mask = pairwise_relationships_w['answer.ordering'] == task_relationships_question_options_w['B first']\n",
    "pairwise_relationships_w.loc[mask, ['scenario.task_A', 'scenario.task_B']] = pairwise_relationships_w.loc[mask, ['scenario.task_B', 'scenario.task_A']].values\n",
    "pairwise_relationships_w.loc[mask, 'answer.ordering'] = task_relationships_question_options_w['A first']\n",
    "pairwise_relationships_w = pairwise_relationships_w[pairwise_relationships_w['answer.ordering'] == task_relationships_question_options_w['A first']]\n",
    "pairwise_relationships_w = pairwise_relationships_w[['scenario.task_A', 'scenario.task_B', 'comment.ordering_comment']]\n",
    "\n",
    "# Change column names\n",
    "pairwise_relationships_w = pairwise_relationships_w.rename(columns={'scenario.task_A': 'source', \n",
    "                                                                    'scenario.task_B': 'target', \n",
    "                                                                    'comment.ordering_comment': 'comment'})\n",
    "\n",
    "# Save output\n",
    "pairwise_relationships_w.to_csv(output_filename_w, index=False)"
   ]
  }
 ],
 "metadata": {
  "kernelspec": {
   "display_name": "base",
   "language": "python",
   "name": "python3"
  },
  "language_info": {
   "codemirror_mode": {
    "name": "ipython",
    "version": 3
   },
   "file_extension": ".py",
   "mimetype": "text/x-python",
   "name": "python",
   "nbconvert_exporter": "python",
   "pygments_lexer": "ipython3",
   "version": "3.12.2"
  }
 },
 "nbformat": 4,
 "nbformat_minor": 2
}
