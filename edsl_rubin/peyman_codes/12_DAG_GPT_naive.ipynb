{
 "cells": [
  {
   "cell_type": "markdown",
   "metadata": {},
   "source": [
    "# Load libraries and functions"
   ]
  },
  {
   "cell_type": "markdown",
   "metadata": {},
   "source": []
  },
  {
   "cell_type": "code",
   "execution_count": 248,
   "metadata": {},
   "outputs": [],
   "source": [
    "with open('libraries.py') as f:\n",
    "    code = f.read()\n",
    "exec(code)\n",
    "\n",
    "with open('functions.py') as f:\n",
    "    code = f.read()\n",
    "exec(code)"
   ]
  },
  {
   "cell_type": "code",
   "execution_count": 249,
   "metadata": {},
   "outputs": [],
   "source": [
    "# determine user\n",
    "user = getpass.getuser()\n",
    "if user == 'peymansh':\n",
    "    main_folder_path = '/Users/peymansh/Dropbox (MIT)/Research/AI and Occupations/ai-exposure'\n",
    "    data_path = f'{main_folder_path}/output'"
   ]
  },
  {
   "cell_type": "markdown",
   "metadata": {},
   "source": [
    "## Main Code"
   ]
  },
  {
   "cell_type": "code",
   "execution_count": 250,
   "metadata": {},
   "outputs": [],
   "source": [
    "# Pick occupation and initialize variables\n",
    "occupation = 'travelAgents'\n",
    "occupation = 'insuranceUnderwriters'\n",
    "occupation = 'pileDriverOperators'\n",
    "occupation = 'dredgeOperators'\n",
    "occupation = 'gradersAndSorters'\n",
    "occupation = 'reinforcingIron'\n",
    "occupation = 'insuranceAppraisers'\n",
    "occupation = 'floorSanders'\n",
    "occupation = 'dataEntryKeyer'\n",
    "occupation = 'athletesAndSportsCompetitors'\n",
    "# # occupation = 'shampooers'\n",
    "\n",
    "GPT_input_occupation, plot_title_occupation, occupation_code, occupation_folder = pick_occupation(occupation)"
   ]
  },
  {
   "cell_type": "code",
   "execution_count": 251,
   "metadata": {},
   "outputs": [
    {
     "data": {
      "text/plain": [
       "['Attend scheduled practice or training sessions.',\n",
       " 'Participate in athletic events or competitive sports, according to established rules and regulations.',\n",
       " 'Exercise or practice under the direction of athletic trainers or professional coaches to develop skills, improve physical condition, or prepare for competitions.',\n",
       " 'Maintain equipment used in a particular sport.',\n",
       " 'Maintain optimum physical fitness levels by training regularly, following nutrition plans, or consulting with health professionals.',\n",
       " 'Assess performance following athletic competition, identifying strengths and weaknesses and making adjustments to improve future performance.',\n",
       " 'Represent teams or professional sports clubs, performing such activities as meeting with members of the media, making speeches, or participating in charity events.',\n",
       " 'Lead teams by serving as captain.',\n",
       " 'Receive instructions from coaches or other sports staff prior to events and discuss performance afterwards.']"
      ]
     },
     "execution_count": 251,
     "metadata": {},
     "output_type": "execute_result"
    }
   ],
   "source": [
    "# Load the data\n",
    "onet = pd.read_csv(f'{data_path}/data/onet_occupations_yearly.csv')\n",
    "onet = onet.sort_values(by=['year', 'occ_code', 'occ_title', 'task_id'])\n",
    "onet = onet[onet['year'] == 2023].reset_index(drop=True)\n",
    "\n",
    "# Get list of tasks\n",
    "my_df = onet[(onet.occ_code == f'{occupation_code}') & (onet.year == 2023)]\n",
    "tasks = my_df['task'].unique().tolist()\n",
    "tasks"
   ]
  },
  {
   "cell_type": "markdown",
   "metadata": {},
   "source": [
    "<br>\n",
    "\n",
    "<br>\n",
    "\n",
    "# 2) GPT Naive DAG"
   ]
  },
  {
   "cell_type": "code",
   "execution_count": 252,
   "metadata": {},
   "outputs": [],
   "source": [
    "version = 'v0/'\n",
    "version = 'v1/'\n",
    "version = ''"
   ]
  },
  {
   "cell_type": "code",
   "execution_count": 253,
   "metadata": {},
   "outputs": [],
   "source": [
    "# Set output names\n",
    "output_filename_wo = f'{occupation_folder}/{version}{occupation}_oneStepGPT_DAG_df.csv'\n",
    "output_filename_w = f'{occupation_folder}/{version}{occupation}_twoStepGPT_DAG_df.csv'"
   ]
  },
  {
   "cell_type": "markdown",
   "metadata": {},
   "source": [
    "### Set up the questions for GPT"
   ]
  },
  {
   "cell_type": "code",
   "execution_count": 254,
   "metadata": {},
   "outputs": [],
   "source": [
    "if version == 'v0/':\n",
    "    task_relationships_question_options_wo = {'A first': \"A would be done first\",\n",
    "                                            'B first': \"B would be done first\",\n",
    "                                            'neither': \"These are not part of the same task sequence\"\n",
    "                                            }\n",
    "\n",
    "    task_relationships_question_options_w = {'A first': \"A would be done first\",\n",
    "                                            'B first': \"B would be done first\",\n",
    "                                            'either': \"Could be done in either order, but still part of the same sequence\",\n",
    "                                            'neither': \"These are not part of the same task sequence\"\n",
    "                                            }\n",
    "\n",
    "    symmetric_edges_question_options = {'A first': \"A would be done first\",\n",
    "                                        'B first': \"B would be done first\",\n",
    "                                        }\n",
    "\n",
    "    task_relationships_question_text = dedent(\"\"\"\\\n",
    "                                            Consider {{ occupation }} as an occupation. \n",
    "                                            And consider these two tasks: \n",
    "                                            A) {{ task_A }} \n",
    "                                            B) {{ task_B }}\n",
    "                                            What is the relationship between these tasks?\n",
    "                                            Avoid using words like \"task A\" and \"task B\" in the answer.\n",
    "                                            Explain the reasoning behind your answer in a couple of sentences.\n",
    "                                            \"\"\")\n",
    "\n",
    "    symmetric_edges_question_text = dedent(\"\"\"\\\n",
    "                                        Consider {{ occupation }} as an occupation. \n",
    "                                        And consider these two tasks: \n",
    "                                        A) {{ task_A }} \n",
    "                                        B) {{ task_B }}\n",
    "                                        What is the relationship between these tasks?\n",
    "                                        Avoid using words like \"task A\" and \"task B\" in the answer.\n",
    "                                        Explain the reasoning behind your answer in a couple of sentences.\n",
    "                                        \"\"\")"
   ]
  },
  {
   "cell_type": "code",
   "execution_count": 255,
   "metadata": {},
   "outputs": [],
   "source": [
    "if version == 'v1/':\n",
    "  task_relationships_question_options_wo = {'A first': \"Worker working on task B needs to know the output of worker working on task A\",\n",
    "                                            'B first': \"Worker working on task A needs to know the output of worker working on task B\",\n",
    "                                            'neither': \"Neither worker needs to know the output of the other worker\"\n",
    "                                            }\n",
    "\n",
    "  task_relationships_question_options_w = {'A first': \"Worker working on task B needs to know the output of worker working on task A\",\n",
    "                                            'B first': \"Worker working on task A needs to know the output of worker working on task B\",\n",
    "                                            'either': \"Either worker can start first, but the output of one worker is needed by the other worker\",\n",
    "                                            'neither': \"Neither worker needs to know the output of the other worker\"\n",
    "                                          }\n",
    "\n",
    "  symmetric_edges_question_options = {'A first': \"Worker working on task B needs to know the output of worker working on task A\",\n",
    "                                      'B first': \"Worker working on task A needs to know the output of worker working on task B\",\n",
    "                                      }\n",
    "\n",
    "  task_relationships_question_text = dedent(\"\"\"\\\n",
    "                                          Consider {{ occupation }} as an occupation. \n",
    "                                          And consider these two tasks: \n",
    "                                          A) {{ task_A }} \n",
    "                                          B) {{ task_B }}\n",
    "                                          Imagine there are two workers, one working on task A and the other on task B.\n",
    "                                          Does the worker working on task B need to know the output of the worker working on task A before getting started? What about the opposite?\n",
    "                                          Avoid using words like \"task A\" and \"task B\" in the answer.\n",
    "                                          Explain the reasoning behind your answer in a couple of sentences.\n",
    "                                          \"\"\")\n",
    "\n",
    "  symmetric_edges_question_text = dedent(\"\"\"\\\n",
    "                                        Consider {{ occupation }} as an occupation. \n",
    "                                        And consider these two tasks: \n",
    "                                        A) {{ task_A }} \n",
    "                                        B) {{ task_B }}\n",
    "                                        Imagine there are two workers, one working on task A and the other on task B.\n",
    "                                        Does the worker working on task B need to know the output of the worker working on task A before getting started? What about the opposite?\n",
    "                                        Avoid using words like \"task A\" and \"task B\" in the answer.\n",
    "                                        Explain the reasoning behind your answer in a couple of sentences.\n",
    "                                        \"\"\")"
   ]
  },
  {
   "cell_type": "code",
   "execution_count": 256,
   "metadata": {},
   "outputs": [],
   "source": [
    "if (version != 'v1/') & (version != 'v0/'): # same as 'v1/'\n",
    "  task_relationships_question_options_wo = {'A first': \"Worker working on task B needs to know the output of worker working on task A\",\n",
    "                                            'B first': \"Worker working on task A needs to know the output of worker working on task B\",\n",
    "                                            'neither': \"Neither worker needs to know the output of the other worker\"\n",
    "                                            }\n",
    "\n",
    "  task_relationships_question_options_w = {'A first': \"Worker working on task B needs to know the output of worker working on task A\",\n",
    "                                            'B first': \"Worker working on task A needs to know the output of worker working on task B\",\n",
    "                                            'either': \"Either worker can start first, but the output of one worker is needed by the other worker\",\n",
    "                                            'neither': \"Neither worker needs to know the output of the other worker\"\n",
    "                                          }\n",
    "\n",
    "  symmetric_edges_question_options = {'A first': \"Worker working on task B needs to know the output of worker working on task A\",\n",
    "                                      'B first': \"Worker working on task A needs to know the output of worker working on task B\",\n",
    "                                      }\n",
    "\n",
    "  task_relationships_question_text = dedent(\"\"\"\\\n",
    "                                          Consider {{ occupation }} as an occupation. \n",
    "                                          And consider these two tasks: \n",
    "                                          A) {{ task_A }} \n",
    "                                          B) {{ task_B }}\n",
    "                                          Imagine there are two workers, one working on task A and the other on task B.\n",
    "                                          Does the worker working on task B need to know the output of the worker working on task A before getting started? What about the opposite?\n",
    "                                          Avoid using words like \"task A\" and \"task B\" in the answer.\n",
    "                                          Explain the reasoning behind your answer in a couple of sentences.\n",
    "                                          \"\"\")\n",
    "\n",
    "  symmetric_edges_question_text = dedent(\"\"\"\\\n",
    "                                        Consider {{ occupation }} as an occupation. \n",
    "                                        And consider these two tasks: \n",
    "                                        A) {{ task_A }} \n",
    "                                        B) {{ task_B }}\n",
    "                                        Imagine there are two workers, one working on task A and the other on task B.\n",
    "                                        Does the worker working on task B need to know the output of the worker working on task A before getting started? What about the opposite?\n",
    "                                        Avoid using words like \"task A\" and \"task B\" in the answer.\n",
    "                                        Explain the reasoning behind your answer in a couple of sentences.\n",
    "                                        \"\"\")"
   ]
  },
  {
   "cell_type": "code",
   "execution_count": 257,
   "metadata": {},
   "outputs": [],
   "source": [
    "task_relationships_question_options_wo_list = list(task_relationships_question_options_wo.values())\n",
    "task_relationships_question_options_w_list = list(task_relationships_question_options_w.values())\n",
    "symmetric_edges_question_options_list = list(symmetric_edges_question_options.values())"
   ]
  },
  {
   "cell_type": "markdown",
   "metadata": {},
   "source": [
    "### 2.1) One Step Method: Directly ask for pairwise comparison w/o giving the \"either\" option"
   ]
  },
  {
   "cell_type": "code",
   "execution_count": 258,
   "metadata": {},
   "outputs": [
    {
     "data": {
      "application/vnd.jupyter.widget-view+json": {
       "model_id": "c7fed39686bd48e085a0b93b1aa5ee91",
       "version_major": 2,
       "version_minor": 0
      },
      "text/plain": [
       "Output()"
      ]
     },
     "metadata": {},
     "output_type": "display_data"
    },
    {
     "data": {
      "text/html": [
       "<pre style=\"white-space:pre;overflow-x:auto;line-height:normal;font-family:Menlo,'DejaVu Sans Mono',consolas,'Courier New',monospace\"></pre>\n"
      ],
      "text/plain": []
     },
     "metadata": {},
     "output_type": "display_data"
    }
   ],
   "source": [
    "# Compare pair of tasks\n",
    "def task_relationships(occupation, tasks, question_text, question_options):\n",
    "    if '\"Sink\"' in tasks:\n",
    "        tasks.remove('\"Sink\"')\n",
    "\n",
    "    scenarios = [Scenario({\"occupation\": occupation, \"task_A\": task_A, \"task_B\": task_B}) \n",
    "        for task_A, task_B in combinations(tasks, 2)]\n",
    "\n",
    "    q = QuestionMultipleChoice(\n",
    "        question_name = \"ordering\",\n",
    "        question_text = question_text,\n",
    "        question_options = question_options\n",
    "    )\n",
    "    results = q.by(m4).by(scenarios).run(progress_bar = True)\n",
    "    return results\n",
    "\n",
    "results = task_relationships(GPT_input_occupation, tasks, task_relationships_question_text, task_relationships_question_options_wo_list)\n",
    "#results.select(\"task_A\", \"task_B\", \"ordering\", \"comment.ordering_comment\").print()\n",
    "pairwise_relationships_wo_raw = results.select(\"task_A\", \"task_B\", \"ordering\", \"comment.ordering_comment\").to_pandas()"
   ]
  },
  {
   "cell_type": "code",
   "execution_count": 259,
   "metadata": {},
   "outputs": [],
   "source": [
    "# Swap columns and subset only those that are part of the same task sequence \n",
    "pairwise_relationships_wo = pairwise_relationships_wo_raw.copy()\n",
    "mask = pairwise_relationships_wo['answer.ordering'] == task_relationships_question_options_wo['B first']\n",
    "pairwise_relationships_wo.loc[mask, ['scenario.task_A', 'scenario.task_B']] = pairwise_relationships_wo.loc[mask, ['scenario.task_B', 'scenario.task_A']].values\n",
    "pairwise_relationships_wo.loc[mask, 'answer.ordering'] = task_relationships_question_options_wo['A first']\n",
    "pairwise_relationships_wo = pairwise_relationships_wo[pairwise_relationships_wo['answer.ordering'] == task_relationships_question_options_wo['A first']]\n",
    "pairwise_relationships_wo = pairwise_relationships_wo[['scenario.task_A', 'scenario.task_B', 'comment.ordering_comment']]\n",
    "\n",
    "# Change column names\n",
    "pairwise_relationships_wo = pairwise_relationships_wo.rename(columns={'scenario.task_A': 'source', \n",
    "                                                                      'scenario.task_B': 'target', \n",
    "                                                                      'comment.ordering_comment': 'comment'})\n",
    "\n",
    "# Save output\n",
    "pairwise_relationships_wo.to_csv(output_filename_wo, index=False)"
   ]
  },
  {
   "cell_type": "markdown",
   "metadata": {},
   "source": [
    "### 2.2) Two Steps Method: Give option of \"either\" and then filter symmetric edges\n",
    "### Step 1:"
   ]
  },
  {
   "cell_type": "code",
   "execution_count": 260,
   "metadata": {},
   "outputs": [
    {
     "data": {
      "application/vnd.jupyter.widget-view+json": {
       "model_id": "4abdc62975754ca194a30fdc12ff382b",
       "version_major": 2,
       "version_minor": 0
      },
      "text/plain": [
       "Output()"
      ]
     },
     "metadata": {},
     "output_type": "display_data"
    },
    {
     "data": {
      "text/html": [
       "<pre style=\"white-space:pre;overflow-x:auto;line-height:normal;font-family:Menlo,'DejaVu Sans Mono',consolas,'Courier New',monospace\"></pre>\n"
      ],
      "text/plain": []
     },
     "metadata": {},
     "output_type": "display_data"
    }
   ],
   "source": [
    "# Compare pair of tasks\n",
    "def task_relationships(occupation, tasks, question_text, question_options):\n",
    "    if '\"Sink\"' in tasks:\n",
    "        tasks.remove('\"Sink\"')\n",
    "\n",
    "    scenarios = [Scenario({\"occupation\": occupation, \"task_A\": task_A, \"task_B\": task_B}) \n",
    "        for task_A, task_B in combinations(tasks, 2)]\n",
    "\n",
    "    q = QuestionMultipleChoice(\n",
    "        question_name = \"ordering\",\n",
    "        question_text = question_text,\n",
    "        question_options = question_options\n",
    "    )\n",
    "    results = q.by(m4).by(scenarios).run(progress_bar = True)\n",
    "    return results\n",
    "\n",
    "results = task_relationships(GPT_input_occupation, tasks, task_relationships_question_text, task_relationships_question_options_w_list)\n",
    "#results.select(\"task_A\", \"task_B\", \"ordering\", \"comment.ordering_comment\").print()\n",
    "pairwise_relationships_w_raw = results.select(\"task_A\", \"task_B\", \"ordering\", \"comment.ordering_comment\").to_pandas()"
   ]
  },
  {
   "cell_type": "markdown",
   "metadata": {},
   "source": [
    "### Step 2:"
   ]
  },
  {
   "cell_type": "code",
   "execution_count": 261,
   "metadata": {},
   "outputs": [
    {
     "data": {
      "application/vnd.jupyter.widget-view+json": {
       "model_id": "f5d497c565c24c48b503898a557085d2",
       "version_major": 2,
       "version_minor": 0
      },
      "text/plain": [
       "Output()"
      ]
     },
     "metadata": {},
     "output_type": "display_data"
    },
    {
     "data": {
      "text/html": [
       "<pre style=\"white-space:pre;overflow-x:auto;line-height:normal;font-family:Menlo,'DejaVu Sans Mono',consolas,'Courier New',monospace\"></pre>\n"
      ],
      "text/plain": []
     },
     "metadata": {},
     "output_type": "display_data"
    }
   ],
   "source": [
    "# subset symmetric edges\n",
    "both_edges = pairwise_relationships_w_raw[pairwise_relationships_w_raw['answer.ordering'] == task_relationships_question_options_w['either']]\n",
    "if len(both_edges) > 0:\n",
    "    task_A_list = both_edges['scenario.task_A'].tolist()\n",
    "    task_B_list = both_edges['scenario.task_B'].tolist()\n",
    "\n",
    "\n",
    "    # Decide which one of symmetric edges to keep\n",
    "    def pick_oneOf_symmetricEdges(occupation, task_A_list, task_B_list, question_text, question_options):\n",
    "        scenarios = [Scenario({\"occupation\": occupation, \"task_A\": task_A, \"task_B\": task_B}) \n",
    "            for task_A, task_B in zip(task_A_list, task_B_list)]\n",
    "\n",
    "        q = QuestionMultipleChoice(\n",
    "            question_name = \"ordering\",\n",
    "            question_text = question_text,\n",
    "            question_options = question_options\n",
    "        )\n",
    "        results = q.by(m4).by(scenarios).run(progress_bar = True)\n",
    "        return results\n",
    "\n",
    "    results = pick_oneOf_symmetricEdges(GPT_input_occupation, task_A_list, task_B_list, task_relationships_question_text, symmetric_edges_question_options_list)\n",
    "    #results.select(\"task_A\", \"task_B\", \"ordering\", \"comment.ordering_comment\").print()\n",
    "    which_symmetric_edge = results.select(\"task_A\", \"task_B\", \"ordering\", \"comment.ordering_comment\").to_pandas()"
   ]
  },
  {
   "cell_type": "code",
   "execution_count": 262,
   "metadata": {},
   "outputs": [],
   "source": [
    "if len(both_edges) > 0:\n",
    "    # Merge datasets\n",
    "    pairwise_relationships_w = pairwise_relationships_w_raw[pairwise_relationships_w_raw['answer.ordering'].isin(symmetric_edges_question_options_list)]\n",
    "    pairwise_relationships_w = pd.concat([pairwise_relationships_w, which_symmetric_edge], ignore_index=True)\n",
    "else:\n",
    "    pairwise_relationships_w = pairwise_relationships_w_raw[pairwise_relationships_w_raw['answer.ordering'].isin(symmetric_edges_question_options_list)]\n",
    "\n",
    "# Swap columns\n",
    "mask = pairwise_relationships_w['answer.ordering'] == task_relationships_question_options_w['B first']\n",
    "pairwise_relationships_w.loc[mask, ['scenario.task_A', 'scenario.task_B']] = pairwise_relationships_w.loc[mask, ['scenario.task_B', 'scenario.task_A']].values\n",
    "pairwise_relationships_w.loc[mask, 'answer.ordering'] = task_relationships_question_options_w['A first']\n",
    "pairwise_relationships_w = pairwise_relationships_w[pairwise_relationships_w['answer.ordering'] == task_relationships_question_options_w['A first']]\n",
    "pairwise_relationships_w = pairwise_relationships_w[['scenario.task_A', 'scenario.task_B', 'comment.ordering_comment']]\n",
    "\n",
    "# Change column names\n",
    "pairwise_relationships_w = pairwise_relationships_w.rename(columns={'scenario.task_A': 'source', \n",
    "                                                                    'scenario.task_B': 'target', \n",
    "                                                                    'comment.ordering_comment': 'comment'})\n",
    "\n",
    "# Save output\n",
    "pairwise_relationships_w.to_csv(output_filename_w, index=False)"
   ]
  }
 ],
 "metadata": {
  "kernelspec": {
   "display_name": "base",
   "language": "python",
   "name": "python3"
  },
  "language_info": {
   "codemirror_mode": {
    "name": "ipython",
    "version": 3
   },
   "file_extension": ".py",
   "mimetype": "text/x-python",
   "name": "python",
   "nbconvert_exporter": "python",
   "pygments_lexer": "ipython3",
   "version": "3.12.2"
  }
 },
 "nbformat": 4,
 "nbformat_minor": 2
}
