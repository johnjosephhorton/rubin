{
 "cells": [
  {
   "cell_type": "markdown",
   "metadata": {},
   "source": [
    "# Load libraries and functions"
   ]
  },
  {
   "cell_type": "markdown",
   "metadata": {},
   "source": []
  },
  {
   "cell_type": "code",
   "execution_count": 263,
   "metadata": {},
   "outputs": [],
   "source": [
    "with open('libraries.py') as f:\n",
    "    code = f.read()\n",
    "exec(code)\n",
    "\n",
    "with open('functions.py') as f:\n",
    "    code = f.read()\n",
    "exec(code)"
   ]
  },
  {
   "cell_type": "code",
   "execution_count": 264,
   "metadata": {},
   "outputs": [],
   "source": [
    "# determine user\n",
    "user = getpass.getuser()\n",
    "if user == 'peymansh':\n",
    "    main_folder_path = '/Users/peymansh/Dropbox (MIT)/Research/AI and Occupations/ai-exposure'\n",
    "    data_path = f'{main_folder_path}/output'"
   ]
  },
  {
   "cell_type": "markdown",
   "metadata": {},
   "source": [
    "## Main Code"
   ]
  },
  {
   "cell_type": "code",
   "execution_count": 265,
   "metadata": {},
   "outputs": [],
   "source": [
    "# Pick occupation and initialize variables\n",
    "occupation = 'travelAgents'\n",
    "occupation = 'insuranceUnderwriters'\n",
    "occupation = 'pileDriverOperators'\n",
    "occupation = 'dredgeOperators'\n",
    "occupation = 'gradersAndSorters'\n",
    "occupation = 'reinforcingIron'\n",
    "occupation = 'insuranceAppraisers'\n",
    "occupation = 'floorSanders'\n",
    "occupation = 'dataEntryKeyer'\n",
    "#occupation = 'athletesAndSportsCompetitors'\n",
    "# # occupation = 'shampooers'\n",
    "\n",
    "GPT_input_occupation, plot_title_occupation, occupation_code, occupation_folder = pick_occupation(occupation)"
   ]
  },
  {
   "cell_type": "code",
   "execution_count": 266,
   "metadata": {},
   "outputs": [
    {
     "data": {
      "text/plain": [
       "['Read source documents such as canceled checks, sales reports, or bills, and enter data in specific data fields or onto tapes or disks for subsequent entry, using keyboards or scanners.',\n",
       " 'Compile, sort, and verify the accuracy of data before it is entered.',\n",
       " 'Compare data with source documents, or re-enter data in verification format to detect errors.',\n",
       " 'Store completed documents in appropriate locations.',\n",
       " 'Locate and correct data entry errors, or report them to supervisors.',\n",
       " 'Maintain logs of activities and completed work.',\n",
       " 'Select materials needed to complete work assignments.',\n",
       " 'Load machines with required input or output media, such as paper, cards, disks, tape, or Braille media.',\n",
       " 'Resolve garbled or indecipherable messages, using cryptographic procedures and equipment.']"
      ]
     },
     "execution_count": 266,
     "metadata": {},
     "output_type": "execute_result"
    }
   ],
   "source": [
    "# Load the data\n",
    "onet = pd.read_csv(f'{data_path}/data/onet_occupations_yearly.csv')\n",
    "onet = onet.sort_values(by=['year', 'occ_code', 'occ_title', 'task_id'])\n",
    "onet = onet[onet['year'] == 2023].reset_index(drop=True)\n",
    "\n",
    "# Get list of tasks\n",
    "my_df = onet[(onet.occ_code == f'{occupation_code}') & (onet.year == 2023)]\n",
    "tasks = my_df['task'].unique().tolist()\n",
    "tasks"
   ]
  },
  {
   "cell_type": "markdown",
   "metadata": {},
   "source": [
    "<br>\n",
    "\n",
    "<br>\n",
    "\n",
    "# 4) GPT Task Partitioning Method"
   ]
  },
  {
   "cell_type": "code",
   "execution_count": 267,
   "metadata": {},
   "outputs": [],
   "source": [
    "version = 'v0/'\n",
    "version = 'v1/'\n",
    "version = ''"
   ]
  },
  {
   "cell_type": "code",
   "execution_count": 268,
   "metadata": {},
   "outputs": [],
   "source": [
    "# Set up output file names\n",
    "partitions_output_filename = f'{occupation_folder}/{version}{occupation}_partitions.csv'\n",
    "partitioned_DAG_output_filename = f'{occupation_folder}/{version}{occupation}_partitionedGPT_DAG_df.csv'"
   ]
  },
  {
   "cell_type": "markdown",
   "metadata": {},
   "source": [
    "### Set up questions"
   ]
  },
  {
   "cell_type": "code",
   "execution_count": 269,
   "metadata": {},
   "outputs": [],
   "source": [
    "if version == 'v0/':\n",
    "    partitions_relationship_question_text = dedent(\"\"\"\\\n",
    "                                                Consider {{ occupation }} as an occupation. \n",
    "                                                And consider these two partitions of tasks: \n",
    "                                                A) {{ partition_A }} \n",
    "                                                B) {{ partition_B }}\n",
    "                                                What is the relationship between these groups of tasks?\n",
    "                                                Avoid using words like \"partition A\" and \"partition B\" in the answer.\n",
    "                                                Explain the reasoning behind your answer in a couple of sentences.\n",
    "                                                \"\"\")\n",
    "    partitions_relationship_question_options = {'A first': \"Tasks of partition A would be done first\",\n",
    "                                                'B first': \"Tasks of partition B would be done first\",\n",
    "                                                'either': \"Could be done in either order, but still part of the same sequence\",\n",
    "                                                'neither': \"Not part of the same task sequence\"\n",
    "                                                }\n",
    "\n",
    "    within_partition_task_relationships_question_text = dedent(\"\"\"\\\n",
    "                                                            Consider {{ occupation }} as an occupation. \n",
    "                                                            And consider these two tasks: \n",
    "                                                            A) {{ task_A }} \n",
    "                                                            B) {{ task_B }}\n",
    "                                                            What is the relationship between these tasks?\n",
    "                                                            Avoid using words like \"task A\" and \"task B\" in the answer.\n",
    "                                                            Explain the reasoning behind your answer in a couple of sentences.\n",
    "                                                            \"\"\")\n",
    "    withinPartition_relationship_question_options = {'A first': \"A would be done first\",\n",
    "                                                     'B first': \"B would be done first\",\n",
    "                                                     'neither': \"Not part of the same task sequence\"\n",
    "                                                    }\n",
    "\n",
    "    between_partition_task_relationships_question_text = dedent(\"\"\"\\\n",
    "                                                            Consider {{ occupation }} as an occupation. \n",
    "                                                            And consider these two partitions of tasks; partition 1: {{ tasks_partition1 }} and partition 2: {{ tasks_partition2 }}.\n",
    "                                                            We know that tasks in partition 1 would be done before tasks in partition 2.\n",
    "                                                            Now consider these two tasks:\n",
    "                                                            A) {{ task_A }} \n",
    "                                                            B) {{ task_B }}\n",
    "                                                            Knowing that task A is from partition 1 and task B is from partition 2, what is the relationship between these tasks?\n",
    "                                                            Avoid using words like \"task A\" and \"task B\" in the answer.\n",
    "                                                            Explain the reasoning behind your answer in a couple of sentences.\n",
    "                                                            \"\"\")\n",
    "    betweenPartition_relationship_question_options = {'A first': \"A must be done in order to do B\",\n",
    "                                                      'B first': \"A is not required for doing B\",\n",
    "                                                      }"
   ]
  },
  {
   "cell_type": "code",
   "execution_count": 270,
   "metadata": {},
   "outputs": [],
   "source": [
    "if version == 'v1/':\n",
    "    partitions_relationship_question_text = dedent(\"\"\"\\\n",
    "                                                Consider {{ occupation }} as an occupation. \n",
    "                                                And consider these two partitions of tasks: \n",
    "                                                A) {{ partition_A }} \n",
    "                                                B) {{ partition_B }}\n",
    "                                                Imagine there are two groups of workers, one group are working on partition A tasks and the other are working on partition B tasks.\n",
    "                                                Do the workers working on partition B tasks need to know the output of the workers working on partition A tasks before getting started?  What about the opposite?\n",
    "                                                Avoid using words like \"partition A\" and \"partition B\" in the answer.\n",
    "                                                Explain the reasoning behind your answer in a couple of sentences.\n",
    "                                                \"\"\")\n",
    "    partitions_relationship_question_options = {'A first': \"Workers working on partition B tasks need to know the output of workers working on partition A tasks\",\n",
    "                                                'B first': \"Workers working on partition A tasks need to know the output of workers working on partition B tasks\",\n",
    "                                                'either': \"Either group of workers can start first, but the output of one group is needed by the other group\",\n",
    "                                                'neither': \"Neither group of workers needs to know the output of the other group of workers\"\n",
    "                                                }\n",
    "    \n",
    "    within_partition_task_relationships_question_text = dedent(\"\"\"\\\n",
    "                                                            Consider {{ occupation }} as an occupation. \n",
    "                                                            And consider these two tasks: \n",
    "                                                            A) {{ task_A }} \n",
    "                                                            B) {{ task_B }}\n",
    "                                                            Imagine there are two workers, one working on task A and the other on task B.\n",
    "                                                            Does the worker working on task B need to know the output of the worker working on task A before getting started? What about the opposite?\n",
    "                                                            Avoid using words like \"task A\" and \"task B\" in the answer.Explain the reasoning behind your answer in a couple of sentences.\n",
    "                                                            \"\"\")\n",
    "    withinPartition_relationship_question_options = {'A first': \"Worker working on task B needs to know the output of worker working on task A\",\n",
    "                                                     'B first': \"Worker working on task A needs to know the output of worker working on task B\",\n",
    "                                                     'neither': \"Neither worker needs to know the output of the other worker\"\n",
    "                                                     }\n",
    "\n",
    "    between_partition_task_relationships_question_text = dedent(\"\"\"\\\n",
    "                                                              Consider {{ occupation }} as an occupation. \n",
    "                                                              And consider these two partitions of tasks; partition 1: {{ tasks_partition1 }} and partition 2: {{ tasks_partition2 }}.\n",
    "                                                              We know that tasks in partition 1 would be done before tasks in partition 2.\n",
    "                                                              Now consider these two tasks:\n",
    "                                                              A) {{ task_A }} \n",
    "                                                              B) {{ task_B }}\n",
    "                                                              Imagine there are two workers, one working on task A and the other on task B.\n",
    "                                                              Does the worker working on task B need to know the output of the worker working on task A before getting started? What about the opposite?\n",
    "                                                              Avoid using words like \"task A\" and \"task B\" in the answer.\n",
    "                                                              Explain the reasoning behind your answer in a couple of sentences.\n",
    "                                                              \"\"\")\n",
    "    betweenPartition_relationship_question_options = {'A first': \"Worker working on task B needs to know the output of worker working on task A\",\n",
    "                                                      'B first': \"Worker working on task A needs to know the output of worker working on task B\",\n",
    "                                                      'neither': \"Neither worker needs to know the output of the other worker\"\n",
    "                                                      }"
   ]
  },
  {
   "cell_type": "code",
   "execution_count": 271,
   "metadata": {},
   "outputs": [],
   "source": [
    "if (version != 'v1/') & (version != 'v0/'): # same as 'v1/'\n",
    "    partitions_relationship_question_text = dedent(\"\"\"\\\n",
    "                                                Consider {{ occupation }} as an occupation. \n",
    "                                                And consider these two partitions of tasks: \n",
    "                                                A) {{ partition_A }} \n",
    "                                                B) {{ partition_B }}\n",
    "                                                Imagine there are two groups of workers, one group are working on partition A tasks and the other are working on partition B tasks.\n",
    "                                                Do the workers working on partition B tasks need to know the output of the workers working on partition A tasks before getting started?  What about the opposite?\n",
    "                                                Avoid using words like \"partition A\" and \"partition B\" in the answer.\n",
    "                                                Explain the reasoning behind your answer in a couple of sentences.\n",
    "                                                \"\"\")\n",
    "    partitions_relationship_question_options = {'A first': \"Workers working on partition B tasks need to know the output of workers working on partition A tasks\",\n",
    "                                                'B first': \"Workers working on partition A tasks need to know the output of workers working on partition B tasks\",\n",
    "                                                'either': \"Either group of workers can start first, but the output of one group is needed by the other group\",\n",
    "                                                'neither': \"Neither group of workers needs to know the output of the other group of workers\"\n",
    "                                                }\n",
    "    \n",
    "    within_partition_task_relationships_question_text = dedent(\"\"\"\\\n",
    "                                                            Consider {{ occupation }} as an occupation. \n",
    "                                                            And consider these two tasks: \n",
    "                                                            A) {{ task_A }} \n",
    "                                                            B) {{ task_B }}\n",
    "                                                            Imagine there are two workers, one working on task A and the other on task B.\n",
    "                                                            Does the worker working on task B need to know the output of the worker working on task A before getting started? What about the opposite?\n",
    "                                                            Avoid using words like \"task A\" and \"task B\" in the answer.Explain the reasoning behind your answer in a couple of sentences.\n",
    "                                                            \"\"\")\n",
    "    withinPartition_relationship_question_options = {'A first': \"Worker working on task B needs to know the output of worker working on task A\",\n",
    "                                                     'B first': \"Worker working on task A needs to know the output of worker working on task B\",\n",
    "                                                     'neither': \"Neither worker needs to know the output of the other worker\"\n",
    "                                                     }\n",
    "\n",
    "    between_partition_task_relationships_question_text = dedent(\"\"\"\\\n",
    "                                                              Consider {{ occupation }} as an occupation. \n",
    "                                                              And consider these two partitions of tasks; partition 1: {{ tasks_partition1 }} and partition 2: {{ tasks_partition2 }}.\n",
    "                                                              We know that tasks in partition 1 would be done before tasks in partition 2.\n",
    "                                                              Now consider these two tasks:\n",
    "                                                              A) {{ task_A }} \n",
    "                                                              B) {{ task_B }}\n",
    "                                                              Imagine there are two workers, one working on task A and the other on task B.\n",
    "                                                              Does the worker working on task B need to know the output of the worker working on task A before getting started? What about the opposite?\n",
    "                                                              Avoid using words like \"task A\" and \"task B\" in the answer.\n",
    "                                                              Explain the reasoning behind your answer in a couple of sentences.\n",
    "                                                              \"\"\")\n",
    "    betweenPartition_relationship_question_options = {'A first': \"Worker working on task B needs to know the output of worker working on task A\",\n",
    "                                                      'B first': \"Worker working on task A needs to know the output of worker working on task B\",\n",
    "                                                      'neither': \"Neither worker needs to know the output of the other worker\"\n",
    "                                                      }"
   ]
  },
  {
   "cell_type": "code",
   "execution_count": 272,
   "metadata": {},
   "outputs": [],
   "source": [
    "partitions_relationship_question_options_list = list(partitions_relationship_question_options.values())\n",
    "withinPartition_relationship_question_options_list = list(withinPartition_relationship_question_options.values())\n",
    "betweenPartition_relationship_question_options_list = list(betweenPartition_relationship_question_options.values())"
   ]
  },
  {
   "cell_type": "code",
   "execution_count": 273,
   "metadata": {},
   "outputs": [],
   "source": [
    "def partition_relationships(occupation, partitions_dict, question_text, question_options):\n",
    "    scenarios = [Scenario({\"occupation\": occupation, \"partition_A\": A, \"partition_B\": B}) \n",
    "        for A, B in itertools.combinations(partitions_dict.values(), 2)]\n",
    "\n",
    "    q = QuestionMultipleChoice(\n",
    "        question_name = \"ordering\",\n",
    "        question_text = question_text,\n",
    "        question_options = question_options\n",
    "    )\n",
    "    results = q.by(m4).by(scenarios).run(progress_bar = True)\n",
    "    return results\n",
    "\n",
    "\n",
    "\n",
    "def task_relationships_within_partition(occupation, tasks, question_text, question_options):\n",
    "    if '\"Sink\"' in tasks:\n",
    "        tasks.remove('\"Sink\"')\n",
    "\n",
    "    scenarios = [Scenario({\"occupation\": occupation, \"task_A\": task_A, \"task_B\": task_B}) \n",
    "        for task_A, task_B in combinations(tasks, 2)]\n",
    "\n",
    "    q = QuestionMultipleChoice(\n",
    "        question_name = \"ordering\",\n",
    "        question_text = question_text,\n",
    "        question_options = question_options\n",
    "    )\n",
    "    results = q.by(m4).by(scenarios).run(progress_bar = True)\n",
    "    return results\n",
    "\n",
    "\n",
    "\n",
    "def task_relationships_between_partitions(occupation, tasks_partition1, tasks_partition2, question_text, question_options):\n",
    "    if '\"Sink\"' in tasks_partition1:\n",
    "        tasks_partition1.remove('\"Sink\"')\n",
    "    if '\"Sink\"' in tasks_partition2:\n",
    "        tasks_partition2.remove('\"Sink\"')\n",
    "    \n",
    "\n",
    "    scenarios = [Scenario({\"occupation\": occupation, \n",
    "                           \"tasks_partition1\": tasks_partition1, \"tasks_partition2\": tasks_partition2,\n",
    "                           \"task_A\": task_A, \"task_B\": task_B}) \n",
    "        for task_A, task_B in itertools.product(tasks_partition1, tasks_partition2)]\n",
    "\n",
    "    q = QuestionMultipleChoice(\n",
    "        question_name = \"ordering\",\n",
    "        question_text = question_text,\n",
    "        question_options = question_options\n",
    "    )\n",
    "    results = q.by(m4).by(scenarios).run(progress_bar = True)\n",
    "    return results\n",
    "\n"
   ]
  },
  {
   "cell_type": "markdown",
   "metadata": {},
   "source": [
    "## Break down the DAG into multiple minimally-connected subgraphs"
   ]
  },
  {
   "cell_type": "code",
   "execution_count": 274,
   "metadata": {},
   "outputs": [
    {
     "data": {
      "application/vnd.jupyter.widget-view+json": {
       "model_id": "2a6cf30fe9444a0e8e3950fc6453bac3",
       "version_major": 2,
       "version_minor": 0
      },
      "text/plain": [
       "Output()"
      ]
     },
     "metadata": {},
     "output_type": "display_data"
    },
    {
     "data": {
      "text/html": [
       "<pre style=\"white-space:pre;overflow-x:auto;line-height:normal;font-family:Menlo,'DejaVu Sans Mono',consolas,'Courier New',monospace\"></pre>\n"
      ],
      "text/plain": []
     },
     "metadata": {},
     "output_type": "display_data"
    }
   ],
   "source": [
    "task_partitioning_question_text =  dedent(\"\"\"\\\n",
    "                                          Consider {{ occupation }} as an occupation. \n",
    "                                          And consider these tasks: {{ tasks }}.\n",
    "                                          Can these tasks be partitioned into separate, minimally connected groups of tasks?\n",
    "                                          If so, give the number of groups and list tasks in each group. \n",
    "                                          Avoid using \\n in the answer, and list groups in the following format: Group x: ['task1', 'task2', 'task3'].\n",
    "                                          \"\"\")\n",
    "\n",
    "def partition_tasks(occupation, tasks, question_text):\n",
    "    if '\"Sink\"' in tasks:\n",
    "        tasks.remove('\"Sink\"')\n",
    "\n",
    "    scenarios = [Scenario({\"occupation\": occupation, \"tasks\": tasks})]\n",
    "\n",
    "    q = QuestionFreeText(\n",
    "        question_name = \"partition\",\n",
    "        question_text = question_text\n",
    "    )\n",
    "    results = q.by(m4).by(scenarios).run(progress_bar = True)\n",
    "    return results\n",
    "\n",
    "results = partition_tasks(GPT_input_occupation, tasks, task_partitioning_question_text)\n",
    "#results.print()\n",
    "partition_tasks_output_str = results.select(\"answer.partition\").to_pandas().iloc[0,0]"
   ]
  },
  {
   "cell_type": "markdown",
   "metadata": {},
   "source": [
    "#### Group tasks into smaller partitions"
   ]
  },
  {
   "cell_type": "code",
   "execution_count": 275,
   "metadata": {},
   "outputs": [],
   "source": [
    "# Find all \"Group x\" occurrences in LLM output\n",
    "groups = re.findall(r'Group \\d+', partition_tasks_output_str)\n",
    "\n",
    "# Split the text at each \"Group x\"\n",
    "parts = re.split(r'(Group \\d+:)', partition_tasks_output_str)\n",
    "\n",
    "# Initialize a dictionary to hold the group texts\n",
    "partitions_dict = {}\n",
    "\n",
    "# Iterate through the parts and store the texts in the dictionary\n",
    "for i in range(1, len(parts), 2):\n",
    "    group_name = parts[i].strip(': ')\n",
    "    group_number = int(re.search(r'\\d+', group_name).group())\n",
    "    group_text = parts[i+1].strip().rstrip('.,')\n",
    "    \n",
    "    # Convert the string representation of the list to an actual list\n",
    "    partitions_dict[group_number] = group_text\n",
    "\n",
    "# Save partitions\n",
    "partitions_df = pd.DataFrame.from_dict(partitions_dict, orient='index')\n",
    "partitions_df.to_csv(partitions_output_filename, index=False, header=False) "
   ]
  },
  {
   "cell_type": "markdown",
   "metadata": {},
   "source": [
    "## Determine relation of partitions"
   ]
  },
  {
   "cell_type": "code",
   "execution_count": 276,
   "metadata": {},
   "outputs": [
    {
     "data": {
      "application/vnd.jupyter.widget-view+json": {
       "model_id": "d980b9c270fa4aab87a1967ae4a0c20e",
       "version_major": 2,
       "version_minor": 0
      },
      "text/plain": [
       "Output()"
      ]
     },
     "metadata": {},
     "output_type": "display_data"
    },
    {
     "data": {
      "text/html": [
       "<pre style=\"white-space:pre;overflow-x:auto;line-height:normal;font-family:Menlo,'DejaVu Sans Mono',consolas,'Courier New',monospace\"></pre>\n"
      ],
      "text/plain": []
     },
     "metadata": {},
     "output_type": "display_data"
    }
   ],
   "source": [
    "# Compare pair of partitions\n",
    "results = partition_relationships(GPT_input_occupation, partitions_dict, partitions_relationship_question_text, partitions_relationship_question_options_list)\n",
    "#results.print()\n",
    "partitions_ordering_df = results.select(\"partition_A\", \"partition_B\", \"ordering\", \"ordering_comment\").to_pandas()"
   ]
  },
  {
   "cell_type": "code",
   "execution_count": 277,
   "metadata": {},
   "outputs": [
    {
     "data": {
      "text/html": [
       "<div>\n",
       "<style scoped>\n",
       "    .dataframe tbody tr th:only-of-type {\n",
       "        vertical-align: middle;\n",
       "    }\n",
       "\n",
       "    .dataframe tbody tr th {\n",
       "        vertical-align: top;\n",
       "    }\n",
       "\n",
       "    .dataframe thead th {\n",
       "        text-align: right;\n",
       "    }\n",
       "</style>\n",
       "<table border=\"1\" class=\"dataframe\">\n",
       "  <thead>\n",
       "    <tr style=\"text-align: right;\">\n",
       "      <th></th>\n",
       "      <th>answer.ordering</th>\n",
       "      <th>comment.ordering_comment</th>\n",
       "      <th>scenario.partition_A</th>\n",
       "      <th>scenario.partition_B</th>\n",
       "    </tr>\n",
       "  </thead>\n",
       "  <tbody>\n",
       "    <tr>\n",
       "      <th>0</th>\n",
       "      <td>Workers working on partition B tasks need to k...</td>\n",
       "      <td>Workers who store completed documents and main...</td>\n",
       "      <td>['Read source documents such as canceled check...</td>\n",
       "      <td>['Store completed documents in appropriate loc...</td>\n",
       "    </tr>\n",
       "    <tr>\n",
       "      <th>1</th>\n",
       "      <td>Workers working on partition B tasks need to k...</td>\n",
       "      <td>Workers handling the tasks involving selecting...</td>\n",
       "      <td>['Read source documents such as canceled check...</td>\n",
       "      <td>['Select materials needed to complete work ass...</td>\n",
       "    </tr>\n",
       "    <tr>\n",
       "      <th>2</th>\n",
       "      <td>Neither group of workers needs to know the out...</td>\n",
       "      <td>The tasks in each group are independent of eac...</td>\n",
       "      <td>['Read source documents such as canceled check...</td>\n",
       "      <td>['Resolve garbled or indecipherable messages, ...</td>\n",
       "    </tr>\n",
       "    <tr>\n",
       "      <th>3</th>\n",
       "      <td>Neither group of workers needs to know the out...</td>\n",
       "      <td>Workers storing completed documents and mainta...</td>\n",
       "      <td>['Store completed documents in appropriate loc...</td>\n",
       "      <td>['Select materials needed to complete work ass...</td>\n",
       "    </tr>\n",
       "    <tr>\n",
       "      <th>4</th>\n",
       "      <td>Neither group of workers needs to know the out...</td>\n",
       "      <td>The tasks of storing completed documents and m...</td>\n",
       "      <td>['Store completed documents in appropriate loc...</td>\n",
       "      <td>['Resolve garbled or indecipherable messages, ...</td>\n",
       "    </tr>\n",
       "    <tr>\n",
       "      <th>5</th>\n",
       "      <td>Neither group of workers needs to know the out...</td>\n",
       "      <td>The tasks of selecting materials and loading m...</td>\n",
       "      <td>['Select materials needed to complete work ass...</td>\n",
       "      <td>['Resolve garbled or indecipherable messages, ...</td>\n",
       "    </tr>\n",
       "  </tbody>\n",
       "</table>\n",
       "</div>"
      ],
      "text/plain": [
       "                                     answer.ordering  \\\n",
       "0  Workers working on partition B tasks need to k...   \n",
       "1  Workers working on partition B tasks need to k...   \n",
       "2  Neither group of workers needs to know the out...   \n",
       "3  Neither group of workers needs to know the out...   \n",
       "4  Neither group of workers needs to know the out...   \n",
       "5  Neither group of workers needs to know the out...   \n",
       "\n",
       "                            comment.ordering_comment  \\\n",
       "0  Workers who store completed documents and main...   \n",
       "1  Workers handling the tasks involving selecting...   \n",
       "2  The tasks in each group are independent of eac...   \n",
       "3  Workers storing completed documents and mainta...   \n",
       "4  The tasks of storing completed documents and m...   \n",
       "5  The tasks of selecting materials and loading m...   \n",
       "\n",
       "                                scenario.partition_A  \\\n",
       "0  ['Read source documents such as canceled check...   \n",
       "1  ['Read source documents such as canceled check...   \n",
       "2  ['Read source documents such as canceled check...   \n",
       "3  ['Store completed documents in appropriate loc...   \n",
       "4  ['Store completed documents in appropriate loc...   \n",
       "5  ['Select materials needed to complete work ass...   \n",
       "\n",
       "                                scenario.partition_B  \n",
       "0  ['Store completed documents in appropriate loc...  \n",
       "1  ['Select materials needed to complete work ass...  \n",
       "2  ['Resolve garbled or indecipherable messages, ...  \n",
       "3  ['Select materials needed to complete work ass...  \n",
       "4  ['Resolve garbled or indecipherable messages, ...  \n",
       "5  ['Resolve garbled or indecipherable messages, ...  "
      ]
     },
     "execution_count": 277,
     "metadata": {},
     "output_type": "execute_result"
    }
   ],
   "source": [
    "partitions_ordering_df"
   ]
  },
  {
   "cell_type": "code",
   "execution_count": 278,
   "metadata": {},
   "outputs": [
    {
     "data": {
      "text/html": [
       "<div>\n",
       "<style scoped>\n",
       "    .dataframe tbody tr th:only-of-type {\n",
       "        vertical-align: middle;\n",
       "    }\n",
       "\n",
       "    .dataframe tbody tr th {\n",
       "        vertical-align: top;\n",
       "    }\n",
       "\n",
       "    .dataframe thead th {\n",
       "        text-align: right;\n",
       "    }\n",
       "</style>\n",
       "<table border=\"1\" class=\"dataframe\">\n",
       "  <thead>\n",
       "    <tr style=\"text-align: right;\">\n",
       "      <th></th>\n",
       "      <th>answer.ordering</th>\n",
       "      <th>comment.ordering_comment</th>\n",
       "      <th>scenario.partition_A</th>\n",
       "      <th>scenario.partition_B</th>\n",
       "    </tr>\n",
       "  </thead>\n",
       "  <tbody>\n",
       "    <tr>\n",
       "      <th>0</th>\n",
       "      <td>Workers working on partition B tasks need to k...</td>\n",
       "      <td>Workers who store completed documents and main...</td>\n",
       "      <td>['Read source documents such as canceled check...</td>\n",
       "      <td>['Store completed documents in appropriate loc...</td>\n",
       "    </tr>\n",
       "    <tr>\n",
       "      <th>1</th>\n",
       "      <td>Workers working on partition B tasks need to k...</td>\n",
       "      <td>Workers handling the tasks involving selecting...</td>\n",
       "      <td>['Read source documents such as canceled check...</td>\n",
       "      <td>['Select materials needed to complete work ass...</td>\n",
       "    </tr>\n",
       "  </tbody>\n",
       "</table>\n",
       "</div>"
      ],
      "text/plain": [
       "                                     answer.ordering  \\\n",
       "0  Workers working on partition B tasks need to k...   \n",
       "1  Workers working on partition B tasks need to k...   \n",
       "\n",
       "                            comment.ordering_comment  \\\n",
       "0  Workers who store completed documents and main...   \n",
       "1  Workers handling the tasks involving selecting...   \n",
       "\n",
       "                                scenario.partition_A  \\\n",
       "0  ['Read source documents such as canceled check...   \n",
       "1  ['Read source documents such as canceled check...   \n",
       "\n",
       "                                scenario.partition_B  \n",
       "0  ['Store completed documents in appropriate loc...  \n",
       "1  ['Select materials needed to complete work ass...  "
      ]
     },
     "execution_count": 278,
     "metadata": {},
     "output_type": "execute_result"
    }
   ],
   "source": [
    "# Swap columns so that all partitions in first column are done earlier\n",
    "mask = partitions_ordering_df['answer.ordering'] == partitions_relationship_question_options['B first']\n",
    "partitions_ordering_df.loc[mask, ['scenario.partition_A', 'scenario.partition_B']] = partitions_ordering_df.loc[mask, ['scenario.partition_B', 'scenario.partition_A']].values\n",
    "partitions_ordering_df.loc[mask, 'answer.ordering'] = partitions_relationship_question_options['A first']\n",
    "partitions_ordering_df = partitions_ordering_df[partitions_ordering_df['answer.ordering'] == partitions_relationship_question_options['A first']]\n",
    "partitions_ordering_df"
   ]
  },
  {
   "cell_type": "code",
   "execution_count": 279,
   "metadata": {},
   "outputs": [
    {
     "data": {
      "text/html": [
       "<div>\n",
       "<style scoped>\n",
       "    .dataframe tbody tr th:only-of-type {\n",
       "        vertical-align: middle;\n",
       "    }\n",
       "\n",
       "    .dataframe tbody tr th {\n",
       "        vertical-align: top;\n",
       "    }\n",
       "\n",
       "    .dataframe thead th {\n",
       "        text-align: right;\n",
       "    }\n",
       "</style>\n",
       "<table border=\"1\" class=\"dataframe\">\n",
       "  <thead>\n",
       "    <tr style=\"text-align: right;\">\n",
       "      <th></th>\n",
       "      <th>answer.ordering</th>\n",
       "      <th>comment.ordering_comment</th>\n",
       "      <th>scenario.partition_A</th>\n",
       "      <th>scenario.partition_B</th>\n",
       "      <th>partition_A_groupNum</th>\n",
       "      <th>partition_B_groupNum</th>\n",
       "    </tr>\n",
       "  </thead>\n",
       "  <tbody>\n",
       "    <tr>\n",
       "      <th>0</th>\n",
       "      <td>Workers working on partition B tasks need to k...</td>\n",
       "      <td>Workers who store completed documents and main...</td>\n",
       "      <td>['Read source documents such as canceled check...</td>\n",
       "      <td>['Store completed documents in appropriate loc...</td>\n",
       "      <td>1</td>\n",
       "      <td>2</td>\n",
       "    </tr>\n",
       "    <tr>\n",
       "      <th>1</th>\n",
       "      <td>Workers working on partition B tasks need to k...</td>\n",
       "      <td>Workers handling the tasks involving selecting...</td>\n",
       "      <td>['Read source documents such as canceled check...</td>\n",
       "      <td>['Select materials needed to complete work ass...</td>\n",
       "      <td>1</td>\n",
       "      <td>3</td>\n",
       "    </tr>\n",
       "  </tbody>\n",
       "</table>\n",
       "</div>"
      ],
      "text/plain": [
       "                                     answer.ordering  \\\n",
       "0  Workers working on partition B tasks need to k...   \n",
       "1  Workers working on partition B tasks need to k...   \n",
       "\n",
       "                            comment.ordering_comment  \\\n",
       "0  Workers who store completed documents and main...   \n",
       "1  Workers handling the tasks involving selecting...   \n",
       "\n",
       "                                scenario.partition_A  \\\n",
       "0  ['Read source documents such as canceled check...   \n",
       "1  ['Read source documents such as canceled check...   \n",
       "\n",
       "                                scenario.partition_B  partition_A_groupNum  \\\n",
       "0  ['Store completed documents in appropriate loc...                     1   \n",
       "1  ['Select materials needed to complete work ass...                     1   \n",
       "\n",
       "   partition_B_groupNum  \n",
       "0                     2  \n",
       "1                     3  "
      ]
     },
     "execution_count": 279,
     "metadata": {},
     "output_type": "execute_result"
    }
   ],
   "source": [
    "# Add group numbers to data frame\n",
    "aux_dict = {v: k for k, v in partitions_dict.items()}\n",
    "partitions_ordering_df['partition_A_groupNum'] = partitions_ordering_df['scenario.partition_A'].map(aux_dict)\n",
    "partitions_ordering_df['partition_B_groupNum'] = partitions_ordering_df['scenario.partition_B'].map(aux_dict)\n",
    "partitions_ordering_df"
   ]
  },
  {
   "cell_type": "markdown",
   "metadata": {},
   "source": [
    "## Compare pair of tasks within each partition"
   ]
  },
  {
   "cell_type": "code",
   "execution_count": 280,
   "metadata": {},
   "outputs": [
    {
     "data": {
      "application/vnd.jupyter.widget-view+json": {
       "model_id": "e2c4159796a9462cbac6384790ce9726",
       "version_major": 2,
       "version_minor": 0
      },
      "text/plain": [
       "Output()"
      ]
     },
     "metadata": {},
     "output_type": "display_data"
    },
    {
     "data": {
      "text/html": [
       "<pre style=\"white-space:pre;overflow-x:auto;line-height:normal;font-family:Menlo,'DejaVu Sans Mono',consolas,'Courier New',monospace\"></pre>\n"
      ],
      "text/plain": []
     },
     "metadata": {},
     "output_type": "display_data"
    },
    {
     "data": {
      "application/vnd.jupyter.widget-view+json": {
       "model_id": "f6ba6bc2194d4f4b9095f3ce27a9dde9",
       "version_major": 2,
       "version_minor": 0
      },
      "text/plain": [
       "Output()"
      ]
     },
     "metadata": {},
     "output_type": "display_data"
    },
    {
     "data": {
      "text/html": [
       "<pre style=\"white-space:pre;overflow-x:auto;line-height:normal;font-family:Menlo,'DejaVu Sans Mono',consolas,'Courier New',monospace\"></pre>\n"
      ],
      "text/plain": []
     },
     "metadata": {},
     "output_type": "display_data"
    },
    {
     "data": {
      "application/vnd.jupyter.widget-view+json": {
       "model_id": "b5c66f89fae248d18329e1992864c1d4",
       "version_major": 2,
       "version_minor": 0
      },
      "text/plain": [
       "Output()"
      ]
     },
     "metadata": {},
     "output_type": "display_data"
    },
    {
     "data": {
      "text/html": [
       "<pre style=\"white-space:pre;overflow-x:auto;line-height:normal;font-family:Menlo,'DejaVu Sans Mono',consolas,'Courier New',monospace\"></pre>\n"
      ],
      "text/plain": []
     },
     "metadata": {},
     "output_type": "display_data"
    }
   ],
   "source": [
    "# Function to handle apastrophes and commas in the list string\n",
    "def clean_list_string(s):\n",
    "    # Escape the apostrophe in specific problematic cases\n",
    "    s = re.sub(r\"(?<!\\\\)'s costs\", r\"\\\\'s costs\", s)\n",
    "    return s\n",
    "\n",
    "\n",
    "task_relationships_within_partition_df = pd.DataFrame()\n",
    "for key, value in partitions_dict.items():\n",
    "    # Get list of tasks in the partition\n",
    "    my_partition_tasks = clean_list_string(value)\n",
    "    my_partition_tasks = ast.literal_eval(my_partition_tasks)\n",
    "    if len(my_partition_tasks) < 2:\n",
    "        continue\n",
    "\n",
    "    # Run the function\n",
    "    results = task_relationships_within_partition(GPT_input_occupation, my_partition_tasks, within_partition_task_relationships_question_text, withinPartition_relationship_question_options_list)\n",
    "    aux_df = results.select(\"task_A\", \"task_B\", \"ordering\", \"comment.ordering_comment\").to_pandas()\n",
    "    aux_df['partition'] = key\n",
    "\n",
    "    # Add to data frame\n",
    "    task_relationships_within_partition_df = pd.concat([task_relationships_within_partition_df, aux_df], ignore_index=True)"
   ]
  },
  {
   "cell_type": "code",
   "execution_count": 281,
   "metadata": {},
   "outputs": [],
   "source": [
    "# Swap columns so that all tasks in first column are done earlier\n",
    "mask = task_relationships_within_partition_df['answer.ordering'] == withinPartition_relationship_question_options['B first']\n",
    "task_relationships_within_partition_df.loc[mask, ['scenario.task_A', 'scenario.task_B']] = task_relationships_within_partition_df.loc[mask, ['scenario.task_B', 'scenario.task_A']].values\n",
    "task_relationships_within_partition_df.loc[mask, 'answer.ordering'] = withinPartition_relationship_question_options['A first']"
   ]
  },
  {
   "cell_type": "markdown",
   "metadata": {},
   "source": [
    "## Compare pair of tasks between partitions"
   ]
  },
  {
   "cell_type": "code",
   "execution_count": 282,
   "metadata": {},
   "outputs": [
    {
     "data": {
      "application/vnd.jupyter.widget-view+json": {
       "model_id": "3e09c280976f430a90f2cf97f74ebfe0",
       "version_major": 2,
       "version_minor": 0
      },
      "text/plain": [
       "Output()"
      ]
     },
     "metadata": {},
     "output_type": "display_data"
    },
    {
     "data": {
      "text/html": [
       "<pre style=\"white-space:pre;overflow-x:auto;line-height:normal;font-family:Menlo,'DejaVu Sans Mono',consolas,'Courier New',monospace\"></pre>\n"
      ],
      "text/plain": []
     },
     "metadata": {},
     "output_type": "display_data"
    },
    {
     "data": {
      "application/vnd.jupyter.widget-view+json": {
       "model_id": "5a9a67a5e641452292382279fd1823f2",
       "version_major": 2,
       "version_minor": 0
      },
      "text/plain": [
       "Output()"
      ]
     },
     "metadata": {},
     "output_type": "display_data"
    },
    {
     "data": {
      "text/html": [
       "<pre style=\"white-space:pre;overflow-x:auto;line-height:normal;font-family:Menlo,'DejaVu Sans Mono',consolas,'Courier New',monospace\"></pre>\n"
      ],
      "text/plain": []
     },
     "metadata": {},
     "output_type": "display_data"
    }
   ],
   "source": [
    "task_relationships_between_partitions_df = pd.DataFrame()\n",
    "for (key1, value1), (key2, value2) in itertools.combinations(partitions_dict.items(), 2):\n",
    "    # determine which partition is done first\n",
    "    if len(partitions_ordering_df[(partitions_ordering_df['partition_A_groupNum'] == key1) & (partitions_ordering_df['partition_B_groupNum'] == key2)]) > 0:\n",
    "        first_partition = key1\n",
    "        second_partition = key2\n",
    "    elif len(partitions_ordering_df[(partitions_ordering_df['partition_A_groupNum'] == key2) & (partitions_ordering_df['partition_B_groupNum'] == key1)]) > 0:\n",
    "        first_partition = key2\n",
    "        second_partition = key1\n",
    "    else:\n",
    "        continue\n",
    "\n",
    "    # Get list of tasks in the partition\n",
    "    tasks_partition1 = ast.literal_eval(clean_list_string(value1))\n",
    "    tasks_partition2 = ast.literal_eval(clean_list_string(value2))\n",
    "    \n",
    "    # Run the function\n",
    "    results = task_relationships_between_partitions(GPT_input_occupation, tasks_partition1, tasks_partition2, between_partition_task_relationships_question_text, betweenPartition_relationship_question_options_list)\n",
    "    aux_df = results.select(\"task_A\", \"task_B\", \"ordering\", \"comment.ordering_comment\").to_pandas()\n",
    "    \n",
    "    # Add to data frame\n",
    "    task_relationships_between_partitions_df = pd.concat([task_relationships_between_partitions_df, aux_df], ignore_index=True)"
   ]
  },
  {
   "cell_type": "code",
   "execution_count": 283,
   "metadata": {},
   "outputs": [],
   "source": [
    "# Swap columns so that all tasks in first column are done earlier\n",
    "mask = task_relationships_between_partitions_df['answer.ordering'] == betweenPartition_relationship_question_options['B first']\n",
    "task_relationships_between_partitions_df.loc[mask, ['scenario.task_A', 'scenario.task_B']] = task_relationships_between_partitions_df.loc[mask, ['scenario.task_B', 'scenario.task_A']].values\n",
    "task_relationships_between_partitions_df.loc[mask, 'answer.ordering'] = betweenPartition_relationship_question_options['A first']"
   ]
  },
  {
   "cell_type": "code",
   "execution_count": 284,
   "metadata": {},
   "outputs": [],
   "source": [
    "# Get edges from within and between partitions data frames\n",
    "between_edges = task_relationships_between_partitions_df[task_relationships_between_partitions_df['answer.ordering'] == betweenPartition_relationship_question_options['A first']]\n",
    "between_edges = between_edges[['scenario.task_A', 'scenario.task_B', 'comment.ordering_comment']]\n",
    "\n",
    "within_edges = task_relationships_within_partition_df[task_relationships_within_partition_df['answer.ordering'] == withinPartition_relationship_question_options['A first']]\n",
    "within_edges = within_edges[['scenario.task_A', 'scenario.task_B', 'comment.ordering_comment']]\n",
    "\n",
    "\n",
    "# Combine edges from within and between partitions\n",
    "partitions_DAG_df = pd.concat([within_edges, between_edges], ignore_index=True)\n",
    "\n",
    "# Change column names\n",
    "partitions_DAG_df = partitions_DAG_df.rename(columns={'scenario.task_A': 'source', \n",
    "                                                    'scenario.task_B': 'target', \n",
    "                                                    'comment.ordering_comment': 'comment'})\n",
    "\n",
    "# Save output\n",
    "partitions_DAG_df.to_csv(partitioned_DAG_output_filename, index=False)"
   ]
  }
 ],
 "metadata": {
  "kernelspec": {
   "display_name": "base",
   "language": "python",
   "name": "python3"
  },
  "language_info": {
   "codemirror_mode": {
    "name": "ipython",
    "version": 3
   },
   "file_extension": ".py",
   "mimetype": "text/x-python",
   "name": "python",
   "nbconvert_exporter": "python",
   "pygments_lexer": "ipython3",
   "version": "3.12.2"
  }
 },
 "nbformat": 4,
 "nbformat_minor": 2
}
