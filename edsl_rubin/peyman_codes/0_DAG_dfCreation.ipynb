{
 "cells": [
  {
   "cell_type": "markdown",
   "metadata": {},
   "source": [
    "# Load libraries and functions"
   ]
  },
  {
   "cell_type": "code",
   "execution_count": 1,
   "metadata": {},
   "outputs": [],
   "source": [
    "with open('libraries.py') as f:\n",
    "    code = f.read()\n",
    "exec(code)\n",
    "\n",
    "with open('functions/functions.py') as f:\n",
    "    code = f.read()\n",
    "exec(code)"
   ]
  },
  {
   "cell_type": "markdown",
   "metadata": {},
   "source": [
    "### Read DAG creation functions"
   ]
  },
  {
   "cell_type": "code",
   "execution_count": 2,
   "metadata": {},
   "outputs": [],
   "source": [
    "with open('functions/manual_DAG_function.py') as f:\n",
    "    code = f.read()\n",
    "exec(code)\n",
    "\n",
    "with open('functions/naive_DAG_function.py') as f:\n",
    "    code = f.read()\n",
    "exec(code)\n",
    "\n",
    "with open('functions/firstLastTask_DAG_function.py') as f:\n",
    "    code = f.read()\n",
    "exec(code)\n",
    "\n",
    "with open('functions/partitioned_DAG_function.py') as f:\n",
    "    code = f.read()\n",
    "exec(code)\n",
    "\n",
    "with open('functions/condition_DAG_function.py') as f:\n",
    "    code = f.read()\n",
    "exec(code)"
   ]
  },
  {
   "cell_type": "code",
   "execution_count": 3,
   "metadata": {},
   "outputs": [],
   "source": [
    "def get_tasks(onet_data_path,\n",
    "              occupation_code):\n",
    "\n",
    "    # Load the data\n",
    "    onet = pd.read_csv(onet_data_path)\n",
    "    onet = onet.sort_values(by=['year', 'occ_code', 'occ_title', 'task_id'])\n",
    "    onet = onet[onet['year'] == 2023].reset_index(drop=True)\n",
    "\n",
    "    # Get list of tasks\n",
    "    my_df = onet[(onet.occ_code == f'{occupation_code}') & (onet.year == 2023)]\n",
    "    tasks = my_df['task'].unique().tolist()\n",
    "    tasks = [task.replace(\"'\", \"\") for task in tasks] # remove apastrophes\n",
    "    return tasks"
   ]
  },
  {
   "cell_type": "markdown",
   "metadata": {},
   "source": [
    "## Main Code"
   ]
  },
  {
   "cell_type": "code",
   "execution_count": 4,
   "metadata": {},
   "outputs": [],
   "source": [
    "# determine user\n",
    "user = getpass.getuser()\n",
    "if user == 'peymansh':\n",
    "    main_folder_path = '/Users/peymansh/Dropbox (MIT)/Research/AI and Occupations/ai-exposure'\n",
    "    data_path = f'{main_folder_path}/output'"
   ]
  },
  {
   "cell_type": "markdown",
   "metadata": {},
   "source": [
    "### Run DAGs"
   ]
  },
  {
   "cell_type": "code",
   "execution_count": 5,
   "metadata": {},
   "outputs": [],
   "source": [
    "onet_data_path = f'{data_path}/data/onet_occupations_yearly.csv'\n",
    "\n",
    "# list of occupations to create DAGs for\n",
    "occupation_list = ['travelAgents', 'insuranceUnderwriters', 'pileDriverOperators', \n",
    "                   'dredgeOperators', 'gradersAndSortersForAgriculturalProducts', 'reinforcingIronAndRebarWorkers',\n",
    "                   'insuranceAppraisersForAutoDamage', 'floorSandersAndFinishers', 'dataEntryKeyer', \n",
    "                   'athletesAndSportsCompetitors', 'audiovisualEquipmentInstallerAndRepairers', 'hearingAidSpecialists', \n",
    "                   'personalCareAides', 'proofreadersAndCopyMarkers', 'chiropractors', \n",
    "                   'shippingReceivingAndInventoryClerks', 'cooksShortOrder', 'orthodontists',\n",
    "                   'subwayAndStreetcarOperators', 'packersAndPackagersHand', 'hoistAndWinchOperators', \n",
    "                   'forgingMachineSettersOperatorsAndTenders', 'avionicsTechnicians', 'dishwashers', \n",
    "                   'dispatchersExceptPoliceFireAndAmbulance', 'familyMedicinePhysicians', 'MachineFeedersAndOffbearers'\n",
    "                   ]\n",
    "\n",
    "occupation_list = ['travelAgents', 'insuranceUnderwriters', 'pileDriverOperators', \n",
    "                   'dredgeOperators', 'gradersAndSortersForAgriculturalProducts', 'reinforcingIronAndRebarWorkers',\n",
    "                   'insuranceAppraisersForAutoDamage', 'floorSandersAndFinishers', 'dataEntryKeyer', \n",
    "                   'athletesAndSportsCompetitors', 'audiovisualEquipmentInstallerAndRepairers', 'hearingAidSpecialists', \n",
    "                   ]\n",
    "# occupation_list = ['packersAndPackagersHand', 'hoistAndWinchOperators', \n",
    "#                    'forgingMachineSettersOperatorsAndTenders', 'dishwashers', \n",
    "#                    'dispatchersExceptPoliceFireAndAmbulance', 'familyMedicinePhysicians', 'MachineFeedersAndOffbearers'\n",
    "#                    ]\n",
    "\n",
    "# occupation_list = ['dishwashers', \n",
    "#                    'dispatchersExceptPoliceFireAndAmbulance', 'familyMedicinePhysicians', 'MachineFeedersAndOffbearers'\n",
    "#                    ]\n",
    "\n",
    "# occupation_list = ['travelAgents', 'insuranceUnderwriters', 'pileDriverOperators', \n",
    "#                    ]\n",
    "\n",
    "occupation_list = ['dancers']"
   ]
  },
  {
   "cell_type": "code",
   "execution_count": 6,
   "metadata": {},
   "outputs": [
    {
     "name": "stdout",
     "output_type": "stream",
     "text": [
      "--------------- Running: dancers ---------------\n",
      "Number of tasks: 14\n",
      "\n",
      "*** Naive DAG ***\n",
      "Warning: 1 DAG implied last task(s) found.\n",
      "Warning: 1 DAG implied last task(s) found.\n",
      "Count of triangles: 122\n",
      "Number of quadrilaterals: 19\n",
      "Number of AC-DC edges to remove: 0\n",
      "Number of AC edges to remove: 82\n",
      "Total number of edges to remove: 82\n",
      "\n",
      "*** First-last-task DAG ***\n",
      "Count of triangles: 73\n",
      "Number of quadrilaterals: 21\n",
      "Number of AC-DC edges to remove: 0\n",
      "Number of AC edges to remove: 39\n",
      "Total number of edges to remove: 39\n",
      "\n",
      "*** Partitioned DAG ***\n",
      "Warning: 1 DAG implied last task(s) found.\n",
      "Count of triangles: 246\n",
      "Number of quadrilaterals: 170\n",
      "Number of AC-DC edges to remove: 0\n",
      "Number of AC edges to remove: 123\n",
      "Total number of edges to remove: 123\n",
      "\n",
      "******** dancers runtime: 127.71 seconds ********\n",
      "\n",
      "\n",
      "\n",
      "Total Runtime: 2.13 minutes\n"
     ]
    }
   ],
   "source": [
    "import time\n",
    "start_time = time.time()\n",
    "\n",
    "for occupation in occupation_list:\n",
    "    occupation_start_time = time.time()\n",
    "    print(f'--------------- Running: {occupation} ---------------')\n",
    "\n",
    "    # Generate occupation-specific strings\n",
    "    GPT_input_occupation, plot_title_occupation, occupation_code, occupation_folder = pick_occupation(occupation)\n",
    "\n",
    "    # Get occupation tasks\n",
    "    tasks = get_tasks(onet_data_path, occupation_code)\n",
    "    print(f'Number of tasks: {len(tasks)}')\n",
    "\n",
    "    # 1) Manual DAG\n",
    "    if occupation in ['travelAgents', 'insuranceUnderwriters', 'pileDriverOperators']:\n",
    "        create_manual_DAG(occupation,\n",
    "                          input_filename = f'{occupation_folder}/{occupation}_AM.csv',\n",
    "                          output_filename = f'{occupation_folder}/{occupation}_M_DAG_df.csv')\n",
    "        \n",
    "    # 2) Naive DAG(s)\n",
    "    print('\\n*** Naive DAG ***')\n",
    "    naive_DAG(GPT_input_occupation,\n",
    "              tasks,\n",
    "              lastTask_output_filename = f'{occupation_folder}/{occupation}_N_lastTasks.csv',\n",
    "              output_DAG_filename_naive = f'{occupation_folder}/{occupation}_N_GPT_DAG_df.csv',\n",
    "              output_DAG_filename_naiveTwoStep = f'{occupation_folder}/{occupation}_N2_GPT_DAG_df.csv',\n",
    "              conditioned_DAG_output_filename = f'{occupation_folder}/{occupation}_CN_GPT_DAG_df.csv')\n",
    "    \n",
    "    # 3) First-last-task DAG\n",
    "    print('\\n*** First-last-task DAG ***')\n",
    "    firstLastTask_DAG(GPT_input_occupation,\n",
    "                      tasks,\n",
    "                      firstLastTask_output_filename = f'{occupation_folder}/{occupation}_FLT_tasks.csv',\n",
    "                      firstLastTask_DAG_output_filename = f'{occupation_folder}/{occupation}_FLT_GPT_DAG_df.csv',\n",
    "                      conditioned_DAG_output_filename = f'{occupation_folder}/{occupation}_CFLT_GPT_DAG_df.csv')\n",
    "    \n",
    "    # 4) Partitioned DAG\n",
    "    print('\\n*** Partitioned DAG ***')\n",
    "    partitioned_DAG(GPT_input_occupation,\n",
    "                    tasks,\n",
    "                    lastTask_output_filename = f'{occupation_folder}/{occupation}_P_lastTasks.csv',\n",
    "                    partitions_output_filename = f'{occupation_folder}/{occupation}_P_partitions.csv',\n",
    "                    partitioned_DAG_output_filename = f'{occupation_folder}/{occupation}_P_GPT_DAG_df.csv',\n",
    "                    conditioned_partitioned_DAG_output_filename = f'{occupation_folder}/{occupation}_CP_GPT_DAG_df.csv')\n",
    "    \n",
    "    occupation_end_time = time.time()\n",
    "    occupation_execution_time = occupation_end_time - occupation_start_time\n",
    "    print(f\"\\n******** {occupation} runtime: {occupation_execution_time:.2f} seconds ********\\n\")\n",
    "\n",
    "end_time = time.time()\n",
    "execution_time = (end_time - start_time)/60\n",
    "print(f\"\\n\\nTotal Runtime: {execution_time:.2f} minutes\")"
   ]
  }
 ],
 "metadata": {
  "kernelspec": {
   "display_name": "base",
   "language": "python",
   "name": "python3"
  },
  "language_info": {
   "codemirror_mode": {
    "name": "ipython",
    "version": 3
   },
   "file_extension": ".py",
   "mimetype": "text/x-python",
   "name": "python",
   "nbconvert_exporter": "python",
   "pygments_lexer": "ipython3",
   "version": "3.12.2"
  }
 },
 "nbformat": 4,
 "nbformat_minor": 2
}
