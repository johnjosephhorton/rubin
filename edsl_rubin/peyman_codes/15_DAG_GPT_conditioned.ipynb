{
 "cells": [
  {
   "cell_type": "markdown",
   "metadata": {},
   "source": [
    "# Load libraries and functions"
   ]
  },
  {
   "cell_type": "markdown",
   "metadata": {},
   "source": []
  },
  {
   "cell_type": "code",
   "execution_count": 58,
   "metadata": {},
   "outputs": [],
   "source": [
    "with open('libraries.py') as f:\n",
    "    code = f.read()\n",
    "exec(code)\n",
    "\n",
    "with open('functions.py') as f:\n",
    "    code = f.read()\n",
    "exec(code)"
   ]
  },
  {
   "cell_type": "code",
   "execution_count": 59,
   "metadata": {},
   "outputs": [],
   "source": [
    "# determine user\n",
    "user = getpass.getuser()\n",
    "if user == 'peymansh':\n",
    "    main_folder_path = '/Users/peymansh/Dropbox (MIT)/Research/AI and Occupations/ai-exposure'\n",
    "    data_path = f'{main_folder_path}/output'"
   ]
  },
  {
   "cell_type": "markdown",
   "metadata": {},
   "source": [
    "## Main Code"
   ]
  },
  {
   "cell_type": "code",
   "execution_count": 60,
   "metadata": {},
   "outputs": [],
   "source": [
    "# Pick occupation and initialize variables\n",
    "occupation = 'travelAgents'\n",
    "# occupation = 'insuranceUnderwriters'\n",
    "# occupation = 'pileDriverOperators'\n",
    "# # occupation = 'shampooers'\n",
    "# # occupation = 'dredgeOperators'\n",
    "\n",
    "\n",
    "GPT_input_occupation, plot_title_occupation, occupation_code, occupation_folder = pick_occupation(occupation)"
   ]
  },
  {
   "cell_type": "code",
   "execution_count": 61,
   "metadata": {},
   "outputs": [
    {
     "data": {
      "text/plain": [
       "['Collect payment for transportation and accommodations from customer.',\n",
       " 'Converse with customer to determine destination, mode of transportation, travel dates, financial considerations, and accommodations required.',\n",
       " \"Compute cost of travel and accommodations, using calculator, computer, carrier tariff books, and hotel rate books, or quote package tour's costs.\",\n",
       " 'Book transportation and hotel reservations, using computer or telephone.',\n",
       " 'Plan, describe, arrange, and sell itinerary tour packages and promotional travel incentives offered by various travel carriers.',\n",
       " 'Provide customer with brochures and publications containing travel information, such as local customs, points of interest, or foreign country regulations.',\n",
       " 'Print or request transportation carrier tickets, using computer printer system or system link to travel carrier.',\n",
       " 'Record and maintain information on clients, vendors, and travel packages.']"
      ]
     },
     "execution_count": 61,
     "metadata": {},
     "output_type": "execute_result"
    }
   ],
   "source": [
    "# Load the data\n",
    "onet = pd.read_csv(f'{data_path}/data/onet_occupations_yearly.csv')\n",
    "onet = onet.sort_values(by=['year', 'occ_code', 'occ_title', 'task_id'])\n",
    "onet = onet[onet['year'] == 2023].reset_index(drop=True)\n",
    "\n",
    "# Get list of tasks\n",
    "my_df = onet[(onet.occ_code == f'{occupation_code}') & (onet.year == 2023)]\n",
    "tasks = my_df['task'].unique().tolist()\n",
    "tasks"
   ]
  },
  {
   "cell_type": "markdown",
   "metadata": {},
   "source": [
    "<br>\n",
    "\n",
    "<br>\n",
    "\n",
    "# 5) GPT Triangles/Conditioning Method"
   ]
  },
  {
   "cell_type": "markdown",
   "metadata": {},
   "source": [
    "#### Approach: Use either First-Last Task method or Partitioned Tasks Method in creating original GPT DAG. Next use the \"Triangles\" or \"Conditioning\" method for narrowing down set of edges."
   ]
  },
  {
   "cell_type": "markdown",
   "metadata": {},
   "source": [
    "### Set input-output file names for different versions of the run"
   ]
  },
  {
   "cell_type": "code",
   "execution_count": null,
   "metadata": {},
   "outputs": [],
   "source": [
    "# input_filename = f'{occupation_folder}/v0/{occupation}_firstLastTaskGPT_DAG_df.csv'\n",
    "# input_filename = f'{occupation_folder}/v0/{occupation}_partitionedGPT_DAG_df.csv'\n",
    "\n",
    "#input_filename = f'{occupation_folder}/v1/{occupation}_firstLastTaskGPT_DAG_df.csv'\n",
    "input_filename = f'{occupation_folder}/v1/{occupation}_partitionedGPT_DAG_df.csv'"
   ]
  },
  {
   "cell_type": "code",
   "execution_count": null,
   "metadata": {},
   "outputs": [],
   "source": [
    "# output_filename = f'{occupation_folder}/v0/{occupation}_conditionedGPT_fromFirstLastTask_DAG_df.csv'\n",
    "# output_filename = f'{occupation_folder}/v0/{occupation}_conditionedGPT_fromPartitioned_DAG_df.csv'\n",
    "\n",
    "#output_filename = f'{occupation_folder}/v1/{occupation}_conditionedGPT_fromFirstLastTask_DAG_df.csv'\n",
    "output_filename = f'{occupation_folder}/v1/{occupation}_conditionedGPT_fromPartitioned_DAG_df.csv'"
   ]
  },
  {
   "cell_type": "markdown",
   "metadata": {},
   "source": [
    "### Set up questions and options\n",
    "##### Triangle check question:"
   ]
  },
  {
   "cell_type": "code",
   "execution_count": 64,
   "metadata": {},
   "outputs": [],
   "source": [
    "# triangle_check_question_options = {'keep_AC': \"C can be done after A without having to do B\",\n",
    "#                                    'drop_AC': \"C can only be done after B\",\n",
    "#                                    'sanity_check': \"These are not part of the same task sequence\"\n",
    "#                                    }\n",
    "\n",
    "triangle_check_question_options = {'keep AC': \"Given that B is done, it is also necessary to do A in order to do C\",\n",
    "                                   'drop AC': \"Given that B is done, doing A is not needed in order to do C\",\n",
    "                                   'sanity check': \"These are not part of the same task sequence\"\n",
    "                                   }\n",
    "\n",
    "triangle_check_question_options = {'keep AC': \"Third worker can only start C after both the first and second workers have finished tasks A and B\",\n",
    "                                   'drop AC': \"Third worker can start C after the second worker finishes B without having to wait for the first worker to finish A\",\n",
    "                                   'sanity check': \"These are not part of the same task sequence\"\n",
    "                                   }\n",
    "\n",
    "triangle_check_question_options_list = list(triangle_check_question_options.values())"
   ]
  },
  {
   "cell_type": "code",
   "execution_count": 65,
   "metadata": {},
   "outputs": [],
   "source": [
    "# triangle_check_question_text = dedent(\"\"\"\\\n",
    "#                                       Consider {{ occupation }} as an occupation. \n",
    "#                                       And consider these three tasks: \n",
    "#                                       A) {{ task_A }} \n",
    "#                                       B) {{ task_B }}\n",
    "#                                       C) {{ task_C }} \n",
    "#                                       What are the prerequisites of doing task C?\n",
    "#                                       Avoid using words like \"task A\", \"task B\", or \"task C\" in the answer.\n",
    "#                                       Explain the reasoning behind your answer in a couple of sentences.\n",
    "#                                       \"\"\")\n",
    "\n",
    "triangle_check_question_text = dedent(\"\"\"\\\n",
    "                                      Consider {{ occupation }} as an occupation. \n",
    "                                      And consider these three tasks: \n",
    "                                      A) {{ task_A }} \n",
    "                                      B) {{ task_B }}\n",
    "                                      C) {{ task_C }} \n",
    "                                      Imagine there are two workers, one is working on task A and the other is working on task B.\n",
    "                                      Suppose a third worker wants to start working on task C.\n",
    "                                      Does the third worker need to wait for the workers working on tasks A and B to finish before starting on task C?\n",
    "                                      Or can the third worker start working on task C right after worker B finishes without needing output of worker A?\n",
    "                                      Avoid using words like \"task A\", \"task B\", or \"task C\" in the answer.\n",
    "                                      Explain the reasoning behind your answer in a couple of sentences.\n",
    "                                      \"\"\")\n",
    "\n",
    "\n",
    "def triangle_check(occupation, tasks, triangles_list, question_text, question_options_list):\n",
    "    triangles = np.array(triangles_list)\n",
    "    task_A_list = triangles[:, 0]\n",
    "    task_B_list = triangles[:, 1]\n",
    "    task_C_list = triangles[:, 2]\n",
    "    scenarios = [Scenario({\"occupation\": occupation, \"task_A\": tasks[task_A], \"task_B\": tasks[task_B], \"task_C\": tasks[task_C]}) \n",
    "        for task_A, task_B, task_C in zip(task_A_list, task_B_list, task_C_list)]\n",
    "\n",
    "    q = QuestionMultipleChoice(\n",
    "        question_name = \"ordering\",\n",
    "        question_text = question_text,\n",
    "        question_options = question_options_list\n",
    "    )\n",
    "    results = q.by(m4).by(scenarios).run(progress_bar = True)\n",
    "    return results"
   ]
  },
  {
   "cell_type": "markdown",
   "metadata": {},
   "source": [
    "##### Quadrilateral (aka AC_DC) question:"
   ]
  },
  {
   "cell_type": "code",
   "execution_count": 66,
   "metadata": {},
   "outputs": [],
   "source": [
    "# AC_DC_question_options = {'drop AC, drop DC': \"C can be done after B only after both A and D have been done earlier\", \n",
    "#                           'keep AC, drop DC': \"C can be done after A only after having done D first, but without having to do B\",\n",
    "#                           'drop AC, keep DC': \"C can be done immediately after D without having to do A or B, but it cannot be done after A without having done D or B first\",\n",
    "#                           'keep AC, keep DC': \"C can be done immediately after D without having to do A or B, and it can also be done after A without having done D or B\",\n",
    "#                           'sanity check': \"These are not part of the same task sequence\"\n",
    "#                           }\n",
    "\n",
    "AC_DC_question_options = {'drop AC, drop DC': \"Given that B is done, doing neither A nor D is needed in order to do C\",\n",
    "                          'keep AC, drop DC': \"Given that B is done, doing A is needed for doing C but doing D is not\",\n",
    "                          'drop AC, keep DC': \"Given that B is done, doing D is needed for doing C but doing A is not\",\n",
    "                          'keep AC, keep DC': \"Given that B is done, doing both A and D are needed for doing C\",\n",
    "                          'sanity check': \"These are not part of the same task sequence\"\n",
    "                          }\n",
    "\n",
    "AC_DC_question_options = {'drop AC, drop DC': \"Given that worker B is finished, output of neither worker A nor worker D is needed for worker C\",\n",
    "                          'keep AC, drop DC': \"Given that worker B is finished, output of worker A is needed for worker C but output of worker D is not\",\n",
    "                          'drop AC, keep DC': \"Given that worker B is finished, output of worker D is needed for worker C but output of worker A is not\",\n",
    "                          'keep AC, keep DC': \"Given that worker B is finished, output of both workers A and D are needed for worker C\",\n",
    "                          'sanity check': \"These are not part of the same task sequence\"\n",
    "                          }\n",
    "\n",
    "AC_DC_question_options_list = list(AC_DC_question_options.values())"
   ]
  },
  {
   "cell_type": "code",
   "execution_count": 67,
   "metadata": {},
   "outputs": [],
   "source": [
    "# AC_DC_question_question_text = dedent(\"\"\"\\\n",
    "#                                       Consider {{ occupation }} as an occupation.\n",
    "#                                       And consider these tasks:\n",
    "#                                       A) {{ task_A }}\n",
    "#                                       B) {{ task_B }}\n",
    "#                                       C) {{ task_C }}\n",
    "#                                       D) {{ task_D }}         \n",
    "#                                       As part of the steps leading up to completion of this job '{{ task_B }}' is done after '{{ task_A }}' but before '{{ task_C }}'.\n",
    "#                                       Furthermore, '{{ task_A }}' is done after '{{ task_D }}' but before '{{ task_C }}'.\n",
    "#                                       Given this structure, determine if task A and task D are direct prerequisites of doing task C?\n",
    "#                                       Avoid using words like \"task A\", \"task B\", or \"task C\" in the answer.\n",
    "#                                       Explain the reasoning behind your answer in a couple of sentences.\n",
    "#                                       \"\"\")\n",
    "\n",
    "AC_DC_question_question_text = dedent(\"\"\"\\\n",
    "                                      Consider {{ occupation }} as an occupation.\n",
    "                                      And consider these tasks:\n",
    "                                      A) {{ task_A }}\n",
    "                                      B) {{ task_B }}\n",
    "                                      C) {{ task_C }}\n",
    "                                      D) {{ task_D }}         \n",
    "                                      As part of the steps leading up to completion of this job {{ task_C }} must be done. \n",
    "                                      We know that tasks A, B, and D are inputs to task C.\n",
    "                                      Moreover, task D is an input to task A while task A is an input to task B.\n",
    "                                      Given that task B is done, do tasks A and D need to be done before doing task C?\n",
    "                                      Avoid using words like \"task A\", \"task B\", or \"task C\" in the answer.\n",
    "                                      Explain the reasoning behind your answer in a couple of sentences.\n",
    "                                      \"\"\")\n",
    "\n",
    "\n",
    "AC_DC_question_question_text = dedent(\"\"\"\\\n",
    "                                      Consider {{ occupation }} as an occupation.\n",
    "                                      And consider these tasks:\n",
    "                                      A) {{ task_A }}\n",
    "                                      B) {{ task_B }}\n",
    "                                      C) {{ task_C }}\n",
    "                                      D) {{ task_D }}         \n",
    "                                      As part of the steps leading up to completion of this job {{ task_C }} must be done.\n",
    "                                      We know that tasks A, B, and D are inputs to task C.\n",
    "                                      Moreover, task D is an input to task A while task A is an input to task B.\n",
    "                                      Imagine there are three workers, one is working on task A, one is working on task B, and the other is working on task D.\n",
    "                                      Suppose a fourth worker wants to start working on task C.\n",
    "                                      Does the fourth worker need to wait for the workers working on tasks A, B, and D to finish before starting on task C?\n",
    "                                      Or can the third worker start working on task C after workers B and D finish without needing output of worker A?\n",
    "                                      How about after workers B and A finish without needing output of worker D?\n",
    "                                      Avoid using words like \"task A\", \"task B\", or \"task C\" in the answer.\n",
    "                                      Explain the reasoning behind your answer in a couple of sentences.\n",
    "                                      \"\"\")\n",
    "\n",
    "\n",
    "q_AC_DC = QuestionMultipleChoice(\n",
    "    question_name = \"AC_DC\",\n",
    "    question_text = AC_DC_question_question_text,\n",
    "    question_options = AC_DC_question_options_list\n",
    "    )"
   ]
  },
  {
   "cell_type": "markdown",
   "metadata": {},
   "source": [
    "<br> \n",
    "\n",
    "### Step 1:\n",
    "\n",
    "#### Find all \"triangles\", defined as cases with:\n",
    "##### A --> B --> C\n",
    "##### A --> C"
   ]
  },
  {
   "cell_type": "code",
   "execution_count": 68,
   "metadata": {},
   "outputs": [],
   "source": [
    "# Read output of one step GPT DAG\n",
    "GPT_AM_df = pd.read_csv(input_filename)\n",
    "\n",
    "# Convert GPT AM data frame to adjacency matrix\n",
    "GPT_AM = pd.DataFrame(0, index=tasks, columns=tasks)\n",
    "for index, row in GPT_AM_df.iterrows():\n",
    "    GPT_AM.at[row['source'], row['target']] = 1"
   ]
  },
  {
   "cell_type": "code",
   "execution_count": 69,
   "metadata": {},
   "outputs": [
    {
     "name": "stdout",
     "output_type": "stream",
     "text": [
      "Examples of triangles: [[1, 3, 4], [1, 3, 7], [1, 4, 5], [1, 4, 7], [1, 5, 7]]\n",
      "Count of triangles: 9\n"
     ]
    }
   ],
   "source": [
    "def find_triangles(matrix):\n",
    "    # Ensure matrix is a numpy array\n",
    "    if not isinstance(matrix, np.ndarray):\n",
    "        matrix = matrix.to_numpy()\n",
    "    \n",
    "    # get length of matrix\n",
    "    n = matrix.shape[0]\n",
    "\n",
    "    # create list containing integers from 0 to n-1 for indexing\n",
    "    numbers = list(range(n))\n",
    "\n",
    "    # Find triangles\n",
    "    triangles = []\n",
    "    for x, y, z in itertools.permutations(numbers, 3):\n",
    "        # get indices of destination nodes for outgoing edges of x\n",
    "        out_edges_destination_x = np.where(matrix[x] == 1)[0]\n",
    "        out_edges_destination_x = list(out_edges_destination_x)\n",
    "\n",
    "        # check if x has outgoing edge to both y and z\n",
    "        # if yes, check if y has outgoing edge to z\n",
    "        if y in out_edges_destination_x and z in out_edges_destination_x:\n",
    "            out_edges_destination_y = np.where(matrix[y] == 1)[0]\n",
    "            out_edges_destination_y = list(out_edges_destination_y)\n",
    "            \n",
    "            # check if y has outgoing edge to z\n",
    "            # if yes, we have a triangle\n",
    "            if z in out_edges_destination_y:\n",
    "                triangles.append([x, y, z])\n",
    "    \n",
    "    return triangles\n",
    "\n",
    "# Find triangles\n",
    "GPT_AM_triangles_list = find_triangles(GPT_AM)\n",
    "print(f'Examples of triangles: {GPT_AM_triangles_list[:5]}')\n",
    "print(f'Count of triangles: {len(GPT_AM_triangles_list)}')"
   ]
  },
  {
   "cell_type": "markdown",
   "metadata": {},
   "source": [
    "### Step 2: \n",
    "#### Ask GPT whether conditional on having B --> C we need A --> C"
   ]
  },
  {
   "cell_type": "code",
   "execution_count": 70,
   "metadata": {},
   "outputs": [
    {
     "data": {
      "application/vnd.jupyter.widget-view+json": {
       "model_id": "544808ad421c4947b3caa64bd47e03e1",
       "version_major": 2,
       "version_minor": 0
      },
      "text/plain": [
       "Output()"
      ]
     },
     "metadata": {},
     "output_type": "display_data"
    },
    {
     "data": {
      "text/html": [
       "<pre style=\"white-space:pre;overflow-x:auto;line-height:normal;font-family:Menlo,'DejaVu Sans Mono',consolas,'Courier New',monospace\"></pre>\n"
      ],
      "text/plain": []
     },
     "metadata": {},
     "output_type": "display_data"
    }
   ],
   "source": [
    "results = triangle_check(GPT_input_occupation, tasks, GPT_AM_triangles_list, triangle_check_question_text, triangle_check_question_options_list)\n",
    "#results.select(\"task_A\", \"task_B\", \"task_C\", \"ordering\", \"comment.ordering_comment\").print()\n",
    "GPT_trianglesCheck_output = results.select(\"task_A\", \"task_B\", \"task_C\", \"ordering\", \"comment.ordering_comment\").to_pandas()\n",
    "GPT_trianglesCheck_output = GPT_trianglesCheck_output.sort_values(by=['scenario.task_A', 'scenario.task_C', 'scenario.task_B']).reset_index(drop=True)"
   ]
  },
  {
   "cell_type": "markdown",
   "metadata": {},
   "source": [
    "### In cases where A --> C is shared among multiple triangles, only delete when all triangles say delete"
   ]
  },
  {
   "cell_type": "code",
   "execution_count": 71,
   "metadata": {},
   "outputs": [
    {
     "data": {
      "text/html": [
       "<div>\n",
       "<style scoped>\n",
       "    .dataframe tbody tr th:only-of-type {\n",
       "        vertical-align: middle;\n",
       "    }\n",
       "\n",
       "    .dataframe tbody tr th {\n",
       "        vertical-align: top;\n",
       "    }\n",
       "\n",
       "    .dataframe thead th {\n",
       "        text-align: right;\n",
       "    }\n",
       "</style>\n",
       "<table border=\"1\" class=\"dataframe\">\n",
       "  <thead>\n",
       "    <tr style=\"text-align: right;\">\n",
       "      <th></th>\n",
       "      <th>scenario.task_A</th>\n",
       "      <th>scenario.task_C</th>\n",
       "      <th>comment.ordering_comment</th>\n",
       "    </tr>\n",
       "  </thead>\n",
       "  <tbody>\n",
       "    <tr>\n",
       "      <th>0</th>\n",
       "      <td>Book transportation and hotel reservations, us...</td>\n",
       "      <td>Record and maintain information on clients, ve...</td>\n",
       "      <td>The third worker can start maintaining informa...</td>\n",
       "    </tr>\n",
       "    <tr>\n",
       "      <th>1</th>\n",
       "      <td>Compute cost of travel and accommodations, usi...</td>\n",
       "      <td>Plan, describe, arrange, and sell itinerary to...</td>\n",
       "      <td>The third worker can start planning, describin...</td>\n",
       "    </tr>\n",
       "    <tr>\n",
       "      <th>2</th>\n",
       "      <td>Compute cost of travel and accommodations, usi...</td>\n",
       "      <td>Print or request transportation carrier ticket...</td>\n",
       "      <td>The third worker can start processing the tran...</td>\n",
       "    </tr>\n",
       "    <tr>\n",
       "      <th>3</th>\n",
       "      <td>Converse with customer to determine destinatio...</td>\n",
       "      <td>Provide customer with brochures and publicatio...</td>\n",
       "      <td>The third worker can start providing travel in...</td>\n",
       "    </tr>\n",
       "    <tr>\n",
       "      <th>4</th>\n",
       "      <td>Plan, describe, arrange, and sell itinerary to...</td>\n",
       "      <td>Record and maintain information on clients, ve...</td>\n",
       "      <td>The third worker can start recording and maint...</td>\n",
       "    </tr>\n",
       "  </tbody>\n",
       "</table>\n",
       "</div>"
      ],
      "text/plain": [
       "                                     scenario.task_A  \\\n",
       "0  Book transportation and hotel reservations, us...   \n",
       "1  Compute cost of travel and accommodations, usi...   \n",
       "2  Compute cost of travel and accommodations, usi...   \n",
       "3  Converse with customer to determine destinatio...   \n",
       "4  Plan, describe, arrange, and sell itinerary to...   \n",
       "\n",
       "                                     scenario.task_C  \\\n",
       "0  Record and maintain information on clients, ve...   \n",
       "1  Plan, describe, arrange, and sell itinerary to...   \n",
       "2  Print or request transportation carrier ticket...   \n",
       "3  Provide customer with brochures and publicatio...   \n",
       "4  Record and maintain information on clients, ve...   \n",
       "\n",
       "                            comment.ordering_comment  \n",
       "0  The third worker can start maintaining informa...  \n",
       "1  The third worker can start planning, describin...  \n",
       "2  The third worker can start processing the tran...  \n",
       "3  The third worker can start providing travel in...  \n",
       "4  The third worker can start recording and maint...  "
      ]
     },
     "execution_count": 71,
     "metadata": {},
     "output_type": "execute_result"
    }
   ],
   "source": [
    "# Step 1: Find the count of triangles for each A --> C pair\n",
    "GPT_trianglesCheck_output['AC_pair_triangles_count'] = GPT_trianglesCheck_output.groupby(['scenario.task_A', 'scenario.task_C'])['scenario.task_A'].transform('count')\n",
    "\n",
    "\n",
    "# Step 2: Find if all triangles say delete\n",
    "aux_df = GPT_trianglesCheck_output.groupby(['scenario.task_A', 'scenario.task_C'])['answer.ordering'].apply(lambda x: (x == triangle_check_question_options['drop AC']).mean()*100).reset_index()\n",
    "aux_df.columns = ['scenario.task_A', 'scenario.task_C', 'fraction_triangles_say_delete']\n",
    "aux_df = aux_df[aux_df['fraction_triangles_say_delete'] == 100]\n",
    "\n",
    "# Merge aux_df with the original DataFrame to keep 'comment.ordering_comment'\n",
    "edges_to_remove = pd.merge(aux_df, GPT_trianglesCheck_output, on=['scenario.task_A', 'scenario.task_C'])\n",
    "edges_to_remove['comment.ordering_comment'] = (\n",
    "    edges_to_remove['comment.ordering_comment'] \n",
    "    + '\\n\\n(Source):\\n' + edges_to_remove['scenario.task_A'] \n",
    "    + '\\n(Conditioned on):\\n' + edges_to_remove['scenario.task_B'] \n",
    "    + '\\n(Target):\\n' + edges_to_remove['scenario.task_C']\n",
    ")\n",
    "edges_to_remove = edges_to_remove[['scenario.task_A', 'scenario.task_C', 'comment.ordering_comment']]\n",
    "\n",
    "# Step 3: Delete the rows where all triangles say delete\n",
    "modified_GPT_trianglesCheck = pd.merge(GPT_trianglesCheck_output, edges_to_remove[['scenario.task_A', 'scenario.task_C']], \n",
    "                                       how='left', \n",
    "                                       on=['scenario.task_A', 'scenario.task_C'], \n",
    "                                       indicator=True)\n",
    "modified_GPT_trianglesCheck = modified_GPT_trianglesCheck[modified_GPT_trianglesCheck['_merge'] == 'left_only'].drop(columns=['_merge', 'AC_pair_triangles_count'])\n",
    "modified_GPT_trianglesCheck = modified_GPT_trianglesCheck.reset_index(drop=True)\n",
    "edges_to_remove"
   ]
  },
  {
   "cell_type": "markdown",
   "metadata": {},
   "source": [
    "#### Create a variable saying how many times each node appears as which node in a triangle\n",
    "##### Purpose: find quanrangles"
   ]
  },
  {
   "cell_type": "code",
   "execution_count": 72,
   "metadata": {},
   "outputs": [
    {
     "name": "stdout",
     "output_type": "stream",
     "text": [
      "Nodes stats as nodes A, B, C of a triangle:\n"
     ]
    },
    {
     "data": {
      "text/html": [
       "<div>\n",
       "<style scoped>\n",
       "    .dataframe tbody tr th:only-of-type {\n",
       "        vertical-align: middle;\n",
       "    }\n",
       "\n",
       "    .dataframe tbody tr th {\n",
       "        vertical-align: top;\n",
       "    }\n",
       "\n",
       "    .dataframe thead th {\n",
       "        text-align: right;\n",
       "    }\n",
       "</style>\n",
       "<table border=\"1\" class=\"dataframe\">\n",
       "  <thead>\n",
       "    <tr style=\"text-align: right;\">\n",
       "      <th></th>\n",
       "      <th>scenario.task_A</th>\n",
       "      <th>scenario.task_B</th>\n",
       "      <th>scenario.task_C</th>\n",
       "    </tr>\n",
       "  </thead>\n",
       "  <tbody>\n",
       "    <tr>\n",
       "      <th>Collect payment for transportation and accommodations from customer.</th>\n",
       "      <td>0</td>\n",
       "      <td>0</td>\n",
       "      <td>0</td>\n",
       "    </tr>\n",
       "    <tr>\n",
       "      <th>Converse with customer to determine destination, mode of transportation, travel dates, financial considerations, and accommodations required.</th>\n",
       "      <td>4</td>\n",
       "      <td>0</td>\n",
       "      <td>0</td>\n",
       "    </tr>\n",
       "    <tr>\n",
       "      <th>Compute cost of travel and accommodations, using calculator, computer, carrier tariff books, and hotel rate books, or quote package tour's costs.</th>\n",
       "      <td>0</td>\n",
       "      <td>0</td>\n",
       "      <td>0</td>\n",
       "    </tr>\n",
       "    <tr>\n",
       "      <th>Book transportation and hotel reservations, using computer or telephone.</th>\n",
       "      <td>0</td>\n",
       "      <td>2</td>\n",
       "      <td>0</td>\n",
       "    </tr>\n",
       "    <tr>\n",
       "      <th>Plan, describe, arrange, and sell itinerary tour packages and promotional travel incentives offered by various travel carriers.</th>\n",
       "      <td>0</td>\n",
       "      <td>1</td>\n",
       "      <td>1</td>\n",
       "    </tr>\n",
       "    <tr>\n",
       "      <th>Provide customer with brochures and publications containing travel information, such as local customs, points of interest, or foreign country regulations.</th>\n",
       "      <td>0</td>\n",
       "      <td>1</td>\n",
       "      <td>0</td>\n",
       "    </tr>\n",
       "    <tr>\n",
       "      <th>Print or request transportation carrier tickets, using computer printer system or system link to travel carrier.</th>\n",
       "      <td>0</td>\n",
       "      <td>0</td>\n",
       "      <td>0</td>\n",
       "    </tr>\n",
       "    <tr>\n",
       "      <th>Record and maintain information on clients, vendors, and travel packages.</th>\n",
       "      <td>0</td>\n",
       "      <td>0</td>\n",
       "      <td>3</td>\n",
       "    </tr>\n",
       "  </tbody>\n",
       "</table>\n",
       "</div>"
      ],
      "text/plain": [
       "                                                    scenario.task_A  \\\n",
       "Collect payment for transportation and accommod...                0   \n",
       "Converse with customer to determine destination...                4   \n",
       "Compute cost of travel and accommodations, usin...                0   \n",
       "Book transportation and hotel reservations, usi...                0   \n",
       "Plan, describe, arrange, and sell itinerary tou...                0   \n",
       "Provide customer with brochures and publication...                0   \n",
       "Print or request transportation carrier tickets...                0   \n",
       "Record and maintain information on clients, ven...                0   \n",
       "\n",
       "                                                    scenario.task_B  \\\n",
       "Collect payment for transportation and accommod...                0   \n",
       "Converse with customer to determine destination...                0   \n",
       "Compute cost of travel and accommodations, usin...                0   \n",
       "Book transportation and hotel reservations, usi...                2   \n",
       "Plan, describe, arrange, and sell itinerary tou...                1   \n",
       "Provide customer with brochures and publication...                1   \n",
       "Print or request transportation carrier tickets...                0   \n",
       "Record and maintain information on clients, ven...                0   \n",
       "\n",
       "                                                    scenario.task_C  \n",
       "Collect payment for transportation and accommod...                0  \n",
       "Converse with customer to determine destination...                0  \n",
       "Compute cost of travel and accommodations, usin...                0  \n",
       "Book transportation and hotel reservations, usi...                0  \n",
       "Plan, describe, arrange, and sell itinerary tou...                1  \n",
       "Provide customer with brochures and publication...                0  \n",
       "Print or request transportation carrier tickets...                0  \n",
       "Record and maintain information on clients, ven...                3  "
      ]
     },
     "execution_count": 72,
     "metadata": {},
     "output_type": "execute_result"
    }
   ],
   "source": [
    "# Initialize an empty DataFrame with unique values as columns and original columns as rows\n",
    "aux_df = pd.DataFrame(0, index=['scenario.task_A', 'scenario.task_B', 'scenario.task_C'], columns=tasks)\n",
    "\n",
    "# Fill the new DataFrame with counts\n",
    "for col in modified_GPT_trianglesCheck[['scenario.task_A', 'scenario.task_B', 'scenario.task_C']].columns:\n",
    "    value_counts = modified_GPT_trianglesCheck[col].value_counts()\n",
    "    aux_df.loc[col, value_counts.index] = value_counts.values\n",
    "aux_df = aux_df.T\n",
    "\n",
    "# Keep tasks which are sometimes node A of a triangle and sometimes node B of a triangle\n",
    "#aux_df = aux_df[(aux_df > 0).all(axis=1)]\n",
    "print('Nodes stats as nodes A, B, C of a triangle:')\n",
    "aux_df\n",
    "\n",
    "# get list of pivotal tasks\n",
    "#pivotal_tasks = aux_df.index.tolist()"
   ]
  },
  {
   "cell_type": "markdown",
   "metadata": {},
   "source": [
    "### Step 3: \n",
    "##### In cases where \n",
    "A --> B --> C and D --> A --> C \n",
    "##### the situation is different from when \n",
    "A --> B --> C and A --> D --> C\n",
    "##### In such cases, edges A --> C and D --> C must be considered simultaneously as triangles are not totally \"independent\". \n",
    "#### So we look for \"quadrangles\""
   ]
  },
  {
   "cell_type": "code",
   "execution_count": 73,
   "metadata": {},
   "outputs": [
    {
     "name": "stdout",
     "output_type": "stream",
     "text": [
      "Number of quadrilaterals: 0\n"
     ]
    }
   ],
   "source": [
    "# Iterate over the list of tuples and subset the DataFrame\n",
    "quadrangles_tasks = []\n",
    "for A, B, C, D in itertools.permutations(tasks, 4):\n",
    "    # Initialize an empty list to collect the indices of desired rows\n",
    "    quadrangle_indices = []\n",
    "\n",
    "    # Find rows where triangle nodes are A, B, C\n",
    "    condition1 = (modified_GPT_trianglesCheck['scenario.task_A'] == A) & (modified_GPT_trianglesCheck['scenario.task_B'] == B) & (modified_GPT_trianglesCheck['scenario.task_C'] == C)\n",
    "    rows1 = modified_GPT_trianglesCheck[condition1]\n",
    "    \n",
    "    # Find rows where triangle nodes are D, A, C\n",
    "    condition2 = (modified_GPT_trianglesCheck['scenario.task_A'] == D) & (modified_GPT_trianglesCheck['scenario.task_B'] == A) & (modified_GPT_trianglesCheck['scenario.task_C'] == C)\n",
    "    rows2 = modified_GPT_trianglesCheck[condition2]\n",
    "    \n",
    "    # If both conditions are met, add the indices to the list\n",
    "    if not rows1.empty and not rows2.empty:\n",
    "        quadrangles_tasks.append((A, B, C, D))    \n",
    "print(f'Number of quadrilaterals: {len(quadrangles_tasks)}')"
   ]
  },
  {
   "cell_type": "code",
   "execution_count": 74,
   "metadata": {},
   "outputs": [
    {
     "data": {
      "text/html": [
       "<div>\n",
       "<style scoped>\n",
       "    .dataframe tbody tr th:only-of-type {\n",
       "        vertical-align: middle;\n",
       "    }\n",
       "\n",
       "    .dataframe tbody tr th {\n",
       "        vertical-align: top;\n",
       "    }\n",
       "\n",
       "    .dataframe thead th {\n",
       "        text-align: right;\n",
       "    }\n",
       "</style>\n",
       "<table border=\"1\" class=\"dataframe\">\n",
       "  <thead>\n",
       "    <tr style=\"text-align: right;\">\n",
       "      <th></th>\n",
       "    </tr>\n",
       "  </thead>\n",
       "  <tbody>\n",
       "  </tbody>\n",
       "</table>\n",
       "</div>"
      ],
      "text/plain": [
       "Empty DataFrame\n",
       "Columns: []\n",
       "Index: []"
      ]
     },
     "execution_count": 74,
     "metadata": {},
     "output_type": "execute_result"
    }
   ],
   "source": [
    "quadrangles_df = pd.DataFrame()\n",
    "if len(quadrangles_tasks) > 0:\n",
    "    scenarios = [Scenario({\"occupation\": GPT_input_occupation, \"tasks\": tasks,\n",
    "                \"task_A\": A, \"task_B\": B, \"task_C\": C, \"task_D\": D})\n",
    "                for A, B, C, D in quadrangles_tasks]\n",
    "    results_AC_DC = q_AC_DC.by(m4).by(scenarios).run()\n",
    "    #results_AC_DC.select(['answer.AC_DC', 'scenario.task_A', 'scenario.task_B', 'scenario.task_C', 'scenario.task_D', 'comment.AC_DC_comment']).print()\n",
    "    quadrangles_df = results_AC_DC.select(['answer.AC_DC', 'scenario.task_A', 'scenario.task_B', 'scenario.task_C', 'scenario.task_D', 'comment.AC_DC_comment']).to_pandas()\n",
    "\n",
    "    # decide whether to keep or drop AC and DC\n",
    "    quadrangles_df['keep_AC'] = quadrangles_df['answer.AC_DC'].apply(lambda x: x in [AC_DC_question_options['keep AC, keep DC'], AC_DC_question_options['keep AC, drop DC']])\n",
    "    quadrangles_df['keep_DC'] = quadrangles_df['answer.AC_DC'].apply(lambda x: x in [AC_DC_question_options['keep AC, keep DC'], AC_DC_question_options['drop AC, keep DC']])\n",
    "\n",
    "    # Add node info to comments\n",
    "    quadrangles_df['comment.AC_DC_comment'] = (\n",
    "        quadrangles_df['comment.AC_DC_comment'] \n",
    "        + '\\n\\n(Source):\\n' + quadrangles_df['scenario.task_A'] \n",
    "        + '\\n(Conditioned on):\\n' + quadrangles_df['scenario.task_B'] \n",
    "        + '\\n(Target):\\n' + quadrangles_df['scenario.task_C']\n",
    "        + '\\n(Other task -- Task D):\\n' + quadrangles_df['scenario.task_D']\n",
    "    )\n",
    "quadrangles_df.head()"
   ]
  },
  {
   "cell_type": "markdown",
   "metadata": {},
   "source": [
    "#### Drop extra AC and DC edges"
   ]
  },
  {
   "cell_type": "code",
   "execution_count": 75,
   "metadata": {},
   "outputs": [
    {
     "name": "stdout",
     "output_type": "stream",
     "text": [
      "Number of AC-DC edges to remove: 0\n",
      "Number of AC edges to remove: 5\n",
      "Total number of edges to remove: 5\n"
     ]
    }
   ],
   "source": [
    "ACDC_edges_to_remove = pd.DataFrame()\n",
    "if len(quadrangles_tasks) > 0:\n",
    "    # Step 1: Get list of unique edges found in all quadrangles\n",
    "    pairs_AC = list(zip(quadrangles_df[\"scenario.task_A\"], quadrangles_df[\"scenario.task_C\"]))\n",
    "    pairs_AC = [(task_A, task_C, 'AC') for (task_A, task_C) in pairs_AC]\n",
    "    pairs_DC = list(zip(quadrangles_df[\"scenario.task_D\"], quadrangles_df[\"scenario.task_C\"]))\n",
    "    pairs_DC = [(task_D, task_C, 'DC') for (task_D, task_C) in pairs_DC]\n",
    "    all_pairs = pairs_AC + pairs_DC\n",
    "\n",
    "\n",
    "    # Step 2: Get list of edges to keep\n",
    "    aux_df = quadrangles_df[quadrangles_df['keep_AC']==True]\n",
    "    pairs_AC_toKeep = list(zip(aux_df[\"scenario.task_A\"], aux_df[\"scenario.task_C\"]))\n",
    "    pairs_AC_toKeep = [(task_A, task_C, 'AC') for (task_A, task_C) in pairs_AC_toKeep]\n",
    "\n",
    "    aux_df = quadrangles_df[quadrangles_df['keep_DC']==True]\n",
    "    pairs_DC_toKeep = list(zip(aux_df[\"scenario.task_D\"], aux_df[\"scenario.task_C\"]))\n",
    "    pairs_DC_toKeep = [(task_D, task_C, 'DC') for (task_D, task_C) in pairs_DC_toKeep]\n",
    "\n",
    "    pairs_toKeep = pairs_AC_toKeep + pairs_DC_toKeep\n",
    "\n",
    "\n",
    "    # Step 3: Get list of edges to drop\n",
    "    ACDC_edges_toDrop_list = [item for item in all_pairs if item not in pairs_toKeep]\n",
    "    ACDC_edges_to_remove = pd.DataFrame(ACDC_edges_toDrop_list, columns=[\"scenario.task_A\", \"scenario.task_C\", 'ID'])\n",
    "\n",
    "\n",
    "    # Step 4: Match comments\n",
    "    AC_indices = ACDC_edges_to_remove[ACDC_edges_to_remove['ID'] == 'AC'].index\n",
    "    DC_indices = ACDC_edges_to_remove[ACDC_edges_to_remove['ID'] == 'DC'].index\n",
    "\n",
    "    # Split ACDC_edges_to_remove into two DataFrames based on AC or DC edges\n",
    "    aux_df_AC = ACDC_edges_to_remove.loc[AC_indices]#[['scenario.task_A', 'scenario.task_C']]\n",
    "    aux_df_DC = ACDC_edges_to_remove.loc[DC_indices]#[['scenario.task_A', 'scenario.task_C']]\n",
    "\n",
    "    # Merge comments depending on AC or DC edge\n",
    "    merged_AC = pd.merge(aux_df_AC, quadrangles_df[['scenario.task_A', 'scenario.task_C', 'comment.AC_DC_comment']], \n",
    "                        on=['scenario.task_A', 'scenario.task_C'], \n",
    "                        how='left')\n",
    "    merged_AC = merged_AC[['scenario.task_A', 'scenario.task_C', 'comment.AC_DC_comment']]\n",
    "    merged_DC = pd.merge(aux_df_DC, quadrangles_df[['scenario.task_D', 'scenario.task_C', 'comment.AC_DC_comment']], \n",
    "                        left_on=['scenario.task_A', 'scenario.task_C'], \n",
    "                        right_on=['scenario.task_D', 'scenario.task_C'], \n",
    "                        how='left')\n",
    "    merged_DC = merged_DC[['scenario.task_A', 'scenario.task_C', 'comment.AC_DC_comment']]\n",
    "\n",
    "    # Concatenate merged DataFrames\n",
    "    ACDC_edges_to_remove = pd.concat([merged_AC, merged_DC]).sort_index()\n",
    "    ACDC_edges_to_remove = ACDC_edges_to_remove.drop_duplicates(subset=['scenario.task_A', 'scenario.task_C']).reset_index(drop=True)\n",
    "    ACDC_edges_to_remove.columns = ['scenario.task_A', 'scenario.task_C', 'comment.ordering_comment'] # for consistency with previous edges_to_remove data frame\n",
    "\n",
    "\n",
    "# Create a DataFrame of edges to be dropped from this analysis and earlier analyses\n",
    "print(f'Number of AC-DC edges to remove: {len(ACDC_edges_to_remove)}')\n",
    "print(f'Number of AC edges to remove: {len(edges_to_remove)}')\n",
    "edges_to_remove = pd.concat([edges_to_remove, ACDC_edges_to_remove], ignore_index=True)\n",
    "print(f'Total number of edges to remove: {len(edges_to_remove)}')"
   ]
  },
  {
   "cell_type": "code",
   "execution_count": 76,
   "metadata": {},
   "outputs": [],
   "source": [
    "# # Remove redundant edges\n",
    "# modified_GPT_AM_df = GPT_AM_df.copy()\n",
    "# modified_GPT_AM_df = pd.merge(modified_GPT_AM_df, edges_to_remove, how='left', \n",
    "#                               left_on=['source', 'target'], right_on=['scenario.task_A', 'scenario.task_C'], \n",
    "#                               indicator=True)\n",
    "# modified_GPT_AM_df = modified_GPT_AM_df[modified_GPT_AM_df['_merge'] == 'left_only'].drop(columns=['_merge', 'scenario.task_A', 'scenario.task_C'])\n",
    "# modified_GPT_AM_df = modified_GPT_AM_df.reset_index(drop=True)\n",
    "\n",
    "\n",
    "# Label edges to remove\n",
    "def adjust_graph_label_for_removed_edges(edges_to_remove, main_df):\n",
    "    output = main_df.copy()\n",
    "    for _, row in edges_to_remove.iterrows():\n",
    "        task_A, task_C, comment = row['scenario.task_A'], row['scenario.task_C'], row['comment.ordering_comment']\n",
    "        match = (main_df['source'] == task_A) & (main_df['target'] == task_C)\n",
    "        if match.any():\n",
    "            index_to_update = main_df.index[match][0]  # Get the index where the pair matches\n",
    "            output.at[index_to_update, 'comment'] = comment + 'TriangleRemovedFlag'\n",
    "    return output\n",
    "modified_GPT_AM_df = adjust_graph_label_for_removed_edges(edges_to_remove, GPT_AM_df)\n",
    "\n",
    "\n",
    "# Save output\n",
    "modified_GPT_AM_df.to_csv(output_filename, index=False)"
   ]
  },
  {
   "cell_type": "markdown",
   "metadata": {},
   "source": [
    "<br>\n",
    "\n",
    "<br>\n",
    "\n",
    "<br>\n",
    "\n",
    "<br>\n",
    "\n",
    "<br>"
   ]
  }
 ],
 "metadata": {
  "kernelspec": {
   "display_name": "base",
   "language": "python",
   "name": "python3"
  },
  "language_info": {
   "codemirror_mode": {
    "name": "ipython",
    "version": 3
   },
   "file_extension": ".py",
   "mimetype": "text/x-python",
   "name": "python",
   "nbconvert_exporter": "python",
   "pygments_lexer": "ipython3",
   "version": "3.12.2"
  }
 },
 "nbformat": 4,
 "nbformat_minor": 2
}
