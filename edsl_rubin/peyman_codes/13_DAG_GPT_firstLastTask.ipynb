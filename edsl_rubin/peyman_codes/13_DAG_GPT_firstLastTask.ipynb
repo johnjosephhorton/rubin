{
 "cells": [
  {
   "cell_type": "markdown",
   "metadata": {},
   "source": [
    "# Load libraries and functions"
   ]
  },
  {
   "cell_type": "markdown",
   "metadata": {},
   "source": []
  },
  {
   "cell_type": "code",
   "execution_count": 1,
   "metadata": {},
   "outputs": [],
   "source": [
    "with open('libraries.py') as f:\n",
    "    code = f.read()\n",
    "exec(code)\n",
    "\n",
    "with open('functions.py') as f:\n",
    "    code = f.read()\n",
    "exec(code)"
   ]
  },
  {
   "cell_type": "code",
   "execution_count": 2,
   "metadata": {},
   "outputs": [],
   "source": [
    "# determine user\n",
    "user = getpass.getuser()\n",
    "if user == 'peymansh':\n",
    "    main_folder_path = '/Users/peymansh/Dropbox (MIT)/Research/AI and Occupations/ai-exposure'\n",
    "    data_path = f'{main_folder_path}/output'"
   ]
  },
  {
   "cell_type": "markdown",
   "metadata": {},
   "source": [
    "## Main Code"
   ]
  },
  {
   "cell_type": "code",
   "execution_count": 3,
   "metadata": {},
   "outputs": [],
   "source": [
    "# Pick occupation and initialize variables\n",
    "occupation = 'travelAgents'\n",
    "# occupation = 'insuranceUnderwriters'\n",
    "# occupation = 'pileDriverOperators'\n",
    "# occupation = 'dredgeOperators'\n",
    "# occupation = 'gradersAndSorters'\n",
    "# occupation = 'reinforcingIron'\n",
    "# occupation = 'insuranceAppraisers'\n",
    "# occupation = 'floorSanders'\n",
    "# occupation = 'dataEntryKeyer'\n",
    "# occupation = 'athletesAndSportsCompetitors'\n",
    "# # occupation = 'shampooers'\n",
    "\n",
    "GPT_input_occupation, plot_title_occupation, occupation_code, occupation_folder = pick_occupation(occupation)"
   ]
  },
  {
   "cell_type": "code",
   "execution_count": 4,
   "metadata": {},
   "outputs": [
    {
     "data": {
      "text/plain": [
       "['Collect payment for transportation and accommodations from customer.',\n",
       " 'Converse with customer to determine destination, mode of transportation, travel dates, financial considerations, and accommodations required.',\n",
       " \"Compute cost of travel and accommodations, using calculator, computer, carrier tariff books, and hotel rate books, or quote package tour's costs.\",\n",
       " 'Book transportation and hotel reservations, using computer or telephone.',\n",
       " 'Plan, describe, arrange, and sell itinerary tour packages and promotional travel incentives offered by various travel carriers.',\n",
       " 'Provide customer with brochures and publications containing travel information, such as local customs, points of interest, or foreign country regulations.',\n",
       " 'Print or request transportation carrier tickets, using computer printer system or system link to travel carrier.',\n",
       " 'Record and maintain information on clients, vendors, and travel packages.']"
      ]
     },
     "execution_count": 4,
     "metadata": {},
     "output_type": "execute_result"
    }
   ],
   "source": [
    "# Load the data\n",
    "onet = pd.read_csv(f'{data_path}/data/onet_occupations_yearly.csv')\n",
    "onet = onet.sort_values(by=['year', 'occ_code', 'occ_title', 'task_id'])\n",
    "onet = onet[onet['year'] == 2023].reset_index(drop=True)\n",
    "\n",
    "# Get list of tasks\n",
    "my_df = onet[(onet.occ_code == f'{occupation_code}') & (onet.year == 2023)]\n",
    "tasks = my_df['task'].unique().tolist()\n",
    "tasks"
   ]
  },
  {
   "cell_type": "markdown",
   "metadata": {},
   "source": [
    "<br>\n",
    "\n",
    "<br>\n",
    "\n",
    "# 3) GPT First Last Task Method"
   ]
  },
  {
   "cell_type": "code",
   "execution_count": 5,
   "metadata": {},
   "outputs": [],
   "source": [
    "version = ''"
   ]
  },
  {
   "cell_type": "code",
   "execution_count": 6,
   "metadata": {},
   "outputs": [],
   "source": [
    "# Set up output file names\n",
    "firstLastTask_output_filename = f'{occupation_folder}/{version}{occupation}_FLT_tasks.csv'\n",
    "firstLastTask_DAG_output_filename = f'{occupation_folder}/{version}{occupation}_FLT_GPT_DAG_df.csv'"
   ]
  },
  {
   "cell_type": "markdown",
   "metadata": {},
   "source": [
    "### Set up the questions for GPT"
   ]
  },
  {
   "cell_type": "code",
   "execution_count": 7,
   "metadata": {},
   "outputs": [],
   "source": [
    "task_relationships_question_options = {'A first': \"Worker working on task B needs to know the output of worker working ong task A\",\n",
    "                                        'B first': \"Worker working on task A needs to know the output of worker working ong task B\",\n",
    "                                        'neither': \"Neither worker needs to know the output of the other worker\"\n",
    "                                        }\n",
    "firstLastTask_question_text = dedent(\"\"\"\\\n",
    "                                    Consider {{ occupation }} as an occupation.\n",
    "                                    The first task (or set of tasks) to be completed for the job is: {{ first_task }}.\n",
    "                                    The last task (or set of tasks) to be completed for the job is: {{ last_task }}. \n",
    "                                    Now consider these two tasks:\n",
    "                                    A) {{ task_A }} \n",
    "                                    B) {{ task_B }}\n",
    "                                    Imagine there are two workers, one working on task A and the other on task B.\n",
    "                                    Does the worker working on task B need to know the output of the worker working on task A before getting started? What about the opposite?\n",
    "                                    Avoid using words like \"task A\" and \"task B\" in the answer.\n",
    "                                    Explain the reasoning behind your answer in a couple of sentences.\n",
    "                                    \"\"\")"
   ]
  },
  {
   "cell_type": "code",
   "execution_count": 8,
   "metadata": {},
   "outputs": [],
   "source": [
    "task_relationships_question_options_list = list(task_relationships_question_options.values())"
   ]
  },
  {
   "cell_type": "code",
   "execution_count": 9,
   "metadata": {},
   "outputs": [],
   "source": [
    "def task_relationships_firstLast_included(occupation, tasks, first_task, last_task, question_text, question_options):\n",
    "    # Modify the first task and last task to appear as a single string\n",
    "    first_task = \" And \".join(first_task)\n",
    "    last_task = \" And \".join(last_task)\n",
    "\n",
    "    scenarios = [Scenario({\"occupation\": occupation, \n",
    "                           \"task_A\": task_A, \"task_B\": task_B,\n",
    "                           \"first_task\": first_task, \"last_task\": last_task}) \n",
    "                           for task_A, task_B in combinations(tasks, 2)]\n",
    "\n",
    "    q = QuestionMultipleChoice(\n",
    "        question_name = \"ordering\",\n",
    "        question_text = question_text,\n",
    "        question_options = question_options\n",
    "    )\n",
    "    results = q.by(m4).by(scenarios).run(progress_bar = True)\n",
    "    return results\n"
   ]
  },
  {
   "cell_type": "markdown",
   "metadata": {},
   "source": [
    "### Use One Step Method: Directly ask for pairwise comparison w/o giving the \"either\" option\n",
    "### Next determine first and last task/tasks to be done in the sequence and ask GPT to produce DAG"
   ]
  },
  {
   "cell_type": "code",
   "execution_count": 10,
   "metadata": {},
   "outputs": [],
   "source": [
    "def get_first_last_tasks(occupation, tasks):\n",
    "    scenarios = [Scenario({\"occupation\": occupation, \"tasks\": tasks})]\n",
    "\n",
    "    # First task\n",
    "    q1 = QuestionCheckBox(\n",
    "        question_name = \"firstTask\",\n",
    "        question_text = dedent(\"\"\"\\\n",
    "            Consider {{ occupation }} as an occupation.\n",
    "            The tasks below are part of the job of a {{ occupation }}: {{ tasks }}.\n",
    "            Among the following, which task or set of tasks would be done before all other tasks in order to compelete the job?\n",
    "            \"\"\"),\n",
    "        question_options = tasks,\n",
    "        min_selections = 1,\n",
    "        max_selections = int(np.floor(len(tasks) / 2)) # an upper bound for how many tasks can be considered as first task\n",
    "    )\n",
    "    results1 = q1.by(m4).by(scenarios).run().to_pandas()\n",
    "    first_task = results1['answer.firstTask'][0]\n",
    "    first_task = ast.literal_eval(first_task) # convert from string resembling list format to actual list\n",
    "\n",
    "\n",
    "    # Last task\n",
    "    q2 = QuestionCheckBox(\n",
    "        question_name = \"lastTask\",\n",
    "        question_text = dedent(\"\"\"\\\n",
    "            Consider {{ occupation }} as an occupation. \n",
    "            The tasks below are part of the job of {{ occupation }}: {{ tasks }}.\n",
    "            Among the following, which task or set of tasks would be done after all other tasks are completed?\n",
    "            \"\"\"),\n",
    "        question_options = tasks,\n",
    "        min_selections = 1,\n",
    "        max_selections = int(np.floor(len(tasks) / 2)) # an upper bound for how many tasks can be considered as last task\n",
    "    )\n",
    "    results2 = q2.by(m4).by(scenarios).run().to_pandas()\n",
    "    last_task = results2['answer.lastTask'][0]\n",
    "    last_task = ast.literal_eval(last_task) # convert from string resembling list format to actual list\n",
    "    \n",
    "    return first_task, last_task"
   ]
  },
  {
   "cell_type": "code",
   "execution_count": 11,
   "metadata": {},
   "outputs": [],
   "source": [
    "# Get first and last task(s) to be done in occupation\n",
    "first_task, last_task = get_first_last_tasks(GPT_input_occupation, tasks)\n",
    "firstLast_tasks_df = pd.DataFrame({'first_task': [first_task], 'last_task': [last_task]})\n",
    "firstLast_tasks_df.to_csv(firstLastTask_output_filename, index=False)"
   ]
  },
  {
   "cell_type": "markdown",
   "metadata": {},
   "source": [
    "### Compare pair of tasks"
   ]
  },
  {
   "cell_type": "code",
   "execution_count": 12,
   "metadata": {},
   "outputs": [
    {
     "data": {
      "application/vnd.jupyter.widget-view+json": {
       "model_id": "2b492816b4b54c77bf04eabf34962fca",
       "version_major": 2,
       "version_minor": 0
      },
      "text/plain": [
       "Output()"
      ]
     },
     "metadata": {},
     "output_type": "display_data"
    },
    {
     "data": {
      "text/html": [
       "<pre style=\"white-space:pre;overflow-x:auto;line-height:normal;font-family:Menlo,'DejaVu Sans Mono',consolas,'Courier New',monospace\"></pre>\n"
      ],
      "text/plain": []
     },
     "metadata": {},
     "output_type": "display_data"
    }
   ],
   "source": [
    "results = task_relationships_firstLast_included(GPT_input_occupation, tasks, first_task, last_task, firstLastTask_question_text, task_relationships_question_options_list)\n",
    "#results.select(\"task_A\", \"task_B\", \"ordering\", \"comment.ordering_comment\").print()\n",
    "GPT_firstLast_df_raw = results.select(\"task_A\", \"task_B\", \"ordering\", \"comment.ordering_comment\").to_pandas()\n",
    "\n",
    "# Swap columns and subset only those that are part of the same task sequence \n",
    "GPT_firstLast_df = GPT_firstLast_df_raw.copy()\n",
    "mask = GPT_firstLast_df['answer.ordering'] == task_relationships_question_options['B first']\n",
    "GPT_firstLast_df.loc[mask, ['scenario.task_A', 'scenario.task_B']] = GPT_firstLast_df.loc[mask, ['scenario.task_B', 'scenario.task_A']].values\n",
    "GPT_firstLast_df.loc[mask, 'answer.ordering'] = task_relationships_question_options['A first']\n",
    "GPT_firstLast_df = GPT_firstLast_df[GPT_firstLast_df['answer.ordering'] == task_relationships_question_options['A first']]\n",
    "GPT_firstLast_df = GPT_firstLast_df[['scenario.task_A', 'scenario.task_B', 'comment.ordering_comment']]\n",
    "\n",
    "# Change column names\n",
    "GPT_firstLast_df = GPT_firstLast_df.rename(columns={'scenario.task_A': 'source', \n",
    "                                                    'scenario.task_B': 'target', \n",
    "                                                    'comment.ordering_comment': 'comment'})"
   ]
  },
  {
   "cell_type": "code",
   "execution_count": 13,
   "metadata": {},
   "outputs": [],
   "source": [
    "# Add outgoing edges from last task(s) to \"Target\" node\n",
    "for task in last_task:\n",
    "    aux_df = pd.DataFrame({'source': [task],\n",
    "                           'target': ['\"Target\"'],\n",
    "                           'comment': ['Job Completion Indicator']})\n",
    "    GPT_firstLast_df = pd.concat([GPT_firstLast_df, aux_df], ignore_index=True)"
   ]
  },
  {
   "cell_type": "code",
   "execution_count": 14,
   "metadata": {},
   "outputs": [],
   "source": [
    "# Save output\n",
    "GPT_firstLast_df.to_csv(firstLastTask_DAG_output_filename, index=False)"
   ]
  }
 ],
 "metadata": {
  "kernelspec": {
   "display_name": "base",
   "language": "python",
   "name": "python3"
  },
  "language_info": {
   "codemirror_mode": {
    "name": "ipython",
    "version": 3
   },
   "file_extension": ".py",
   "mimetype": "text/x-python",
   "name": "python",
   "nbconvert_exporter": "python",
   "pygments_lexer": "ipython3",
   "version": "3.12.2"
  }
 },
 "nbformat": 4,
 "nbformat_minor": 2
}
