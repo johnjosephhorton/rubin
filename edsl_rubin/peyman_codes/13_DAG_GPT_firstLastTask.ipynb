{
 "cells": [
  {
   "cell_type": "markdown",
   "metadata": {},
   "source": [
    "# Load libraries and functions"
   ]
  },
  {
   "cell_type": "markdown",
   "metadata": {},
   "source": []
  },
  {
   "cell_type": "code",
   "execution_count": 118,
   "metadata": {},
   "outputs": [],
   "source": [
    "with open('libraries.py') as f:\n",
    "    code = f.read()\n",
    "exec(code)\n",
    "\n",
    "with open('functions.py') as f:\n",
    "    code = f.read()\n",
    "exec(code)"
   ]
  },
  {
   "cell_type": "code",
   "execution_count": 119,
   "metadata": {},
   "outputs": [],
   "source": [
    "# determine user\n",
    "user = getpass.getuser()\n",
    "if user == 'peymansh':\n",
    "    main_folder_path = '/Users/peymansh/Dropbox (MIT)/Research/AI and Occupations/ai-exposure'\n",
    "    data_path = f'{main_folder_path}/output'"
   ]
  },
  {
   "cell_type": "markdown",
   "metadata": {},
   "source": [
    "## Main Code"
   ]
  },
  {
   "cell_type": "code",
   "execution_count": 120,
   "metadata": {},
   "outputs": [],
   "source": [
    "# Pick occupation and initialize variables\n",
    "occupation = 'travelAgents'\n",
    "occupation = 'insuranceUnderwriters'\n",
    "# occupation = 'pileDriverOperators'\n",
    "# # occupation = 'shampooers'\n",
    "# # occupation = 'dredgeOperators'\n",
    "\n",
    "\n",
    "GPT_input_occupation, plot_title_occupation, occupation_code, occupation_folder = pick_occupation(occupation)"
   ]
  },
  {
   "cell_type": "code",
   "execution_count": 121,
   "metadata": {},
   "outputs": [
    {
     "data": {
      "text/plain": [
       "['Decline excessive risks.',\n",
       " 'Write to field representatives, medical personnel, or others to obtain further information, quote rates, or explain company underwriting policies.',\n",
       " 'Evaluate possibility of losses due to catastrophe or excessive insurance.',\n",
       " 'Decrease value of policy when risk is substandard and specify applicable endorsements or apply rating to ensure safe, profitable distribution of risks, using reference materials.',\n",
       " 'Review company records to determine amount of insurance in force on single risk or group of closely related risks.',\n",
       " 'Authorize reinsurance of policy when risk is high.',\n",
       " 'Examine documents to determine degree of risk from factors such as applicant health, financial standing and value, and condition of property.']"
      ]
     },
     "execution_count": 121,
     "metadata": {},
     "output_type": "execute_result"
    }
   ],
   "source": [
    "# Load the data\n",
    "onet = pd.read_csv(f'{data_path}/data/onet_occupations_yearly.csv')\n",
    "onet = onet.sort_values(by=['year', 'occ_code', 'occ_title', 'task_id'])\n",
    "onet = onet[onet['year'] == 2023].reset_index(drop=True)\n",
    "\n",
    "# Get list of tasks\n",
    "my_df = onet[(onet.occ_code == f'{occupation_code}') & (onet.year == 2023)]\n",
    "tasks = my_df['task'].unique().tolist()\n",
    "tasks"
   ]
  },
  {
   "cell_type": "markdown",
   "metadata": {},
   "source": [
    "<br>\n",
    "\n",
    "<br>\n",
    "\n",
    "# 3) GPT First Last Task Method"
   ]
  },
  {
   "cell_type": "code",
   "execution_count": 122,
   "metadata": {},
   "outputs": [],
   "source": [
    "version = 'v0/'\n",
    "version = 'v1/'"
   ]
  },
  {
   "cell_type": "code",
   "execution_count": 123,
   "metadata": {},
   "outputs": [],
   "source": [
    "# Set up output file names\n",
    "firstLastTask_output_filename = f'{occupation_folder}/{version}{occupation}_firstLastTask.csv'\n",
    "firstLastTask_DAG_output_filename = f'{occupation_folder}/{version}{occupation}_firstLastTaskGPT_DAG_df.csv'"
   ]
  },
  {
   "cell_type": "markdown",
   "metadata": {},
   "source": [
    "### Set up the questions for GPT"
   ]
  },
  {
   "cell_type": "code",
   "execution_count": 124,
   "metadata": {},
   "outputs": [],
   "source": [
    "if version == 'v0/':\n",
    "    task_relationships_question_options = {'A first': \"A would be done first\",\n",
    "                                          'B first': \"B would be done first\",\n",
    "                                          'neither': \"These are not part of the same task sequence\"\n",
    "                                          }\n",
    "    firstLastTask_question_text = dedent(\"\"\"\\\n",
    "                                     Consider {{ occupation }} as an occupation.\n",
    "                                     The first task (or set of tasks) to be completed for the job is: {{ first_task }}.\n",
    "                                     The last task (or set of tasks) to be completed for the job is: {{ last_task }}. \n",
    "                                     Now consider these two tasks:\n",
    "                                     A) {{ task_A }} \n",
    "                                     B) {{ task_B }}\n",
    "                                     What is the relationship between these tasks?\n",
    "                                     Avoid using words like \"task A\" and \"task B\" in the answer.\n",
    "                                     Explain the reasoning behind your answer in a couple of sentences.\n",
    "                                     \"\"\")"
   ]
  },
  {
   "cell_type": "code",
   "execution_count": 125,
   "metadata": {},
   "outputs": [],
   "source": [
    "if version == 'v1/':\n",
    "    task_relationships_question_options = {'A first': \"Worker working on task B needs to know the output of worker working ong task A\",\n",
    "                                          'B first': \"Worker working on task A needs to know the output of worker working ong task B\",\n",
    "                                          'neither': \"Neither worker needs to know the output of the other worker\"\n",
    "                                          }\n",
    "    firstLastTask_question_text = dedent(\"\"\"\\\n",
    "                                     Consider {{ occupation }} as an occupation.\n",
    "                                     The first task (or set of tasks) to be completed for the job is: {{ first_task }}.\n",
    "                                     The last task (or set of tasks) to be completed for the job is: {{ last_task }}. \n",
    "                                     Now consider these two tasks:\n",
    "                                     A) {{ task_A }} \n",
    "                                     B) {{ task_B }}\n",
    "                                     Imagine there are two workers, one working on task A and the other on task B.\n",
    "                                     Does the worker working on task B need to know the output of the worker working on task A before getting started? What about the opposite?\n",
    "                                     Avoid using words like \"task A\" and \"task B\" in the answer.\n",
    "                                     Explain the reasoning behind your answer in a couple of sentences.\n",
    "                                     \"\"\")"
   ]
  },
  {
   "cell_type": "code",
   "execution_count": 126,
   "metadata": {},
   "outputs": [],
   "source": [
    "task_relationships_question_options_list = list(task_relationships_question_options.values())"
   ]
  },
  {
   "cell_type": "code",
   "execution_count": 127,
   "metadata": {},
   "outputs": [],
   "source": [
    "def task_relationships_firstLast_included(occupation, tasks, first_task, last_task, question_text, question_options):\n",
    "    if '\"Sink\"' in tasks:\n",
    "        tasks.remove('\"Sink\"')\n",
    "\n",
    "    # Modify the first task and last task to appear as a single string\n",
    "    first_task = \" And \".join(first_task)\n",
    "    last_task = \" And \".join(last_task)\n",
    "\n",
    "    scenarios = [Scenario({\"occupation\": occupation, \n",
    "                           \"task_A\": task_A, \"task_B\": task_B,\n",
    "                           \"first_task\": first_task, \"last_task\": last_task}) \n",
    "                           for task_A, task_B in combinations(tasks, 2)]\n",
    "\n",
    "    q = QuestionMultipleChoice(\n",
    "        question_name = \"ordering\",\n",
    "        question_text = question_text,\n",
    "        question_options = question_options\n",
    "    )\n",
    "    results = q.by(m4).by(scenarios).run(progress_bar = True)\n",
    "    return results\n"
   ]
  },
  {
   "cell_type": "markdown",
   "metadata": {},
   "source": [
    "### Use One Step Method: Directly ask for pairwise comparison w/o giving the \"either\" option\n",
    "### Next determine first and last task/tasks to be done in the sequence and ask GPT to produce DAG"
   ]
  },
  {
   "cell_type": "code",
   "execution_count": 128,
   "metadata": {},
   "outputs": [],
   "source": [
    "def first_last_tasks(occupation, tasks):\n",
    "    # Remove \"Sink\" node if it exists\n",
    "    if '\"Sink\"' in tasks:\n",
    "        tasks.remove('\"Sink\"')\n",
    "\n",
    "    scenarios = [Scenario({\"occupation\": GPT_input_occupation, \"tasks\": tasks})]\n",
    "\n",
    "    # First task\n",
    "    q1 = QuestionCheckBox(\n",
    "        question_name = \"firstTask\",\n",
    "        question_text = dedent(\"\"\"\\\n",
    "            Consider {{ occupation }} as an occupation.\n",
    "            The tasks below are part of the job of a {{ occupation }}: {{ tasks }}.\n",
    "            Among the following, which task or set of tasks would be done before all other tasks in order to compelete the job?\n",
    "            \"\"\"),\n",
    "        question_options = tasks,\n",
    "        min_selections = 1,\n",
    "        max_selections = 3\n",
    "    )\n",
    "    results1 = q1.by(m4).by(scenarios).run().to_pandas()\n",
    "    first_task = results1['answer.firstTask'][0]\n",
    "    first_task = ast.literal_eval(first_task) # convert from string resembling list format to actual list\n",
    "\n",
    "\n",
    "    # Last task\n",
    "    q2 = QuestionCheckBox(\n",
    "        question_name = \"lastTask\",\n",
    "        question_text = dedent(\"\"\"\\\n",
    "            Consider {{ occupation }} as an occupation. \n",
    "            The tasks below are part of the job of {{ occupation }}: {{ tasks }}.\n",
    "            Among the following, which task or set of tasks would be done after all other tasks are completed?\n",
    "            \"\"\"),\n",
    "        question_options = tasks,\n",
    "        min_selections = 1,\n",
    "        max_selections = 3\n",
    "    )\n",
    "    results2 = q2.by(m4).by(scenarios).run().to_pandas()\n",
    "    last_task = results2['answer.lastTask'][0]\n",
    "    last_task = ast.literal_eval(last_task) # convert from string resembling list format to actual list\n",
    "    \n",
    "    return first_task, last_task"
   ]
  },
  {
   "cell_type": "code",
   "execution_count": 129,
   "metadata": {},
   "outputs": [],
   "source": [
    "first_task, last_task = first_last_tasks(GPT_input_occupation, tasks)\n",
    "firstLast_tasks_df = pd.DataFrame({'first_task': [first_task], 'last_task': [last_task]})\n",
    "firstLast_tasks_df.to_csv(firstLastTask_output_filename, index=False)"
   ]
  },
  {
   "cell_type": "markdown",
   "metadata": {},
   "source": [
    "### Compare pair of tasks"
   ]
  },
  {
   "cell_type": "code",
   "execution_count": 130,
   "metadata": {},
   "outputs": [
    {
     "data": {
      "application/vnd.jupyter.widget-view+json": {
       "model_id": "a18bca1c5d5845a6aec9731cd658b361",
       "version_major": 2,
       "version_minor": 0
      },
      "text/plain": [
       "Output()"
      ]
     },
     "metadata": {},
     "output_type": "display_data"
    },
    {
     "data": {
      "text/html": [
       "<pre style=\"white-space:pre;overflow-x:auto;line-height:normal;font-family:Menlo,'DejaVu Sans Mono',consolas,'Courier New',monospace\"></pre>\n"
      ],
      "text/plain": []
     },
     "metadata": {},
     "output_type": "display_data"
    }
   ],
   "source": [
    "results = task_relationships_firstLast_included(GPT_input_occupation, tasks, first_task, last_task, firstLastTask_question_text, task_relationships_question_options_list)\n",
    "#results.select(\"task_A\", \"task_B\", \"ordering\", \"comment.ordering_comment\").print()\n",
    "GPT_firstLast_df_raw = results.select(\"task_A\", \"task_B\", \"ordering\", \"comment.ordering_comment\").to_pandas()\n",
    "\n",
    "# Swap columns and subset only those that are part of the same task sequence \n",
    "GPT_firstLast_df = GPT_firstLast_df_raw.copy()\n",
    "mask = GPT_firstLast_df['answer.ordering'] == task_relationships_question_options['B first']\n",
    "GPT_firstLast_df.loc[mask, ['scenario.task_A', 'scenario.task_B']] = GPT_firstLast_df.loc[mask, ['scenario.task_B', 'scenario.task_A']].values\n",
    "GPT_firstLast_df.loc[mask, 'answer.ordering'] = task_relationships_question_options['A first']\n",
    "GPT_firstLast_df = GPT_firstLast_df[GPT_firstLast_df['answer.ordering'] == task_relationships_question_options['A first']]\n",
    "GPT_firstLast_df = GPT_firstLast_df[['scenario.task_A', 'scenario.task_B', 'comment.ordering_comment']]\n",
    "\n",
    "# Change column names\n",
    "GPT_firstLast_df = GPT_firstLast_df.rename(columns={'scenario.task_A': 'source', \n",
    "                                                    'scenario.task_B': 'target', \n",
    "                                                    'comment.ordering_comment': 'comment'})\n",
    "\n",
    "# Save output\n",
    "GPT_firstLast_df.to_csv(firstLastTask_DAG_output_filename, index=False)"
   ]
  }
 ],
 "metadata": {
  "kernelspec": {
   "display_name": "base",
   "language": "python",
   "name": "python3"
  },
  "language_info": {
   "codemirror_mode": {
    "name": "ipython",
    "version": 3
   },
   "file_extension": ".py",
   "mimetype": "text/x-python",
   "name": "python",
   "nbconvert_exporter": "python",
   "pygments_lexer": "ipython3",
   "version": "3.12.2"
  }
 },
 "nbformat": 4,
 "nbformat_minor": 2
}
