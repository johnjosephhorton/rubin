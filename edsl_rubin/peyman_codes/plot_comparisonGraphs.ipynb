{
 "cells": [
  {
   "cell_type": "markdown",
   "metadata": {},
   "source": [
    "# Load libraries and functions"
   ]
  },
  {
   "cell_type": "code",
   "execution_count": 513,
   "metadata": {},
   "outputs": [],
   "source": [
    "with open('libraries.py') as f:\n",
    "    code = f.read()\n",
    "exec(code)\n",
    "\n",
    "with open('functions.py') as f:\n",
    "    code = f.read()\n",
    "exec(code)"
   ]
  },
  {
   "cell_type": "code",
   "execution_count": 514,
   "metadata": {},
   "outputs": [],
   "source": [
    "# determine user\n",
    "user = getpass.getuser()\n",
    "if user == 'peymansh':\n",
    "    main_folder_path = '/Users/peymansh/Dropbox (MIT)/Research/AI and Occupations/ai-exposure'\n",
    "    data_path = f'{main_folder_path}/output'"
   ]
  },
  {
   "cell_type": "markdown",
   "metadata": {},
   "source": [
    "# Main Code"
   ]
  },
  {
   "cell_type": "code",
   "execution_count": 515,
   "metadata": {},
   "outputs": [],
   "source": [
    "# Pick occupation and initialize variables\n",
    "occupation = 'travelAgents'\n",
    "#occupation = 'insuranceUnderwriters'\n",
    "\n",
    "GPT_input_occupation, plot_title_occupation, occupation_code, occupation_folder = pick_occupation(occupation)"
   ]
  },
  {
   "cell_type": "code",
   "execution_count": 516,
   "metadata": {},
   "outputs": [],
   "source": [
    "plot_output_path = f'{occupation_folder}/plots'"
   ]
  },
  {
   "cell_type": "code",
   "execution_count": 517,
   "metadata": {},
   "outputs": [],
   "source": [
    "# Read DAG datasets\n",
    "manual_DAG_df = pd.read_csv(f'{occupation_folder}/{occupation}_manual_DAG_df.csv')\n",
    "GPT_DAG_oneStep_df = pd.read_csv(f'{occupation_folder}/{occupation}_oneStepGPT_DAG_df.csv')\n",
    "GPT_DAG_twoStep_df = pd.read_csv(f'{occupation_folder}/{occupation}_twoStepGPT_DAG_df.csv')\n",
    "GPT_DAG_firstLastTask_df = pd.read_csv(f'{occupation_folder}/{occupation}_firstLastTaskGPT_DAG_df.csv')\n",
    "GPT_DAG_conditioned_df = pd.read_csv(f'{occupation_folder}/{occupation}_conditionedGPT_DAG_df.csv')\n",
    "GPT_DAG_partitioned_df = pd.read_csv(f'{occupation_folder}/{occupation}_partitionedGPT_DAG_df.csv')\n",
    "\n",
    "# Add dummy comment column to manual DAG for compatibility reasons\n",
    "manual_DAG_df['comment'] = ''"
   ]
  },
  {
   "cell_type": "markdown",
   "metadata": {},
   "source": [
    "# Plot Interactive Graphs"
   ]
  },
  {
   "cell_type": "code",
   "execution_count": 518,
   "metadata": {},
   "outputs": [],
   "source": [
    "plot_graphs(occupation = occupation, \n",
    "            df1 = manual_DAG_df, df2 = GPT_DAG_oneStep_df, \n",
    "            df1_comment = 'Only in Manual DAG', df2_comment = 'Only in One-Step GPT DAG:\\n',\n",
    "            df1_unique_color = 'red', df2_unique_color = 'blue',\n",
    "            graph_title = f'{plot_title_occupation} - Manual (red) vs. One-Step GPT (blue) DAG',\n",
    "            save_path = f'{plot_output_path}/{occupation}_manual_vs_oneStepGPT_DAG.html')"
   ]
  },
  {
   "cell_type": "markdown",
   "metadata": {},
   "source": [
    "### Takeaway: GPT creates too many edges, though always misses some of those edges present in the Manual case.\n",
    "\n",
    "<br>\n",
    "\n",
    "<br>"
   ]
  },
  {
   "cell_type": "code",
   "execution_count": 519,
   "metadata": {},
   "outputs": [],
   "source": [
    "plot_graphs(occupation = occupation, \n",
    "            df1 = GPT_DAG_oneStep_df, df2 = GPT_DAG_twoStep_df, \n",
    "            df1_comment = 'Only in One-Step GPT DAG:\\n', df2_comment = 'Only in Two-Step GPT DAG:\\n',\n",
    "            df1_unique_color = 'red', df2_unique_color = 'blue',\n",
    "            graph_title = f'{plot_title_occupation} - One-Step GPT (red) vs. Two-Step GPT (blue) DAG',\n",
    "            save_path = f'{plot_output_path}/{occupation}_oneStep_vs_twoStep_GPT_DAG.html')"
   ]
  },
  {
   "cell_type": "markdown",
   "metadata": {},
   "source": [
    "### Takeaway: Before code refactoring each has one or two edges unique to them, but after refactor they produce exactly the same DAGs.\n",
    "\n",
    "<br>\n",
    "\n",
    "<br>"
   ]
  },
  {
   "cell_type": "code",
   "execution_count": 520,
   "metadata": {},
   "outputs": [],
   "source": [
    "plot_graphs(occupation = occupation, \n",
    "            df1 = manual_DAG_df, df2 = GPT_DAG_conditioned_df, \n",
    "            df1_comment = 'Only in Manual DAG', df2_comment = 'Only in Conditioned GPT DAG:\\n',\n",
    "            df1_unique_color = 'red', df2_unique_color = 'blue',\n",
    "            graph_title = f'{plot_title_occupation} - Manual (red) vs. Conditioned GPT (blue) DAG',\n",
    "            save_path = f'{plot_output_path}/{occupation}_manual_vs_conditionedGPT_DAG.html')"
   ]
  },
  {
   "cell_type": "markdown",
   "metadata": {},
   "source": [
    "### Takeaway: Triangles cuts too many edges, probably because edge removal algorithm is not perfect. (Refer to issues mentioned in df creation code)\n",
    "\n",
    "<br>\n",
    "\n",
    "<br>"
   ]
  },
  {
   "cell_type": "code",
   "execution_count": 521,
   "metadata": {},
   "outputs": [],
   "source": [
    "plot_graphs(occupation = occupation, \n",
    "            df1 = manual_DAG_df, df2 = GPT_DAG_firstLastTask_df, \n",
    "            df1_comment = 'Only in Manual DAG', df2_comment = 'Only in First-Last Task GPT DAG:\\n',\n",
    "            df1_unique_color = 'red', df2_unique_color = 'blue',\n",
    "            graph_title = f'{plot_title_occupation} - Manual (red) vs. First-Last Task GPT (blue) DAG',\n",
    "            save_path = f'{plot_output_path}/{occupation}_manual_vs_firstLastTaskGPT_DAG.html')"
   ]
  },
  {
   "cell_type": "markdown",
   "metadata": {},
   "source": [
    "### Takeaway: First Last Task method creates too many edges like other first stage GPT outputs. Two edges unique to manual in travel agents occupation though the reasoning of GPT might be different in interpreting the sequence of tasks. So, not necessarily a bad thing. \n",
    "\n",
    "#### Seems like First Last Task method works better than one step. So, changed input of triangles to First Last Task.\n",
    "\n",
    "<br>\n",
    "\n",
    "<br>"
   ]
  },
  {
   "cell_type": "code",
   "execution_count": 522,
   "metadata": {},
   "outputs": [],
   "source": [
    "plot_graphs(occupation = occupation, \n",
    "            df1 = GPT_DAG_oneStep_df, df2 = GPT_DAG_firstLastTask_df, \n",
    "            df1_comment = 'Only in One-Step GPT DAG:\\n', df2_comment = 'Only in First-Last Task GPT DAG:\\n',\n",
    "            df1_unique_color = 'red', df2_unique_color = 'blue',\n",
    "            graph_title = f'{plot_title_occupation} - One-Step GPT (red) vs. First-Last Task GPT (blue) DAG',\n",
    "            save_path = f'{plot_output_path}/{occupation}_oneStepGPT_vs_firstLastTaskGPT_DAG.html')"
   ]
  },
  {
   "cell_type": "markdown",
   "metadata": {},
   "source": [
    "### Takeaway: For travel agents *seems* the unique last task is \"Print\" in One Step GPT method. So, a dozen differences between approaches. Both create too many edges compard to manual as a first stage output. Need to narrow down set of edges.\n",
    "\n",
    "<br>\n",
    "\n",
    "<br>"
   ]
  },
  {
   "cell_type": "code",
   "execution_count": 523,
   "metadata": {},
   "outputs": [],
   "source": [
    "plot_graphs(occupation = occupation, \n",
    "            df1 = GPT_DAG_firstLastTask_df, df2 = GPT_DAG_conditioned_df, \n",
    "            df1_comment = 'Only in First-Last Task GPT DAG:\\n', df2_comment = 'Only in Conditioned GPT DAG:\\n',\n",
    "            df1_unique_color = 'red', df2_unique_color = 'blue',\n",
    "            graph_title = f'{plot_title_occupation} - First-Last Task GPT (red) vs. Conditioned GPT (blue) DAG',\n",
    "            save_path = f'{plot_output_path}/{occupation}_firstLastTaskGPT_vs_conditionedGPT_DAG.html')"
   ]
  },
  {
   "cell_type": "markdown",
   "metadata": {},
   "source": []
  },
  {
   "cell_type": "code",
   "execution_count": 524,
   "metadata": {},
   "outputs": [],
   "source": [
    "plot_graphs(occupation = occupation, \n",
    "            df1 = GPT_DAG_conditioned_df, df2 = GPT_DAG_partitioned_df, \n",
    "            df1_comment = 'Only in Conditioned GPT DAG:\\n', df2_comment = 'Only in Partitioned GPT DAG:\\n',\n",
    "            df1_unique_color = 'red', df2_unique_color = 'blue',\n",
    "            graph_title = f'{plot_title_occupation} - Conditioned GPT (red) vs. Partitioned GPT (blue) DAG',\n",
    "            save_path = f'{plot_output_path}/{occupation}_conditionedGPT_vs_partitionedGPT_DAG.html')"
   ]
  },
  {
   "cell_type": "code",
   "execution_count": 525,
   "metadata": {},
   "outputs": [],
   "source": [
    "plot_graphs(occupation = occupation, \n",
    "            df1 = manual_DAG_df, df2 = GPT_DAG_partitioned_df, \n",
    "            df1_comment = 'Only in Manual DAG', df2_comment = 'Only in Partitioned GPT DAG:\\n',\n",
    "            df1_unique_color = 'red', df2_unique_color = 'blue',\n",
    "            graph_title = f'{plot_title_occupation} - Manual (red) vs. Partitioned GPT (blue) DAG',\n",
    "            save_path = f'{plot_output_path}/{occupation}_manual_vs_partitionedGPT_DAG.html')"
   ]
  },
  {
   "cell_type": "markdown",
   "metadata": {},
   "source": [
    "## Combine the main Four graphs into one HTML file"
   ]
  },
  {
   "cell_type": "code",
   "execution_count": 526,
   "metadata": {},
   "outputs": [],
   "source": [
    "def create_combined_html(graph_files, output_file):\n",
    "    # HTML content for the combined file\n",
    "    html_content = \"\"\"\n",
    "    <!DOCTYPE html>\n",
    "    <html>\n",
    "    <head>\n",
    "        <title>Combined Graphs</title>\n",
    "        <style>\n",
    "            .container {\n",
    "                display: grid;\n",
    "                grid-template-columns: 50% 50%;\n",
    "                grid-template-rows: 50% 50%;\n",
    "                height: 100vh;\n",
    "                margin: 0;\n",
    "            }\n",
    "            iframe {\n",
    "                width: 100%;\n",
    "                height: 100%;\n",
    "                border: none;\n",
    "            }\n",
    "        </style>\n",
    "    </head>\n",
    "    <body>\n",
    "        <div class=\"container\">\n",
    "    \"\"\"\n",
    "    \n",
    "    # Add iframes for each graph file\n",
    "    for graph_file in graph_files:\n",
    "        html_content += f'<iframe src=\"{graph_file}\"></iframe>\\n'\n",
    "    \n",
    "    # Close the HTML tags\n",
    "    html_content += \"\"\"\n",
    "        </div>\n",
    "    </body>\n",
    "    </html>\n",
    "    \"\"\"\n",
    "    \n",
    "    # Write the content to the output file\n",
    "    with open(output_file, 'w') as file:\n",
    "        file.write(html_content)\n",
    "\n",
    "# Combine DAG HTML files\n",
    "graph_paths = [f'{plot_output_path}/{occupation}_manual_vs_firstLastTaskGPT_DAG.html',\n",
    "               f'{plot_output_path}/{occupation}_manual_vs_partitionedGPT_DAG.html',\n",
    "               f'{plot_output_path}/{occupation}_manual_vs_conditionedGPT_DAG.html',\n",
    "               f'{plot_output_path}/{occupation}_conditionedGPT_vs_partitionedGPT_DAG.html',\n",
    "               ]\n",
    "create_combined_html(graph_paths, f'{plot_output_path}/{occupation}_bigFour.html')"
   ]
  },
  {
   "cell_type": "markdown",
   "metadata": {},
   "source": []
  },
  {
   "cell_type": "markdown",
   "metadata": {},
   "source": []
  }
 ],
 "metadata": {
  "kernelspec": {
   "display_name": "base",
   "language": "python",
   "name": "python3"
  },
  "language_info": {
   "codemirror_mode": {
    "name": "ipython",
    "version": 3
   },
   "file_extension": ".py",
   "mimetype": "text/x-python",
   "name": "python",
   "nbconvert_exporter": "python",
   "pygments_lexer": "ipython3",
   "version": "3.12.2"
  }
 },
 "nbformat": 4,
 "nbformat_minor": 2
}
