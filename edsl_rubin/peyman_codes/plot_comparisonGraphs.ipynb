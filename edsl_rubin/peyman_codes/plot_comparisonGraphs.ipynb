{
 "cells": [
  {
   "cell_type": "markdown",
   "metadata": {},
   "source": [
    "# Load libraries and functions"
   ]
  },
  {
   "cell_type": "code",
   "execution_count": 61,
   "metadata": {},
   "outputs": [],
   "source": [
    "with open('libraries.py') as f:\n",
    "    code = f.read()\n",
    "exec(code)\n",
    "\n",
    "with open('functions.py') as f:\n",
    "    code = f.read()\n",
    "exec(code)"
   ]
  },
  {
   "cell_type": "code",
   "execution_count": 62,
   "metadata": {},
   "outputs": [],
   "source": [
    "# determine user\n",
    "user = getpass.getuser()\n",
    "if user == 'peymansh':\n",
    "    main_folder_path = '/Users/peymansh/Dropbox (MIT)/Research/AI and Occupations/ai-exposure'\n",
    "    data_path = f'{main_folder_path}/output'"
   ]
  },
  {
   "cell_type": "markdown",
   "metadata": {},
   "source": [
    "# Main Code"
   ]
  },
  {
   "cell_type": "code",
   "execution_count": 63,
   "metadata": {},
   "outputs": [],
   "source": [
    "# Pick occupation and initialize variables\n",
    "occupation = 'travelAgents'\n",
    "#occupation = 'insuranceUnderwriters'\n",
    "\n",
    "GPT_input_occupation, plot_title_occupation, occupation_code, occupation_folder = pick_occupation(occupation)"
   ]
  },
  {
   "cell_type": "code",
   "execution_count": 64,
   "metadata": {},
   "outputs": [],
   "source": [
    "plot_output_path = f'{occupation_folder}/plots'"
   ]
  },
  {
   "cell_type": "code",
   "execution_count": 65,
   "metadata": {},
   "outputs": [],
   "source": [
    "# Read DAG datasets\n",
    "manual_DAG_df = pd.read_csv(f'{occupation_folder}/{occupation}_manual_DAG_df.csv')\n",
    "GPT_DAG_oneStep_df = pd.read_csv(f'{occupation_folder}/{occupation}_oneStepGPT_DAG_df.csv')\n",
    "GPT_DAG_twoStep_df = pd.read_csv(f'{occupation_folder}/{occupation}_twoStepGPT_DAG_df.csv')\n",
    "GPT_DAG_triangles_df = pd.read_csv(f'{occupation_folder}/{occupation}_trianglesGPT_DAG_df.csv')\n",
    "GPT_DAG_firstLastTask_df = pd.read_csv(f'{occupation_folder}/{occupation}_firstLastTaskGPT_DAG_df.csv')\n",
    "\n",
    "# Add dummy comment column to manual DAG for compatibility reasons\n",
    "manual_DAG_df['comment'] = ''"
   ]
  },
  {
   "cell_type": "markdown",
   "metadata": {},
   "source": [
    "# Plot Interactive Graphs"
   ]
  },
  {
   "cell_type": "code",
   "execution_count": 66,
   "metadata": {},
   "outputs": [],
   "source": [
    "plot_graphs(occupation = occupation, \n",
    "            df1 = manual_DAG_df, df2 = GPT_DAG_oneStep_df, \n",
    "            df1_comment = 'Only in Manual DAG', df2_comment = 'Only in GPT DAG:\\n',\n",
    "            df1_unique_color = 'red', df2_unique_color = 'blue',\n",
    "            save_plot = f'{plot_output_path}/{occupation}_manual_vs_oneStepGPT_DAG.html')"
   ]
  },
  {
   "cell_type": "markdown",
   "metadata": {},
   "source": [
    "### Takeaway: GPT creates too many edges, though always misses some of those edges present in the Manual case.\n",
    "\n",
    "<br>\n",
    "\n",
    "<br>"
   ]
  },
  {
   "cell_type": "code",
   "execution_count": 67,
   "metadata": {},
   "outputs": [],
   "source": [
    "plot_graphs(occupation = occupation, \n",
    "            df1 = GPT_DAG_oneStep_df, df2 = GPT_DAG_twoStep_df, \n",
    "            df1_comment = 'Only in One-Step GPT DAG:\\n', df2_comment = 'Only in Two-Step GPT DAG:\\n',\n",
    "            df1_unique_color = 'red', df2_unique_color = 'blue',\n",
    "            save_plot = f'{plot_output_path}/{occupation}_oneStep_vs_twoStep_GPT_DAG.html')"
   ]
  },
  {
   "cell_type": "markdown",
   "metadata": {},
   "source": [
    "### Takeaway: Before code refactoring each has one or two edges unique to them, but after refactor they produce exactly the same DAGs.\n",
    "\n",
    "<br>\n",
    "\n",
    "<br>"
   ]
  },
  {
   "cell_type": "code",
   "execution_count": 68,
   "metadata": {},
   "outputs": [],
   "source": [
    "plot_graphs(occupation = occupation, \n",
    "            df1 = manual_DAG_df, df2 = GPT_DAG_triangles_df, \n",
    "            df1_comment = 'Only in Manual DAG', df2_comment = 'Only in Triangles GPT DAG:\\n',\n",
    "            df1_unique_color = 'red', df2_unique_color = 'blue',\n",
    "            save_plot = f'{plot_output_path}/{occupation}_manual_vs_trianglesGPT_DAG.html')"
   ]
  },
  {
   "cell_type": "markdown",
   "metadata": {},
   "source": [
    "### Takeaway: Triangles cuts too many edges, probably because edge removal algorithm is not perfect. (Refer to issues mentioned in df creation code)\n",
    "\n",
    "<br>\n",
    "\n",
    "<br>"
   ]
  },
  {
   "cell_type": "code",
   "execution_count": 69,
   "metadata": {},
   "outputs": [],
   "source": [
    "plot_graphs(occupation = occupation, \n",
    "            df1 = manual_DAG_df, df2 = GPT_DAG_firstLastTask_df, \n",
    "            df1_comment = 'Only in Manual DAG', df2_comment = 'Only in First and Last Task GPT DAG:\\n',\n",
    "            df1_unique_color = 'red', df2_unique_color = 'blue',\n",
    "            save_plot = f'{plot_output_path}/{occupation}_manual_vs_firstLastTaskGPT_DAG.html')"
   ]
  },
  {
   "cell_type": "markdown",
   "metadata": {},
   "source": [
    "### Takeaway: First Last Task method creates too many edges like other first stage GPT outputs. Two edges unique to manual in travel agents occupation though the reasoning of GPT might be different in interpreting the sequence of tasks. So, not necessarily a bad thing. \n",
    "\n",
    "#### Seems like First Last Task method works better than one step. So, changed input of triangles to First Last Task.\n",
    "\n",
    "<br>\n",
    "\n",
    "<br>"
   ]
  },
  {
   "cell_type": "code",
   "execution_count": 70,
   "metadata": {},
   "outputs": [],
   "source": [
    "plot_graphs(occupation = occupation, \n",
    "            df1 = GPT_DAG_oneStep_df, df2 = GPT_DAG_firstLastTask_df, \n",
    "            df1_comment = 'Only in One-Step GPT DAG:\\n', df2_comment = 'Only in First and Last Task GPT DAG:\\n',\n",
    "            df1_unique_color = 'red', df2_unique_color = 'blue',\n",
    "            save_plot = f'{plot_output_path}/{occupation}_oneStepGPT_vs_firstLastTaskGPT_DAG.html')"
   ]
  },
  {
   "cell_type": "markdown",
   "metadata": {},
   "source": [
    "### Takeaway: For travel agents *seems* the unique last task is \"Print\" in One Step GPT method. So, a dozen differences between approaches. Both create too many edges compard to manual as a first stage output. Need to narrow down set of edges.\n",
    "\n",
    "<br>\n",
    "\n",
    "<br>"
   ]
  },
  {
   "cell_type": "markdown",
   "metadata": {},
   "source": []
  }
 ],
 "metadata": {
  "kernelspec": {
   "display_name": "base",
   "language": "python",
   "name": "python3"
  },
  "language_info": {
   "codemirror_mode": {
    "name": "ipython",
    "version": 3
   },
   "file_extension": ".py",
   "mimetype": "text/x-python",
   "name": "python",
   "nbconvert_exporter": "python",
   "pygments_lexer": "ipython3",
   "version": "3.12.2"
  }
 },
 "nbformat": 4,
 "nbformat_minor": 2
}
