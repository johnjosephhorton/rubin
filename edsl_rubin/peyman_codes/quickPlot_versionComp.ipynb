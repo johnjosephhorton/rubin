{
 "cells": [
  {
   "cell_type": "markdown",
   "metadata": {},
   "source": [
    "# Load libraries and functions"
   ]
  },
  {
   "cell_type": "code",
   "execution_count": 277,
   "metadata": {},
   "outputs": [],
   "source": [
    "with open('libraries.py') as f:\n",
    "    code = f.read()\n",
    "exec(code)\n",
    "\n",
    "with open('functions.py') as f:\n",
    "    code = f.read()\n",
    "exec(code)"
   ]
  },
  {
   "cell_type": "code",
   "execution_count": 278,
   "metadata": {},
   "outputs": [],
   "source": [
    "# determine user\n",
    "user = getpass.getuser()\n",
    "if user == 'peymansh':\n",
    "    main_folder_path = '/Users/peymansh/Dropbox (MIT)/Research/AI and Occupations/ai-exposure'\n",
    "    data_path = f'{main_folder_path}/output'"
   ]
  },
  {
   "cell_type": "markdown",
   "metadata": {},
   "source": [
    "# Main Code"
   ]
  },
  {
   "cell_type": "code",
   "execution_count": 279,
   "metadata": {},
   "outputs": [],
   "source": [
    "# Pick occupation and initialize variables\n",
    "occupation = 'travelAgents'\n",
    "#occupation = 'insuranceUnderwriters'\n",
    "#occupation = 'pileDriverOperators'\n",
    "# # occupation = 'shampooers'\n",
    "# # occupation = 'dredgeOperators'\n",
    "\n",
    "GPT_input_occupation, plot_title_occupation, occupation_code, occupation_folder = pick_occupation(occupation)"
   ]
  },
  {
   "cell_type": "code",
   "execution_count": 280,
   "metadata": {},
   "outputs": [],
   "source": [
    "plot_output_path = f'{occupation_folder}/plots'"
   ]
  },
  {
   "cell_type": "code",
   "execution_count": 281,
   "metadata": {},
   "outputs": [],
   "source": [
    "# Read DAG datasets\n",
    "#manual_DAG_df = pd.read_csv(f'{occupation_folder}/{occupation}_manual_DAG_df.csv')\n",
    "#GPT_DAG_oneStep_df = pd.read_csv(f'{occupation_folder}/{occupation}_oneStepGPT_DAG_df.csv')\n",
    "#GPT_DAG_twoStep_df = pd.read_csv(f'{occupation_folder}/{occupation}_twoStepGPT_DAG_df.csv')\n",
    "#GPT_DAG_firstLastTask_df = pd.read_csv(f'{occupation_folder}/{occupation}_firstLastTaskGPT_DAG_df.csv')\n",
    "#GPT_DAG_partitioned_df = pd.read_csv(f'{occupation_folder}/{occupation}_partitionedGPT_DAG_df.csv')\n",
    "GPT_DAG_conditioned_firstLast_df = pd.read_csv(f'{occupation_folder}/{occupation}_conditionedGPT_fromFirstLastTask_DAG_df.csv')\n",
    "GPT_DAG_conditioned_firstLast_df_nicole = pd.read_csv(f'{occupation_folder}/{occupation}_conditionedGPT_fromFirstLastTask_DAG_df_v1Nicole.csv')\n",
    "GPT_DAG_conditioned_partitioned_df = pd.read_csv(f'{occupation_folder}/{occupation}_conditionedGPT_fromPartitioned_DAG_df.csv')\n",
    "GPT_DAG_conditioned_partitioned_df_nicole = pd.read_csv(f'{occupation_folder}/{occupation}_conditionedGPT_fromPartitioned_DAG_df_v1Nicole.csv')\n",
    "\n",
    "\n",
    "# Add dummy comment column to manual DAG for compatibility reasons\n",
    "#manual_DAG_df['comment'] = ''"
   ]
  },
  {
   "cell_type": "markdown",
   "metadata": {},
   "source": [
    "# Plot Interactive Graphs"
   ]
  },
  {
   "cell_type": "code",
   "execution_count": 282,
   "metadata": {},
   "outputs": [],
   "source": [
    "plot_graphs(occupation = occupation, \n",
    "            df1 = GPT_DAG_conditioned_firstLast_df, df2 = GPT_DAG_conditioned_firstLast_df_nicole, \n",
    "            df1_comment = 'Only in Peyman DAG:\\n', df2_comment = 'Only in Nicole DAG:\\n',\n",
    "            df1_unique_color = 'red', df2_unique_color = 'blue',\n",
    "            graph_title = f'{plot_title_occupation} FirstLastTask DAG - Peyman (red) vs. Nicole GPT (blue)',\n",
    "            save_path = f'{plot_output_path}/{occupation}_firstLastTask_DAG_Peyman_vs_v1Nicole.html')"
   ]
  },
  {
   "cell_type": "code",
   "execution_count": 283,
   "metadata": {},
   "outputs": [],
   "source": [
    "plot_graphs(occupation = occupation, \n",
    "            df1 = GPT_DAG_conditioned_partitioned_df, df2 = GPT_DAG_conditioned_partitioned_df_nicole, \n",
    "            df1_comment = 'Only in Peyman DAG:\\n', df2_comment = 'Only in Nicole DAG:\\n',\n",
    "            df1_unique_color = 'red', df2_unique_color = 'blue',\n",
    "            graph_title = f'{plot_title_occupation} Partitioned DAG - Peyman (red) vs. Nicole GPT (blue)',\n",
    "            save_path = f'{plot_output_path}/{occupation}_partitioned_DAG_Peyman_vs_v1Nicole.html')"
   ]
  },
  {
   "cell_type": "markdown",
   "metadata": {},
   "source": []
  },
  {
   "cell_type": "markdown",
   "metadata": {},
   "source": []
  },
  {
   "cell_type": "markdown",
   "metadata": {},
   "source": []
  }
 ],
 "metadata": {
  "kernelspec": {
   "display_name": "base",
   "language": "python",
   "name": "python3"
  },
  "language_info": {
   "codemirror_mode": {
    "name": "ipython",
    "version": 3
   },
   "file_extension": ".py",
   "mimetype": "text/x-python",
   "name": "python",
   "nbconvert_exporter": "python",
   "pygments_lexer": "ipython3",
   "version": "3.12.2"
  }
 },
 "nbformat": 4,
 "nbformat_minor": 2
}
