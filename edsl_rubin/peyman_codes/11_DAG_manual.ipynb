{
 "cells": [
  {
   "cell_type": "markdown",
   "metadata": {},
   "source": [
    "# Load libraries and functions"
   ]
  },
  {
   "cell_type": "markdown",
   "metadata": {},
   "source": []
  },
  {
   "cell_type": "code",
   "execution_count": 11,
   "metadata": {},
   "outputs": [],
   "source": [
    "with open('libraries.py') as f:\n",
    "    code = f.read()\n",
    "exec(code)\n",
    "\n",
    "with open('functions.py') as f:\n",
    "    code = f.read()\n",
    "exec(code)"
   ]
  },
  {
   "cell_type": "code",
   "execution_count": 12,
   "metadata": {},
   "outputs": [],
   "source": [
    "# determine user\n",
    "user = getpass.getuser()\n",
    "if user == 'peymansh':\n",
    "    main_folder_path = '/Users/peymansh/Dropbox (MIT)/Research/AI and Occupations/ai-exposure'\n",
    "    data_path = f'{main_folder_path}/output'"
   ]
  },
  {
   "cell_type": "markdown",
   "metadata": {},
   "source": [
    "## Main Code"
   ]
  },
  {
   "cell_type": "code",
   "execution_count": 13,
   "metadata": {},
   "outputs": [],
   "source": [
    "# Pick occupation and initialize variables\n",
    "occupation = 'travelAgents'\n",
    "occupation = 'insuranceUnderwriters'\n",
    "occupation = 'pileDriverOperators'\n",
    "# # occupation = 'shampooers'\n",
    "\n",
    "\n",
    "GPT_input_occupation, plot_title_occupation, occupation_code, occupation_folder = pick_occupation(occupation)"
   ]
  },
  {
   "cell_type": "code",
   "execution_count": 14,
   "metadata": {},
   "outputs": [
    {
     "data": {
      "text/plain": [
       "['Move hand and foot levers of hoisting equipment to position piling leads, hoist piling into leads, and position hammers over pilings.',\n",
       " 'Conduct pre-operational checks on equipment to ensure proper functioning.',\n",
       " 'Drive pilings to provide support for buildings or other structures, using heavy equipment with a pile driver head.',\n",
       " 'Move levers and turn valves to activate power hammers, or to raise and lower drophammers that drive piles to required depths.',\n",
       " 'Clean, lubricate, and refill equipment.']"
      ]
     },
     "execution_count": 14,
     "metadata": {},
     "output_type": "execute_result"
    }
   ],
   "source": [
    "# Load the data\n",
    "onet = pd.read_csv(f'{data_path}/data/onet_occupations_yearly.csv')\n",
    "onet = onet.sort_values(by=['year', 'occ_code', 'occ_title', 'task_id'])\n",
    "onet = onet[onet['year'] == 2023].reset_index(drop=True)\n",
    "\n",
    "# Get list of tasks\n",
    "my_df = onet[(onet.occ_code == f'{occupation_code}') & (onet.year == 2023)]\n",
    "tasks = my_df['task'].unique().tolist()\n",
    "tasks = [task.replace(\"'\", \"\") for task in tasks] # remove apastrophes\n",
    "tasks"
   ]
  },
  {
   "cell_type": "markdown",
   "metadata": {},
   "source": [
    "<br>\n",
    "\n",
    "<br>\n",
    "\n",
    "# 1) Manual DAG"
   ]
  },
  {
   "cell_type": "code",
   "execution_count": 15,
   "metadata": {},
   "outputs": [],
   "source": [
    "# Read manual adjacency matrix\n",
    "manual_AM = pd.read_csv(f'{occupation_folder}/{occupation}_AM.csv', index_col=0)\n",
    "\n",
    "# Initialize lists to store the source and target nodes\n",
    "sources = []\n",
    "targets = []\n",
    "\n",
    "# Iterate over the adjacency matrix to find ones and populate the lists\n",
    "for row_label, row in manual_AM.iterrows():\n",
    "    for col_label, value in row.items():\n",
    "        if value == 1:\n",
    "            sources.append(row_label)\n",
    "            targets.append(col_label)\n",
    "\n",
    "# Create data frame\n",
    "manual_DAG_df = pd.DataFrame({'source': sources, 'target': targets})\n",
    "\n",
    "# Save output\n",
    "manual_DAG_df.to_csv(f'{occupation_folder}/{occupation}_M_DAG_df.csv', index=False)"
   ]
  }
 ],
 "metadata": {
  "kernelspec": {
   "display_name": "base",
   "language": "python",
   "name": "python3"
  },
  "language_info": {
   "codemirror_mode": {
    "name": "ipython",
    "version": 3
   },
   "file_extension": ".py",
   "mimetype": "text/x-python",
   "name": "python",
   "nbconvert_exporter": "python",
   "pygments_lexer": "ipython3",
   "version": "3.12.2"
  }
 },
 "nbformat": 4,
 "nbformat_minor": 2
}
