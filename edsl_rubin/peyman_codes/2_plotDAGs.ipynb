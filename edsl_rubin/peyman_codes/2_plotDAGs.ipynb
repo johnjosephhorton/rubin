{
 "cells": [
  {
   "cell_type": "markdown",
   "metadata": {},
   "source": [
    "# Load libraries and functions"
   ]
  },
  {
   "cell_type": "code",
   "execution_count": 442,
   "metadata": {},
   "outputs": [],
   "source": [
    "with open('libraries.py') as f:\n",
    "    code = f.read()\n",
    "exec(code)\n",
    "\n",
    "with open('functions.py') as f:\n",
    "    code = f.read()\n",
    "exec(code)"
   ]
  },
  {
   "cell_type": "code",
   "execution_count": 443,
   "metadata": {},
   "outputs": [],
   "source": [
    "# determine user\n",
    "user = getpass.getuser()\n",
    "if user == 'peymansh':\n",
    "    main_folder_path = '/Users/peymansh/Dropbox (MIT)/Research/AI and Occupations/ai-exposure'\n",
    "    data_path = f'{main_folder_path}/output'"
   ]
  },
  {
   "cell_type": "markdown",
   "metadata": {},
   "source": [
    "# Main Code"
   ]
  },
  {
   "cell_type": "code",
   "execution_count": 444,
   "metadata": {},
   "outputs": [],
   "source": [
    "# Pick occupation and initialize variables\n",
    "occupation = 'travelAgents'\n",
    "#occupation = 'insuranceUnderwriters'\n",
    "#occupation = 'pileDriverOperators'\n",
    "# # occupation = 'shampooers'\n",
    "# # occupation = 'dredgeOperators'\n",
    "\n",
    "GPT_input_occupation, plot_title_occupation, occupation_code, occupation_folder = pick_occupation(occupation)"
   ]
  },
  {
   "cell_type": "code",
   "execution_count": 445,
   "metadata": {},
   "outputs": [],
   "source": [
    "version = 'v0/'\n",
    "version = 'v1/'"
   ]
  },
  {
   "cell_type": "code",
   "execution_count": 446,
   "metadata": {},
   "outputs": [],
   "source": [
    "plot_output_path = f'{occupation_folder}/{version}plots'"
   ]
  },
  {
   "cell_type": "code",
   "execution_count": 447,
   "metadata": {},
   "outputs": [],
   "source": [
    "empty_df = pd.DataFrame(columns=['source', 'target', 'comment'])\n",
    "#manual_DAG_df = empty_df.copy()\n",
    "\n",
    "# Read DAG datasets\n",
    "manual_DAG_df = pd.read_csv(f'{occupation_folder}/{occupation}_manual_DAG_df.csv')\n",
    "GPT_DAG_oneStep_df = pd.read_csv(f'{occupation_folder}/{version}{occupation}_oneStepGPT_DAG_df.csv')\n",
    "GPT_DAG_twoStep_df = pd.read_csv(f'{occupation_folder}/{version}{occupation}_twoStepGPT_DAG_df.csv')\n",
    "GPT_DAG_firstLastTask_df = pd.read_csv(f'{occupation_folder}/{version}{occupation}_firstLastTaskGPT_DAG_df.csv')\n",
    "GPT_DAG_partitioned_df = pd.read_csv(f'{occupation_folder}/{version}{occupation}_partitionedGPT_DAG_df.csv')\n",
    "GPT_DAG_conditioned_firstLast_df = pd.read_csv(f'{occupation_folder}/{version}{occupation}_conditionedGPT_fromFirstLastTask_DAG_df.csv')\n",
    "GPT_DAG_conditioned_partitioned_df = pd.read_csv(f'{occupation_folder}/{version}{occupation}_conditionedGPT_fromPartitioned_DAG_df.csv')\n",
    "\n",
    "\n",
    "# Add dummy comment column to manual DAG for compatibility reasons\n",
    "manual_DAG_df['comment'] = ''"
   ]
  },
  {
   "cell_type": "markdown",
   "metadata": {},
   "source": [
    "# Plot Interactive Graphs"
   ]
  },
  {
   "cell_type": "code",
   "execution_count": 448,
   "metadata": {},
   "outputs": [],
   "source": [
    "plot_graphs(occupation = occupation, \n",
    "            df1 = manual_DAG_df, df2 = GPT_DAG_oneStep_df, \n",
    "            df1_comment = 'Only in Manual DAG', df2_comment = 'Only in One-Step GPT DAG:\\n',\n",
    "            df1_unique_color = 'red', df2_unique_color = 'blue',\n",
    "            graph_title = f'{plot_title_occupation} DAG - Manual (red) vs. One-Step GPT (blue)',\n",
    "            save_path = f'{plot_output_path}/{occupation}_manual_vs_oneStepGPT_DAG.html')"
   ]
  },
  {
   "cell_type": "markdown",
   "metadata": {},
   "source": [
    "#### Takeaway: GPT creates too many edges, though always misses some of those edges present in the Manual case.\n",
    "\n",
    "<br>\n",
    "\n",
    "<br>"
   ]
  },
  {
   "cell_type": "code",
   "execution_count": 449,
   "metadata": {},
   "outputs": [
    {
     "ename": "AssertionError",
     "evalue": "non existent node 'Book transportation and hotel reservations, using computer or telephone.'",
     "output_type": "error",
     "traceback": [
      "\u001b[0;31m---------------------------------------------------------------------------\u001b[0m",
      "\u001b[0;31mAssertionError\u001b[0m                            Traceback (most recent call last)",
      "Cell \u001b[0;32mIn[449], line 1\u001b[0m\n\u001b[0;32m----> 1\u001b[0m plot_graphs(occupation \u001b[38;5;241m=\u001b[39m occupation, \n\u001b[1;32m      2\u001b[0m             df1 \u001b[38;5;241m=\u001b[39m manual_DAG_df, df2 \u001b[38;5;241m=\u001b[39m GPT_DAG_twoStep_df, \n\u001b[1;32m      3\u001b[0m             df1_comment \u001b[38;5;241m=\u001b[39m \u001b[38;5;124m'\u001b[39m\u001b[38;5;124mOnly in Manual DAG\u001b[39m\u001b[38;5;124m'\u001b[39m, df2_comment \u001b[38;5;241m=\u001b[39m \u001b[38;5;124m'\u001b[39m\u001b[38;5;124mOnly in Two-Step GPT DAG:\u001b[39m\u001b[38;5;130;01m\\n\u001b[39;00m\u001b[38;5;124m'\u001b[39m,\n\u001b[1;32m      4\u001b[0m             df1_unique_color \u001b[38;5;241m=\u001b[39m \u001b[38;5;124m'\u001b[39m\u001b[38;5;124mred\u001b[39m\u001b[38;5;124m'\u001b[39m, df2_unique_color \u001b[38;5;241m=\u001b[39m \u001b[38;5;124m'\u001b[39m\u001b[38;5;124mblue\u001b[39m\u001b[38;5;124m'\u001b[39m,\n\u001b[1;32m      5\u001b[0m             graph_title \u001b[38;5;241m=\u001b[39m \u001b[38;5;124mf\u001b[39m\u001b[38;5;124m'\u001b[39m\u001b[38;5;132;01m{\u001b[39;00mplot_title_occupation\u001b[38;5;132;01m}\u001b[39;00m\u001b[38;5;124m DAG - Manual (red) vs. Two-Step GPT (blue)\u001b[39m\u001b[38;5;124m'\u001b[39m,\n\u001b[1;32m      6\u001b[0m             save_path \u001b[38;5;241m=\u001b[39m \u001b[38;5;124mf\u001b[39m\u001b[38;5;124m'\u001b[39m\u001b[38;5;132;01m{\u001b[39;00mplot_output_path\u001b[38;5;132;01m}\u001b[39;00m\u001b[38;5;124m/\u001b[39m\u001b[38;5;132;01m{\u001b[39;00moccupation\u001b[38;5;132;01m}\u001b[39;00m\u001b[38;5;124m_manual_vs_twoStepGPT_DAG.html\u001b[39m\u001b[38;5;124m'\u001b[39m)\n",
      "File \u001b[0;32m<string>:228\u001b[0m, in \u001b[0;36mplot_graphs\u001b[0;34m(occupation, df1, df2, df1_comment, df2_comment, df1_unique_color, df2_unique_color, graph_title, save_path, plot_removed_edges)\u001b[0m\n",
      "File \u001b[0;32m~/anaconda3/lib/python3.12/site-packages/pyvis/network.py:369\u001b[0m, in \u001b[0;36mNetwork.add_edge\u001b[0;34m(self, source, to, **options)\u001b[0m\n\u001b[1;32m    366\u001b[0m edge_exists \u001b[38;5;241m=\u001b[39m \u001b[38;5;28;01mFalse\u001b[39;00m\n\u001b[1;32m    368\u001b[0m \u001b[38;5;66;03m# verify nodes exists\u001b[39;00m\n\u001b[0;32m--> 369\u001b[0m \u001b[38;5;28;01massert\u001b[39;00m source \u001b[38;5;129;01min\u001b[39;00m \u001b[38;5;28mself\u001b[39m\u001b[38;5;241m.\u001b[39mget_nodes(), \\\n\u001b[1;32m    370\u001b[0m     \u001b[38;5;124m\"\u001b[39m\u001b[38;5;124mnon existent node \u001b[39m\u001b[38;5;124m'\u001b[39m\u001b[38;5;124m\"\u001b[39m \u001b[38;5;241m+\u001b[39m \u001b[38;5;28mstr\u001b[39m(source) \u001b[38;5;241m+\u001b[39m \u001b[38;5;124m\"\u001b[39m\u001b[38;5;124m'\u001b[39m\u001b[38;5;124m\"\u001b[39m\n\u001b[1;32m    372\u001b[0m \u001b[38;5;28;01massert\u001b[39;00m to \u001b[38;5;129;01min\u001b[39;00m \u001b[38;5;28mself\u001b[39m\u001b[38;5;241m.\u001b[39mget_nodes(), \\\n\u001b[1;32m    373\u001b[0m     \u001b[38;5;124m\"\u001b[39m\u001b[38;5;124mnon existent node \u001b[39m\u001b[38;5;124m'\u001b[39m\u001b[38;5;124m\"\u001b[39m \u001b[38;5;241m+\u001b[39m \u001b[38;5;28mstr\u001b[39m(to) \u001b[38;5;241m+\u001b[39m \u001b[38;5;124m\"\u001b[39m\u001b[38;5;124m'\u001b[39m\u001b[38;5;124m\"\u001b[39m\n\u001b[1;32m    375\u001b[0m \u001b[38;5;66;03m# we only check existing edge for undirected graphs\u001b[39;00m\n",
      "\u001b[0;31mAssertionError\u001b[0m: non existent node 'Book transportation and hotel reservations, using computer or telephone.'"
     ]
    }
   ],
   "source": [
    "plot_graphs(occupation = occupation, \n",
    "            df1 = manual_DAG_df, df2 = GPT_DAG_twoStep_df, \n",
    "            df1_comment = 'Only in Manual DAG', df2_comment = 'Only in Two-Step GPT DAG:\\n',\n",
    "            df1_unique_color = 'red', df2_unique_color = 'blue',\n",
    "            graph_title = f'{plot_title_occupation} DAG - Manual (red) vs. Two-Step GPT (blue)',\n",
    "            save_path = f'{plot_output_path}/{occupation}_manual_vs_twoStepGPT_DAG.html')"
   ]
  },
  {
   "cell_type": "code",
   "execution_count": 450,
   "metadata": {},
   "outputs": [],
   "source": [
    "plot_graphs(occupation = occupation, \n",
    "            df1 = manual_DAG_df, df2 = GPT_DAG_firstLastTask_df, \n",
    "            df1_comment = 'Only in Manual DAG', df2_comment = 'Only in First-Last Task GPT DAG:\\n',\n",
    "            df1_unique_color = 'red', df2_unique_color = 'blue',\n",
    "            graph_title = f'{plot_title_occupation} DAG - Manual (red) vs. First-Last Task GPT (blue)',\n",
    "            save_path = f'{plot_output_path}/{occupation}_manual_vs_firstLastTaskGPT_DAG.html')"
   ]
  },
  {
   "cell_type": "markdown",
   "metadata": {},
   "source": [
    "#### Takeaway: First Last Task method creates too many edges like other first stage GPT outputs. Two edges unique to manual in travel agents occupation though the reasoning of GPT might be different in interpreting the sequence of tasks. So, not necessarily a bad thing. \n",
    "\n",
    "##### Seems like First Last Task method works better than one step. So, changed input of triangles to First Last Task.\n",
    "\n",
    "<br>\n",
    "\n",
    "<br>"
   ]
  },
  {
   "cell_type": "code",
   "execution_count": 451,
   "metadata": {},
   "outputs": [],
   "source": [
    "plot_graphs(occupation = occupation, \n",
    "            df1 = manual_DAG_df, df2 = GPT_DAG_partitioned_df, \n",
    "            df1_comment = 'Only in Manual DAG', df2_comment = 'Only in Partitioned GPT DAG:\\n',\n",
    "            df1_unique_color = 'red', df2_unique_color = 'blue',\n",
    "            graph_title = f'{plot_title_occupation} DAG - Manual (red) vs. Partitioned GPT (blue)',\n",
    "            save_path = f'{plot_output_path}/{occupation}_manual_vs_partitionedGPT_DAG.html')"
   ]
  },
  {
   "cell_type": "code",
   "execution_count": 452,
   "metadata": {},
   "outputs": [],
   "source": [
    "plot_graphs(occupation = occupation, \n",
    "            df1 = empty_df, df2 = GPT_DAG_conditioned_firstLast_df, \n",
    "            df1_comment = 'Only in Manual DAG', df2_comment = 'Only in Conditioned from FL GPT DAG:\\n',\n",
    "            df1_unique_color = 'red', df2_unique_color = 'blue',\n",
    "            graph_title = f'{plot_title_occupation} DAG - Conditioned from First-Last Task GPT (blue)',\n",
    "            save_path = f'{plot_output_path}/{occupation}_manual_vs_conditionedFLTGPT_DAG.html',\n",
    "            plot_removed_edges=True)"
   ]
  },
  {
   "cell_type": "code",
   "execution_count": 453,
   "metadata": {},
   "outputs": [],
   "source": [
    "plot_graphs(occupation = occupation, \n",
    "            df1 = empty_df, df2 = GPT_DAG_conditioned_partitioned_df, \n",
    "            df1_comment = 'Only in Manual DAG', df2_comment = 'Only in Conditioned from P GPT DAG:\\n',\n",
    "            df1_unique_color = 'red', df2_unique_color = 'blue',\n",
    "            graph_title = f'{plot_title_occupation} DAG - Conditioned from Partitioned GPT (blue)',\n",
    "            save_path = f'{plot_output_path}/{occupation}_manual_vs_conditionedPGPT_DAG.html',\n",
    "            plot_removed_edges=True)"
   ]
  },
  {
   "cell_type": "markdown",
   "metadata": {},
   "source": [
    "<br>\n",
    "\n",
    "<br>\n",
    "\n",
    "## Comparison of different GPT methods"
   ]
  },
  {
   "cell_type": "code",
   "execution_count": 454,
   "metadata": {},
   "outputs": [
    {
     "ename": "AssertionError",
     "evalue": "non existent node 'Book transportation and hotel reservations, using computer or telephone.'",
     "output_type": "error",
     "traceback": [
      "\u001b[0;31m---------------------------------------------------------------------------\u001b[0m",
      "\u001b[0;31mAssertionError\u001b[0m                            Traceback (most recent call last)",
      "Cell \u001b[0;32mIn[454], line 1\u001b[0m\n\u001b[0;32m----> 1\u001b[0m plot_graphs(occupation \u001b[38;5;241m=\u001b[39m occupation, \n\u001b[1;32m      2\u001b[0m             df1 \u001b[38;5;241m=\u001b[39m GPT_DAG_oneStep_df, df2 \u001b[38;5;241m=\u001b[39m GPT_DAG_twoStep_df, \n\u001b[1;32m      3\u001b[0m             df1_comment \u001b[38;5;241m=\u001b[39m \u001b[38;5;124m'\u001b[39m\u001b[38;5;124mOnly in One-Step GPT DAG:\u001b[39m\u001b[38;5;130;01m\\n\u001b[39;00m\u001b[38;5;124m'\u001b[39m, df2_comment \u001b[38;5;241m=\u001b[39m \u001b[38;5;124m'\u001b[39m\u001b[38;5;124mOnly in Two-Step GPT DAG:\u001b[39m\u001b[38;5;130;01m\\n\u001b[39;00m\u001b[38;5;124m'\u001b[39m,\n\u001b[1;32m      4\u001b[0m             df1_unique_color \u001b[38;5;241m=\u001b[39m \u001b[38;5;124m'\u001b[39m\u001b[38;5;124mred\u001b[39m\u001b[38;5;124m'\u001b[39m, df2_unique_color \u001b[38;5;241m=\u001b[39m \u001b[38;5;124m'\u001b[39m\u001b[38;5;124mblue\u001b[39m\u001b[38;5;124m'\u001b[39m,\n\u001b[1;32m      5\u001b[0m             graph_title \u001b[38;5;241m=\u001b[39m \u001b[38;5;124mf\u001b[39m\u001b[38;5;124m'\u001b[39m\u001b[38;5;132;01m{\u001b[39;00mplot_title_occupation\u001b[38;5;132;01m}\u001b[39;00m\u001b[38;5;124m DAG - One-Step GPT (red) vs. Two-Step GPT (blue)\u001b[39m\u001b[38;5;124m'\u001b[39m,\n\u001b[1;32m      6\u001b[0m             save_path \u001b[38;5;241m=\u001b[39m \u001b[38;5;124mf\u001b[39m\u001b[38;5;124m'\u001b[39m\u001b[38;5;132;01m{\u001b[39;00mplot_output_path\u001b[38;5;132;01m}\u001b[39;00m\u001b[38;5;124m/\u001b[39m\u001b[38;5;132;01m{\u001b[39;00moccupation\u001b[38;5;132;01m}\u001b[39;00m\u001b[38;5;124m_oneStep_vs_twoStep_GPT_DAG.html\u001b[39m\u001b[38;5;124m'\u001b[39m)\n",
      "File \u001b[0;32m<string>:228\u001b[0m, in \u001b[0;36mplot_graphs\u001b[0;34m(occupation, df1, df2, df1_comment, df2_comment, df1_unique_color, df2_unique_color, graph_title, save_path, plot_removed_edges)\u001b[0m\n",
      "File \u001b[0;32m~/anaconda3/lib/python3.12/site-packages/pyvis/network.py:369\u001b[0m, in \u001b[0;36mNetwork.add_edge\u001b[0;34m(self, source, to, **options)\u001b[0m\n\u001b[1;32m    366\u001b[0m edge_exists \u001b[38;5;241m=\u001b[39m \u001b[38;5;28;01mFalse\u001b[39;00m\n\u001b[1;32m    368\u001b[0m \u001b[38;5;66;03m# verify nodes exists\u001b[39;00m\n\u001b[0;32m--> 369\u001b[0m \u001b[38;5;28;01massert\u001b[39;00m source \u001b[38;5;129;01min\u001b[39;00m \u001b[38;5;28mself\u001b[39m\u001b[38;5;241m.\u001b[39mget_nodes(), \\\n\u001b[1;32m    370\u001b[0m     \u001b[38;5;124m\"\u001b[39m\u001b[38;5;124mnon existent node \u001b[39m\u001b[38;5;124m'\u001b[39m\u001b[38;5;124m\"\u001b[39m \u001b[38;5;241m+\u001b[39m \u001b[38;5;28mstr\u001b[39m(source) \u001b[38;5;241m+\u001b[39m \u001b[38;5;124m\"\u001b[39m\u001b[38;5;124m'\u001b[39m\u001b[38;5;124m\"\u001b[39m\n\u001b[1;32m    372\u001b[0m \u001b[38;5;28;01massert\u001b[39;00m to \u001b[38;5;129;01min\u001b[39;00m \u001b[38;5;28mself\u001b[39m\u001b[38;5;241m.\u001b[39mget_nodes(), \\\n\u001b[1;32m    373\u001b[0m     \u001b[38;5;124m\"\u001b[39m\u001b[38;5;124mnon existent node \u001b[39m\u001b[38;5;124m'\u001b[39m\u001b[38;5;124m\"\u001b[39m \u001b[38;5;241m+\u001b[39m \u001b[38;5;28mstr\u001b[39m(to) \u001b[38;5;241m+\u001b[39m \u001b[38;5;124m\"\u001b[39m\u001b[38;5;124m'\u001b[39m\u001b[38;5;124m\"\u001b[39m\n\u001b[1;32m    375\u001b[0m \u001b[38;5;66;03m# we only check existing edge for undirected graphs\u001b[39;00m\n",
      "\u001b[0;31mAssertionError\u001b[0m: non existent node 'Book transportation and hotel reservations, using computer or telephone.'"
     ]
    }
   ],
   "source": [
    "plot_graphs(occupation = occupation, \n",
    "            df1 = GPT_DAG_oneStep_df, df2 = GPT_DAG_twoStep_df, \n",
    "            df1_comment = 'Only in One-Step GPT DAG:\\n', df2_comment = 'Only in Two-Step GPT DAG:\\n',\n",
    "            df1_unique_color = 'red', df2_unique_color = 'blue',\n",
    "            graph_title = f'{plot_title_occupation} DAG - One-Step GPT (red) vs. Two-Step GPT (blue)',\n",
    "            save_path = f'{plot_output_path}/{occupation}_oneStep_vs_twoStep_GPT_DAG.html')"
   ]
  },
  {
   "cell_type": "markdown",
   "metadata": {},
   "source": [
    "#### Takeaway: More or less the same (not surprising cause both produce many edges), except for one or two edges.\n",
    "\n",
    "<br>\n",
    "\n",
    "<br>"
   ]
  },
  {
   "cell_type": "code",
   "execution_count": 455,
   "metadata": {},
   "outputs": [],
   "source": [
    "plot_graphs(occupation = occupation, \n",
    "            df1 = GPT_DAG_oneStep_df, df2 = GPT_DAG_firstLastTask_df, \n",
    "            df1_comment = 'Only in One-Step GPT DAG:\\n', df2_comment = 'Only in First-Last Task GPT DAG:\\n',\n",
    "            df1_unique_color = 'red', df2_unique_color = 'blue',\n",
    "            graph_title = f'{plot_title_occupation} DAG - One-Step GPT (red) vs. First-Last Task GPT (blue)',\n",
    "            save_path = f'{plot_output_path}/{occupation}_oneStepGPT_vs_firstLastTaskGPT_DAG.html')"
   ]
  },
  {
   "cell_type": "code",
   "execution_count": 456,
   "metadata": {},
   "outputs": [],
   "source": [
    "plot_graphs(occupation = occupation, \n",
    "            df1 = GPT_DAG_firstLastTask_df, df2 = GPT_DAG_partitioned_df, \n",
    "            df1_comment = 'Only in First-Last Task GPT DAG:\\n', df2_comment = 'Only in Partitioned GPT DAG:\\n',\n",
    "            df1_unique_color = 'red', df2_unique_color = 'blue',\n",
    "            graph_title = f'{plot_title_occupation} DAG - First-Last Task GPT (red) vs. Partitioned GPT (blue)',\n",
    "            save_path = f'{plot_output_path}/{occupation}_firstLastTaskGPT_vs_partitionedGPT_DAG.html')"
   ]
  },
  {
   "cell_type": "code",
   "execution_count": 457,
   "metadata": {},
   "outputs": [],
   "source": [
    "plot_graphs(occupation = occupation, \n",
    "            df1 = GPT_DAG_oneStep_df, df2 = GPT_DAG_partitioned_df, \n",
    "            df1_comment = 'Only in One-Step GPT DAG:\\n', df2_comment = 'Only in Partitioned GPT DAG:\\n',\n",
    "            df1_unique_color = 'red', df2_unique_color = 'blue',\n",
    "            graph_title = f'{plot_title_occupation} DAG - One-Step GPT (red) vs. Partitioned GPT (blue)',\n",
    "            save_path = f'{plot_output_path}/{occupation}_oneStepGPT_vs_partitionedGPT_DAG.html')"
   ]
  },
  {
   "cell_type": "markdown",
   "metadata": {},
   "source": [
    "## Conditioned DAGs vs. Their Inputs"
   ]
  },
  {
   "cell_type": "code",
   "execution_count": 458,
   "metadata": {},
   "outputs": [],
   "source": [
    "plot_graphs(occupation = occupation, \n",
    "            df1 = GPT_DAG_firstLastTask_df, df2 = GPT_DAG_conditioned_firstLast_df, \n",
    "            df1_comment = 'Only in First-Last Task GPT DAG:\\n', df2_comment = 'Only in Conditioned from FL GPT DAG:\\n',\n",
    "            df1_unique_color = 'red', df2_unique_color = 'blue',\n",
    "            graph_title = f'{plot_title_occupation} DAG - First-Last Task GPT (red) vs. Conditioned from FL GPT (blue)',\n",
    "            save_path = f'{plot_output_path}/{occupation}_firstLastTaskGPT_vs_conditionedFLTGPT_DAG.html',\n",
    "            plot_removed_edges=True)"
   ]
  },
  {
   "cell_type": "code",
   "execution_count": 459,
   "metadata": {},
   "outputs": [],
   "source": [
    "plot_graphs(occupation = occupation, \n",
    "            df1 = GPT_DAG_conditioned_partitioned_df, df2 = GPT_DAG_partitioned_df, \n",
    "            df1_comment = 'Only in Partitioned GPT DAG:\\n', df2_comment = 'Only in Conditioned from P GPT DAG:\\n',\n",
    "            df1_unique_color = 'red', df2_unique_color = 'blue',\n",
    "            graph_title = f'{plot_title_occupation} DAG - Partitioned GPT (red) vs. Conditioned from P GPT (blue)',\n",
    "            save_path = f'{plot_output_path}/{occupation}_partitionedGPT_vs_conditionedPGPT_DAG.html',\n",
    "            plot_removed_edges=True)"
   ]
  },
  {
   "cell_type": "markdown",
   "metadata": {},
   "source": [
    "## Comparison of Conditioned DAGs"
   ]
  },
  {
   "cell_type": "code",
   "execution_count": 460,
   "metadata": {},
   "outputs": [],
   "source": [
    "plot_graphs(occupation = occupation, \n",
    "            df1 = GPT_DAG_conditioned_firstLast_df, df2 = GPT_DAG_conditioned_partitioned_df, \n",
    "            df1_comment = 'Only in Conditioned FL DAG:\\n', df2_comment = 'Only in Conditioned P GPT DAG:\\n',\n",
    "            df1_unique_color = 'red', df2_unique_color = 'blue',\n",
    "            graph_title = f'{plot_title_occupation} DAG - Conditioned from FL (red) vs. Conditioned from P GPT (blue)',\n",
    "            save_path = f'{plot_output_path}/{occupation}_conditionedFLTGPT_vs_conditionedPGPT_DAG.html',\n",
    "            plot_removed_edges=False)"
   ]
  },
  {
   "cell_type": "markdown",
   "metadata": {},
   "source": [
    "## Combine 4 graphs into one HTML file"
   ]
  },
  {
   "cell_type": "code",
   "execution_count": 461,
   "metadata": {},
   "outputs": [],
   "source": [
    "def combie_four_graphs(graph_files, output_file):\n",
    "    # HTML content for the combined file\n",
    "    html_content = \"\"\"\n",
    "    <!DOCTYPE html>\n",
    "    <html>\n",
    "    <head>\n",
    "        <title>Combined Graphs</title>\n",
    "        <style>\n",
    "            .container {\n",
    "                display: grid;\n",
    "                grid-template-columns: 50% 50%;\n",
    "                grid-template-rows: 50% 50%;\n",
    "                height: 100vh;\n",
    "                margin: 0;\n",
    "            }\n",
    "            iframe {\n",
    "                width: 100%;\n",
    "                height: 100%;\n",
    "                border: none;\n",
    "            }\n",
    "        </style>\n",
    "    </head>\n",
    "    <body>\n",
    "        <div class=\"container\">\n",
    "    \"\"\"\n",
    "    \n",
    "    # Add iframes for each graph file\n",
    "    for graph_file in graph_files:\n",
    "        html_content += f'<iframe src=\"{graph_file}\"></iframe>\\n'\n",
    "    \n",
    "    # Close the HTML tags\n",
    "    html_content += \"\"\"\n",
    "        </div>\n",
    "    </body>\n",
    "    </html>\n",
    "    \"\"\"\n",
    "    \n",
    "    # Write the content to the output file\n",
    "    with open(output_file, 'w') as file:\n",
    "        file.write(html_content)"
   ]
  },
  {
   "cell_type": "code",
   "execution_count": 462,
   "metadata": {},
   "outputs": [],
   "source": [
    "# # Combine DAG HTML files\n",
    "# graph_paths = [f'{plot_output_path}/{occupation}_manual_vs_firstLastTaskGPT_DAG.html',\n",
    "#                f'{plot_output_path}/{occupation}_manual_vs_partitionedGPT_DAG.html',\n",
    "#                f'{plot_output_path}/{occupation}_manual_vs_conditionedFLTGPT_DAG.html',\n",
    "#                f'{plot_output_path}/{occupation}_partitionedGPT_vs_conditionedFLTGPT_DAG.html',\n",
    "#                ]\n",
    "# combie_four_graphs(graph_paths, f'{plot_output_path}/{occupation}_bigFour.html')"
   ]
  },
  {
   "cell_type": "code",
   "execution_count": 463,
   "metadata": {},
   "outputs": [],
   "source": [
    "# Combine DAG HTML files\n",
    "graph_paths = [f'{plot_output_path}/{occupation}_manual_vs_firstLastTaskGPT_DAG.html',\n",
    "               f'{plot_output_path}/{occupation}_manual_vs_partitionedGPT_DAG.html',\n",
    "               f'{plot_output_path}/{occupation}_manual_vs_conditionedFLTGPT_DAG.html',\n",
    "               f'{plot_output_path}/{occupation}_manual_vs_conditionedPGPT_DAG.html',\n",
    "               ]\n",
    "combie_four_graphs(graph_paths, f'{plot_output_path}/{occupation}_compareFour.html')"
   ]
  },
  {
   "cell_type": "markdown",
   "metadata": {},
   "source": [
    "## Compare different versions"
   ]
  },
  {
   "cell_type": "code",
   "execution_count": 464,
   "metadata": {},
   "outputs": [],
   "source": [
    "plot_output_path = f'{occupation_folder}/plots'"
   ]
  },
  {
   "cell_type": "code",
   "execution_count": 465,
   "metadata": {},
   "outputs": [],
   "source": [
    "GPT_DAG_firstLastTask_df_v0 = pd.read_csv(f'{occupation_folder}/v0/{occupation}_firstLastTaskGPT_DAG_df.csv')\n",
    "GPT_DAG_partitioned_df_v0 = pd.read_csv(f'{occupation_folder}/v0/{occupation}_partitionedGPT_DAG_df.csv')\n",
    "GPT_DAG_conditioned_firstLast_df_v0 = pd.read_csv(f'{occupation_folder}/v0/{occupation}_conditionedGPT_fromFirstLastTask_DAG_df.csv')\n",
    "GPT_DAG_conditioned_partitioned_df_v0 = pd.read_csv(f'{occupation_folder}/v0/{occupation}_conditionedGPT_fromPartitioned_DAG_df.csv')\n"
   ]
  },
  {
   "cell_type": "code",
   "execution_count": 466,
   "metadata": {},
   "outputs": [],
   "source": [
    "GPT_DAG_firstLastTask_df_v1 = pd.read_csv(f'{occupation_folder}/v1/{occupation}_firstLastTaskGPT_DAG_df.csv')\n",
    "GPT_DAG_partitioned_df_v1 = pd.read_csv(f'{occupation_folder}/v1/{occupation}_partitionedGPT_DAG_df.csv')\n",
    "GPT_DAG_conditioned_firstLast_df_v1 = pd.read_csv(f'{occupation_folder}/v1/{occupation}_conditionedGPT_fromFirstLastTask_DAG_df.csv')\n",
    "GPT_DAG_conditioned_partitioned_df_v1 = pd.read_csv(f'{occupation_folder}/v1/{occupation}_conditionedGPT_fromPartitioned_DAG_df.csv')\n"
   ]
  },
  {
   "cell_type": "code",
   "execution_count": 467,
   "metadata": {},
   "outputs": [],
   "source": [
    "plot_graphs(occupation = occupation, \n",
    "            df1 = GPT_DAG_firstLastTask_df_v0, df2 = GPT_DAG_firstLastTask_df_v1, \n",
    "            df1_comment = 'Only in v0 GPT DAG:\\n', df2_comment = 'Only in v1 GPT DAG:\\n',\n",
    "            df1_unique_color = 'red', df2_unique_color = 'blue',\n",
    "            graph_title = f'{plot_title_occupation} First-Last Task GPT DAG - v0 (red) vs. v1 (blue)',\n",
    "            save_path = f'{plot_output_path}/{occupation}_firstLastTaskGPT_v0_vs_v1_DAG.html'\n",
    "            )"
   ]
  },
  {
   "cell_type": "code",
   "execution_count": 468,
   "metadata": {},
   "outputs": [],
   "source": [
    "plot_graphs(occupation = occupation, \n",
    "            df1 = GPT_DAG_partitioned_df_v0, df2 = GPT_DAG_partitioned_df_v1, \n",
    "            df1_comment = 'Only in v0 GPT DAG:\\n', df2_comment = 'Only in v1 GPT DAG:\\n',\n",
    "            df1_unique_color = 'red', df2_unique_color = 'blue',\n",
    "            graph_title = f'{plot_title_occupation} Partitioned GPT DAG - v0 (red) vs. v1 (blue)',\n",
    "            save_path = f'{plot_output_path}/{occupation}_partitionedGPT_v0_vs_v1_DAG.html'\n",
    "            )"
   ]
  },
  {
   "cell_type": "code",
   "execution_count": 469,
   "metadata": {},
   "outputs": [],
   "source": [
    "plot_graphs(occupation = occupation, \n",
    "            df1 = GPT_DAG_conditioned_firstLast_df_v0, df2 = GPT_DAG_conditioned_firstLast_df_v1, \n",
    "            df1_comment = 'Only in v0 GPT DAG:\\n', df2_comment = 'Only in v1 GPT DAG:\\n',\n",
    "            df1_unique_color = 'red', df2_unique_color = 'blue',\n",
    "            graph_title = f'{plot_title_occupation} Conditioned from First-Last Task GPT DAG - v0 (red) vs. v1 (blue)',\n",
    "            save_path = f'{plot_output_path}/{occupation}_conditionedFLTGPT_v0_vs_v1_DAG.html',\n",
    "            plot_removed_edges=False)"
   ]
  },
  {
   "cell_type": "code",
   "execution_count": 470,
   "metadata": {},
   "outputs": [],
   "source": [
    "plot_graphs(occupation = occupation, \n",
    "            df1 = GPT_DAG_conditioned_partitioned_df_v0, df2 = GPT_DAG_conditioned_partitioned_df_v1, \n",
    "            df1_comment = 'Only in v0 GPT DAG:\\n', df2_comment = 'Only in v1 GPT DAG:\\n',\n",
    "            df1_unique_color = 'red', df2_unique_color = 'blue',\n",
    "            graph_title = f'{plot_title_occupation} Conditioned from Partitioned GPT DAG - v0 (red) vs. v1 (blue)',\n",
    "            save_path = f'{plot_output_path}/{occupation}_conditionedPGPT_v0_vs_v1_DAG.html',\n",
    "            plot_removed_edges=False)"
   ]
  },
  {
   "cell_type": "code",
   "execution_count": 471,
   "metadata": {},
   "outputs": [],
   "source": [
    "# Combine DAG HTML files\n",
    "graph_paths = [f'{plot_output_path}/{occupation}_firstLastTaskGPT_v0_vs_v1_DAG.html',\n",
    "               f'{plot_output_path}/{occupation}_partitionedGPT_v0_vs_v1_DAG.html',\n",
    "               f'{plot_output_path}/{occupation}_conditionedFLTGPT_v0_vs_v1_DAG.html',\n",
    "               f'{plot_output_path}/{occupation}_conditionedPGPT_v0_vs_v1_DAG.html',\n",
    "               ]\n",
    "combie_four_graphs(graph_paths, f'{plot_output_path}/{occupation}_compareFour.html')"
   ]
  }
 ],
 "metadata": {
  "kernelspec": {
   "display_name": "base",
   "language": "python",
   "name": "python3"
  },
  "language_info": {
   "codemirror_mode": {
    "name": "ipython",
    "version": 3
   },
   "file_extension": ".py",
   "mimetype": "text/x-python",
   "name": "python",
   "nbconvert_exporter": "python",
   "pygments_lexer": "ipython3",
   "version": "3.12.2"
  }
 },
 "nbformat": 4,
 "nbformat_minor": 2
}
