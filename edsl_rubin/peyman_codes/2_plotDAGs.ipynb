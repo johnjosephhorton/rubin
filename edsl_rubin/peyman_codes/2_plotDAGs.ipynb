{
 "cells": [
  {
   "cell_type": "markdown",
   "metadata": {},
   "source": [
    "# Load libraries and functions"
   ]
  },
  {
   "cell_type": "code",
   "execution_count": 60,
   "metadata": {},
   "outputs": [],
   "source": [
    "with open('libraries.py') as f:\n",
    "    code = f.read()\n",
    "exec(code)\n",
    "\n",
    "with open('functions/functions.py') as f:\n",
    "    code = f.read()\n",
    "exec(code)"
   ]
  },
  {
   "cell_type": "code",
   "execution_count": 61,
   "metadata": {},
   "outputs": [],
   "source": [
    "# determine user\n",
    "user = getpass.getuser()\n",
    "if user == 'peymansh':\n",
    "    main_folder_path = '/Users/peymansh/Dropbox (MIT)/Research/AI and Occupations/ai-exposure'\n",
    "    data_path = f'{main_folder_path}/output'"
   ]
  },
  {
   "cell_type": "markdown",
   "metadata": {},
   "source": [
    "# Main Code"
   ]
  },
  {
   "cell_type": "code",
   "execution_count": 62,
   "metadata": {},
   "outputs": [],
   "source": [
    "# Pick occupation and initialize variables\n",
    "occupation = 'travelAgents'\n",
    "occupation = 'insuranceUnderwriters'\n",
    "# occupation = 'pileDriverOperators'\n",
    "# occupation = 'dredgeOperators'\n",
    "# occupation = 'gradersAndSorters'\n",
    "# occupation = 'reinforcingIron'\n",
    "# occupation = 'insuranceAppraisers'\n",
    "# occupation = 'floorSanders'\n",
    "# occupation = 'dataEntryKeyer'\n",
    "# occupation = 'athletesAndSportsCompetitors'\n",
    "# # occupation = 'shampooers'\n",
    "\n",
    "GPT_input_occupation, plot_title_occupation, occupation_code, occupation_folder = pick_occupation(occupation)"
   ]
  },
  {
   "cell_type": "code",
   "execution_count": 63,
   "metadata": {},
   "outputs": [],
   "source": [
    "plot_output_path = f'{occupation_folder}/DAG_graphs'\n",
    "if not os.path.exists(plot_output_path):\n",
    "    os.makedirs(plot_output_path)\n",
    "\n",
    "\n",
    "# Manual DAG only available for travel agents and insurance underwriters\n",
    "# if working w/ these two occupations include manual DAG too, else discard relevant code\n",
    "manual_present = 0\n",
    "if occupation == 'travelAgents' or occupation == 'insuranceUnderwriters':\n",
    "    manual_present = 1"
   ]
  },
  {
   "cell_type": "code",
   "execution_count": 64,
   "metadata": {},
   "outputs": [],
   "source": [
    "empty_df = pd.DataFrame(columns=['source', 'target', 'comment'])\n",
    "\n",
    "# Read DAG datasets\n",
    "GPT_DAG_naive_df = pd.read_csv(f'{occupation_folder}/{occupation}_N_GPT_DAG_df.csv')\n",
    "GPT_DAG_naiveTwoStep_df = pd.read_csv(f'{occupation_folder}/{occupation}_N2_GPT_DAG_df.csv')\n",
    "GPT_DAG_firstLastTask_df = pd.read_csv(f'{occupation_folder}/{occupation}_FLT_GPT_DAG_df.csv')\n",
    "GPT_DAG_partitioned_df = pd.read_csv(f'{occupation_folder}/{occupation}_P_GPT_DAG_df.csv')\n",
    "\n",
    "GPT_DAG_conditioned_naive_df = pd.read_csv(f'{occupation_folder}/{occupation}_CN_GPT_DAG_df.csv')\n",
    "GPT_DAG_conditioned_firstLastTask_df = pd.read_csv(f'{occupation_folder}/{occupation}_CFLT_GPT_DAG_df.csv')\n",
    "GPT_DAG_conditioned_partitioned_df = pd.read_csv(f'{occupation_folder}/{occupation}_CP_GPT_DAG_df.csv')\n",
    "\n",
    "if manual_present == 1:\n",
    "    manual_DAG_df = pd.read_csv(f'{occupation_folder}/{occupation}_M_DAG_df.csv')\n",
    "else:\n",
    "    manual_DAG_df = empty_df.copy()\n",
    "\n",
    "# Add dummy comment column to manual DAG for compatibility reasons\n",
    "manual_DAG_df['comment'] = ''"
   ]
  },
  {
   "cell_type": "markdown",
   "metadata": {},
   "source": [
    "# Plot Interactive Graphs"
   ]
  },
  {
   "cell_type": "code",
   "execution_count": 65,
   "metadata": {},
   "outputs": [],
   "source": [
    "plot_graphs(occupation = occupation, \n",
    "            df1 = manual_DAG_df, df2 = GPT_DAG_naive_df, \n",
    "            df1_comment = 'Only in Manual DAG', df2_comment = 'Only in Naive DAG:\\n',\n",
    "            df1_unique_color = 'red', df2_unique_color = 'blue',\n",
    "            graph_title = f'{plot_title_occupation} DAG - Manual (red) vs. Naive (blue)',\n",
    "            save_path = f'{plot_output_path}/{occupation}_M_vs_N_DAG.html')"
   ]
  },
  {
   "cell_type": "markdown",
   "metadata": {},
   "source": [
    "#### Takeaway: GPT creates too many edges, though always misses some of those edges present in the Manual case.\n",
    "\n",
    "<br>\n",
    "\n",
    "<br>"
   ]
  },
  {
   "cell_type": "code",
   "execution_count": 66,
   "metadata": {},
   "outputs": [],
   "source": [
    "plot_graphs(occupation = occupation, \n",
    "            df1 = manual_DAG_df, df2 = GPT_DAG_naiveTwoStep_df, \n",
    "            df1_comment = 'Only in Manual DAG', df2_comment = 'Only in Two-Step Naive DAG:\\n',\n",
    "            df1_unique_color = 'red', df2_unique_color = 'blue',\n",
    "            graph_title = f'{plot_title_occupation} DAG - Manual (red) vs. Two-Step (blue)',\n",
    "            save_path = f'{plot_output_path}/{occupation}_M_vs_N2_DAG.html')"
   ]
  },
  {
   "cell_type": "code",
   "execution_count": 67,
   "metadata": {},
   "outputs": [],
   "source": [
    "plot_graphs(occupation = occupation, \n",
    "            df1 = manual_DAG_df, df2 = GPT_DAG_firstLastTask_df, \n",
    "            df1_comment = 'Only in Manual DAG', df2_comment = 'Only in First-Last-Task DAG:\\n',\n",
    "            df1_unique_color = 'red', df2_unique_color = 'blue',\n",
    "            graph_title = f'{plot_title_occupation} DAG - Manual (red) vs. First-Last-Task (blue)',\n",
    "            save_path = f'{plot_output_path}/{occupation}_M_vs_FLT_DAG.html')"
   ]
  },
  {
   "cell_type": "markdown",
   "metadata": {},
   "source": [
    "#### Takeaway: First Last Task method creates too many edges like other first stage GPT outputs. Two edges unique to manual in travel agents occupation though the reasoning of GPT might be different in interpreting the sequence of tasks. So, not necessarily a bad thing. \n",
    "\n",
    "##### Seems like First Last Task method works better than one step. So, changed input of triangles to First Last Task.\n",
    "\n",
    "<br>\n",
    "\n",
    "<br>"
   ]
  },
  {
   "cell_type": "code",
   "execution_count": 68,
   "metadata": {},
   "outputs": [],
   "source": [
    "plot_graphs(occupation = occupation, \n",
    "            df1 = manual_DAG_df, df2 = GPT_DAG_partitioned_df, \n",
    "            df1_comment = 'Only in Manual DAG', df2_comment = 'Only in Partitioned DAG:\\n',\n",
    "            df1_unique_color = 'red', df2_unique_color = 'blue',\n",
    "            graph_title = f'{plot_title_occupation} DAG - Manual (red) vs. Partitioned (blue)',\n",
    "            save_path = f'{plot_output_path}/{occupation}_M_vs_P_DAG.html')"
   ]
  },
  {
   "cell_type": "markdown",
   "metadata": {},
   "source": [
    "### Solo CN - CFLT - CP"
   ]
  },
  {
   "cell_type": "code",
   "execution_count": 69,
   "metadata": {},
   "outputs": [],
   "source": [
    "plot_graphs(occupation = occupation, \n",
    "            df1 = empty_df, df2 = GPT_DAG_conditioned_naive_df, \n",
    "            df1_comment = 'Only in Manual DAG', df2_comment = 'Only in Conditioned from N DAG:\\n',\n",
    "            df1_unique_color = 'red', df2_unique_color = 'blue',\n",
    "            graph_title = f'{plot_title_occupation} DAG - Conditioned from Naive (blue)',\n",
    "            save_path = f'{plot_output_path}/{occupation}_M_vs_CN_DAG.html',\n",
    "            plot_removed_edges=True)"
   ]
  },
  {
   "cell_type": "code",
   "execution_count": 70,
   "metadata": {},
   "outputs": [],
   "source": [
    "plot_graphs(occupation = occupation, \n",
    "            df1 = empty_df, df2 = GPT_DAG_conditioned_firstLastTask_df, \n",
    "            df1_comment = 'Only in Manual DAG', df2_comment = 'Only in Conditioned from FLT DAG:\\n',\n",
    "            df1_unique_color = 'red', df2_unique_color = 'blue',\n",
    "            graph_title = f'{plot_title_occupation} DAG - Conditioned from First-Last-Task (blue)',\n",
    "            save_path = f'{plot_output_path}/{occupation}_M_vs_CFLT_DAG.html',\n",
    "            plot_removed_edges=True)"
   ]
  },
  {
   "cell_type": "code",
   "execution_count": 71,
   "metadata": {},
   "outputs": [],
   "source": [
    "plot_graphs(occupation = occupation, \n",
    "            df1 = empty_df, df2 = GPT_DAG_conditioned_partitioned_df, \n",
    "            df1_comment = 'Only in Manual DAG', df2_comment = 'Only in Conditioned from P DAG:\\n',\n",
    "            df1_unique_color = 'red', df2_unique_color = 'blue',\n",
    "            graph_title = f'{plot_title_occupation} DAG - Conditioned from Partitioned (blue)',\n",
    "            save_path = f'{plot_output_path}/{occupation}_M_vs_CP_DAG.html',\n",
    "            plot_removed_edges=True)"
   ]
  },
  {
   "cell_type": "markdown",
   "metadata": {},
   "source": [
    "<br>\n",
    "\n",
    "<br>\n",
    "\n",
    "## Comparison of different GPT methods"
   ]
  },
  {
   "cell_type": "code",
   "execution_count": 72,
   "metadata": {},
   "outputs": [],
   "source": [
    "plot_graphs(occupation = occupation, \n",
    "            df1 = GPT_DAG_naive_df, df2 = GPT_DAG_naiveTwoStep_df, \n",
    "            df1_comment = 'Only in (One-Step) Naive DAG:\\n', df2_comment = 'Only in Two-Step Naive DAG:\\n',\n",
    "            df1_unique_color = 'red', df2_unique_color = 'blue',\n",
    "            graph_title = f'{plot_title_occupation} DAG - (One-Step) Naive (red) vs. Two-Step Naive (blue)',\n",
    "            save_path = f'{plot_output_path}/{occupation}_N_vs_N2_DAG.html')"
   ]
  },
  {
   "cell_type": "markdown",
   "metadata": {},
   "source": [
    "#### Takeaway: More or less the same (not surprising cause both produce many edges), except for one or two edges.\n",
    "\n",
    "<br>\n",
    "\n",
    "<br>"
   ]
  },
  {
   "cell_type": "code",
   "execution_count": 73,
   "metadata": {},
   "outputs": [],
   "source": [
    "plot_graphs(occupation = occupation, \n",
    "            df1 = GPT_DAG_naive_df, df2 = GPT_DAG_firstLastTask_df, \n",
    "            df1_comment = 'Only in Naive DAG:\\n', df2_comment = 'Only in First-Last-Task DAG:\\n',\n",
    "            df1_unique_color = 'red', df2_unique_color = 'blue',\n",
    "            graph_title = f'{plot_title_occupation} DAG - Naive (red) vs. First-Last-Task (blue)',\n",
    "            save_path = f'{plot_output_path}/{occupation}_N_vs_FLT_DAG.html')"
   ]
  },
  {
   "cell_type": "code",
   "execution_count": 74,
   "metadata": {},
   "outputs": [],
   "source": [
    "plot_graphs(occupation = occupation, \n",
    "            df1 = GPT_DAG_firstLastTask_df, df2 = GPT_DAG_partitioned_df, \n",
    "            df1_comment = 'Only in First-Last-Task DAG:\\n', df2_comment = 'Only in Partitioned DAG:\\n',\n",
    "            df1_unique_color = 'red', df2_unique_color = 'blue',\n",
    "            graph_title = f'{plot_title_occupation} DAG - First-Last-Task (red) vs. Partitioned (blue)',\n",
    "            save_path = f'{plot_output_path}/{occupation}_FLT_vs_P_DAG.html')"
   ]
  },
  {
   "cell_type": "code",
   "execution_count": 75,
   "metadata": {},
   "outputs": [],
   "source": [
    "plot_graphs(occupation = occupation, \n",
    "            df1 = GPT_DAG_naive_df, df2 = GPT_DAG_partitioned_df, \n",
    "            df1_comment = 'Only in Naive DAG:\\n', df2_comment = 'Only in Partitioned DAG:\\n',\n",
    "            df1_unique_color = 'red', df2_unique_color = 'blue',\n",
    "            graph_title = f'{plot_title_occupation} DAG - Naive (red) vs. Partitioned (blue)',\n",
    "            save_path = f'{plot_output_path}/{occupation}_N_vs_P_DAG.html')"
   ]
  },
  {
   "cell_type": "markdown",
   "metadata": {},
   "source": [
    "## Conditioned DAGs vs. Their Inputs"
   ]
  },
  {
   "cell_type": "code",
   "execution_count": 76,
   "metadata": {},
   "outputs": [],
   "source": [
    "plot_graphs(occupation = occupation, \n",
    "            df1 = empty_df, df2 = GPT_DAG_conditioned_naive_df, \n",
    "            df1_comment = 'Only in Naive DAG:\\n', df2_comment = 'Only in Conditioned from N DAG:\\n',\n",
    "            df1_unique_color = 'red', df2_unique_color = 'blue',\n",
    "            graph_title = f'{plot_title_occupation} DAG - Naive (red) vs. Conditioned from N (blue)',\n",
    "            save_path = f'{plot_output_path}/{occupation}_N_vs_CN_DAG.html',\n",
    "            plot_removed_edges=True)"
   ]
  },
  {
   "cell_type": "code",
   "execution_count": 77,
   "metadata": {},
   "outputs": [],
   "source": [
    "plot_graphs(occupation = occupation, \n",
    "            df1 = empty_df, df2 = GPT_DAG_conditioned_firstLastTask_df, \n",
    "            df1_comment = 'Only in First-Last-Task DAG:\\n', df2_comment = 'Only in Conditioned from FLT DAG:\\n',\n",
    "            df1_unique_color = 'red', df2_unique_color = 'blue',\n",
    "            graph_title = f'{plot_title_occupation} DAG - First-Last-Task (red) vs. Conditioned from FLT (blue)',\n",
    "            save_path = f'{plot_output_path}/{occupation}_FLT_vs_CFLT_DAG.html',\n",
    "            plot_removed_edges=True)"
   ]
  },
  {
   "cell_type": "code",
   "execution_count": 78,
   "metadata": {},
   "outputs": [],
   "source": [
    "plot_graphs(occupation = occupation, \n",
    "            df1 = empty_df, df2 = GPT_DAG_partitioned_df, \n",
    "            df1_comment = 'Only in Partitioned DAG:\\n', df2_comment = 'Only in Conditioned from P DAG:\\n',\n",
    "            df1_unique_color = 'red', df2_unique_color = 'blue',\n",
    "            graph_title = f'{plot_title_occupation} DAG - Partitioned (red) vs. Conditioned from P (blue)',\n",
    "            save_path = f'{plot_output_path}/{occupation}_P_vs_CP_DAG.html',\n",
    "            plot_removed_edges=True)"
   ]
  },
  {
   "cell_type": "markdown",
   "metadata": {},
   "source": [
    "## Comparison of Conditioned DAGs"
   ]
  },
  {
   "cell_type": "code",
   "execution_count": 79,
   "metadata": {},
   "outputs": [],
   "source": [
    "plot_graphs(occupation = occupation, \n",
    "            df1 = GPT_DAG_conditioned_firstLastTask_df, df2 = GPT_DAG_conditioned_partitioned_df, \n",
    "            df1_comment = 'Only in Conditioned N DAG:\\n', df2_comment = 'Only in Conditioned FLT DAG:\\n',\n",
    "            df1_unique_color = 'red', df2_unique_color = 'blue',\n",
    "            graph_title = f'{plot_title_occupation} DAG - Conditioned from N (red) vs. Conditioned from FLT (blue)',\n",
    "            save_path = f'{plot_output_path}/{occupation}_CN_vs_CFLT_DAG.html',\n",
    "            plot_removed_edges=False)"
   ]
  },
  {
   "cell_type": "code",
   "execution_count": 80,
   "metadata": {},
   "outputs": [],
   "source": [
    "plot_graphs(occupation = occupation, \n",
    "            df1 = GPT_DAG_conditioned_firstLastTask_df, df2 = GPT_DAG_conditioned_partitioned_df, \n",
    "            df1_comment = 'Only in Conditioned N DAG:\\n', df2_comment = 'Only in Conditioned P DAG:\\n',\n",
    "            df1_unique_color = 'red', df2_unique_color = 'blue',\n",
    "            graph_title = f'{plot_title_occupation} DAG - Conditioned from N (red) vs. Conditioned from P (blue)',\n",
    "            save_path = f'{plot_output_path}/{occupation}_CN_vs_CP_DAG.html',\n",
    "            plot_removed_edges=False)"
   ]
  },
  {
   "cell_type": "code",
   "execution_count": 81,
   "metadata": {},
   "outputs": [],
   "source": [
    "plot_graphs(occupation = occupation, \n",
    "            df1 = GPT_DAG_conditioned_firstLastTask_df, df2 = GPT_DAG_conditioned_partitioned_df, \n",
    "            df1_comment = 'Only in Conditioned FLT DAG:\\n', df2_comment = 'Only in Conditioned P DAG:\\n',\n",
    "            df1_unique_color = 'red', df2_unique_color = 'blue',\n",
    "            graph_title = f'{plot_title_occupation} DAG - Conditioned from FLT (red) vs. Conditioned from P (blue)',\n",
    "            save_path = f'{plot_output_path}/{occupation}_CFLT_vs_CP_DAG.html',\n",
    "            plot_removed_edges=False)"
   ]
  },
  {
   "cell_type": "markdown",
   "metadata": {},
   "source": [
    "## Combine 4 graphs into one HTML file"
   ]
  },
  {
   "cell_type": "code",
   "execution_count": 82,
   "metadata": {},
   "outputs": [],
   "source": [
    "def combie_four_graphs(graph_files, output_file):\n",
    "    # HTML content for the combined file\n",
    "    html_content = \"\"\"\n",
    "    <!DOCTYPE html>\n",
    "    <html>\n",
    "    <head>\n",
    "        <title>Combined Graphs</title>\n",
    "        <style>\n",
    "            .container {\n",
    "                display: grid;\n",
    "                grid-template-columns: 50% 50%;\n",
    "                grid-template-rows: 50% 50%;\n",
    "                height: 100vh;\n",
    "                margin: 0;\n",
    "            }\n",
    "            iframe {\n",
    "                width: 100%;\n",
    "                height: 100%;\n",
    "                border: none;\n",
    "            }\n",
    "        </style>\n",
    "    </head>\n",
    "    <body>\n",
    "        <div class=\"container\">\n",
    "    \"\"\"\n",
    "    \n",
    "    # Add iframes for each graph file\n",
    "    for graph_file in graph_files:\n",
    "        html_content += f'<iframe src=\"{graph_file}\"></iframe>\\n'\n",
    "    \n",
    "    # Close the HTML tags\n",
    "    html_content += \"\"\"\n",
    "        </div>\n",
    "    </body>\n",
    "    </html>\n",
    "    \"\"\"\n",
    "    \n",
    "    # Write the content to the output file\n",
    "    with open(output_file, 'w') as file:\n",
    "        file.write(html_content)"
   ]
  },
  {
   "cell_type": "code",
   "execution_count": 83,
   "metadata": {},
   "outputs": [],
   "source": [
    "# Combine DAG HTML files\n",
    "graph_paths = [f'{plot_output_path}/{occupation}_M_vs_N_DAG.html',\n",
    "               f'{plot_output_path}/{occupation}_M_vs_FLT_DAG.html',\n",
    "               f'{plot_output_path}/{occupation}_M_vs_CN_DAG.html',\n",
    "               f'{plot_output_path}/{occupation}_M_vs_CFLT_DAG.html',\n",
    "               ]\n",
    "combie_four_graphs(graph_paths, f'{plot_output_path}/{occupation}_compareFour_N_FLT.html')"
   ]
  },
  {
   "cell_type": "code",
   "execution_count": 84,
   "metadata": {},
   "outputs": [],
   "source": [
    "# Combine DAG HTML files\n",
    "graph_paths = [f'{plot_output_path}/{occupation}_M_vs_N_DAG.html',\n",
    "               f'{plot_output_path}/{occupation}_M_vs_P_DAG.html',\n",
    "               f'{plot_output_path}/{occupation}_M_vs_CN_DAG.html',\n",
    "               f'{plot_output_path}/{occupation}_M_vs_CP_DAG.html',\n",
    "               ]\n",
    "combie_four_graphs(graph_paths, f'{plot_output_path}/{occupation}_compareFour_N_P.html')"
   ]
  },
  {
   "cell_type": "code",
   "execution_count": 85,
   "metadata": {},
   "outputs": [],
   "source": [
    "# Combine DAG HTML files\n",
    "graph_paths = [f'{plot_output_path}/{occupation}_M_vs_FLT_DAG.html',\n",
    "               f'{plot_output_path}/{occupation}_M_vs_P_DAG.html',\n",
    "               f'{plot_output_path}/{occupation}_M_vs_CFLT_DAG.html',\n",
    "               f'{plot_output_path}/{occupation}_M_vs_CP_DAG.html',\n",
    "               ]\n",
    "combie_four_graphs(graph_paths, f'{plot_output_path}/{occupation}_compareFour_FLT_P.html')"
   ]
  }
 ],
 "metadata": {
  "kernelspec": {
   "display_name": "base",
   "language": "python",
   "name": "python3"
  },
  "language_info": {
   "codemirror_mode": {
    "name": "ipython",
    "version": 3
   },
   "file_extension": ".py",
   "mimetype": "text/x-python",
   "name": "python",
   "nbconvert_exporter": "python",
   "pygments_lexer": "ipython3",
   "version": "3.12.2"
  }
 },
 "nbformat": 4,
 "nbformat_minor": 2
}
