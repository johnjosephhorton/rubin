{
 "cells": [
  {
   "cell_type": "code",
   "execution_count": 1,
   "metadata": {},
   "outputs": [
    {
     "name": "stdout",
     "output_type": "stream",
     "text": [
      "\n",
      "\u001b[1m[\u001b[0m\u001b[34;49mnotice\u001b[0m\u001b[1;39;49m]\u001b[0m\u001b[39;49m A new release of pip is available: \u001b[0m\u001b[31;49m23.3.1\u001b[0m\u001b[39;49m -> \u001b[0m\u001b[32;49m24.0\u001b[0m\n",
      "\u001b[1m[\u001b[0m\u001b[34;49mnotice\u001b[0m\u001b[1;39;49m]\u001b[0m\u001b[39;49m To update, run: \u001b[0m\u001b[32;49mpip install --upgrade pip\u001b[0m\n"
     ]
    }
   ],
   "source": [
    "! pip install --quiet git+https://github.com/expectedparrot/edsl.git"
   ]
  },
  {
   "cell_type": "code",
   "execution_count": 2,
   "metadata": {},
   "outputs": [],
   "source": [
    "from edsl import Scenario"
   ]
  },
  {
   "cell_type": "code",
   "execution_count": null,
   "metadata": {},
   "outputs": [],
   "source": [
    "from occupations import get_scenarios\n",
    "scenarios = get_scenarios(1)"
   ]
  },
  {
   "cell_type": "code",
   "execution_count": 3,
   "metadata": {},
   "outputs": [],
   "source": [
    "#options = [\"Slice bread\", \"Spread mayo\", \"Add meats and cheese\", \"Wrap sandwich\", \"Take payment\"]\n",
    "#scenarios = [Scenario({\"occupation\": \"Sandwich artist\", \"task\": task}) for task in options]"
   ]
  },
  {
   "cell_type": "code",
   "execution_count": 4,
   "metadata": {},
   "outputs": [
    {
     "data": {
      "text/html": [
       "<pre style=\"white-space:pre;overflow-x:auto;line-height:normal;font-family:Menlo,'DejaVu Sans Mono',consolas,'Courier New',monospace\">┏━━━━━━━━━━━━━━━━━┳━━━━━━━━━━━━┳━━━━━━━━━━━━━━┳━━━━━━━━━━━━━━━━━┳━━━━━━━━━━━━━━━┳━━━━━━━━━━━━━━━┳━━━━━━━━━━━━━━━━━┓\n",
       "┃<span style=\"color: #800080; text-decoration-color: #800080; font-weight: bold\"> scenario        </span>┃<span style=\"color: #800080; text-decoration-color: #800080; font-weight: bold\"> answer     </span>┃<span style=\"color: #800080; text-decoration-color: #800080; font-weight: bold\"> answer       </span>┃<span style=\"color: #800080; text-decoration-color: #800080; font-weight: bold\"> answer          </span>┃<span style=\"color: #800080; text-decoration-color: #800080; font-weight: bold\"> answer        </span>┃<span style=\"color: #800080; text-decoration-color: #800080; font-weight: bold\"> answer        </span>┃<span style=\"color: #800080; text-decoration-color: #800080; font-weight: bold\"> answer          </span>┃\n",
       "┃<span style=\"color: #800080; text-decoration-color: #800080; font-weight: bold\"> .task           </span>┃<span style=\"color: #800080; text-decoration-color: #800080; font-weight: bold\"> .info_good </span>┃<span style=\"color: #800080; text-decoration-color: #800080; font-weight: bold\"> .gen_ai_help </span>┃<span style=\"color: #800080; text-decoration-color: #800080; font-weight: bold\"> .trigger        </span>┃<span style=\"color: #800080; text-decoration-color: #800080; font-weight: bold\"> .easy_to_tell </span>┃<span style=\"color: #800080; text-decoration-color: #800080; font-weight: bold\"> .manager_task </span>┃<span style=\"color: #800080; text-decoration-color: #800080; font-weight: bold\"> .ratio_describ… </span>┃\n",
       "┡━━━━━━━━━━━━━━━━━╇━━━━━━━━━━━━╇━━━━━━━━━━━━━━╇━━━━━━━━━━━━━━━━━╇━━━━━━━━━━━━━━━╇━━━━━━━━━━━━━━━╇━━━━━━━━━━━━━━━━━┩\n",
       "│<span style=\"color: #7f7f7f; text-decoration-color: #7f7f7f\"> Slice bread     </span>│<span style=\"color: #7f7f7f; text-decoration-color: #7f7f7f\"> No         </span>│<span style=\"color: #7f7f7f; text-decoration-color: #7f7f7f\"> 0            </span>│<span style=\"color: #7f7f7f; text-decoration-color: #7f7f7f\"> External        </span>│<span style=\"color: #7f7f7f; text-decoration-color: #7f7f7f\"> 1             </span>│<span style=\"color: #7f7f7f; text-decoration-color: #7f7f7f\"> Almost none   </span>│<span style=\"color: #7f7f7f; text-decoration-color: #7f7f7f\"> 0.1             </span>│\n",
       "│<span style=\"color: #7f7f7f; text-decoration-color: #7f7f7f\">                 </span>│<span style=\"color: #7f7f7f; text-decoration-color: #7f7f7f\">            </span>│<span style=\"color: #7f7f7f; text-decoration-color: #7f7f7f\">              </span>│<span style=\"color: #7f7f7f; text-decoration-color: #7f7f7f\"> trigger like a  </span>│<span style=\"color: #7f7f7f; text-decoration-color: #7f7f7f\">               </span>│<span style=\"color: #7f7f7f; text-decoration-color: #7f7f7f\">               </span>│<span style=\"color: #7f7f7f; text-decoration-color: #7f7f7f\">                 </span>│\n",
       "│<span style=\"color: #7f7f7f; text-decoration-color: #7f7f7f\">                 </span>│<span style=\"color: #7f7f7f; text-decoration-color: #7f7f7f\">            </span>│<span style=\"color: #7f7f7f; text-decoration-color: #7f7f7f\">              </span>│<span style=\"color: #7f7f7f; text-decoration-color: #7f7f7f\"> customer        </span>│<span style=\"color: #7f7f7f; text-decoration-color: #7f7f7f\">               </span>│<span style=\"color: #7f7f7f; text-decoration-color: #7f7f7f\">               </span>│<span style=\"color: #7f7f7f; text-decoration-color: #7f7f7f\">                 </span>│\n",
       "│<span style=\"color: #7f7f7f; text-decoration-color: #7f7f7f\">                 </span>│<span style=\"color: #7f7f7f; text-decoration-color: #7f7f7f\">            </span>│<span style=\"color: #7f7f7f; text-decoration-color: #7f7f7f\">              </span>│<span style=\"color: #7f7f7f; text-decoration-color: #7f7f7f\"> request         </span>│<span style=\"color: #7f7f7f; text-decoration-color: #7f7f7f\">               </span>│<span style=\"color: #7f7f7f; text-decoration-color: #7f7f7f\">               </span>│<span style=\"color: #7f7f7f; text-decoration-color: #7f7f7f\">                 </span>│\n",
       "├─────────────────┼────────────┼──────────────┼─────────────────┼───────────────┼───────────────┼─────────────────┤\n",
       "│<span style=\"color: #7f7f7f; text-decoration-color: #7f7f7f\"> Add meats and   </span>│<span style=\"color: #7f7f7f; text-decoration-color: #7f7f7f\"> No         </span>│<span style=\"color: #7f7f7f; text-decoration-color: #7f7f7f\"> 0            </span>│<span style=\"color: #7f7f7f; text-decoration-color: #7f7f7f\"> External        </span>│<span style=\"color: #7f7f7f; text-decoration-color: #7f7f7f\"> 1             </span>│<span style=\"color: #7f7f7f; text-decoration-color: #7f7f7f\"> Almost none   </span>│<span style=\"color: #7f7f7f; text-decoration-color: #7f7f7f\"> 0.1             </span>│\n",
       "│<span style=\"color: #7f7f7f; text-decoration-color: #7f7f7f\"> cheese          </span>│<span style=\"color: #7f7f7f; text-decoration-color: #7f7f7f\">            </span>│<span style=\"color: #7f7f7f; text-decoration-color: #7f7f7f\">              </span>│<span style=\"color: #7f7f7f; text-decoration-color: #7f7f7f\"> trigger like a  </span>│<span style=\"color: #7f7f7f; text-decoration-color: #7f7f7f\">               </span>│<span style=\"color: #7f7f7f; text-decoration-color: #7f7f7f\">               </span>│<span style=\"color: #7f7f7f; text-decoration-color: #7f7f7f\">                 </span>│\n",
       "│<span style=\"color: #7f7f7f; text-decoration-color: #7f7f7f\">                 </span>│<span style=\"color: #7f7f7f; text-decoration-color: #7f7f7f\">            </span>│<span style=\"color: #7f7f7f; text-decoration-color: #7f7f7f\">              </span>│<span style=\"color: #7f7f7f; text-decoration-color: #7f7f7f\"> customer        </span>│<span style=\"color: #7f7f7f; text-decoration-color: #7f7f7f\">               </span>│<span style=\"color: #7f7f7f; text-decoration-color: #7f7f7f\">               </span>│<span style=\"color: #7f7f7f; text-decoration-color: #7f7f7f\">                 </span>│\n",
       "│<span style=\"color: #7f7f7f; text-decoration-color: #7f7f7f\">                 </span>│<span style=\"color: #7f7f7f; text-decoration-color: #7f7f7f\">            </span>│<span style=\"color: #7f7f7f; text-decoration-color: #7f7f7f\">              </span>│<span style=\"color: #7f7f7f; text-decoration-color: #7f7f7f\"> request         </span>│<span style=\"color: #7f7f7f; text-decoration-color: #7f7f7f\">               </span>│<span style=\"color: #7f7f7f; text-decoration-color: #7f7f7f\">               </span>│<span style=\"color: #7f7f7f; text-decoration-color: #7f7f7f\">                 </span>│\n",
       "├─────────────────┼────────────┼──────────────┼─────────────────┼───────────────┼───────────────┼─────────────────┤\n",
       "│<span style=\"color: #7f7f7f; text-decoration-color: #7f7f7f\"> Wrap sandwich   </span>│<span style=\"color: #7f7f7f; text-decoration-color: #7f7f7f\"> No         </span>│<span style=\"color: #7f7f7f; text-decoration-color: #7f7f7f\"> 0            </span>│<span style=\"color: #7f7f7f; text-decoration-color: #7f7f7f\"> Completion of a </span>│<span style=\"color: #7f7f7f; text-decoration-color: #7f7f7f\"> 1             </span>│<span style=\"color: #7f7f7f; text-decoration-color: #7f7f7f\"> Almost none   </span>│<span style=\"color: #7f7f7f; text-decoration-color: #7f7f7f\"> 0.1             </span>│\n",
       "│<span style=\"color: #7f7f7f; text-decoration-color: #7f7f7f\">                 </span>│<span style=\"color: #7f7f7f; text-decoration-color: #7f7f7f\">            </span>│<span style=\"color: #7f7f7f; text-decoration-color: #7f7f7f\">              </span>│<span style=\"color: #7f7f7f; text-decoration-color: #7f7f7f\"> previous step   </span>│<span style=\"color: #7f7f7f; text-decoration-color: #7f7f7f\">               </span>│<span style=\"color: #7f7f7f; text-decoration-color: #7f7f7f\">               </span>│<span style=\"color: #7f7f7f; text-decoration-color: #7f7f7f\">                 </span>│\n",
       "│<span style=\"color: #7f7f7f; text-decoration-color: #7f7f7f\">                 </span>│<span style=\"color: #7f7f7f; text-decoration-color: #7f7f7f\">            </span>│<span style=\"color: #7f7f7f; text-decoration-color: #7f7f7f\">              </span>│<span style=\"color: #7f7f7f; text-decoration-color: #7f7f7f\"> in some         </span>│<span style=\"color: #7f7f7f; text-decoration-color: #7f7f7f\">               </span>│<span style=\"color: #7f7f7f; text-decoration-color: #7f7f7f\">               </span>│<span style=\"color: #7f7f7f; text-decoration-color: #7f7f7f\">                 </span>│\n",
       "│<span style=\"color: #7f7f7f; text-decoration-color: #7f7f7f\">                 </span>│<span style=\"color: #7f7f7f; text-decoration-color: #7f7f7f\">            </span>│<span style=\"color: #7f7f7f; text-decoration-color: #7f7f7f\">              </span>│<span style=\"color: #7f7f7f; text-decoration-color: #7f7f7f\"> productive      </span>│<span style=\"color: #7f7f7f; text-decoration-color: #7f7f7f\">               </span>│<span style=\"color: #7f7f7f; text-decoration-color: #7f7f7f\">               </span>│<span style=\"color: #7f7f7f; text-decoration-color: #7f7f7f\">                 </span>│\n",
       "│<span style=\"color: #7f7f7f; text-decoration-color: #7f7f7f\">                 </span>│<span style=\"color: #7f7f7f; text-decoration-color: #7f7f7f\">            </span>│<span style=\"color: #7f7f7f; text-decoration-color: #7f7f7f\">              </span>│<span style=\"color: #7f7f7f; text-decoration-color: #7f7f7f\"> process         </span>│<span style=\"color: #7f7f7f; text-decoration-color: #7f7f7f\">               </span>│<span style=\"color: #7f7f7f; text-decoration-color: #7f7f7f\">               </span>│<span style=\"color: #7f7f7f; text-decoration-color: #7f7f7f\">                 </span>│\n",
       "├─────────────────┼────────────┼──────────────┼─────────────────┼───────────────┼───────────────┼─────────────────┤\n",
       "│<span style=\"color: #7f7f7f; text-decoration-color: #7f7f7f\"> Take payment    </span>│<span style=\"color: #7f7f7f; text-decoration-color: #7f7f7f\"> No         </span>│<span style=\"color: #7f7f7f; text-decoration-color: #7f7f7f\"> 0            </span>│<span style=\"color: #7f7f7f; text-decoration-color: #7f7f7f\"> External        </span>│<span style=\"color: #7f7f7f; text-decoration-color: #7f7f7f\"> 1             </span>│<span style=\"color: #7f7f7f; text-decoration-color: #7f7f7f\"> Almost none   </span>│<span style=\"color: #7f7f7f; text-decoration-color: #7f7f7f\"> 0.1             </span>│\n",
       "│<span style=\"color: #7f7f7f; text-decoration-color: #7f7f7f\">                 </span>│<span style=\"color: #7f7f7f; text-decoration-color: #7f7f7f\">            </span>│<span style=\"color: #7f7f7f; text-decoration-color: #7f7f7f\">              </span>│<span style=\"color: #7f7f7f; text-decoration-color: #7f7f7f\"> trigger like a  </span>│<span style=\"color: #7f7f7f; text-decoration-color: #7f7f7f\">               </span>│<span style=\"color: #7f7f7f; text-decoration-color: #7f7f7f\">               </span>│<span style=\"color: #7f7f7f; text-decoration-color: #7f7f7f\">                 </span>│\n",
       "│<span style=\"color: #7f7f7f; text-decoration-color: #7f7f7f\">                 </span>│<span style=\"color: #7f7f7f; text-decoration-color: #7f7f7f\">            </span>│<span style=\"color: #7f7f7f; text-decoration-color: #7f7f7f\">              </span>│<span style=\"color: #7f7f7f; text-decoration-color: #7f7f7f\"> customer        </span>│<span style=\"color: #7f7f7f; text-decoration-color: #7f7f7f\">               </span>│<span style=\"color: #7f7f7f; text-decoration-color: #7f7f7f\">               </span>│<span style=\"color: #7f7f7f; text-decoration-color: #7f7f7f\">                 </span>│\n",
       "│<span style=\"color: #7f7f7f; text-decoration-color: #7f7f7f\">                 </span>│<span style=\"color: #7f7f7f; text-decoration-color: #7f7f7f\">            </span>│<span style=\"color: #7f7f7f; text-decoration-color: #7f7f7f\">              </span>│<span style=\"color: #7f7f7f; text-decoration-color: #7f7f7f\"> request         </span>│<span style=\"color: #7f7f7f; text-decoration-color: #7f7f7f\">               </span>│<span style=\"color: #7f7f7f; text-decoration-color: #7f7f7f\">               </span>│<span style=\"color: #7f7f7f; text-decoration-color: #7f7f7f\">                 </span>│\n",
       "├─────────────────┼────────────┼──────────────┼─────────────────┼───────────────┼───────────────┼─────────────────┤\n",
       "│<span style=\"color: #7f7f7f; text-decoration-color: #7f7f7f\"> Spread mayo     </span>│<span style=\"color: #7f7f7f; text-decoration-color: #7f7f7f\"> No         </span>│<span style=\"color: #7f7f7f; text-decoration-color: #7f7f7f\"> 0            </span>│<span style=\"color: #7f7f7f; text-decoration-color: #7f7f7f\"> External        </span>│<span style=\"color: #7f7f7f; text-decoration-color: #7f7f7f\"> 1             </span>│<span style=\"color: #7f7f7f; text-decoration-color: #7f7f7f\"> Almost none   </span>│<span style=\"color: #7f7f7f; text-decoration-color: #7f7f7f\"> 0.1             </span>│\n",
       "│<span style=\"color: #7f7f7f; text-decoration-color: #7f7f7f\">                 </span>│<span style=\"color: #7f7f7f; text-decoration-color: #7f7f7f\">            </span>│<span style=\"color: #7f7f7f; text-decoration-color: #7f7f7f\">              </span>│<span style=\"color: #7f7f7f; text-decoration-color: #7f7f7f\"> trigger like a  </span>│<span style=\"color: #7f7f7f; text-decoration-color: #7f7f7f\">               </span>│<span style=\"color: #7f7f7f; text-decoration-color: #7f7f7f\">               </span>│<span style=\"color: #7f7f7f; text-decoration-color: #7f7f7f\">                 </span>│\n",
       "│<span style=\"color: #7f7f7f; text-decoration-color: #7f7f7f\">                 </span>│<span style=\"color: #7f7f7f; text-decoration-color: #7f7f7f\">            </span>│<span style=\"color: #7f7f7f; text-decoration-color: #7f7f7f\">              </span>│<span style=\"color: #7f7f7f; text-decoration-color: #7f7f7f\"> customer        </span>│<span style=\"color: #7f7f7f; text-decoration-color: #7f7f7f\">               </span>│<span style=\"color: #7f7f7f; text-decoration-color: #7f7f7f\">               </span>│<span style=\"color: #7f7f7f; text-decoration-color: #7f7f7f\">                 </span>│\n",
       "│<span style=\"color: #7f7f7f; text-decoration-color: #7f7f7f\">                 </span>│<span style=\"color: #7f7f7f; text-decoration-color: #7f7f7f\">            </span>│<span style=\"color: #7f7f7f; text-decoration-color: #7f7f7f\">              </span>│<span style=\"color: #7f7f7f; text-decoration-color: #7f7f7f\"> request         </span>│<span style=\"color: #7f7f7f; text-decoration-color: #7f7f7f\">               </span>│<span style=\"color: #7f7f7f; text-decoration-color: #7f7f7f\">               </span>│<span style=\"color: #7f7f7f; text-decoration-color: #7f7f7f\">                 </span>│\n",
       "└─────────────────┴────────────┴──────────────┴─────────────────┴───────────────┴───────────────┴─────────────────┘\n",
       "</pre>\n"
      ],
      "text/plain": [
       "┏━━━━━━━━━━━━━━━━━┳━━━━━━━━━━━━┳━━━━━━━━━━━━━━┳━━━━━━━━━━━━━━━━━┳━━━━━━━━━━━━━━━┳━━━━━━━━━━━━━━━┳━━━━━━━━━━━━━━━━━┓\n",
       "┃\u001b[1;35m \u001b[0m\u001b[1;35mscenario       \u001b[0m\u001b[1;35m \u001b[0m┃\u001b[1;35m \u001b[0m\u001b[1;35manswer    \u001b[0m\u001b[1;35m \u001b[0m┃\u001b[1;35m \u001b[0m\u001b[1;35manswer      \u001b[0m\u001b[1;35m \u001b[0m┃\u001b[1;35m \u001b[0m\u001b[1;35manswer         \u001b[0m\u001b[1;35m \u001b[0m┃\u001b[1;35m \u001b[0m\u001b[1;35manswer       \u001b[0m\u001b[1;35m \u001b[0m┃\u001b[1;35m \u001b[0m\u001b[1;35manswer       \u001b[0m\u001b[1;35m \u001b[0m┃\u001b[1;35m \u001b[0m\u001b[1;35manswer         \u001b[0m\u001b[1;35m \u001b[0m┃\n",
       "┃\u001b[1;35m \u001b[0m\u001b[1;35m.task          \u001b[0m\u001b[1;35m \u001b[0m┃\u001b[1;35m \u001b[0m\u001b[1;35m.info_good\u001b[0m\u001b[1;35m \u001b[0m┃\u001b[1;35m \u001b[0m\u001b[1;35m.gen_ai_help\u001b[0m\u001b[1;35m \u001b[0m┃\u001b[1;35m \u001b[0m\u001b[1;35m.trigger       \u001b[0m\u001b[1;35m \u001b[0m┃\u001b[1;35m \u001b[0m\u001b[1;35m.easy_to_tell\u001b[0m\u001b[1;35m \u001b[0m┃\u001b[1;35m \u001b[0m\u001b[1;35m.manager_task\u001b[0m\u001b[1;35m \u001b[0m┃\u001b[1;35m \u001b[0m\u001b[1;35m.ratio_describ…\u001b[0m\u001b[1;35m \u001b[0m┃\n",
       "┡━━━━━━━━━━━━━━━━━╇━━━━━━━━━━━━╇━━━━━━━━━━━━━━╇━━━━━━━━━━━━━━━━━╇━━━━━━━━━━━━━━━╇━━━━━━━━━━━━━━━╇━━━━━━━━━━━━━━━━━┩\n",
       "│\u001b[2m \u001b[0m\u001b[2mSlice bread    \u001b[0m\u001b[2m \u001b[0m│\u001b[2m \u001b[0m\u001b[2mNo        \u001b[0m\u001b[2m \u001b[0m│\u001b[2m \u001b[0m\u001b[2m0           \u001b[0m\u001b[2m \u001b[0m│\u001b[2m \u001b[0m\u001b[2mExternal       \u001b[0m\u001b[2m \u001b[0m│\u001b[2m \u001b[0m\u001b[2m1            \u001b[0m\u001b[2m \u001b[0m│\u001b[2m \u001b[0m\u001b[2mAlmost none  \u001b[0m\u001b[2m \u001b[0m│\u001b[2m \u001b[0m\u001b[2m0.1            \u001b[0m\u001b[2m \u001b[0m│\n",
       "│\u001b[2m                 \u001b[0m│\u001b[2m            \u001b[0m│\u001b[2m              \u001b[0m│\u001b[2m \u001b[0m\u001b[2mtrigger like a \u001b[0m\u001b[2m \u001b[0m│\u001b[2m               \u001b[0m│\u001b[2m               \u001b[0m│\u001b[2m                 \u001b[0m│\n",
       "│\u001b[2m                 \u001b[0m│\u001b[2m            \u001b[0m│\u001b[2m              \u001b[0m│\u001b[2m \u001b[0m\u001b[2mcustomer       \u001b[0m\u001b[2m \u001b[0m│\u001b[2m               \u001b[0m│\u001b[2m               \u001b[0m│\u001b[2m                 \u001b[0m│\n",
       "│\u001b[2m                 \u001b[0m│\u001b[2m            \u001b[0m│\u001b[2m              \u001b[0m│\u001b[2m \u001b[0m\u001b[2mrequest        \u001b[0m\u001b[2m \u001b[0m│\u001b[2m               \u001b[0m│\u001b[2m               \u001b[0m│\u001b[2m                 \u001b[0m│\n",
       "├─────────────────┼────────────┼──────────────┼─────────────────┼───────────────┼───────────────┼─────────────────┤\n",
       "│\u001b[2m \u001b[0m\u001b[2mAdd meats and  \u001b[0m\u001b[2m \u001b[0m│\u001b[2m \u001b[0m\u001b[2mNo        \u001b[0m\u001b[2m \u001b[0m│\u001b[2m \u001b[0m\u001b[2m0           \u001b[0m\u001b[2m \u001b[0m│\u001b[2m \u001b[0m\u001b[2mExternal       \u001b[0m\u001b[2m \u001b[0m│\u001b[2m \u001b[0m\u001b[2m1            \u001b[0m\u001b[2m \u001b[0m│\u001b[2m \u001b[0m\u001b[2mAlmost none  \u001b[0m\u001b[2m \u001b[0m│\u001b[2m \u001b[0m\u001b[2m0.1            \u001b[0m\u001b[2m \u001b[0m│\n",
       "│\u001b[2m \u001b[0m\u001b[2mcheese         \u001b[0m\u001b[2m \u001b[0m│\u001b[2m            \u001b[0m│\u001b[2m              \u001b[0m│\u001b[2m \u001b[0m\u001b[2mtrigger like a \u001b[0m\u001b[2m \u001b[0m│\u001b[2m               \u001b[0m│\u001b[2m               \u001b[0m│\u001b[2m                 \u001b[0m│\n",
       "│\u001b[2m                 \u001b[0m│\u001b[2m            \u001b[0m│\u001b[2m              \u001b[0m│\u001b[2m \u001b[0m\u001b[2mcustomer       \u001b[0m\u001b[2m \u001b[0m│\u001b[2m               \u001b[0m│\u001b[2m               \u001b[0m│\u001b[2m                 \u001b[0m│\n",
       "│\u001b[2m                 \u001b[0m│\u001b[2m            \u001b[0m│\u001b[2m              \u001b[0m│\u001b[2m \u001b[0m\u001b[2mrequest        \u001b[0m\u001b[2m \u001b[0m│\u001b[2m               \u001b[0m│\u001b[2m               \u001b[0m│\u001b[2m                 \u001b[0m│\n",
       "├─────────────────┼────────────┼──────────────┼─────────────────┼───────────────┼───────────────┼─────────────────┤\n",
       "│\u001b[2m \u001b[0m\u001b[2mWrap sandwich  \u001b[0m\u001b[2m \u001b[0m│\u001b[2m \u001b[0m\u001b[2mNo        \u001b[0m\u001b[2m \u001b[0m│\u001b[2m \u001b[0m\u001b[2m0           \u001b[0m\u001b[2m \u001b[0m│\u001b[2m \u001b[0m\u001b[2mCompletion of a\u001b[0m\u001b[2m \u001b[0m│\u001b[2m \u001b[0m\u001b[2m1            \u001b[0m\u001b[2m \u001b[0m│\u001b[2m \u001b[0m\u001b[2mAlmost none  \u001b[0m\u001b[2m \u001b[0m│\u001b[2m \u001b[0m\u001b[2m0.1            \u001b[0m\u001b[2m \u001b[0m│\n",
       "│\u001b[2m                 \u001b[0m│\u001b[2m            \u001b[0m│\u001b[2m              \u001b[0m│\u001b[2m \u001b[0m\u001b[2mprevious step  \u001b[0m\u001b[2m \u001b[0m│\u001b[2m               \u001b[0m│\u001b[2m               \u001b[0m│\u001b[2m                 \u001b[0m│\n",
       "│\u001b[2m                 \u001b[0m│\u001b[2m            \u001b[0m│\u001b[2m              \u001b[0m│\u001b[2m \u001b[0m\u001b[2min some        \u001b[0m\u001b[2m \u001b[0m│\u001b[2m               \u001b[0m│\u001b[2m               \u001b[0m│\u001b[2m                 \u001b[0m│\n",
       "│\u001b[2m                 \u001b[0m│\u001b[2m            \u001b[0m│\u001b[2m              \u001b[0m│\u001b[2m \u001b[0m\u001b[2mproductive     \u001b[0m\u001b[2m \u001b[0m│\u001b[2m               \u001b[0m│\u001b[2m               \u001b[0m│\u001b[2m                 \u001b[0m│\n",
       "│\u001b[2m                 \u001b[0m│\u001b[2m            \u001b[0m│\u001b[2m              \u001b[0m│\u001b[2m \u001b[0m\u001b[2mprocess        \u001b[0m\u001b[2m \u001b[0m│\u001b[2m               \u001b[0m│\u001b[2m               \u001b[0m│\u001b[2m                 \u001b[0m│\n",
       "├─────────────────┼────────────┼──────────────┼─────────────────┼───────────────┼───────────────┼─────────────────┤\n",
       "│\u001b[2m \u001b[0m\u001b[2mTake payment   \u001b[0m\u001b[2m \u001b[0m│\u001b[2m \u001b[0m\u001b[2mNo        \u001b[0m\u001b[2m \u001b[0m│\u001b[2m \u001b[0m\u001b[2m0           \u001b[0m\u001b[2m \u001b[0m│\u001b[2m \u001b[0m\u001b[2mExternal       \u001b[0m\u001b[2m \u001b[0m│\u001b[2m \u001b[0m\u001b[2m1            \u001b[0m\u001b[2m \u001b[0m│\u001b[2m \u001b[0m\u001b[2mAlmost none  \u001b[0m\u001b[2m \u001b[0m│\u001b[2m \u001b[0m\u001b[2m0.1            \u001b[0m\u001b[2m \u001b[0m│\n",
       "│\u001b[2m                 \u001b[0m│\u001b[2m            \u001b[0m│\u001b[2m              \u001b[0m│\u001b[2m \u001b[0m\u001b[2mtrigger like a \u001b[0m\u001b[2m \u001b[0m│\u001b[2m               \u001b[0m│\u001b[2m               \u001b[0m│\u001b[2m                 \u001b[0m│\n",
       "│\u001b[2m                 \u001b[0m│\u001b[2m            \u001b[0m│\u001b[2m              \u001b[0m│\u001b[2m \u001b[0m\u001b[2mcustomer       \u001b[0m\u001b[2m \u001b[0m│\u001b[2m               \u001b[0m│\u001b[2m               \u001b[0m│\u001b[2m                 \u001b[0m│\n",
       "│\u001b[2m                 \u001b[0m│\u001b[2m            \u001b[0m│\u001b[2m              \u001b[0m│\u001b[2m \u001b[0m\u001b[2mrequest        \u001b[0m\u001b[2m \u001b[0m│\u001b[2m               \u001b[0m│\u001b[2m               \u001b[0m│\u001b[2m                 \u001b[0m│\n",
       "├─────────────────┼────────────┼──────────────┼─────────────────┼───────────────┼───────────────┼─────────────────┤\n",
       "│\u001b[2m \u001b[0m\u001b[2mSpread mayo    \u001b[0m\u001b[2m \u001b[0m│\u001b[2m \u001b[0m\u001b[2mNo        \u001b[0m\u001b[2m \u001b[0m│\u001b[2m \u001b[0m\u001b[2m0           \u001b[0m\u001b[2m \u001b[0m│\u001b[2m \u001b[0m\u001b[2mExternal       \u001b[0m\u001b[2m \u001b[0m│\u001b[2m \u001b[0m\u001b[2m1            \u001b[0m\u001b[2m \u001b[0m│\u001b[2m \u001b[0m\u001b[2mAlmost none  \u001b[0m\u001b[2m \u001b[0m│\u001b[2m \u001b[0m\u001b[2m0.1            \u001b[0m\u001b[2m \u001b[0m│\n",
       "│\u001b[2m                 \u001b[0m│\u001b[2m            \u001b[0m│\u001b[2m              \u001b[0m│\u001b[2m \u001b[0m\u001b[2mtrigger like a \u001b[0m\u001b[2m \u001b[0m│\u001b[2m               \u001b[0m│\u001b[2m               \u001b[0m│\u001b[2m                 \u001b[0m│\n",
       "│\u001b[2m                 \u001b[0m│\u001b[2m            \u001b[0m│\u001b[2m              \u001b[0m│\u001b[2m \u001b[0m\u001b[2mcustomer       \u001b[0m\u001b[2m \u001b[0m│\u001b[2m               \u001b[0m│\u001b[2m               \u001b[0m│\u001b[2m                 \u001b[0m│\n",
       "│\u001b[2m                 \u001b[0m│\u001b[2m            \u001b[0m│\u001b[2m              \u001b[0m│\u001b[2m \u001b[0m\u001b[2mrequest        \u001b[0m\u001b[2m \u001b[0m│\u001b[2m               \u001b[0m│\u001b[2m               \u001b[0m│\u001b[2m                 \u001b[0m│\n",
       "└─────────────────┴────────────┴──────────────┴─────────────────┴───────────────┴───────────────┴─────────────────┘\n"
      ]
     },
     "metadata": {},
     "output_type": "display_data"
    }
   ],
   "source": [
    "from question_bank import task_survey\n",
    "results = task_survey.by(scenarios).run()\n",
    "columns = [\"task\"] +  task_survey.question_names\n",
    "results.select(*columns).print() \n",
    "results.select(*columns).to_csv(\"task_survey.csv\")"
   ]
  },
  {
   "cell_type": "code",
   "execution_count": 5,
   "metadata": {},
   "outputs": [
    {
     "data": {
      "text/html": [
       "<pre style=\"white-space:pre;overflow-x:auto;line-height:normal;font-family:Menlo,'DejaVu Sans Mono',consolas,'Courier New',monospace\">┏━━━━━━━━━━━━━━━┳━━━━━━━━━━━━━━━━━┳━━━━━━━━━━━━━━━━━━━━━━━━━━━━━━━━━━━━━━━━━━━━━━━━━━━━━━━━━━┳━━━━━━━━━━━━━━━━━━━━┓\n",
       "┃<span style=\"color: #800080; text-decoration-color: #800080; font-weight: bold\"> Question Name </span>┃<span style=\"color: #800080; text-decoration-color: #800080; font-weight: bold\"> Question Type   </span>┃<span style=\"color: #800080; text-decoration-color: #800080; font-weight: bold\"> Question Text                                            </span>┃<span style=\"color: #800080; text-decoration-color: #800080; font-weight: bold\"> Options            </span>┃\n",
       "┡━━━━━━━━━━━━━━━╇━━━━━━━━━━━━━━━━━╇━━━━━━━━━━━━━━━━━━━━━━━━━━━━━━━━━━━━━━━━━━━━━━━━━━━━━━━━━━╇━━━━━━━━━━━━━━━━━━━━┩\n",
       "│<span style=\"color: #7f7f7f; text-decoration-color: #7f7f7f\"> info_good     </span>│ multiple_choice │ Consider this occupation {{ occupation }} and this task: │ Yes, Partially, No │\n",
       "│<span style=\"color: #7f7f7f; text-decoration-color: #7f7f7f\">               </span>│                 │ {{ task }}.                                              │                    │\n",
       "│<span style=\"color: #7f7f7f; text-decoration-color: #7f7f7f\">               </span>│                 │ Is this task output an information good (i.e.,           │                    │\n",
       "│<span style=\"color: #7f7f7f; text-decoration-color: #7f7f7f\">               </span>│                 │ writing/text, audio, a decision, an image, a video)?     │                    │\n",
       "│<span style=\"color: #7f7f7f; text-decoration-color: #7f7f7f\">               </span>│                 │                                                          │                    │\n",
       "└───────────────┴─────────────────┴──────────────────────────────────────────────────────────┴────────────────────┘\n",
       "</pre>\n"
      ],
      "text/plain": [
       "┏━━━━━━━━━━━━━━━┳━━━━━━━━━━━━━━━━━┳━━━━━━━━━━━━━━━━━━━━━━━━━━━━━━━━━━━━━━━━━━━━━━━━━━━━━━━━━━┳━━━━━━━━━━━━━━━━━━━━┓\n",
       "┃\u001b[1;35m \u001b[0m\u001b[1;35mQuestion Name\u001b[0m\u001b[1;35m \u001b[0m┃\u001b[1;35m \u001b[0m\u001b[1;35mQuestion Type  \u001b[0m\u001b[1;35m \u001b[0m┃\u001b[1;35m \u001b[0m\u001b[1;35mQuestion Text                                           \u001b[0m\u001b[1;35m \u001b[0m┃\u001b[1;35m \u001b[0m\u001b[1;35mOptions           \u001b[0m\u001b[1;35m \u001b[0m┃\n",
       "┡━━━━━━━━━━━━━━━╇━━━━━━━━━━━━━━━━━╇━━━━━━━━━━━━━━━━━━━━━━━━━━━━━━━━━━━━━━━━━━━━━━━━━━━━━━━━━━╇━━━━━━━━━━━━━━━━━━━━┩\n",
       "│\u001b[2m \u001b[0m\u001b[2minfo_good    \u001b[0m\u001b[2m \u001b[0m│ multiple_choice │ Consider this occupation {{ occupation }} and this task: │ Yes, Partially, No │\n",
       "│\u001b[2m               \u001b[0m│                 │ {{ task }}.                                              │                    │\n",
       "│\u001b[2m               \u001b[0m│                 │ Is this task output an information good (i.e.,           │                    │\n",
       "│\u001b[2m               \u001b[0m│                 │ writing/text, audio, a decision, an image, a video)?     │                    │\n",
       "│\u001b[2m               \u001b[0m│                 │                                                          │                    │\n",
       "└───────────────┴─────────────────┴──────────────────────────────────────────────────────────┴────────────────────┘\n"
      ]
     },
     "metadata": {},
     "output_type": "display_data"
    },
    {
     "data": {
      "text/html": [
       "<pre style=\"white-space:pre;overflow-x:auto;line-height:normal;font-family:Menlo,'DejaVu Sans Mono',consolas,'Courier New',monospace\">Question:info_good,┏━━━━━━━━━━━━━━━┳━━━━━━━━━━━━━━━━━┳━━━━━━━━━━━━━━━━━━━━━━━━━━━━━━━━━━━━━━━━━━━━━━━━━━━━━━━━━━┳━━\n",
       "━━━━━━━━━━━━━━━━━━┓\n",
       "┃ Question Name ┃ Question Type   ┃ Question Text                                            ┃ Options            ┃\n",
       "┡━━━━━━━━━━━━━━━╇━━━━━━━━━━━━━━━━━╇━━━━━━━━━━━━━━━━━━━━━━━━━━━━━━━━━━━━━━━━━━━━━━━━━━━━━━━━━━╇━━━━━━━━━━━━━━━━━━━━┩\n",
       "│ info_good     │ multiple_choice │ Consider this occupation <span style=\"font-weight: bold\">{{</span> occupation <span style=\"font-weight: bold\">}}</span> and this task: │ Yes, Partially, No │\n",
       "│               │                 │ <span style=\"font-weight: bold\">{{</span> task <span style=\"font-weight: bold\">}}</span>.                                              │                    │\n",
       "│               │                 │ Is this task output an information good <span style=\"font-weight: bold\">(</span>i.e.,           │                    │\n",
       "│               │                 │ writing/text, audio, a decision, an image, a video<span style=\"font-weight: bold\">)</span>?     │                    │\n",
       "│               │                 │                                                          │                    │\n",
       "└───────────────┴─────────────────┴──────────────────────────────────────────────────────────┴────────────────────┘\n",
       "\n",
       "</pre>\n"
      ],
      "text/plain": [
       "Question:info_good,┏━━━━━━━━━━━━━━━┳━━━━━━━━━━━━━━━━━┳━━━━━━━━━━━━━━━━━━━━━━━━━━━━━━━━━━━━━━━━━━━━━━━━━━━━━━━━━━┳━━\n",
       "━━━━━━━━━━━━━━━━━━┓\n",
       "┃ Question Name ┃ Question Type   ┃ Question Text                                            ┃ Options            ┃\n",
       "┡━━━━━━━━━━━━━━━╇━━━━━━━━━━━━━━━━━╇━━━━━━━━━━━━━━━━━━━━━━━━━━━━━━━━━━━━━━━━━━━━━━━━━━━━━━━━━━╇━━━━━━━━━━━━━━━━━━━━┩\n",
       "│ info_good     │ multiple_choice │ Consider this occupation \u001b[1m{\u001b[0m\u001b[1m{\u001b[0m occupation \u001b[1m}\u001b[0m\u001b[1m}\u001b[0m and this task: │ Yes, Partially, No │\n",
       "│               │                 │ \u001b[1m{\u001b[0m\u001b[1m{\u001b[0m task \u001b[1m}\u001b[0m\u001b[1m}\u001b[0m.                                              │                    │\n",
       "│               │                 │ Is this task output an information good \u001b[1m(\u001b[0mi.e.,           │                    │\n",
       "│               │                 │ writing/text, audio, a decision, an image, a video\u001b[1m)\u001b[0m?     │                    │\n",
       "│               │                 │                                                          │                    │\n",
       "└───────────────┴─────────────────┴──────────────────────────────────────────────────────────┴────────────────────┘\n",
       "\n"
      ]
     },
     "metadata": {},
     "output_type": "display_data"
    },
    {
     "data": {
      "text/html": [
       "<pre style=\"white-space:pre;overflow-x:auto;line-height:normal;font-family:Menlo,'DejaVu Sans Mono',consolas,'Courier New',monospace\">┏━━━━━━━━━━━━━━━┳━━━━━━━━━━━━━━━┳━━━━━━━━━━━━━━━━━━━━━━━━━━━━━━━━━━━━━━━━━━━━━━┳━━━━━━━━━━━━━━━━━━━━━━━━━━━━━━━━━━┓\n",
       "┃<span style=\"color: #800080; text-decoration-color: #800080; font-weight: bold\"> Question Name </span>┃<span style=\"color: #800080; text-decoration-color: #800080; font-weight: bold\"> Question Type </span>┃<span style=\"color: #800080; text-decoration-color: #800080; font-weight: bold\"> Question Text                                </span>┃<span style=\"color: #800080; text-decoration-color: #800080; font-weight: bold\"> Options                          </span>┃\n",
       "┡━━━━━━━━━━━━━━━╇━━━━━━━━━━━━━━━╇━━━━━━━━━━━━━━━━━━━━━━━━━━━━━━━━━━━━━━━━━━━━━━╇━━━━━━━━━━━━━━━━━━━━━━━━━━━━━━━━━━┩\n",
       "│<span style=\"color: #7f7f7f; text-decoration-color: #7f7f7f\"> gen_ai_help   </span>│ linear_scale  │ Consider this occupation: {{ occupation}}    │ 0, 1, 2, 3, 4, 5, 6, 7, 8, 9, 10 │\n",
       "│<span style=\"color: #7f7f7f; text-decoration-color: #7f7f7f\">               </span>│               │ and this task: {{ task }}.                   │                                  │\n",
       "│<span style=\"color: #7f7f7f; text-decoration-color: #7f7f7f\">               </span>│               │ How helpful would generative AI to be        │                                  │\n",
       "│<span style=\"color: #7f7f7f; text-decoration-color: #7f7f7f\">               </span>│               │ someone performing the task?                 │                                  │\n",
       "│<span style=\"color: #7f7f7f; text-decoration-color: #7f7f7f\">               </span>│               │                                              │                                  │\n",
       "└───────────────┴───────────────┴──────────────────────────────────────────────┴──────────────────────────────────┘\n",
       "</pre>\n"
      ],
      "text/plain": [
       "┏━━━━━━━━━━━━━━━┳━━━━━━━━━━━━━━━┳━━━━━━━━━━━━━━━━━━━━━━━━━━━━━━━━━━━━━━━━━━━━━━┳━━━━━━━━━━━━━━━━━━━━━━━━━━━━━━━━━━┓\n",
       "┃\u001b[1;35m \u001b[0m\u001b[1;35mQuestion Name\u001b[0m\u001b[1;35m \u001b[0m┃\u001b[1;35m \u001b[0m\u001b[1;35mQuestion Type\u001b[0m\u001b[1;35m \u001b[0m┃\u001b[1;35m \u001b[0m\u001b[1;35mQuestion Text                               \u001b[0m\u001b[1;35m \u001b[0m┃\u001b[1;35m \u001b[0m\u001b[1;35mOptions                         \u001b[0m\u001b[1;35m \u001b[0m┃\n",
       "┡━━━━━━━━━━━━━━━╇━━━━━━━━━━━━━━━╇━━━━━━━━━━━━━━━━━━━━━━━━━━━━━━━━━━━━━━━━━━━━━━╇━━━━━━━━━━━━━━━━━━━━━━━━━━━━━━━━━━┩\n",
       "│\u001b[2m \u001b[0m\u001b[2mgen_ai_help  \u001b[0m\u001b[2m \u001b[0m│ linear_scale  │ Consider this occupation: {{ occupation}}    │ 0, 1, 2, 3, 4, 5, 6, 7, 8, 9, 10 │\n",
       "│\u001b[2m               \u001b[0m│               │ and this task: {{ task }}.                   │                                  │\n",
       "│\u001b[2m               \u001b[0m│               │ How helpful would generative AI to be        │                                  │\n",
       "│\u001b[2m               \u001b[0m│               │ someone performing the task?                 │                                  │\n",
       "│\u001b[2m               \u001b[0m│               │                                              │                                  │\n",
       "└───────────────┴───────────────┴──────────────────────────────────────────────┴──────────────────────────────────┘\n"
      ]
     },
     "metadata": {},
     "output_type": "display_data"
    },
    {
     "data": {
      "text/html": [
       "<pre style=\"white-space:pre;overflow-x:auto;line-height:normal;font-family:Menlo,'DejaVu Sans Mono',consolas,'Courier New',monospace\">Question:gen_ai_help,┏━━━━━━━━━━━━━━━┳━━━━━━━━━━━━━━━┳━━━━━━━━━━━━━━━━━━━━━━━━━━━━━━━━━━━━━━━━━━━━━━┳━━━━━━━━━━━━━━\n",
       "━━━━━━━━━━━━━━━━━━━━┓\n",
       "┃ Question Name ┃ Question Type ┃ Question Text                                ┃ Options                          ┃\n",
       "┡━━━━━━━━━━━━━━━╇━━━━━━━━━━━━━━━╇━━━━━━━━━━━━━━━━━━━━━━━━━━━━━━━━━━━━━━━━━━━━━━╇━━━━━━━━━━━━━━━━━━━━━━━━━━━━━━━━━━┩\n",
       "│ gen_ai_help   │ linear_scale  │ Consider this occupation: <span style=\"font-weight: bold\">{{</span> occupation<span style=\"font-weight: bold\">}}</span>    │ <span style=\"color: #008080; text-decoration-color: #008080; font-weight: bold\">0</span>, <span style=\"color: #008080; text-decoration-color: #008080; font-weight: bold\">1</span>, <span style=\"color: #008080; text-decoration-color: #008080; font-weight: bold\">2</span>, <span style=\"color: #008080; text-decoration-color: #008080; font-weight: bold\">3</span>, <span style=\"color: #008080; text-decoration-color: #008080; font-weight: bold\">4</span>, <span style=\"color: #008080; text-decoration-color: #008080; font-weight: bold\">5</span>, <span style=\"color: #008080; text-decoration-color: #008080; font-weight: bold\">6</span>, <span style=\"color: #008080; text-decoration-color: #008080; font-weight: bold\">7</span>, <span style=\"color: #008080; text-decoration-color: #008080; font-weight: bold\">8</span>, <span style=\"color: #008080; text-decoration-color: #008080; font-weight: bold\">9</span>, <span style=\"color: #008080; text-decoration-color: #008080; font-weight: bold\">10</span> │\n",
       "│               │               │ and this task: <span style=\"font-weight: bold\">{{</span> task <span style=\"font-weight: bold\">}}</span>.                   │                                  │\n",
       "│               │               │ How helpful would generative AI to be        │                                  │\n",
       "│               │               │ someone performing the task?                 │                                  │\n",
       "│               │               │                                              │                                  │\n",
       "└───────────────┴───────────────┴──────────────────────────────────────────────┴──────────────────────────────────┘\n",
       "\n",
       "</pre>\n"
      ],
      "text/plain": [
       "Question:gen_ai_help,┏━━━━━━━━━━━━━━━┳━━━━━━━━━━━━━━━┳━━━━━━━━━━━━━━━━━━━━━━━━━━━━━━━━━━━━━━━━━━━━━━┳━━━━━━━━━━━━━━\n",
       "━━━━━━━━━━━━━━━━━━━━┓\n",
       "┃ Question Name ┃ Question Type ┃ Question Text                                ┃ Options                          ┃\n",
       "┡━━━━━━━━━━━━━━━╇━━━━━━━━━━━━━━━╇━━━━━━━━━━━━━━━━━━━━━━━━━━━━━━━━━━━━━━━━━━━━━━╇━━━━━━━━━━━━━━━━━━━━━━━━━━━━━━━━━━┩\n",
       "│ gen_ai_help   │ linear_scale  │ Consider this occupation: \u001b[1m{\u001b[0m\u001b[1m{\u001b[0m occupation\u001b[1m}\u001b[0m\u001b[1m}\u001b[0m    │ \u001b[1;36m0\u001b[0m, \u001b[1;36m1\u001b[0m, \u001b[1;36m2\u001b[0m, \u001b[1;36m3\u001b[0m, \u001b[1;36m4\u001b[0m, \u001b[1;36m5\u001b[0m, \u001b[1;36m6\u001b[0m, \u001b[1;36m7\u001b[0m, \u001b[1;36m8\u001b[0m, \u001b[1;36m9\u001b[0m, \u001b[1;36m10\u001b[0m │\n",
       "│               │               │ and this task: \u001b[1m{\u001b[0m\u001b[1m{\u001b[0m task \u001b[1m}\u001b[0m\u001b[1m}\u001b[0m.                   │                                  │\n",
       "│               │               │ How helpful would generative AI to be        │                                  │\n",
       "│               │               │ someone performing the task?                 │                                  │\n",
       "│               │               │                                              │                                  │\n",
       "└───────────────┴───────────────┴──────────────────────────────────────────────┴──────────────────────────────────┘\n",
       "\n"
      ]
     },
     "metadata": {},
     "output_type": "display_data"
    },
    {
     "data": {
      "text/html": [
       "<pre style=\"white-space:pre;overflow-x:auto;line-height:normal;font-family:Menlo,'DejaVu Sans Mono',consolas,'Courier New',monospace\">┏━━━━━━━━━━━━━━━┳━━━━━━━━━━━━━━━━━┳━━━━━━━━━━━━━━━━━━━━━━━━━━━━━━━━━━━━━━━┳━━━━━━━━━━━━━━━━━━━━━━━━━━━━━━━━━━━━━━━┓\n",
       "┃<span style=\"color: #800080; text-decoration-color: #800080; font-weight: bold\"> Question Name </span>┃<span style=\"color: #800080; text-decoration-color: #800080; font-weight: bold\"> Question Type   </span>┃<span style=\"color: #800080; text-decoration-color: #800080; font-weight: bold\"> Question Text                         </span>┃<span style=\"color: #800080; text-decoration-color: #800080; font-weight: bold\"> Options                               </span>┃\n",
       "┡━━━━━━━━━━━━━━━╇━━━━━━━━━━━━━━━━━╇━━━━━━━━━━━━━━━━━━━━━━━━━━━━━━━━━━━━━━━╇━━━━━━━━━━━━━━━━━━━━━━━━━━━━━━━━━━━━━━━┩\n",
       "│<span style=\"color: #7f7f7f; text-decoration-color: #7f7f7f\"> trigger       </span>│ multiple_choice │ Consider the following task {{ task   │ Completion of a previous step in some │\n",
       "│<span style=\"color: #7f7f7f; text-decoration-color: #7f7f7f\">               </span>│                 │ }} as part of the occupation {{       │ productive process, External trigger  │\n",
       "│<span style=\"color: #7f7f7f; text-decoration-color: #7f7f7f\">               </span>│                 │ occupation }}.                        │ like a customer request, External     │\n",
       "│<span style=\"color: #7f7f7f; text-decoration-color: #7f7f7f\">               </span>│                 │     What best describes when this     │ trigger a request from another part   │\n",
       "│<span style=\"color: #7f7f7f; text-decoration-color: #7f7f7f\">               </span>│                 │ task is done?                         │ of the organization, Internal choice  │\n",
       "│<span style=\"color: #7f7f7f; text-decoration-color: #7f7f7f\">               </span>│                 │                                       │ - can be scheduled whenever           │\n",
       "│<span style=\"color: #7f7f7f; text-decoration-color: #7f7f7f\">               </span>│                 │                                       │ convenient                            │\n",
       "└───────────────┴─────────────────┴───────────────────────────────────────┴───────────────────────────────────────┘\n",
       "</pre>\n"
      ],
      "text/plain": [
       "┏━━━━━━━━━━━━━━━┳━━━━━━━━━━━━━━━━━┳━━━━━━━━━━━━━━━━━━━━━━━━━━━━━━━━━━━━━━━┳━━━━━━━━━━━━━━━━━━━━━━━━━━━━━━━━━━━━━━━┓\n",
       "┃\u001b[1;35m \u001b[0m\u001b[1;35mQuestion Name\u001b[0m\u001b[1;35m \u001b[0m┃\u001b[1;35m \u001b[0m\u001b[1;35mQuestion Type  \u001b[0m\u001b[1;35m \u001b[0m┃\u001b[1;35m \u001b[0m\u001b[1;35mQuestion Text                        \u001b[0m\u001b[1;35m \u001b[0m┃\u001b[1;35m \u001b[0m\u001b[1;35mOptions                              \u001b[0m\u001b[1;35m \u001b[0m┃\n",
       "┡━━━━━━━━━━━━━━━╇━━━━━━━━━━━━━━━━━╇━━━━━━━━━━━━━━━━━━━━━━━━━━━━━━━━━━━━━━━╇━━━━━━━━━━━━━━━━━━━━━━━━━━━━━━━━━━━━━━━┩\n",
       "│\u001b[2m \u001b[0m\u001b[2mtrigger      \u001b[0m\u001b[2m \u001b[0m│ multiple_choice │ Consider the following task {{ task   │ Completion of a previous step in some │\n",
       "│\u001b[2m               \u001b[0m│                 │ }} as part of the occupation {{       │ productive process, External trigger  │\n",
       "│\u001b[2m               \u001b[0m│                 │ occupation }}.                        │ like a customer request, External     │\n",
       "│\u001b[2m               \u001b[0m│                 │     What best describes when this     │ trigger a request from another part   │\n",
       "│\u001b[2m               \u001b[0m│                 │ task is done?                         │ of the organization, Internal choice  │\n",
       "│\u001b[2m               \u001b[0m│                 │                                       │ - can be scheduled whenever           │\n",
       "│\u001b[2m               \u001b[0m│                 │                                       │ convenient                            │\n",
       "└───────────────┴─────────────────┴───────────────────────────────────────┴───────────────────────────────────────┘\n"
      ]
     },
     "metadata": {},
     "output_type": "display_data"
    },
    {
     "data": {
      "text/html": [
       "<pre style=\"white-space:pre;overflow-x:auto;line-height:normal;font-family:Menlo,'DejaVu Sans Mono',consolas,'Courier New',monospace\">Question:trigger,┏━━━━━━━━━━━━━━━┳━━━━━━━━━━━━━━━━━┳━━━━━━━━━━━━━━━━━━━━━━━━━━━━━━━━━━━━━━━┳━━━━━━━━━━━━━━━━━━━━━━━\n",
       "━━━━━━━━━━━━━━━━┓\n",
       "┃ Question Name ┃ Question Type   ┃ Question Text                         ┃ Options                               ┃\n",
       "┡━━━━━━━━━━━━━━━╇━━━━━━━━━━━━━━━━━╇━━━━━━━━━━━━━━━━━━━━━━━━━━━━━━━━━━━━━━━╇━━━━━━━━━━━━━━━━━━━━━━━━━━━━━━━━━━━━━━━┩\n",
       "│ trigger       │ multiple_choice │ Consider the following task <span style=\"font-weight: bold\">{{</span> task   │ Completion of a previous step in some │\n",
       "│               │                 │ <span style=\"font-weight: bold\">}}</span> as part of the occupation <span style=\"font-weight: bold\">{{</span>       │ productive process, External trigger  │\n",
       "│               │                 │ occupation <span style=\"font-weight: bold\">}}</span>.                        │ like a customer request, External     │\n",
       "│               │                 │     What best describes when this     │ trigger a request from another part   │\n",
       "│               │                 │ task is done?                         │ of the organization, Internal choice  │\n",
       "│               │                 │                                       │ - can be scheduled whenever           │\n",
       "│               │                 │                                       │ convenient                            │\n",
       "└───────────────┴─────────────────┴───────────────────────────────────────┴───────────────────────────────────────┘\n",
       "\n",
       "</pre>\n"
      ],
      "text/plain": [
       "Question:trigger,┏━━━━━━━━━━━━━━━┳━━━━━━━━━━━━━━━━━┳━━━━━━━━━━━━━━━━━━━━━━━━━━━━━━━━━━━━━━━┳━━━━━━━━━━━━━━━━━━━━━━━\n",
       "━━━━━━━━━━━━━━━━┓\n",
       "┃ Question Name ┃ Question Type   ┃ Question Text                         ┃ Options                               ┃\n",
       "┡━━━━━━━━━━━━━━━╇━━━━━━━━━━━━━━━━━╇━━━━━━━━━━━━━━━━━━━━━━━━━━━━━━━━━━━━━━━╇━━━━━━━━━━━━━━━━━━━━━━━━━━━━━━━━━━━━━━━┩\n",
       "│ trigger       │ multiple_choice │ Consider the following task \u001b[1m{\u001b[0m\u001b[1m{\u001b[0m task   │ Completion of a previous step in some │\n",
       "│               │                 │ \u001b[1m}\u001b[0m\u001b[1m}\u001b[0m as part of the occupation \u001b[1m{\u001b[0m\u001b[1m{\u001b[0m       │ productive process, External trigger  │\n",
       "│               │                 │ occupation \u001b[1m}\u001b[0m\u001b[1m}\u001b[0m.                        │ like a customer request, External     │\n",
       "│               │                 │     What best describes when this     │ trigger a request from another part   │\n",
       "│               │                 │ task is done?                         │ of the organization, Internal choice  │\n",
       "│               │                 │                                       │ - can be scheduled whenever           │\n",
       "│               │                 │                                       │ convenient                            │\n",
       "└───────────────┴─────────────────┴───────────────────────────────────────┴───────────────────────────────────────┘\n",
       "\n"
      ]
     },
     "metadata": {},
     "output_type": "display_data"
    },
    {
     "data": {
      "text/html": [
       "<pre style=\"white-space:pre;overflow-x:auto;line-height:normal;font-family:Menlo,'DejaVu Sans Mono',consolas,'Courier New',monospace\">┏━━━━━━━━━━━━━━━┳━━━━━━━━━━━━━━━┳━━━━━━━━━━━━━━━━━━━━━━━━━━━━━━━━━━━━━━━━━━━━━━┳━━━━━━━━━━━━━━━━━━━━━━━━━━━━━━━━━━┓\n",
       "┃<span style=\"color: #800080; text-decoration-color: #800080; font-weight: bold\"> Question Name </span>┃<span style=\"color: #800080; text-decoration-color: #800080; font-weight: bold\"> Question Type </span>┃<span style=\"color: #800080; text-decoration-color: #800080; font-weight: bold\"> Question Text                                </span>┃<span style=\"color: #800080; text-decoration-color: #800080; font-weight: bold\"> Options                          </span>┃\n",
       "┡━━━━━━━━━━━━━━━╇━━━━━━━━━━━━━━━╇━━━━━━━━━━━━━━━━━━━━━━━━━━━━━━━━━━━━━━━━━━━━━━╇━━━━━━━━━━━━━━━━━━━━━━━━━━━━━━━━━━┩\n",
       "│<span style=\"color: #7f7f7f; text-decoration-color: #7f7f7f\"> easy_to_tell  </span>│ linear_scale  │ Consider the occupation {{ occupation }}.    │ 0, 1, 2, 3, 4, 5, 6, 7, 8, 9, 10 │\n",
       "│<span style=\"color: #7f7f7f; text-decoration-color: #7f7f7f\">               </span>│               │ And consider the task done by someone in     │                                  │\n",
       "│<span style=\"color: #7f7f7f; text-decoration-color: #7f7f7f\">               </span>│               │ this occupation: {{ task }}.                 │                                  │\n",
       "│<span style=\"color: #7f7f7f; text-decoration-color: #7f7f7f\">               </span>│               │ Rate how easy it is for a non-expert to tell │                                  │\n",
       "│<span style=\"color: #7f7f7f; text-decoration-color: #7f7f7f\">               </span>│               │ if the task is done correctly, on a scale of │                                  │\n",
       "│<span style=\"color: #7f7f7f; text-decoration-color: #7f7f7f\">               </span>│               │ 1 to 10.                                     │                                  │\n",
       "│<span style=\"color: #7f7f7f; text-decoration-color: #7f7f7f\">               </span>│               │                                              │                                  │\n",
       "│<span style=\"color: #7f7f7f; text-decoration-color: #7f7f7f\">               </span>│               │ The task: {{ task }}.                        │                                  │\n",
       "│<span style=\"color: #7f7f7f; text-decoration-color: #7f7f7f\">               </span>│               │ 1 = Very easy for a non-expert to tell if    │                                  │\n",
       "│<span style=\"color: #7f7f7f; text-decoration-color: #7f7f7f\">               </span>│               │ done correctly.                              │                                  │\n",
       "│<span style=\"color: #7f7f7f; text-decoration-color: #7f7f7f\">               </span>│               │ 10 = only an expert would know if done       │                                  │\n",
       "│<span style=\"color: #7f7f7f; text-decoration-color: #7f7f7f\">               </span>│               │ correctly.                                   │                                  │\n",
       "│<span style=\"color: #7f7f7f; text-decoration-color: #7f7f7f\">               </span>│               │                                              │                                  │\n",
       "└───────────────┴───────────────┴──────────────────────────────────────────────┴──────────────────────────────────┘\n",
       "</pre>\n"
      ],
      "text/plain": [
       "┏━━━━━━━━━━━━━━━┳━━━━━━━━━━━━━━━┳━━━━━━━━━━━━━━━━━━━━━━━━━━━━━━━━━━━━━━━━━━━━━━┳━━━━━━━━━━━━━━━━━━━━━━━━━━━━━━━━━━┓\n",
       "┃\u001b[1;35m \u001b[0m\u001b[1;35mQuestion Name\u001b[0m\u001b[1;35m \u001b[0m┃\u001b[1;35m \u001b[0m\u001b[1;35mQuestion Type\u001b[0m\u001b[1;35m \u001b[0m┃\u001b[1;35m \u001b[0m\u001b[1;35mQuestion Text                               \u001b[0m\u001b[1;35m \u001b[0m┃\u001b[1;35m \u001b[0m\u001b[1;35mOptions                         \u001b[0m\u001b[1;35m \u001b[0m┃\n",
       "┡━━━━━━━━━━━━━━━╇━━━━━━━━━━━━━━━╇━━━━━━━━━━━━━━━━━━━━━━━━━━━━━━━━━━━━━━━━━━━━━━╇━━━━━━━━━━━━━━━━━━━━━━━━━━━━━━━━━━┩\n",
       "│\u001b[2m \u001b[0m\u001b[2measy_to_tell \u001b[0m\u001b[2m \u001b[0m│ linear_scale  │ Consider the occupation {{ occupation }}.    │ 0, 1, 2, 3, 4, 5, 6, 7, 8, 9, 10 │\n",
       "│\u001b[2m               \u001b[0m│               │ And consider the task done by someone in     │                                  │\n",
       "│\u001b[2m               \u001b[0m│               │ this occupation: {{ task }}.                 │                                  │\n",
       "│\u001b[2m               \u001b[0m│               │ Rate how easy it is for a non-expert to tell │                                  │\n",
       "│\u001b[2m               \u001b[0m│               │ if the task is done correctly, on a scale of │                                  │\n",
       "│\u001b[2m               \u001b[0m│               │ 1 to 10.                                     │                                  │\n",
       "│\u001b[2m               \u001b[0m│               │                                              │                                  │\n",
       "│\u001b[2m               \u001b[0m│               │ The task: {{ task }}.                        │                                  │\n",
       "│\u001b[2m               \u001b[0m│               │ 1 = Very easy for a non-expert to tell if    │                                  │\n",
       "│\u001b[2m               \u001b[0m│               │ done correctly.                              │                                  │\n",
       "│\u001b[2m               \u001b[0m│               │ 10 = only an expert would know if done       │                                  │\n",
       "│\u001b[2m               \u001b[0m│               │ correctly.                                   │                                  │\n",
       "│\u001b[2m               \u001b[0m│               │                                              │                                  │\n",
       "└───────────────┴───────────────┴──────────────────────────────────────────────┴──────────────────────────────────┘\n"
      ]
     },
     "metadata": {},
     "output_type": "display_data"
    },
    {
     "data": {
      "text/html": [
       "<pre style=\"white-space:pre;overflow-x:auto;line-height:normal;font-family:Menlo,'DejaVu Sans Mono',consolas,'Courier New',monospace\">Question:easy_to_tell,┏━━━━━━━━━━━━━━━┳━━━━━━━━━━━━━━━┳━━━━━━━━━━━━━━━━━━━━━━━━━━━━━━━━━━━━━━━━━━━━━━┳━━━━━━━━━━━━━\n",
       "━━━━━━━━━━━━━━━━━━━━━┓\n",
       "┃ Question Name ┃ Question Type ┃ Question Text                                ┃ Options                          ┃\n",
       "┡━━━━━━━━━━━━━━━╇━━━━━━━━━━━━━━━╇━━━━━━━━━━━━━━━━━━━━━━━━━━━━━━━━━━━━━━━━━━━━━━╇━━━━━━━━━━━━━━━━━━━━━━━━━━━━━━━━━━┩\n",
       "│ easy_to_tell  │ linear_scale  │ Consider the occupation <span style=\"font-weight: bold\">{{</span> occupation <span style=\"font-weight: bold\">}}</span>.    │ <span style=\"color: #008080; text-decoration-color: #008080; font-weight: bold\">0</span>, <span style=\"color: #008080; text-decoration-color: #008080; font-weight: bold\">1</span>, <span style=\"color: #008080; text-decoration-color: #008080; font-weight: bold\">2</span>, <span style=\"color: #008080; text-decoration-color: #008080; font-weight: bold\">3</span>, <span style=\"color: #008080; text-decoration-color: #008080; font-weight: bold\">4</span>, <span style=\"color: #008080; text-decoration-color: #008080; font-weight: bold\">5</span>, <span style=\"color: #008080; text-decoration-color: #008080; font-weight: bold\">6</span>, <span style=\"color: #008080; text-decoration-color: #008080; font-weight: bold\">7</span>, <span style=\"color: #008080; text-decoration-color: #008080; font-weight: bold\">8</span>, <span style=\"color: #008080; text-decoration-color: #008080; font-weight: bold\">9</span>, <span style=\"color: #008080; text-decoration-color: #008080; font-weight: bold\">10</span> │\n",
       "│               │               │ And consider the task done by someone in     │                                  │\n",
       "│               │               │ this occupation: <span style=\"font-weight: bold\">{{</span> task <span style=\"font-weight: bold\">}}</span>.                 │                                  │\n",
       "│               │               │ Rate how easy it is for a non-expert to tell │                                  │\n",
       "│               │               │ if the task is done correctly, on a scale of │                                  │\n",
       "│               │               │ <span style=\"color: #008080; text-decoration-color: #008080; font-weight: bold\">1</span> to <span style=\"color: #008080; text-decoration-color: #008080; font-weight: bold\">10</span>.                                     │                                  │\n",
       "│               │               │                                              │                                  │\n",
       "│               │               │ The task: <span style=\"font-weight: bold\">{{</span> task <span style=\"font-weight: bold\">}}</span>.                        │                                  │\n",
       "│               │               │ <span style=\"color: #008080; text-decoration-color: #008080; font-weight: bold\">1</span> = Very easy for a non-expert to tell if    │                                  │\n",
       "│               │               │ done correctly.                              │                                  │\n",
       "│               │               │ <span style=\"color: #008080; text-decoration-color: #008080; font-weight: bold\">10</span> = only an expert would know if done       │                                  │\n",
       "│               │               │ correctly.                                   │                                  │\n",
       "│               │               │                                              │                                  │\n",
       "└───────────────┴───────────────┴──────────────────────────────────────────────┴──────────────────────────────────┘\n",
       "\n",
       "</pre>\n"
      ],
      "text/plain": [
       "Question:easy_to_tell,┏━━━━━━━━━━━━━━━┳━━━━━━━━━━━━━━━┳━━━━━━━━━━━━━━━━━━━━━━━━━━━━━━━━━━━━━━━━━━━━━━┳━━━━━━━━━━━━━\n",
       "━━━━━━━━━━━━━━━━━━━━━┓\n",
       "┃ Question Name ┃ Question Type ┃ Question Text                                ┃ Options                          ┃\n",
       "┡━━━━━━━━━━━━━━━╇━━━━━━━━━━━━━━━╇━━━━━━━━━━━━━━━━━━━━━━━━━━━━━━━━━━━━━━━━━━━━━━╇━━━━━━━━━━━━━━━━━━━━━━━━━━━━━━━━━━┩\n",
       "│ easy_to_tell  │ linear_scale  │ Consider the occupation \u001b[1m{\u001b[0m\u001b[1m{\u001b[0m occupation \u001b[1m}\u001b[0m\u001b[1m}\u001b[0m.    │ \u001b[1;36m0\u001b[0m, \u001b[1;36m1\u001b[0m, \u001b[1;36m2\u001b[0m, \u001b[1;36m3\u001b[0m, \u001b[1;36m4\u001b[0m, \u001b[1;36m5\u001b[0m, \u001b[1;36m6\u001b[0m, \u001b[1;36m7\u001b[0m, \u001b[1;36m8\u001b[0m, \u001b[1;36m9\u001b[0m, \u001b[1;36m10\u001b[0m │\n",
       "│               │               │ And consider the task done by someone in     │                                  │\n",
       "│               │               │ this occupation: \u001b[1m{\u001b[0m\u001b[1m{\u001b[0m task \u001b[1m}\u001b[0m\u001b[1m}\u001b[0m.                 │                                  │\n",
       "│               │               │ Rate how easy it is for a non-expert to tell │                                  │\n",
       "│               │               │ if the task is done correctly, on a scale of │                                  │\n",
       "│               │               │ \u001b[1;36m1\u001b[0m to \u001b[1;36m10\u001b[0m.                                     │                                  │\n",
       "│               │               │                                              │                                  │\n",
       "│               │               │ The task: \u001b[1m{\u001b[0m\u001b[1m{\u001b[0m task \u001b[1m}\u001b[0m\u001b[1m}\u001b[0m.                        │                                  │\n",
       "│               │               │ \u001b[1;36m1\u001b[0m = Very easy for a non-expert to tell if    │                                  │\n",
       "│               │               │ done correctly.                              │                                  │\n",
       "│               │               │ \u001b[1;36m10\u001b[0m = only an expert would know if done       │                                  │\n",
       "│               │               │ correctly.                                   │                                  │\n",
       "│               │               │                                              │                                  │\n",
       "└───────────────┴───────────────┴──────────────────────────────────────────────┴──────────────────────────────────┘\n",
       "\n"
      ]
     },
     "metadata": {},
     "output_type": "display_data"
    },
    {
     "data": {
      "text/html": [
       "<pre style=\"white-space:pre;overflow-x:auto;line-height:normal;font-family:Menlo,'DejaVu Sans Mono',consolas,'Courier New',monospace\">┏━━━━━━━━━━━━━━━┳━━━━━━━━━━━━━━━━━┳━━━━━━━━━━━━━━━━━━━━━━━━━━━━━━━━━━━━━━━┳━━━━━━━━━━━━━━━━━━━━━━━━━━━━━━━━━━━━━━━┓\n",
       "┃<span style=\"color: #800080; text-decoration-color: #800080; font-weight: bold\"> Question Name </span>┃<span style=\"color: #800080; text-decoration-color: #800080; font-weight: bold\"> Question Type   </span>┃<span style=\"color: #800080; text-decoration-color: #800080; font-weight: bold\"> Question Text                         </span>┃<span style=\"color: #800080; text-decoration-color: #800080; font-weight: bold\"> Options                               </span>┃\n",
       "┡━━━━━━━━━━━━━━━╇━━━━━━━━━━━━━━━━━╇━━━━━━━━━━━━━━━━━━━━━━━━━━━━━━━━━━━━━━━╇━━━━━━━━━━━━━━━━━━━━━━━━━━━━━━━━━━━━━━━┩\n",
       "│<span style=\"color: #7f7f7f; text-decoration-color: #7f7f7f\"> manager_task  </span>│ multiple_choice │                                       │ None, Almost none, Some - less than   │\n",
       "│<span style=\"color: #7f7f7f; text-decoration-color: #7f7f7f\">               </span>│                 │     Consider this occupation: {{      │ an hour, Great deal - mulitple hours  │\n",
       "│<span style=\"color: #7f7f7f; text-decoration-color: #7f7f7f\">               </span>│                 │ occupation }}.                        │                                       │\n",
       "│<span style=\"color: #7f7f7f; text-decoration-color: #7f7f7f\">               </span>│                 │     Part of this occupation is this   │                                       │\n",
       "│<span style=\"color: #7f7f7f; text-decoration-color: #7f7f7f\">               </span>│                 │ task: {{ task }}.                     │                                       │\n",
       "│<span style=\"color: #7f7f7f; text-decoration-color: #7f7f7f\">               </span>│                 │                                       │                                       │\n",
       "│<span style=\"color: #7f7f7f; text-decoration-color: #7f7f7f\">               </span>│                 │     Imagine a manager who was in this │                                       │\n",
       "│<span style=\"color: #7f7f7f; text-decoration-color: #7f7f7f\">               </span>│                 │ occupation is now asking a worker     │                                       │\n",
       "│<span style=\"color: #7f7f7f; text-decoration-color: #7f7f7f\">               </span>│                 │ with the same occupation to do the    │                                       │\n",
       "│<span style=\"color: #7f7f7f; text-decoration-color: #7f7f7f\">               </span>│                 │ task.                                 │                                       │\n",
       "│<span style=\"color: #7f7f7f; text-decoration-color: #7f7f7f\">               </span>│                 │     How much specific instruction is  │                                       │\n",
       "│<span style=\"color: #7f7f7f; text-decoration-color: #7f7f7f\">               </span>│                 │ this task likely to require?          │                                       │\n",
       "│<span style=\"color: #7f7f7f; text-decoration-color: #7f7f7f\">               </span>│                 │                                       │                                       │\n",
       "└───────────────┴─────────────────┴───────────────────────────────────────┴───────────────────────────────────────┘\n",
       "</pre>\n"
      ],
      "text/plain": [
       "┏━━━━━━━━━━━━━━━┳━━━━━━━━━━━━━━━━━┳━━━━━━━━━━━━━━━━━━━━━━━━━━━━━━━━━━━━━━━┳━━━━━━━━━━━━━━━━━━━━━━━━━━━━━━━━━━━━━━━┓\n",
       "┃\u001b[1;35m \u001b[0m\u001b[1;35mQuestion Name\u001b[0m\u001b[1;35m \u001b[0m┃\u001b[1;35m \u001b[0m\u001b[1;35mQuestion Type  \u001b[0m\u001b[1;35m \u001b[0m┃\u001b[1;35m \u001b[0m\u001b[1;35mQuestion Text                        \u001b[0m\u001b[1;35m \u001b[0m┃\u001b[1;35m \u001b[0m\u001b[1;35mOptions                              \u001b[0m\u001b[1;35m \u001b[0m┃\n",
       "┡━━━━━━━━━━━━━━━╇━━━━━━━━━━━━━━━━━╇━━━━━━━━━━━━━━━━━━━━━━━━━━━━━━━━━━━━━━━╇━━━━━━━━━━━━━━━━━━━━━━━━━━━━━━━━━━━━━━━┩\n",
       "│\u001b[2m \u001b[0m\u001b[2mmanager_task \u001b[0m\u001b[2m \u001b[0m│ multiple_choice │                                       │ None, Almost none, Some - less than   │\n",
       "│\u001b[2m               \u001b[0m│                 │     Consider this occupation: {{      │ an hour, Great deal - mulitple hours  │\n",
       "│\u001b[2m               \u001b[0m│                 │ occupation }}.                        │                                       │\n",
       "│\u001b[2m               \u001b[0m│                 │     Part of this occupation is this   │                                       │\n",
       "│\u001b[2m               \u001b[0m│                 │ task: {{ task }}.                     │                                       │\n",
       "│\u001b[2m               \u001b[0m│                 │                                       │                                       │\n",
       "│\u001b[2m               \u001b[0m│                 │     Imagine a manager who was in this │                                       │\n",
       "│\u001b[2m               \u001b[0m│                 │ occupation is now asking a worker     │                                       │\n",
       "│\u001b[2m               \u001b[0m│                 │ with the same occupation to do the    │                                       │\n",
       "│\u001b[2m               \u001b[0m│                 │ task.                                 │                                       │\n",
       "│\u001b[2m               \u001b[0m│                 │     How much specific instruction is  │                                       │\n",
       "│\u001b[2m               \u001b[0m│                 │ this task likely to require?          │                                       │\n",
       "│\u001b[2m               \u001b[0m│                 │                                       │                                       │\n",
       "└───────────────┴─────────────────┴───────────────────────────────────────┴───────────────────────────────────────┘\n"
      ]
     },
     "metadata": {},
     "output_type": "display_data"
    },
    {
     "data": {
      "text/html": [
       "<pre style=\"white-space:pre;overflow-x:auto;line-height:normal;font-family:Menlo,'DejaVu Sans Mono',consolas,'Courier New',monospace\">Question:manager_task,┏━━━━━━━━━━━━━━━┳━━━━━━━━━━━━━━━━━┳━━━━━━━━━━━━━━━━━━━━━━━━━━━━━━━━━━━━━━━┳━━━━━━━━━━━━━━━━━━\n",
       "━━━━━━━━━━━━━━━━━━━━━┓\n",
       "┃ Question Name ┃ Question Type   ┃ Question Text                         ┃ Options                               ┃\n",
       "┡━━━━━━━━━━━━━━━╇━━━━━━━━━━━━━━━━━╇━━━━━━━━━━━━━━━━━━━━━━━━━━━━━━━━━━━━━━━╇━━━━━━━━━━━━━━━━━━━━━━━━━━━━━━━━━━━━━━━┩\n",
       "│ manager_task  │ multiple_choice │                                       │ <span style=\"color: #800080; text-decoration-color: #800080; font-style: italic\">None</span>, Almost none, Some - less than   │\n",
       "│               │                 │     Consider this occupation: <span style=\"font-weight: bold\">{{</span>      │ an hour, Great deal - mulitple hours  │\n",
       "│               │                 │ occupation <span style=\"font-weight: bold\">}}</span>.                        │                                       │\n",
       "│               │                 │     Part of this occupation is this   │                                       │\n",
       "│               │                 │ task: <span style=\"font-weight: bold\">{{</span> task <span style=\"font-weight: bold\">}}</span>.                     │                                       │\n",
       "│               │                 │                                       │                                       │\n",
       "│               │                 │     Imagine a manager who was in this │                                       │\n",
       "│               │                 │ occupation is now asking a worker     │                                       │\n",
       "│               │                 │ with the same occupation to do the    │                                       │\n",
       "│               │                 │ task.                                 │                                       │\n",
       "│               │                 │     How much specific instruction is  │                                       │\n",
       "│               │                 │ this task likely to require?          │                                       │\n",
       "│               │                 │                                       │                                       │\n",
       "└───────────────┴─────────────────┴───────────────────────────────────────┴───────────────────────────────────────┘\n",
       "\n",
       "</pre>\n"
      ],
      "text/plain": [
       "Question:manager_task,┏━━━━━━━━━━━━━━━┳━━━━━━━━━━━━━━━━━┳━━━━━━━━━━━━━━━━━━━━━━━━━━━━━━━━━━━━━━━┳━━━━━━━━━━━━━━━━━━\n",
       "━━━━━━━━━━━━━━━━━━━━━┓\n",
       "┃ Question Name ┃ Question Type   ┃ Question Text                         ┃ Options                               ┃\n",
       "┡━━━━━━━━━━━━━━━╇━━━━━━━━━━━━━━━━━╇━━━━━━━━━━━━━━━━━━━━━━━━━━━━━━━━━━━━━━━╇━━━━━━━━━━━━━━━━━━━━━━━━━━━━━━━━━━━━━━━┩\n",
       "│ manager_task  │ multiple_choice │                                       │ \u001b[3;35mNone\u001b[0m, Almost none, Some - less than   │\n",
       "│               │                 │     Consider this occupation: \u001b[1m{\u001b[0m\u001b[1m{\u001b[0m      │ an hour, Great deal - mulitple hours  │\n",
       "│               │                 │ occupation \u001b[1m}\u001b[0m\u001b[1m}\u001b[0m.                        │                                       │\n",
       "│               │                 │     Part of this occupation is this   │                                       │\n",
       "│               │                 │ task: \u001b[1m{\u001b[0m\u001b[1m{\u001b[0m task \u001b[1m}\u001b[0m\u001b[1m}\u001b[0m.                     │                                       │\n",
       "│               │                 │                                       │                                       │\n",
       "│               │                 │     Imagine a manager who was in this │                                       │\n",
       "│               │                 │ occupation is now asking a worker     │                                       │\n",
       "│               │                 │ with the same occupation to do the    │                                       │\n",
       "│               │                 │ task.                                 │                                       │\n",
       "│               │                 │     How much specific instruction is  │                                       │\n",
       "│               │                 │ this task likely to require?          │                                       │\n",
       "│               │                 │                                       │                                       │\n",
       "└───────────────┴─────────────────┴───────────────────────────────────────┴───────────────────────────────────────┘\n",
       "\n"
      ]
     },
     "metadata": {},
     "output_type": "display_data"
    },
    {
     "data": {
      "text/html": [
       "<pre style=\"white-space:pre;overflow-x:auto;line-height:normal;font-family:Menlo,'DejaVu Sans Mono',consolas,'Courier New',monospace\">┏━━━━━━━━━━━━━━━━━━━━━━┳━━━━━━━━━━━━━━━┳━━━━━━━━━━━━━━━━━━━━━━━━━━━━━━━━━━━━━━━━━━━━━━━━━━━━━━━━━━━━━━━━┳━━━━━━━━━┓\n",
       "┃<span style=\"color: #800080; text-decoration-color: #800080; font-weight: bold\"> Question Name        </span>┃<span style=\"color: #800080; text-decoration-color: #800080; font-weight: bold\"> Question Type </span>┃<span style=\"color: #800080; text-decoration-color: #800080; font-weight: bold\"> Question Text                                                  </span>┃<span style=\"color: #800080; text-decoration-color: #800080; font-weight: bold\"> Options </span>┃\n",
       "┡━━━━━━━━━━━━━━━━━━━━━━╇━━━━━━━━━━━━━━━╇━━━━━━━━━━━━━━━━━━━━━━━━━━━━━━━━━━━━━━━━━━━━━━━━━━━━━━━━━━━━━━━━╇━━━━━━━━━┩\n",
       "│<span style=\"color: #7f7f7f; text-decoration-color: #7f7f7f\"> ratio_describe_to_do </span>│ numerical     │                                                                │ None    │\n",
       "│<span style=\"color: #7f7f7f; text-decoration-color: #7f7f7f\">                      </span>│               │     Consider this occupation: {{ occupation }}.                │         │\n",
       "│<span style=\"color: #7f7f7f; text-decoration-color: #7f7f7f\">                      </span>│               │     Part of this occupation is this task: {{ task }}.          │         │\n",
       "│<span style=\"color: #7f7f7f; text-decoration-color: #7f7f7f\">                      </span>│               │                                                                │         │\n",
       "│<span style=\"color: #7f7f7f; text-decoration-color: #7f7f7f\">                      </span>│               │     Imagine a manager who was in this occupation is now asking │         │\n",
       "│<span style=\"color: #7f7f7f; text-decoration-color: #7f7f7f\">                      </span>│               │ a worker with the same occupation to do the task.              │         │\n",
       "│<span style=\"color: #7f7f7f; text-decoration-color: #7f7f7f\">                      </span>│               │     The worker is expert and does not need instruction in how  │         │\n",
       "│<span style=\"color: #7f7f7f; text-decoration-color: #7f7f7f\">                      </span>│               │ to do the task generally.                                      │         │\n",
       "│<span style=\"color: #7f7f7f; text-decoration-color: #7f7f7f\">                      </span>│               │     They only need to be instructed on any specifics.          │         │\n",
       "│<span style=\"color: #7f7f7f; text-decoration-color: #7f7f7f\">                      </span>│               │                                                                │         │\n",
       "│<span style=\"color: #7f7f7f; text-decoration-color: #7f7f7f\">                      </span>│               │     What is the ratio of time to describe this task to time to │         │\n",
       "│<span style=\"color: #7f7f7f; text-decoration-color: #7f7f7f\">                      </span>│               │ do it on their own?                                            │         │\n",
       "│<span style=\"color: #7f7f7f; text-decoration-color: #7f7f7f\">                      </span>│               │     E.g., if it takes just as long to describe the task as to  │         │\n",
       "│<span style=\"color: #7f7f7f; text-decoration-color: #7f7f7f\">                      </span>│               │ do it on their own, then 1.                                    │         │\n",
       "│<span style=\"color: #7f7f7f; text-decoration-color: #7f7f7f\">                      </span>│               │     If the task could be described in 5 minutes but the task   │         │\n",
       "│<span style=\"color: #7f7f7f; text-decoration-color: #7f7f7f\">                      </span>│               │ takes 10 minutes, then 0.5.                                    │         │\n",
       "│<span style=\"color: #7f7f7f; text-decoration-color: #7f7f7f\">                      </span>│               │                                                                │         │\n",
       "└──────────────────────┴───────────────┴────────────────────────────────────────────────────────────────┴─────────┘\n",
       "</pre>\n"
      ],
      "text/plain": [
       "┏━━━━━━━━━━━━━━━━━━━━━━┳━━━━━━━━━━━━━━━┳━━━━━━━━━━━━━━━━━━━━━━━━━━━━━━━━━━━━━━━━━━━━━━━━━━━━━━━━━━━━━━━━┳━━━━━━━━━┓\n",
       "┃\u001b[1;35m \u001b[0m\u001b[1;35mQuestion Name       \u001b[0m\u001b[1;35m \u001b[0m┃\u001b[1;35m \u001b[0m\u001b[1;35mQuestion Type\u001b[0m\u001b[1;35m \u001b[0m┃\u001b[1;35m \u001b[0m\u001b[1;35mQuestion Text                                                 \u001b[0m\u001b[1;35m \u001b[0m┃\u001b[1;35m \u001b[0m\u001b[1;35mOptions\u001b[0m\u001b[1;35m \u001b[0m┃\n",
       "┡━━━━━━━━━━━━━━━━━━━━━━╇━━━━━━━━━━━━━━━╇━━━━━━━━━━━━━━━━━━━━━━━━━━━━━━━━━━━━━━━━━━━━━━━━━━━━━━━━━━━━━━━━╇━━━━━━━━━┩\n",
       "│\u001b[2m \u001b[0m\u001b[2mratio_describe_to_do\u001b[0m\u001b[2m \u001b[0m│ numerical     │                                                                │ None    │\n",
       "│\u001b[2m                      \u001b[0m│               │     Consider this occupation: {{ occupation }}.                │         │\n",
       "│\u001b[2m                      \u001b[0m│               │     Part of this occupation is this task: {{ task }}.          │         │\n",
       "│\u001b[2m                      \u001b[0m│               │                                                                │         │\n",
       "│\u001b[2m                      \u001b[0m│               │     Imagine a manager who was in this occupation is now asking │         │\n",
       "│\u001b[2m                      \u001b[0m│               │ a worker with the same occupation to do the task.              │         │\n",
       "│\u001b[2m                      \u001b[0m│               │     The worker is expert and does not need instruction in how  │         │\n",
       "│\u001b[2m                      \u001b[0m│               │ to do the task generally.                                      │         │\n",
       "│\u001b[2m                      \u001b[0m│               │     They only need to be instructed on any specifics.          │         │\n",
       "│\u001b[2m                      \u001b[0m│               │                                                                │         │\n",
       "│\u001b[2m                      \u001b[0m│               │     What is the ratio of time to describe this task to time to │         │\n",
       "│\u001b[2m                      \u001b[0m│               │ do it on their own?                                            │         │\n",
       "│\u001b[2m                      \u001b[0m│               │     E.g., if it takes just as long to describe the task as to  │         │\n",
       "│\u001b[2m                      \u001b[0m│               │ do it on their own, then 1.                                    │         │\n",
       "│\u001b[2m                      \u001b[0m│               │     If the task could be described in 5 minutes but the task   │         │\n",
       "│\u001b[2m                      \u001b[0m│               │ takes 10 minutes, then 0.5.                                    │         │\n",
       "│\u001b[2m                      \u001b[0m│               │                                                                │         │\n",
       "└──────────────────────┴───────────────┴────────────────────────────────────────────────────────────────┴─────────┘\n"
      ]
     },
     "metadata": {},
     "output_type": "display_data"
    },
    {
     "data": {
      "text/html": [
       "<pre style=\"white-space:pre;overflow-x:auto;line-height:normal;font-family:Menlo,'DejaVu Sans Mono',consolas,'Courier New',monospace\">Question:ratio_describe_to_do,┏━━━━━━━━━━━━━━━━━━━━━━┳━━━━━━━━━━━━━━━┳━━━━━━━━━━━━━━━━━━━━━━━━━━━━━━━━━━━━━━━━━━━━━\n",
       "━━━━━━━━━━━━━━━━━━━┳━━━━━━━━━┓\n",
       "┃ Question Name        ┃ Question Type ┃ Question Text                                                  ┃ Options ┃\n",
       "┡━━━━━━━━━━━━━━━━━━━━━━╇━━━━━━━━━━━━━━━╇━━━━━━━━━━━━━━━━━━━━━━━━━━━━━━━━━━━━━━━━━━━━━━━━━━━━━━━━━━━━━━━━╇━━━━━━━━━┩\n",
       "│ ratio_describe_to_do │ numerical     │                                                                │ <span style=\"color: #800080; text-decoration-color: #800080; font-style: italic\">None</span>    │\n",
       "│                      │               │     Consider this occupation: <span style=\"font-weight: bold\">{{</span> occupation <span style=\"font-weight: bold\">}}</span>.                │         │\n",
       "│                      │               │     Part of this occupation is this task: <span style=\"font-weight: bold\">{{</span> task <span style=\"font-weight: bold\">}}</span>.          │         │\n",
       "│                      │               │                                                                │         │\n",
       "│                      │               │     Imagine a manager who was in this occupation is now asking │         │\n",
       "│                      │               │ a worker with the same occupation to do the task.              │         │\n",
       "│                      │               │     The worker is expert and does not need instruction in how  │         │\n",
       "│                      │               │ to do the task generally.                                      │         │\n",
       "│                      │               │     They only need to be instructed on any specifics.          │         │\n",
       "│                      │               │                                                                │         │\n",
       "│                      │               │     What is the ratio of time to describe this task to time to │         │\n",
       "│                      │               │ do it on their own?                                            │         │\n",
       "│                      │               │     E.g., if it takes just as long to describe the task as to  │         │\n",
       "│                      │               │ do it on their own, then <span style=\"color: #008080; text-decoration-color: #008080; font-weight: bold\">1</span>.                                    │         │\n",
       "│                      │               │     If the task could be described in <span style=\"color: #008080; text-decoration-color: #008080; font-weight: bold\">5</span> minutes but the task   │         │\n",
       "│                      │               │ takes <span style=\"color: #008080; text-decoration-color: #008080; font-weight: bold\">10</span> minutes, then <span style=\"color: #008080; text-decoration-color: #008080; font-weight: bold\">0.5</span>.                                    │         │\n",
       "│                      │               │                                                                │         │\n",
       "└──────────────────────┴───────────────┴────────────────────────────────────────────────────────────────┴─────────┘\n",
       "\n",
       "</pre>\n"
      ],
      "text/plain": [
       "Question:ratio_describe_to_do,┏━━━━━━━━━━━━━━━━━━━━━━┳━━━━━━━━━━━━━━━┳━━━━━━━━━━━━━━━━━━━━━━━━━━━━━━━━━━━━━━━━━━━━━\n",
       "━━━━━━━━━━━━━━━━━━━┳━━━━━━━━━┓\n",
       "┃ Question Name        ┃ Question Type ┃ Question Text                                                  ┃ Options ┃\n",
       "┡━━━━━━━━━━━━━━━━━━━━━━╇━━━━━━━━━━━━━━━╇━━━━━━━━━━━━━━━━━━━━━━━━━━━━━━━━━━━━━━━━━━━━━━━━━━━━━━━━━━━━━━━━╇━━━━━━━━━┩\n",
       "│ ratio_describe_to_do │ numerical     │                                                                │ \u001b[3;35mNone\u001b[0m    │\n",
       "│                      │               │     Consider this occupation: \u001b[1m{\u001b[0m\u001b[1m{\u001b[0m occupation \u001b[1m}\u001b[0m\u001b[1m}\u001b[0m.                │         │\n",
       "│                      │               │     Part of this occupation is this task: \u001b[1m{\u001b[0m\u001b[1m{\u001b[0m task \u001b[1m}\u001b[0m\u001b[1m}\u001b[0m.          │         │\n",
       "│                      │               │                                                                │         │\n",
       "│                      │               │     Imagine a manager who was in this occupation is now asking │         │\n",
       "│                      │               │ a worker with the same occupation to do the task.              │         │\n",
       "│                      │               │     The worker is expert and does not need instruction in how  │         │\n",
       "│                      │               │ to do the task generally.                                      │         │\n",
       "│                      │               │     They only need to be instructed on any specifics.          │         │\n",
       "│                      │               │                                                                │         │\n",
       "│                      │               │     What is the ratio of time to describe this task to time to │         │\n",
       "│                      │               │ do it on their own?                                            │         │\n",
       "│                      │               │     E.g., if it takes just as long to describe the task as to  │         │\n",
       "│                      │               │ do it on their own, then \u001b[1;36m1\u001b[0m.                                    │         │\n",
       "│                      │               │     If the task could be described in \u001b[1;36m5\u001b[0m minutes but the task   │         │\n",
       "│                      │               │ takes \u001b[1;36m10\u001b[0m minutes, then \u001b[1;36m0.5\u001b[0m.                                    │         │\n",
       "│                      │               │                                                                │         │\n",
       "└──────────────────────┴───────────────┴────────────────────────────────────────────────────────────────┴─────────┘\n",
       "\n"
      ]
     },
     "metadata": {},
     "output_type": "display_data"
    }
   ],
   "source": [
    "task_survey.show_questions()"
   ]
  },
  {
   "cell_type": "code",
   "execution_count": null,
   "metadata": {},
   "outputs": [],
   "source": []
  },
  {
   "cell_type": "code",
   "execution_count": null,
   "metadata": {},
   "outputs": [],
   "source": []
  }
 ],
 "metadata": {
  "kernelspec": {
   "display_name": "venv",
   "language": "python",
   "name": "python3"
  },
  "language_info": {
   "codemirror_mode": {
    "name": "ipython",
    "version": 3
   },
   "file_extension": ".py",
   "mimetype": "text/x-python",
   "name": "python",
   "nbconvert_exporter": "python",
   "pygments_lexer": "ipython3",
   "version": "3.11.6"
  }
 },
 "nbformat": 4,
 "nbformat_minor": 2
}
