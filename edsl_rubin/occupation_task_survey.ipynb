{
 "cells": [
  {
   "cell_type": "markdown",
   "metadata": {},
   "source": [
    "## Examples occupations\n",
    "- Radiologists\n",
    "- Telemarketers\n",
    "- Real Estate Sales Agents\n",
    "- Sales Representatives, Wholesale and Manufacturing, Technical and Scientific Products\n",
    "- Dishwasher (as an example of something not very automatable; replacing Barista)"
   ]
  },
  {
   "cell_type": "code",
   "execution_count": 8,
   "metadata": {},
   "outputs": [
    {
     "data": {
      "text/html": [
       "<div>\n",
       "<style scoped>\n",
       "    .dataframe tbody tr th:only-of-type {\n",
       "        vertical-align: middle;\n",
       "    }\n",
       "\n",
       "    .dataframe tbody tr th {\n",
       "        vertical-align: top;\n",
       "    }\n",
       "\n",
       "    .dataframe thead th {\n",
       "        text-align: right;\n",
       "    }\n",
       "</style>\n",
       "<table border=\"1\" class=\"dataframe\">\n",
       "  <thead>\n",
       "    <tr style=\"text-align: right;\">\n",
       "      <th></th>\n",
       "      <th>onetsoc_code</th>\n",
       "      <th>title</th>\n",
       "      <th>description</th>\n",
       "    </tr>\n",
       "  </thead>\n",
       "  <tbody>\n",
       "    <tr>\n",
       "      <th>0</th>\n",
       "      <td>41-9041.00</td>\n",
       "      <td>Telemarketers</td>\n",
       "      <td>Solicit donations or orders for goods or servi...</td>\n",
       "    </tr>\n",
       "  </tbody>\n",
       "</table>\n",
       "</div>"
      ],
      "text/plain": [
       "  onetsoc_code          title  \\\n",
       "0   41-9041.00  Telemarketers   \n",
       "\n",
       "                                         description  \n",
       "0  Solicit donations or orders for goods or servi...  "
      ]
     },
     "execution_count": 8,
     "metadata": {},
     "output_type": "execute_result"
    }
   ],
   "source": [
    "import occupations\n",
    "import importlib\n",
    "importlib.reload(occupations)\n",
    "occupations.search_title(\"radiologist\")\n",
    "occupations.search_title(\"telemarketers\")"
   ]
  },
  {
   "cell_type": "code",
   "execution_count": 9,
   "metadata": {},
   "outputs": [
    {
     "data": {
      "text/html": [
       "<div>\n",
       "<style scoped>\n",
       "    .dataframe tbody tr th:only-of-type {\n",
       "        vertical-align: middle;\n",
       "    }\n",
       "\n",
       "    .dataframe tbody tr th {\n",
       "        vertical-align: top;\n",
       "    }\n",
       "\n",
       "    .dataframe thead th {\n",
       "        text-align: right;\n",
       "    }\n",
       "</style>\n",
       "<table border=\"1\" class=\"dataframe\">\n",
       "  <thead>\n",
       "    <tr style=\"text-align: right;\">\n",
       "      <th></th>\n",
       "      <th>onetsoc_code</th>\n",
       "      <th>title</th>\n",
       "      <th>description</th>\n",
       "    </tr>\n",
       "  </thead>\n",
       "  <tbody>\n",
       "    <tr>\n",
       "      <th>0</th>\n",
       "      <td>29-1224.00</td>\n",
       "      <td>Radiologists</td>\n",
       "      <td>Diagnose and treat diseases and injuries using...</td>\n",
       "    </tr>\n",
       "  </tbody>\n",
       "</table>\n",
       "</div>"
      ],
      "text/plain": [
       "  onetsoc_code         title  \\\n",
       "0   29-1224.00  Radiologists   \n",
       "\n",
       "                                         description  \n",
       "0  Diagnose and treat diseases and injuries using...  "
      ]
     },
     "execution_count": 9,
     "metadata": {},
     "output_type": "execute_result"
    }
   ],
   "source": [
    "occupations.search_title(\"radiologist\")\n"
   ]
  },
  {
   "cell_type": "code",
   "execution_count": 62,
   "metadata": {},
   "outputs": [
    {
     "data": {
      "text/html": [
       "<div>\n",
       "<style scoped>\n",
       "    .dataframe tbody tr th:only-of-type {\n",
       "        vertical-align: middle;\n",
       "    }\n",
       "\n",
       "    .dataframe tbody tr th {\n",
       "        vertical-align: top;\n",
       "    }\n",
       "\n",
       "    .dataframe thead th {\n",
       "        text-align: right;\n",
       "    }\n",
       "</style>\n",
       "<table border=\"1\" class=\"dataframe\">\n",
       "  <thead>\n",
       "    <tr style=\"text-align: right;\">\n",
       "      <th></th>\n",
       "      <th>onetsoc_code</th>\n",
       "      <th>title</th>\n",
       "      <th>description</th>\n",
       "    </tr>\n",
       "  </thead>\n",
       "  <tbody>\n",
       "    <tr>\n",
       "      <th>0</th>\n",
       "      <td>41-9041.00</td>\n",
       "      <td>Telemarketers</td>\n",
       "      <td>Solicit donations or orders for goods or servi...</td>\n",
       "    </tr>\n",
       "  </tbody>\n",
       "</table>\n",
       "</div>"
      ],
      "text/plain": [
       "  onetsoc_code          title  \\\n",
       "0   41-9041.00  Telemarketers   \n",
       "\n",
       "                                         description  \n",
       "0  Solicit donations or orders for goods or servi...  "
      ]
     },
     "execution_count": 62,
     "metadata": {},
     "output_type": "execute_result"
    }
   ],
   "source": [
    "occupations.search_title(\"telemarketers\")"
   ]
  },
  {
   "cell_type": "code",
   "execution_count": 7,
   "metadata": {},
   "outputs": [
    {
     "data": {
      "text/html": [
       "<div>\n",
       "<style scoped>\n",
       "    .dataframe tbody tr th:only-of-type {\n",
       "        vertical-align: middle;\n",
       "    }\n",
       "\n",
       "    .dataframe tbody tr th {\n",
       "        vertical-align: top;\n",
       "    }\n",
       "\n",
       "    .dataframe thead th {\n",
       "        text-align: right;\n",
       "    }\n",
       "</style>\n",
       "<table border=\"1\" class=\"dataframe\">\n",
       "  <thead>\n",
       "    <tr style=\"text-align: right;\">\n",
       "      <th></th>\n",
       "      <th>onetsoc_code</th>\n",
       "      <th>title</th>\n",
       "      <th>description</th>\n",
       "    </tr>\n",
       "  </thead>\n",
       "  <tbody>\n",
       "    <tr>\n",
       "      <th>0</th>\n",
       "      <td>11-9141.00</td>\n",
       "      <td>Property, Real Estate, and Community Associati...</td>\n",
       "      <td>Plan, direct, or coordinate the selling, buyin...</td>\n",
       "    </tr>\n",
       "    <tr>\n",
       "      <th>1</th>\n",
       "      <td>13-2023.00</td>\n",
       "      <td>Appraisers and Assessors of Real Estate</td>\n",
       "      <td>Appraise real estate, exclusively, and estimat...</td>\n",
       "    </tr>\n",
       "    <tr>\n",
       "      <th>2</th>\n",
       "      <td>41-9021.00</td>\n",
       "      <td>Real Estate Brokers</td>\n",
       "      <td>Operate real estate office, or work for commer...</td>\n",
       "    </tr>\n",
       "    <tr>\n",
       "      <th>3</th>\n",
       "      <td>41-9022.00</td>\n",
       "      <td>Real Estate Sales Agents</td>\n",
       "      <td>Rent, buy, or sell property for clients. Perfo...</td>\n",
       "    </tr>\n",
       "  </tbody>\n",
       "</table>\n",
       "</div>"
      ],
      "text/plain": [
       "  onetsoc_code                                              title  \\\n",
       "0   11-9141.00  Property, Real Estate, and Community Associati...   \n",
       "1   13-2023.00            Appraisers and Assessors of Real Estate   \n",
       "2   41-9021.00                                Real Estate Brokers   \n",
       "3   41-9022.00                           Real Estate Sales Agents   \n",
       "\n",
       "                                         description  \n",
       "0  Plan, direct, or coordinate the selling, buyin...  \n",
       "1  Appraise real estate, exclusively, and estimat...  \n",
       "2  Operate real estate office, or work for commer...  \n",
       "3  Rent, buy, or sell property for clients. Perfo...  "
      ]
     },
     "execution_count": 7,
     "metadata": {},
     "output_type": "execute_result"
    }
   ],
   "source": [
    "occupations.search_title(\"real estate\")"
   ]
  },
  {
   "cell_type": "code",
   "execution_count": 1,
   "metadata": {},
   "outputs": [
    {
     "name": "stdout",
     "output_type": "stream",
     "text": [
      "\n",
      "\u001b[1m[\u001b[0m\u001b[34;49mnotice\u001b[0m\u001b[1;39;49m]\u001b[0m\u001b[39;49m A new release of pip available: \u001b[0m\u001b[31;49m22.3.1\u001b[0m\u001b[39;49m -> \u001b[0m\u001b[32;49m24.0\u001b[0m\n",
      "\u001b[1m[\u001b[0m\u001b[34;49mnotice\u001b[0m\u001b[1;39;49m]\u001b[0m\u001b[39;49m To update, run: \u001b[0m\u001b[32;49mpip install --upgrade pip\u001b[0m\n"
     ]
    }
   ],
   "source": [
    "! pip install --quiet git+https://github.com/expectedparrot/edsl.git"
   ]
  },
  {
   "cell_type": "code",
   "execution_count": 6,
   "metadata": {},
   "outputs": [
    {
     "data": {
      "text/html": [
       "<div>\n",
       "<style scoped>\n",
       "    .dataframe tbody tr th:only-of-type {\n",
       "        vertical-align: middle;\n",
       "    }\n",
       "\n",
       "    .dataframe tbody tr th {\n",
       "        vertical-align: top;\n",
       "    }\n",
       "\n",
       "    .dataframe thead th {\n",
       "        text-align: right;\n",
       "    }\n",
       "</style>\n",
       "<table border=\"1\" class=\"dataframe\">\n",
       "  <thead>\n",
       "    <tr style=\"text-align: right;\">\n",
       "      <th></th>\n",
       "      <th>onetsoc_code</th>\n",
       "      <th>title</th>\n",
       "      <th>description</th>\n",
       "    </tr>\n",
       "  </thead>\n",
       "  <tbody>\n",
       "    <tr>\n",
       "      <th>0</th>\n",
       "      <td>35-3023.01</td>\n",
       "      <td>Baristas</td>\n",
       "      <td>Prepare or serve specialty coffee or other bev...</td>\n",
       "    </tr>\n",
       "  </tbody>\n",
       "</table>\n",
       "</div>"
      ],
      "text/plain": [
       "  onetsoc_code     title                                        description\n",
       "0   35-3023.01  Baristas  Prepare or serve specialty coffee or other bev..."
      ]
     },
     "execution_count": 6,
     "metadata": {},
     "output_type": "execute_result"
    }
   ],
   "source": [
    "occupations.search_title(\"Barista\")"
   ]
  },
  {
   "cell_type": "code",
   "execution_count": 68,
   "metadata": {},
   "outputs": [],
   "source": [
    "nice_titles = ['Radiologists', \n",
    "               'Real Estate Sales Agents', \n",
    "               'Telemarketers', \n",
    "               'Sales Representatives, Wholesale and Manufacturing, Technical and Scientific Products', \n",
    "               'Baristas']"
   ]
  },
  {
   "cell_type": "code",
   "execution_count": 15,
   "metadata": {},
   "outputs": [
    {
     "data": {
      "text/html": [
       "<pre style=\"white-space:pre;overflow-x:auto;line-height:normal;font-family:Menlo,'DejaVu Sans Mono',consolas,'Courier New',monospace\"><span style=\"font-weight: bold\">[</span>\n",
       "    <span style=\"color: #008000; text-decoration-color: #008000\">\"Obtain patients' histories from electronic records, patient interviews, dictated reports, or by comm\"</span>,\n",
       "    <span style=\"color: #008000; text-decoration-color: #008000\">'Prepare comprehensive interpretive reports of findings.'</span>,\n",
       "    <span style=\"color: #008000; text-decoration-color: #008000\">'Perform or interpret the outcomes of diagnostic imaging procedures including magnetic resonance imag'</span>,\n",
       "    <span style=\"color: #008000; text-decoration-color: #008000\">'Review or transmit images and information using picture archiving or communications systems.'</span>,\n",
       "    <span style=\"color: #008000; text-decoration-color: #008000\">'Communicate examination results or diagnostic information to referring physicians, patients, or fami'</span>,\n",
       "    <span style=\"color: #008000; text-decoration-color: #008000\">'Provide counseling to radiologic patients to explain the processes, risks, benefits, or alternative '</span>,\n",
       "    <span style=\"color: #008000; text-decoration-color: #008000\">'Instruct radiologic staff in desired techniques, positions, or projections.'</span>,\n",
       "    <span style=\"color: #008000; text-decoration-color: #008000\">'Confer with medical professionals regarding image-based diagnoses.'</span>,\n",
       "    <span style=\"color: #008000; text-decoration-color: #008000\">'Coordinate radiological services with other medical activities.'</span>,\n",
       "    <span style=\"color: #008000; text-decoration-color: #008000\">'Document the performance, interpretation, or outcomes of all procedures performed.'</span>,\n",
       "    <span style=\"color: #008000; text-decoration-color: #008000\">'Establish or enforce standards for protection of patients or personnel.'</span>,\n",
       "    <span style=\"color: #008000; text-decoration-color: #008000\">'Develop or monitor procedures to ensure adequate quality control of images.'</span>,\n",
       "    <span style=\"color: #008000; text-decoration-color: #008000\">'Recognize or treat complications during and after procedures, including blood pressure problems, pai'</span>,\n",
       "    <span style=\"color: #008000; text-decoration-color: #008000\">'Participate in continuing education activities to maintain and develop expertise.'</span>,\n",
       "    <span style=\"color: #008000; text-decoration-color: #008000\">'Participate in quality improvement activities including discussions of areas where risk of error is '</span>\n",
       "<span style=\"font-weight: bold\">]</span>\n",
       "</pre>\n"
      ],
      "text/plain": [
       "\u001b[1m[\u001b[0m\n",
       "    \u001b[32m\"Obtain patients' histories from electronic records, patient interviews, dictated reports, or by comm\"\u001b[0m,\n",
       "    \u001b[32m'Prepare comprehensive interpretive reports of findings.'\u001b[0m,\n",
       "    \u001b[32m'Perform or interpret the outcomes of diagnostic imaging procedures including magnetic resonance imag'\u001b[0m,\n",
       "    \u001b[32m'Review or transmit images and information using picture archiving or communications systems.'\u001b[0m,\n",
       "    \u001b[32m'Communicate examination results or diagnostic information to referring physicians, patients, or fami'\u001b[0m,\n",
       "    \u001b[32m'Provide counseling to radiologic patients to explain the processes, risks, benefits, or alternative '\u001b[0m,\n",
       "    \u001b[32m'Instruct radiologic staff in desired techniques, positions, or projections.'\u001b[0m,\n",
       "    \u001b[32m'Confer with medical professionals regarding image-based diagnoses.'\u001b[0m,\n",
       "    \u001b[32m'Coordinate radiological services with other medical activities.'\u001b[0m,\n",
       "    \u001b[32m'Document the performance, interpretation, or outcomes of all procedures performed.'\u001b[0m,\n",
       "    \u001b[32m'Establish or enforce standards for protection of patients or personnel.'\u001b[0m,\n",
       "    \u001b[32m'Develop or monitor procedures to ensure adequate quality control of images.'\u001b[0m,\n",
       "    \u001b[32m'Recognize or treat complications during and after procedures, including blood pressure problems, pai'\u001b[0m,\n",
       "    \u001b[32m'Participate in continuing education activities to maintain and develop expertise.'\u001b[0m,\n",
       "    \u001b[32m'Participate in quality improvement activities including discussions of areas where risk of error is '\u001b[0m\n",
       "\u001b[1m]\u001b[0m\n"
      ]
     },
     "metadata": {},
     "output_type": "display_data"
    }
   ],
   "source": [
    "scenarios = occupations.get_scenarios(['Radiologists'])\n",
    "from rich import print\n",
    "print([s['task'][:100] for s in scenarios])"
   ]
  },
  {
   "cell_type": "code",
   "execution_count": 140,
   "metadata": {},
   "outputs": [],
   "source": [
    "scenarios = occupations.get_scenarios(nice_titles)\n",
    "\n",
    "from question_bank import task_survey\n",
    "results = task_survey.by(scenarios).run(cache = cache, progress_bar = False)"
   ]
  },
  {
   "cell_type": "code",
   "execution_count": 161,
   "metadata": {},
   "outputs": [
    {
     "name": "stdout",
     "output_type": "stream",
     "text": [
      "Help on method show_flow in module edsl.surveys.SurveyFlowVisualizationMixin:\n",
      "\n",
      "show_flow() method of edsl.surveys.Survey.Survey instance\n",
      "    Create an image showing the flow of users through the survey.\n",
      "\n"
     ]
    }
   ],
   "source": [
    "help(task_survey.show_flow)"
   ]
  },
  {
   "cell_type": "code",
   "execution_count": 72,
   "metadata": {},
   "outputs": [],
   "source": [
    "results.to_csv(\"five_occupations.csv\")"
   ]
  },
  {
   "cell_type": "code",
   "execution_count": 141,
   "metadata": {},
   "outputs": [
    {
     "data": {
      "text/html": [
       "<div>\n",
       "<style scoped>\n",
       "    .dataframe tbody tr th:only-of-type {\n",
       "        vertical-align: middle;\n",
       "    }\n",
       "\n",
       "    .dataframe tbody tr th {\n",
       "        vertical-align: top;\n",
       "    }\n",
       "\n",
       "    .dataframe thead th {\n",
       "        text-align: right;\n",
       "    }\n",
       "</style>\n",
       "<table border=\"1\" class=\"dataframe\">\n",
       "  <thead>\n",
       "    <tr style=\"text-align: right;\">\n",
       "      <th></th>\n",
       "      <th>Occupation</th>\n",
       "      <th>Hard-to-tell Score</th>\n",
       "      <th>Number of tasks</th>\n",
       "    </tr>\n",
       "  </thead>\n",
       "  <tbody>\n",
       "    <tr>\n",
       "      <th>0</th>\n",
       "      <td>Radiologists</td>\n",
       "      <td>8.33</td>\n",
       "      <td>15</td>\n",
       "    </tr>\n",
       "    <tr>\n",
       "      <th>1</th>\n",
       "      <td>Real Estate Sales Agents</td>\n",
       "      <td>5.70</td>\n",
       "      <td>23</td>\n",
       "    </tr>\n",
       "    <tr>\n",
       "      <th>2</th>\n",
       "      <td>Sales Representatives, Wholesale and Manufactu...</td>\n",
       "      <td>5.29</td>\n",
       "      <td>21</td>\n",
       "    </tr>\n",
       "    <tr>\n",
       "      <th>3</th>\n",
       "      <td>Telemarketers</td>\n",
       "      <td>2.83</td>\n",
       "      <td>6</td>\n",
       "    </tr>\n",
       "    <tr>\n",
       "      <th>4</th>\n",
       "      <td>Baristas</td>\n",
       "      <td>1.58</td>\n",
       "      <td>19</td>\n",
       "    </tr>\n",
       "  </tbody>\n",
       "</table>\n",
       "</div>"
      ],
      "text/plain": [
       "                                          Occupation  Hard-to-tell Score  \\\n",
       "0                                       Radiologists                8.33   \n",
       "1                           Real Estate Sales Agents                5.70   \n",
       "2  Sales Representatives, Wholesale and Manufactu...                5.29   \n",
       "3                                      Telemarketers                2.83   \n",
       "4                                           Baristas                1.58   \n",
       "\n",
       "   Number of tasks  \n",
       "0               15  \n",
       "1               23  \n",
       "2               21  \n",
       "3                6  \n",
       "4               19  "
      ]
     },
     "execution_count": 141,
     "metadata": {},
     "output_type": "execute_result"
    }
   ],
   "source": [
    "results.sql(\"\"\"\n",
    "select \\\"scenario.occupation\\\" as Occupation, \n",
    "round(avg(\\\"answer.easy_to_tell\\\"), 2) as \"Hard-to-tell Score\", \n",
    "count(*) as \"Number of tasks\"\n",
    "from self \n",
    "group by \\\"scenario.occupation\\\"\n",
    "order by \"Hard-to-tell Score\" desc\n",
    "\"\"\", shape = \"wide\")"
   ]
  },
  {
   "cell_type": "code",
   "execution_count": 137,
   "metadata": {},
   "outputs": [
    {
     "data": {
      "text/html": [
       "<div>\n",
       "<style scoped>\n",
       "    .dataframe tbody tr th:only-of-type {\n",
       "        vertical-align: middle;\n",
       "    }\n",
       "\n",
       "    .dataframe tbody tr th {\n",
       "        vertical-align: top;\n",
       "    }\n",
       "\n",
       "    .dataframe thead th {\n",
       "        text-align: right;\n",
       "    }\n",
       "</style>\n",
       "<table border=\"1\" class=\"dataframe\">\n",
       "  <thead>\n",
       "    <tr style=\"text-align: right;\">\n",
       "      <th></th>\n",
       "      <th>Occupation</th>\n",
       "      <th>Gen AI Helps</th>\n",
       "      <th>Number of tasks</th>\n",
       "    </tr>\n",
       "  </thead>\n",
       "  <tbody>\n",
       "    <tr>\n",
       "      <th>0</th>\n",
       "      <td>Telemarketers</td>\n",
       "      <td>6.33</td>\n",
       "      <td>6</td>\n",
       "    </tr>\n",
       "    <tr>\n",
       "      <th>1</th>\n",
       "      <td>Sales Representatives, Wholesale and Manufactu...</td>\n",
       "      <td>6.38</td>\n",
       "      <td>21</td>\n",
       "    </tr>\n",
       "    <tr>\n",
       "      <th>2</th>\n",
       "      <td>Real Estate Sales Agents</td>\n",
       "      <td>4.61</td>\n",
       "      <td>23</td>\n",
       "    </tr>\n",
       "    <tr>\n",
       "      <th>3</th>\n",
       "      <td>Radiologists</td>\n",
       "      <td>5.13</td>\n",
       "      <td>15</td>\n",
       "    </tr>\n",
       "    <tr>\n",
       "      <th>4</th>\n",
       "      <td>Baristas</td>\n",
       "      <td>1.42</td>\n",
       "      <td>19</td>\n",
       "    </tr>\n",
       "  </tbody>\n",
       "</table>\n",
       "</div>"
      ],
      "text/plain": [
       "                                          Occupation  Gen AI Helps  \\\n",
       "0                                      Telemarketers          6.33   \n",
       "1  Sales Representatives, Wholesale and Manufactu...          6.38   \n",
       "2                           Real Estate Sales Agents          4.61   \n",
       "3                                       Radiologists          5.13   \n",
       "4                                           Baristas          1.42   \n",
       "\n",
       "   Number of tasks  \n",
       "0                6  \n",
       "1               21  \n",
       "2               23  \n",
       "3               15  \n",
       "4               19  "
      ]
     },
     "execution_count": 137,
     "metadata": {},
     "output_type": "execute_result"
    }
   ],
   "source": [
    "def table(column_name, label):\n",
    "    return results.sql(f\"\"\"\n",
    "    select \\\"scenario.occupation\\\" as Occupation, \n",
    "    round(avg(\\\"{column_name}\\\"), 2) as \"{label}\", \n",
    "    count(*) as \"Number of tasks\"\n",
    "    from self \n",
    "    group by \\\"scenario.occupation\\\"\n",
    "    order by \"Hard-to-tell Score\" desc\n",
    "    \"\"\", shape = \"wide\")\n",
    "\n",
    "table(\"answer.gen_ai_help\", \"Gen AI Helps\")"
   ]
  },
  {
   "cell_type": "code",
   "execution_count": 152,
   "metadata": {},
   "outputs": [
    {
     "data": {
      "text/plain": [
       "['info_good',\n",
       " 'gen_ai_help',\n",
       " 'trigger',\n",
       " 'easy_to_tell',\n",
       " 'manager_task',\n",
       " 'ratio_describe_to_do']"
      ]
     },
     "execution_count": 152,
     "metadata": {},
     "output_type": "execute_result"
    }
   ],
   "source": [
    "[q.question_name for q in task_survey.questions]"
   ]
  },
  {
   "cell_type": "code",
   "execution_count": 156,
   "metadata": {},
   "outputs": [
    {
     "name": "stdout",
     "output_type": "stream",
     "text": [
      "\n",
      "    Consider this occupation: {{ occupation }}.\n",
      "    Part of this occupation is this task: {{ task }}.\n",
      "    \n",
      "    Imagine a manager who was in this occupation is now asking a worker with the same occupation to do the task. \n",
      "    How much specific instruction is this task likely to require? \n",
      "    \n",
      "['None', 'Almost none', 'Some - less than an hour', 'Great deal - mulitple hours']\n"
     ]
    },
    {
     "data": {
      "text/html": [
       "<div>\n",
       "<style scoped>\n",
       "    .dataframe tbody tr th:only-of-type {\n",
       "        vertical-align: middle;\n",
       "    }\n",
       "\n",
       "    .dataframe tbody tr th {\n",
       "        vertical-align: top;\n",
       "    }\n",
       "\n",
       "    .dataframe thead th {\n",
       "        text-align: right;\n",
       "    }\n",
       "</style>\n",
       "<table border=\"1\" class=\"dataframe\">\n",
       "  <thead>\n",
       "    <tr style=\"text-align: right;\">\n",
       "      <th></th>\n",
       "      <th>scenario.occupation</th>\n",
       "      <th>answer.manager_task</th>\n",
       "      <th>Number of tasks</th>\n",
       "      <th>Fraction of tasks</th>\n",
       "    </tr>\n",
       "  </thead>\n",
       "  <tbody>\n",
       "    <tr>\n",
       "      <th>0</th>\n",
       "      <td>Baristas</td>\n",
       "      <td>Almost none</td>\n",
       "      <td>13</td>\n",
       "      <td>68.421053</td>\n",
       "    </tr>\n",
       "    <tr>\n",
       "      <th>1</th>\n",
       "      <td>Baristas</td>\n",
       "      <td>Some - less than an hour</td>\n",
       "      <td>6</td>\n",
       "      <td>31.578947</td>\n",
       "    </tr>\n",
       "    <tr>\n",
       "      <th>2</th>\n",
       "      <td>Radiologists</td>\n",
       "      <td>Almost none</td>\n",
       "      <td>7</td>\n",
       "      <td>46.666667</td>\n",
       "    </tr>\n",
       "    <tr>\n",
       "      <th>3</th>\n",
       "      <td>Radiologists</td>\n",
       "      <td>Some - less than an hour</td>\n",
       "      <td>8</td>\n",
       "      <td>53.333333</td>\n",
       "    </tr>\n",
       "    <tr>\n",
       "      <th>4</th>\n",
       "      <td>Real Estate Sales Agents</td>\n",
       "      <td>Almost none</td>\n",
       "      <td>8</td>\n",
       "      <td>34.782609</td>\n",
       "    </tr>\n",
       "    <tr>\n",
       "      <th>5</th>\n",
       "      <td>Real Estate Sales Agents</td>\n",
       "      <td>Some - less than an hour</td>\n",
       "      <td>15</td>\n",
       "      <td>65.217391</td>\n",
       "    </tr>\n",
       "    <tr>\n",
       "      <th>6</th>\n",
       "      <td>Sales Representatives, Wholesale and Manufactu...</td>\n",
       "      <td>Almost none</td>\n",
       "      <td>4</td>\n",
       "      <td>19.047619</td>\n",
       "    </tr>\n",
       "    <tr>\n",
       "      <th>7</th>\n",
       "      <td>Sales Representatives, Wholesale and Manufactu...</td>\n",
       "      <td>Some - less than an hour</td>\n",
       "      <td>17</td>\n",
       "      <td>80.952381</td>\n",
       "    </tr>\n",
       "    <tr>\n",
       "      <th>8</th>\n",
       "      <td>Telemarketers</td>\n",
       "      <td>Almost none</td>\n",
       "      <td>1</td>\n",
       "      <td>16.666667</td>\n",
       "    </tr>\n",
       "    <tr>\n",
       "      <th>9</th>\n",
       "      <td>Telemarketers</td>\n",
       "      <td>Some - less than an hour</td>\n",
       "      <td>5</td>\n",
       "      <td>83.333333</td>\n",
       "    </tr>\n",
       "  </tbody>\n",
       "</table>\n",
       "</div>"
      ],
      "text/plain": [
       "                                 scenario.occupation  \\\n",
       "0                                           Baristas   \n",
       "1                                           Baristas   \n",
       "2                                       Radiologists   \n",
       "3                                       Radiologists   \n",
       "4                           Real Estate Sales Agents   \n",
       "5                           Real Estate Sales Agents   \n",
       "6  Sales Representatives, Wholesale and Manufactu...   \n",
       "7  Sales Representatives, Wholesale and Manufactu...   \n",
       "8                                      Telemarketers   \n",
       "9                                      Telemarketers   \n",
       "\n",
       "        answer.manager_task  Number of tasks  Fraction of tasks  \n",
       "0               Almost none               13          68.421053  \n",
       "1  Some - less than an hour                6          31.578947  \n",
       "2               Almost none                7          46.666667  \n",
       "3  Some - less than an hour                8          53.333333  \n",
       "4               Almost none                8          34.782609  \n",
       "5  Some - less than an hour               15          65.217391  \n",
       "6               Almost none                4          19.047619  \n",
       "7  Some - less than an hour               17          80.952381  \n",
       "8               Almost none                1          16.666667  \n",
       "9  Some - less than an hour                5          83.333333  "
      ]
     },
     "execution_count": 156,
     "metadata": {},
     "output_type": "execute_result"
    }
   ],
   "source": [
    "print(task_survey.questions[4].question_text)\n",
    "print(task_survey.questions[4].question_options)\n",
    "results.sql(\"\"\"\n",
    "SELECT \n",
    "    \\\"scenario.occupation\\\", \n",
    "    \\\"answer.manager_task\\\", \n",
    "    COUNT(*) AS \"Number of tasks\",\n",
    "    100 * COUNT(*) * 1.0 / SUM(COUNT(*)) OVER (PARTITION BY \\\"scenario.occupation\\\") AS \"Fraction of tasks\"\n",
    "FROM self\n",
    "GROUP BY \\\"scenario.occupation\\\", \\\"answer.manager_task\\\"\n",
    "\"\"\", shape = \"wide\")\n"
   ]
  },
  {
   "cell_type": "code",
   "execution_count": 160,
   "metadata": {},
   "outputs": [
    {
     "data": {
      "text/html": [
       "<div>\n",
       "<style scoped>\n",
       "    .dataframe tbody tr th:only-of-type {\n",
       "        vertical-align: middle;\n",
       "    }\n",
       "\n",
       "    .dataframe tbody tr th {\n",
       "        vertical-align: top;\n",
       "    }\n",
       "\n",
       "    .dataframe thead th {\n",
       "        text-align: right;\n",
       "    }\n",
       "</style>\n",
       "<table border=\"1\" class=\"dataframe\">\n",
       "  <thead>\n",
       "    <tr style=\"text-align: right;\">\n",
       "      <th></th>\n",
       "      <th>scenario.occupation</th>\n",
       "      <th>answer.info_good</th>\n",
       "      <th>Number of tasks</th>\n",
       "      <th>Fraction of tasks</th>\n",
       "    </tr>\n",
       "  </thead>\n",
       "  <tbody>\n",
       "    <tr>\n",
       "      <th>0</th>\n",
       "      <td>Baristas</td>\n",
       "      <td>No</td>\n",
       "      <td>14</td>\n",
       "      <td>73.684211</td>\n",
       "    </tr>\n",
       "    <tr>\n",
       "      <th>1</th>\n",
       "      <td>Baristas</td>\n",
       "      <td>Partially</td>\n",
       "      <td>4</td>\n",
       "      <td>21.052632</td>\n",
       "    </tr>\n",
       "    <tr>\n",
       "      <th>2</th>\n",
       "      <td>Baristas</td>\n",
       "      <td>Yes</td>\n",
       "      <td>1</td>\n",
       "      <td>5.263158</td>\n",
       "    </tr>\n",
       "    <tr>\n",
       "      <th>3</th>\n",
       "      <td>Radiologists</td>\n",
       "      <td>No</td>\n",
       "      <td>2</td>\n",
       "      <td>13.333333</td>\n",
       "    </tr>\n",
       "    <tr>\n",
       "      <th>4</th>\n",
       "      <td>Radiologists</td>\n",
       "      <td>Partially</td>\n",
       "      <td>8</td>\n",
       "      <td>53.333333</td>\n",
       "    </tr>\n",
       "    <tr>\n",
       "      <th>5</th>\n",
       "      <td>Radiologists</td>\n",
       "      <td>Yes</td>\n",
       "      <td>5</td>\n",
       "      <td>33.333333</td>\n",
       "    </tr>\n",
       "    <tr>\n",
       "      <th>6</th>\n",
       "      <td>Real Estate Sales Agents</td>\n",
       "      <td>No</td>\n",
       "      <td>6</td>\n",
       "      <td>26.086957</td>\n",
       "    </tr>\n",
       "    <tr>\n",
       "      <th>7</th>\n",
       "      <td>Real Estate Sales Agents</td>\n",
       "      <td>Partially</td>\n",
       "      <td>13</td>\n",
       "      <td>56.521739</td>\n",
       "    </tr>\n",
       "    <tr>\n",
       "      <th>8</th>\n",
       "      <td>Real Estate Sales Agents</td>\n",
       "      <td>Yes</td>\n",
       "      <td>4</td>\n",
       "      <td>17.391304</td>\n",
       "    </tr>\n",
       "    <tr>\n",
       "      <th>9</th>\n",
       "      <td>Sales Representatives, Wholesale and Manufactu...</td>\n",
       "      <td>No</td>\n",
       "      <td>7</td>\n",
       "      <td>33.333333</td>\n",
       "    </tr>\n",
       "    <tr>\n",
       "      <th>10</th>\n",
       "      <td>Sales Representatives, Wholesale and Manufactu...</td>\n",
       "      <td>Partially</td>\n",
       "      <td>7</td>\n",
       "      <td>33.333333</td>\n",
       "    </tr>\n",
       "    <tr>\n",
       "      <th>11</th>\n",
       "      <td>Sales Representatives, Wholesale and Manufactu...</td>\n",
       "      <td>Yes</td>\n",
       "      <td>7</td>\n",
       "      <td>33.333333</td>\n",
       "    </tr>\n",
       "    <tr>\n",
       "      <th>12</th>\n",
       "      <td>Telemarketers</td>\n",
       "      <td>No</td>\n",
       "      <td>1</td>\n",
       "      <td>16.666667</td>\n",
       "    </tr>\n",
       "    <tr>\n",
       "      <th>13</th>\n",
       "      <td>Telemarketers</td>\n",
       "      <td>Partially</td>\n",
       "      <td>4</td>\n",
       "      <td>66.666667</td>\n",
       "    </tr>\n",
       "    <tr>\n",
       "      <th>14</th>\n",
       "      <td>Telemarketers</td>\n",
       "      <td>Yes</td>\n",
       "      <td>1</td>\n",
       "      <td>16.666667</td>\n",
       "    </tr>\n",
       "  </tbody>\n",
       "</table>\n",
       "</div>"
      ],
      "text/plain": [
       "                                  scenario.occupation answer.info_good  \\\n",
       "0                                            Baristas               No   \n",
       "1                                            Baristas        Partially   \n",
       "2                                            Baristas              Yes   \n",
       "3                                        Radiologists               No   \n",
       "4                                        Radiologists        Partially   \n",
       "5                                        Radiologists              Yes   \n",
       "6                            Real Estate Sales Agents               No   \n",
       "7                            Real Estate Sales Agents        Partially   \n",
       "8                            Real Estate Sales Agents              Yes   \n",
       "9   Sales Representatives, Wholesale and Manufactu...               No   \n",
       "10  Sales Representatives, Wholesale and Manufactu...        Partially   \n",
       "11  Sales Representatives, Wholesale and Manufactu...              Yes   \n",
       "12                                      Telemarketers               No   \n",
       "13                                      Telemarketers        Partially   \n",
       "14                                      Telemarketers              Yes   \n",
       "\n",
       "    Number of tasks  Fraction of tasks  \n",
       "0                14          73.684211  \n",
       "1                 4          21.052632  \n",
       "2                 1           5.263158  \n",
       "3                 2          13.333333  \n",
       "4                 8          53.333333  \n",
       "5                 5          33.333333  \n",
       "6                 6          26.086957  \n",
       "7                13          56.521739  \n",
       "8                 4          17.391304  \n",
       "9                 7          33.333333  \n",
       "10                7          33.333333  \n",
       "11                7          33.333333  \n",
       "12                1          16.666667  \n",
       "13                4          66.666667  \n",
       "14                1          16.666667  "
      ]
     },
     "execution_count": 160,
     "metadata": {},
     "output_type": "execute_result"
    }
   ],
   "source": [
    "results.sql(\"\"\"\n",
    "SELECT \n",
    "    \\\"scenario.occupation\\\", \n",
    "    \\\"answer.info_good\\\", \n",
    "    COUNT(*) AS \"Number of tasks\",\n",
    "    100 * COUNT(*) * 1.0 / SUM(COUNT(*)) OVER (PARTITION BY \\\"scenario.occupation\\\") AS \"Fraction of tasks\"\n",
    "FROM self\n",
    "GROUP BY \\\"scenario.occupation\\\", \\\"answer.info_good\\\"\n",
    "\"\"\", shape = \"wide\")"
   ]
  },
  {
   "cell_type": "code",
   "execution_count": 157,
   "metadata": {},
   "outputs": [
    {
     "data": {
      "text/html": [
       "<div>\n",
       "<style scoped>\n",
       "    .dataframe tbody tr th:only-of-type {\n",
       "        vertical-align: middle;\n",
       "    }\n",
       "\n",
       "    .dataframe tbody tr th {\n",
       "        vertical-align: top;\n",
       "    }\n",
       "\n",
       "    .dataframe thead th {\n",
       "        text-align: right;\n",
       "    }\n",
       "</style>\n",
       "<table border=\"1\" class=\"dataframe\">\n",
       "  <thead>\n",
       "    <tr style=\"text-align: right;\">\n",
       "      <th></th>\n",
       "      <th>scenario.occupation</th>\n",
       "      <th>answer.trigger</th>\n",
       "      <th>Number of tasks</th>\n",
       "      <th>Fraction of tasks</th>\n",
       "    </tr>\n",
       "  </thead>\n",
       "  <tbody>\n",
       "    <tr>\n",
       "      <th>0</th>\n",
       "      <td>Baristas</td>\n",
       "      <td>Completion of a previous step in some producti...</td>\n",
       "      <td>2</td>\n",
       "      <td>10.526316</td>\n",
       "    </tr>\n",
       "    <tr>\n",
       "      <th>1</th>\n",
       "      <td>Baristas</td>\n",
       "      <td>External trigger like a customer request</td>\n",
       "      <td>11</td>\n",
       "      <td>57.894737</td>\n",
       "    </tr>\n",
       "    <tr>\n",
       "      <th>2</th>\n",
       "      <td>Baristas</td>\n",
       "      <td>Internal choice - can be scheduled whenever co...</td>\n",
       "      <td>6</td>\n",
       "      <td>31.578947</td>\n",
       "    </tr>\n",
       "    <tr>\n",
       "      <th>3</th>\n",
       "      <td>Radiologists</td>\n",
       "      <td>Completion of a previous step in some producti...</td>\n",
       "      <td>7</td>\n",
       "      <td>46.666667</td>\n",
       "    </tr>\n",
       "    <tr>\n",
       "      <th>4</th>\n",
       "      <td>Radiologists</td>\n",
       "      <td>External trigger a request from another part o...</td>\n",
       "      <td>3</td>\n",
       "      <td>20.000000</td>\n",
       "    </tr>\n",
       "    <tr>\n",
       "      <th>5</th>\n",
       "      <td>Radiologists</td>\n",
       "      <td>External trigger like a customer request</td>\n",
       "      <td>2</td>\n",
       "      <td>13.333333</td>\n",
       "    </tr>\n",
       "    <tr>\n",
       "      <th>6</th>\n",
       "      <td>Radiologists</td>\n",
       "      <td>Internal choice - can be scheduled whenever co...</td>\n",
       "      <td>3</td>\n",
       "      <td>20.000000</td>\n",
       "    </tr>\n",
       "    <tr>\n",
       "      <th>7</th>\n",
       "      <td>Real Estate Sales Agents</td>\n",
       "      <td>Completion of a previous step in some producti...</td>\n",
       "      <td>2</td>\n",
       "      <td>8.695652</td>\n",
       "    </tr>\n",
       "    <tr>\n",
       "      <th>8</th>\n",
       "      <td>Real Estate Sales Agents</td>\n",
       "      <td>External trigger like a customer request</td>\n",
       "      <td>16</td>\n",
       "      <td>69.565217</td>\n",
       "    </tr>\n",
       "    <tr>\n",
       "      <th>9</th>\n",
       "      <td>Real Estate Sales Agents</td>\n",
       "      <td>Internal choice - can be scheduled whenever co...</td>\n",
       "      <td>5</td>\n",
       "      <td>21.739130</td>\n",
       "    </tr>\n",
       "    <tr>\n",
       "      <th>10</th>\n",
       "      <td>Sales Representatives, Wholesale and Manufactu...</td>\n",
       "      <td>Completion of a previous step in some producti...</td>\n",
       "      <td>1</td>\n",
       "      <td>4.761905</td>\n",
       "    </tr>\n",
       "    <tr>\n",
       "      <th>11</th>\n",
       "      <td>Sales Representatives, Wholesale and Manufactu...</td>\n",
       "      <td>External trigger like a customer request</td>\n",
       "      <td>11</td>\n",
       "      <td>52.380952</td>\n",
       "    </tr>\n",
       "    <tr>\n",
       "      <th>12</th>\n",
       "      <td>Sales Representatives, Wholesale and Manufactu...</td>\n",
       "      <td>Internal choice - can be scheduled whenever co...</td>\n",
       "      <td>9</td>\n",
       "      <td>42.857143</td>\n",
       "    </tr>\n",
       "    <tr>\n",
       "      <th>13</th>\n",
       "      <td>Telemarketers</td>\n",
       "      <td>Completion of a previous step in some producti...</td>\n",
       "      <td>1</td>\n",
       "      <td>16.666667</td>\n",
       "    </tr>\n",
       "    <tr>\n",
       "      <th>14</th>\n",
       "      <td>Telemarketers</td>\n",
       "      <td>External trigger like a customer request</td>\n",
       "      <td>2</td>\n",
       "      <td>33.333333</td>\n",
       "    </tr>\n",
       "    <tr>\n",
       "      <th>15</th>\n",
       "      <td>Telemarketers</td>\n",
       "      <td>Internal choice - can be scheduled whenever co...</td>\n",
       "      <td>3</td>\n",
       "      <td>50.000000</td>\n",
       "    </tr>\n",
       "  </tbody>\n",
       "</table>\n",
       "</div>"
      ],
      "text/plain": [
       "                                  scenario.occupation  \\\n",
       "0                                            Baristas   \n",
       "1                                            Baristas   \n",
       "2                                            Baristas   \n",
       "3                                        Radiologists   \n",
       "4                                        Radiologists   \n",
       "5                                        Radiologists   \n",
       "6                                        Radiologists   \n",
       "7                            Real Estate Sales Agents   \n",
       "8                            Real Estate Sales Agents   \n",
       "9                            Real Estate Sales Agents   \n",
       "10  Sales Representatives, Wholesale and Manufactu...   \n",
       "11  Sales Representatives, Wholesale and Manufactu...   \n",
       "12  Sales Representatives, Wholesale and Manufactu...   \n",
       "13                                      Telemarketers   \n",
       "14                                      Telemarketers   \n",
       "15                                      Telemarketers   \n",
       "\n",
       "                                       answer.trigger  Number of tasks  \\\n",
       "0   Completion of a previous step in some producti...                2   \n",
       "1            External trigger like a customer request               11   \n",
       "2   Internal choice - can be scheduled whenever co...                6   \n",
       "3   Completion of a previous step in some producti...                7   \n",
       "4   External trigger a request from another part o...                3   \n",
       "5            External trigger like a customer request                2   \n",
       "6   Internal choice - can be scheduled whenever co...                3   \n",
       "7   Completion of a previous step in some producti...                2   \n",
       "8            External trigger like a customer request               16   \n",
       "9   Internal choice - can be scheduled whenever co...                5   \n",
       "10  Completion of a previous step in some producti...                1   \n",
       "11           External trigger like a customer request               11   \n",
       "12  Internal choice - can be scheduled whenever co...                9   \n",
       "13  Completion of a previous step in some producti...                1   \n",
       "14           External trigger like a customer request                2   \n",
       "15  Internal choice - can be scheduled whenever co...                3   \n",
       "\n",
       "    Fraction of tasks  \n",
       "0           10.526316  \n",
       "1           57.894737  \n",
       "2           31.578947  \n",
       "3           46.666667  \n",
       "4           20.000000  \n",
       "5           13.333333  \n",
       "6           20.000000  \n",
       "7            8.695652  \n",
       "8           69.565217  \n",
       "9           21.739130  \n",
       "10           4.761905  \n",
       "11          52.380952  \n",
       "12          42.857143  \n",
       "13          16.666667  \n",
       "14          33.333333  \n",
       "15          50.000000  "
      ]
     },
     "execution_count": 157,
     "metadata": {},
     "output_type": "execute_result"
    }
   ],
   "source": [
    "results.sql(\"\"\"\n",
    "SELECT \n",
    "    \\\"scenario.occupation\\\", \n",
    "    \\\"answer.trigger\\\", \n",
    "    COUNT(*) AS \"Number of tasks\",\n",
    "    100 * COUNT(*) * 1.0 / SUM(COUNT(*)) OVER (PARTITION BY \\\"scenario.occupation\\\") AS \"Fraction of tasks\"\n",
    "FROM self\n",
    "GROUP BY \\\"scenario.occupation\\\", \\\"answer.trigger\\\"\n",
    "\"\"\", shape = \"wide\")"
   ]
  },
  {
   "cell_type": "code",
   "execution_count": 146,
   "metadata": {},
   "outputs": [
    {
     "data": {
      "text/html": [
       "<div>\n",
       "<style scoped>\n",
       "    .dataframe tbody tr th:only-of-type {\n",
       "        vertical-align: middle;\n",
       "    }\n",
       "\n",
       "    .dataframe tbody tr th {\n",
       "        vertical-align: top;\n",
       "    }\n",
       "\n",
       "    .dataframe thead th {\n",
       "        text-align: right;\n",
       "    }\n",
       "</style>\n",
       "<table border=\"1\" class=\"dataframe\">\n",
       "  <thead>\n",
       "    <tr style=\"text-align: right;\">\n",
       "      <th></th>\n",
       "      <th>'scenario.occupation'</th>\n",
       "      <th>answer.manager_task</th>\n",
       "      <th>Number of tasks</th>\n",
       "    </tr>\n",
       "  </thead>\n",
       "  <tbody>\n",
       "    <tr>\n",
       "      <th>0</th>\n",
       "      <td>scenario.occupation</td>\n",
       "      <td>Almost none</td>\n",
       "      <td>13</td>\n",
       "    </tr>\n",
       "    <tr>\n",
       "      <th>1</th>\n",
       "      <td>scenario.occupation</td>\n",
       "      <td>Some - less than an hour</td>\n",
       "      <td>6</td>\n",
       "    </tr>\n",
       "    <tr>\n",
       "      <th>2</th>\n",
       "      <td>scenario.occupation</td>\n",
       "      <td>Almost none</td>\n",
       "      <td>7</td>\n",
       "    </tr>\n",
       "    <tr>\n",
       "      <th>3</th>\n",
       "      <td>scenario.occupation</td>\n",
       "      <td>Some - less than an hour</td>\n",
       "      <td>8</td>\n",
       "    </tr>\n",
       "    <tr>\n",
       "      <th>4</th>\n",
       "      <td>scenario.occupation</td>\n",
       "      <td>Almost none</td>\n",
       "      <td>8</td>\n",
       "    </tr>\n",
       "    <tr>\n",
       "      <th>5</th>\n",
       "      <td>scenario.occupation</td>\n",
       "      <td>Some - less than an hour</td>\n",
       "      <td>15</td>\n",
       "    </tr>\n",
       "    <tr>\n",
       "      <th>6</th>\n",
       "      <td>scenario.occupation</td>\n",
       "      <td>Almost none</td>\n",
       "      <td>4</td>\n",
       "    </tr>\n",
       "    <tr>\n",
       "      <th>7</th>\n",
       "      <td>scenario.occupation</td>\n",
       "      <td>Some - less than an hour</td>\n",
       "      <td>17</td>\n",
       "    </tr>\n",
       "    <tr>\n",
       "      <th>8</th>\n",
       "      <td>scenario.occupation</td>\n",
       "      <td>Almost none</td>\n",
       "      <td>1</td>\n",
       "    </tr>\n",
       "    <tr>\n",
       "      <th>9</th>\n",
       "      <td>scenario.occupation</td>\n",
       "      <td>Some - less than an hour</td>\n",
       "      <td>5</td>\n",
       "    </tr>\n",
       "  </tbody>\n",
       "</table>\n",
       "</div>"
      ],
      "text/plain": [
       "  'scenario.occupation'       answer.manager_task  Number of tasks\n",
       "0   scenario.occupation               Almost none               13\n",
       "1   scenario.occupation  Some - less than an hour                6\n",
       "2   scenario.occupation               Almost none                7\n",
       "3   scenario.occupation  Some - less than an hour                8\n",
       "4   scenario.occupation               Almost none                8\n",
       "5   scenario.occupation  Some - less than an hour               15\n",
       "6   scenario.occupation               Almost none                4\n",
       "7   scenario.occupation  Some - less than an hour               17\n",
       "8   scenario.occupation               Almost none                1\n",
       "9   scenario.occupation  Some - less than an hour                5"
      ]
     },
     "execution_count": 146,
     "metadata": {},
     "output_type": "execute_result"
    }
   ],
   "source": [
    "results.sql(\"\"\"\n",
    "select 'scenario.occupation', \\\"answer.manager_task\\\", \n",
    "count(*) as \"Number of tasks\"\n",
    "from self\n",
    "group by \\\"scenario.occupation\\\", \n",
    "\\\"answer.manager_task\\\" \n",
    "\"\"\", shape = \"wide\")"
   ]
  },
  {
   "cell_type": "code",
   "execution_count": null,
   "metadata": {},
   "outputs": [],
   "source": [
    "table(\"answer.gen_ai_help\", \"Gen AI Helps\")"
   ]
  },
  {
   "cell_type": "code",
   "execution_count": 2,
   "metadata": {},
   "outputs": [
    {
     "data": {
      "text/plain": [
       "420"
      ]
     },
     "execution_count": 2,
     "metadata": {},
     "output_type": "execute_result"
    }
   ],
   "source": [
    "from edsl.data import Cache\n",
    "cache = Cache.from_jsonl('rubin_cache.jsonl')\n",
    "len(cache)"
   ]
  },
  {
   "cell_type": "code",
   "execution_count": 8,
   "metadata": {},
   "outputs": [
    {
     "data": {
      "text/html": [
       "<pre style=\"white-space:pre;overflow-x:auto;line-height:normal;font-family:Menlo,'DejaVu Sans Mono',consolas,'Courier New',monospace\"><span style=\"font-weight: bold\">{</span>\n",
       "  <span style=\"color: #000080; text-decoration-color: #000080; font-weight: bold\">\"occupation\"</span>: <span style=\"color: #008000; text-decoration-color: #008000\">\"Chief Sustainability Officers\"</span>,\n",
       "  <span style=\"color: #000080; text-decoration-color: #000080; font-weight: bold\">\"task\"</span>: <span style=\"color: #008000; text-decoration-color: #008000\">\"Develop or execute strategies to address issues such as energy use, resource conservation, recycling, pollution reduction, waste elimination, transportation, education, and building design.\"</span>\n",
       "<span style=\"font-weight: bold\">}</span>\n",
       "</pre>\n"
      ],
      "text/plain": [
       "\u001b[1m{\u001b[0m\n",
       "  \u001b[1;34m\"occupation\"\u001b[0m: \u001b[32m\"Chief Sustainability Officers\"\u001b[0m,\n",
       "  \u001b[1;34m\"task\"\u001b[0m: \u001b[32m\"Develop or execute strategies to address issues such as energy use, resource conservation, recycling, pollution reduction, waste elimination, transportation, education, and building design.\"\u001b[0m\n",
       "\u001b[1m}\u001b[0m\n"
      ]
     },
     "metadata": {},
     "output_type": "display_data"
    },
    {
     "data": {
      "text/html": [
       "<div class=\"highlight\"><pre><span></span><span class=\"p\">{</span>\n",
       "<span class=\"w\">    </span><span class=\"nt\">&quot;occupation&quot;</span><span class=\"p\">:</span><span class=\"w\"> </span><span class=\"s2\">&quot;Chief Sustainability Officers&quot;</span><span class=\"p\">,</span>\n",
       "<span class=\"w\">    </span><span class=\"nt\">&quot;task&quot;</span><span class=\"p\">:</span><span class=\"w\"> </span><span class=\"s2\">&quot;Develop or execute strategies to address issues such as energy use, resource conservation, recycling, pollution reduction, waste elimination, transportation, education, and building design.&quot;</span>\n",
       "<span class=\"p\">}</span>\n",
       "</pre></div>\n"
      ],
      "text/plain": [
       "Scenario({'occupation': 'Chief Sustainability Officers', 'task': 'Develop or execute strategies to address issues such as energy use, resource conservation, recycling, pollution reduction, waste elimination, transportation, education, and building design.'})"
      ]
     },
     "execution_count": 8,
     "metadata": {},
     "output_type": "execute_result"
    }
   ],
   "source": [
    "get_scenarios(1)[1]"
   ]
  },
  {
   "cell_type": "code",
   "execution_count": 19,
   "metadata": {},
   "outputs": [
    {
     "data": {
      "text/html": [
       "<div>\n",
       "<style scoped>\n",
       "    .dataframe tbody tr th:only-of-type {\n",
       "        vertical-align: middle;\n",
       "    }\n",
       "\n",
       "    .dataframe tbody tr th {\n",
       "        vertical-align: top;\n",
       "    }\n",
       "\n",
       "    .dataframe thead th {\n",
       "        text-align: right;\n",
       "    }\n",
       "</style>\n",
       "<table border=\"1\" class=\"dataframe\">\n",
       "  <thead>\n",
       "    <tr style=\"text-align: right;\">\n",
       "      <th></th>\n",
       "      <th>onetsoc_code</th>\n",
       "      <th>title</th>\n",
       "      <th>description</th>\n",
       "    </tr>\n",
       "  </thead>\n",
       "  <tbody>\n",
       "    <tr>\n",
       "      <th>0</th>\n",
       "      <td>35-9021.00</td>\n",
       "      <td>Dishwashers</td>\n",
       "      <td>Clean dishes, kitchen, food preparation equipm...</td>\n",
       "    </tr>\n",
       "  </tbody>\n",
       "</table>\n",
       "</div>"
      ],
      "text/plain": [
       "  onetsoc_code        title                                        description\n",
       "0   35-9021.00  Dishwashers  Clean dishes, kitchen, food preparation equipm..."
      ]
     },
     "execution_count": 19,
     "metadata": {},
     "output_type": "execute_result"
    }
   ],
   "source": [
    "import occupations\n",
    "from occupations import get_scenarios, search_title\n",
    "import importlib\n",
    "importlib.reload(occupations)\n",
    "scenarios = get_scenarios(slice(1,10,None))\n",
    "search_title(\"dish\")"
   ]
  },
  {
   "cell_type": "code",
   "execution_count": 22,
   "metadata": {},
   "outputs": [
    {
     "data": {
      "text/plain": [
       "570"
      ]
     },
     "execution_count": 22,
     "metadata": {},
     "output_type": "execute_result"
    }
   ],
   "source": [
    "from occupations import get_titles\n",
    "titles = get_titles()\n",
    "titles.index(\"Dishwashers\")"
   ]
  },
  {
   "cell_type": "code",
   "execution_count": 6,
   "metadata": {},
   "outputs": [],
   "source": [
    "from question_bank import task_survey\n",
    "results = task_survey.by(scenarios).run(cache = cache, progress_bar = False)"
   ]
  },
  {
   "cell_type": "code",
   "execution_count": 7,
   "metadata": {},
   "outputs": [],
   "source": [
    "cache.write_jsonl(\"rubin_cache.jsonl\")"
   ]
  },
  {
   "cell_type": "code",
   "execution_count": 7,
   "metadata": {},
   "outputs": [
    {
     "data": {
      "text/html": [
       "<pre style=\"white-space:pre;overflow-x:auto;line-height:normal;font-family:Menlo,'DejaVu Sans Mono',consolas,'Courier New',monospace\">Question: info_good\n",
       "</pre>\n"
      ],
      "text/plain": [
       "Question: info_good\n"
      ]
     },
     "metadata": {},
     "output_type": "display_data"
    },
    {
     "data": {
      "text/html": [
       "<pre style=\"white-space:pre;overflow-x:auto;line-height:normal;font-family:Menlo,'DejaVu Sans Mono',consolas,'Courier New',monospace\">┏━━━━━━━━━━━━━━━┳━━━━━━━━━━━━━━━━━┳━━━━━━━━━━━━━━━━━━━━━━━━━━━━━━━━━━━━━━━━━━━━━━━━━━━━━━━━━━┳━━━━━━━━━━━━━━━━━━━━┓\n",
       "┃<span style=\"color: #800080; text-decoration-color: #800080; font-weight: bold\"> Question Name </span>┃<span style=\"color: #800080; text-decoration-color: #800080; font-weight: bold\"> Question Type   </span>┃<span style=\"color: #800080; text-decoration-color: #800080; font-weight: bold\"> Question Text                                            </span>┃<span style=\"color: #800080; text-decoration-color: #800080; font-weight: bold\"> Options            </span>┃\n",
       "┡━━━━━━━━━━━━━━━╇━━━━━━━━━━━━━━━━━╇━━━━━━━━━━━━━━━━━━━━━━━━━━━━━━━━━━━━━━━━━━━━━━━━━━━━━━━━━━╇━━━━━━━━━━━━━━━━━━━━┩\n",
       "│<span style=\"color: #7f7f7f; text-decoration-color: #7f7f7f\"> info_good     </span>│ multiple_choice │ Consider this occupation {{ occupation }} and this task: │ Yes, Partially, No │\n",
       "│<span style=\"color: #7f7f7f; text-decoration-color: #7f7f7f\">               </span>│                 │ {{ task }}.                                              │                    │\n",
       "│<span style=\"color: #7f7f7f; text-decoration-color: #7f7f7f\">               </span>│                 │ Is this task output an information good (i.e.,           │                    │\n",
       "│<span style=\"color: #7f7f7f; text-decoration-color: #7f7f7f\">               </span>│                 │ writing/text, audio, a decision, an image, a video)?     │                    │\n",
       "│<span style=\"color: #7f7f7f; text-decoration-color: #7f7f7f\">               </span>│                 │                                                          │                    │\n",
       "└───────────────┴─────────────────┴──────────────────────────────────────────────────────────┴────────────────────┘\n",
       "</pre>\n"
      ],
      "text/plain": [
       "┏━━━━━━━━━━━━━━━┳━━━━━━━━━━━━━━━━━┳━━━━━━━━━━━━━━━━━━━━━━━━━━━━━━━━━━━━━━━━━━━━━━━━━━━━━━━━━━┳━━━━━━━━━━━━━━━━━━━━┓\n",
       "┃\u001b[1;35m \u001b[0m\u001b[1;35mQuestion Name\u001b[0m\u001b[1;35m \u001b[0m┃\u001b[1;35m \u001b[0m\u001b[1;35mQuestion Type  \u001b[0m\u001b[1;35m \u001b[0m┃\u001b[1;35m \u001b[0m\u001b[1;35mQuestion Text                                           \u001b[0m\u001b[1;35m \u001b[0m┃\u001b[1;35m \u001b[0m\u001b[1;35mOptions           \u001b[0m\u001b[1;35m \u001b[0m┃\n",
       "┡━━━━━━━━━━━━━━━╇━━━━━━━━━━━━━━━━━╇━━━━━━━━━━━━━━━━━━━━━━━━━━━━━━━━━━━━━━━━━━━━━━━━━━━━━━━━━━╇━━━━━━━━━━━━━━━━━━━━┩\n",
       "│\u001b[2m \u001b[0m\u001b[2minfo_good    \u001b[0m\u001b[2m \u001b[0m│ multiple_choice │ Consider this occupation {{ occupation }} and this task: │ Yes, Partially, No │\n",
       "│\u001b[2m               \u001b[0m│                 │ {{ task }}.                                              │                    │\n",
       "│\u001b[2m               \u001b[0m│                 │ Is this task output an information good (i.e.,           │                    │\n",
       "│\u001b[2m               \u001b[0m│                 │ writing/text, audio, a decision, an image, a video)?     │                    │\n",
       "│\u001b[2m               \u001b[0m│                 │                                                          │                    │\n",
       "└───────────────┴─────────────────┴──────────────────────────────────────────────────────────┴────────────────────┘\n"
      ]
     },
     "metadata": {},
     "output_type": "display_data"
    },
    {
     "data": {
      "text/html": [
       "<pre style=\"white-space:pre;overflow-x:auto;line-height:normal;font-family:Menlo,'DejaVu Sans Mono',consolas,'Courier New',monospace\">┏━━━━━━━━━━━━━━━┳━━━━━━━━━━━━━━━━━┳━━━━━━━━━━━━━━━━━━━━━━━━━━━━━━━━━━━━━━━━━━━━━━━━━━━━━━━━━━┳━━━━━━━━━━━━━━━━━━━━┓\n",
       "┃ Question Name ┃ Question Type   ┃ Question Text                                            ┃ Options            ┃\n",
       "┡━━━━━━━━━━━━━━━╇━━━━━━━━━━━━━━━━━╇━━━━━━━━━━━━━━━━━━━━━━━━━━━━━━━━━━━━━━━━━━━━━━━━━━━━━━━━━━╇━━━━━━━━━━━━━━━━━━━━┩\n",
       "│ info_good     │ multiple_choice │ Consider this occupation <span style=\"font-weight: bold\">{{</span> occupation <span style=\"font-weight: bold\">}}</span> and this task: │ Yes, Partially, No │\n",
       "│               │                 │ <span style=\"font-weight: bold\">{{</span> task <span style=\"font-weight: bold\">}}</span>.                                              │                    │\n",
       "│               │                 │ Is this task output an information good <span style=\"font-weight: bold\">(</span>i.e.,           │                    │\n",
       "│               │                 │ writing/text, audio, a decision, an image, a video<span style=\"font-weight: bold\">)</span>?     │                    │\n",
       "│               │                 │                                                          │                    │\n",
       "└───────────────┴─────────────────┴──────────────────────────────────────────────────────────┴────────────────────┘\n",
       "\n",
       "</pre>\n"
      ],
      "text/plain": [
       "┏━━━━━━━━━━━━━━━┳━━━━━━━━━━━━━━━━━┳━━━━━━━━━━━━━━━━━━━━━━━━━━━━━━━━━━━━━━━━━━━━━━━━━━━━━━━━━━┳━━━━━━━━━━━━━━━━━━━━┓\n",
       "┃ Question Name ┃ Question Type   ┃ Question Text                                            ┃ Options            ┃\n",
       "┡━━━━━━━━━━━━━━━╇━━━━━━━━━━━━━━━━━╇━━━━━━━━━━━━━━━━━━━━━━━━━━━━━━━━━━━━━━━━━━━━━━━━━━━━━━━━━━╇━━━━━━━━━━━━━━━━━━━━┩\n",
       "│ info_good     │ multiple_choice │ Consider this occupation \u001b[1m{\u001b[0m\u001b[1m{\u001b[0m occupation \u001b[1m}\u001b[0m\u001b[1m}\u001b[0m and this task: │ Yes, Partially, No │\n",
       "│               │                 │ \u001b[1m{\u001b[0m\u001b[1m{\u001b[0m task \u001b[1m}\u001b[0m\u001b[1m}\u001b[0m.                                              │                    │\n",
       "│               │                 │ Is this task output an information good \u001b[1m(\u001b[0mi.e.,           │                    │\n",
       "│               │                 │ writing/text, audio, a decision, an image, a video\u001b[1m)\u001b[0m?     │                    │\n",
       "│               │                 │                                                          │                    │\n",
       "└───────────────┴─────────────────┴──────────────────────────────────────────────────────────┴────────────────────┘\n",
       "\n"
      ]
     },
     "metadata": {},
     "output_type": "display_data"
    },
    {
     "data": {
      "text/html": [
       "<pre style=\"white-space:pre;overflow-x:auto;line-height:normal;font-family:Menlo,'DejaVu Sans Mono',consolas,'Courier New',monospace\">Question: gen_ai_help\n",
       "</pre>\n"
      ],
      "text/plain": [
       "Question: gen_ai_help\n"
      ]
     },
     "metadata": {},
     "output_type": "display_data"
    },
    {
     "data": {
      "text/html": [
       "<pre style=\"white-space:pre;overflow-x:auto;line-height:normal;font-family:Menlo,'DejaVu Sans Mono',consolas,'Courier New',monospace\">┏━━━━━━━━━━━━━━━┳━━━━━━━━━━━━━━━┳━━━━━━━━━━━━━━━━━━━━━━━━━━━━━━━━━━━━━━━━━━━━━━┳━━━━━━━━━━━━━━━━━━━━━━━━━━━━━━━━━━┓\n",
       "┃<span style=\"color: #800080; text-decoration-color: #800080; font-weight: bold\"> Question Name </span>┃<span style=\"color: #800080; text-decoration-color: #800080; font-weight: bold\"> Question Type </span>┃<span style=\"color: #800080; text-decoration-color: #800080; font-weight: bold\"> Question Text                                </span>┃<span style=\"color: #800080; text-decoration-color: #800080; font-weight: bold\"> Options                          </span>┃\n",
       "┡━━━━━━━━━━━━━━━╇━━━━━━━━━━━━━━━╇━━━━━━━━━━━━━━━━━━━━━━━━━━━━━━━━━━━━━━━━━━━━━━╇━━━━━━━━━━━━━━━━━━━━━━━━━━━━━━━━━━┩\n",
       "│<span style=\"color: #7f7f7f; text-decoration-color: #7f7f7f\"> gen_ai_help   </span>│ linear_scale  │ Consider this occupation: {{ occupation}}    │ 0, 1, 2, 3, 4, 5, 6, 7, 8, 9, 10 │\n",
       "│<span style=\"color: #7f7f7f; text-decoration-color: #7f7f7f\">               </span>│               │ and this task: {{ task }}.                   │                                  │\n",
       "│<span style=\"color: #7f7f7f; text-decoration-color: #7f7f7f\">               </span>│               │ How helpful would generative AI to be        │                                  │\n",
       "│<span style=\"color: #7f7f7f; text-decoration-color: #7f7f7f\">               </span>│               │ someone performing the task?                 │                                  │\n",
       "│<span style=\"color: #7f7f7f; text-decoration-color: #7f7f7f\">               </span>│               │                                              │                                  │\n",
       "└───────────────┴───────────────┴──────────────────────────────────────────────┴──────────────────────────────────┘\n",
       "</pre>\n"
      ],
      "text/plain": [
       "┏━━━━━━━━━━━━━━━┳━━━━━━━━━━━━━━━┳━━━━━━━━━━━━━━━━━━━━━━━━━━━━━━━━━━━━━━━━━━━━━━┳━━━━━━━━━━━━━━━━━━━━━━━━━━━━━━━━━━┓\n",
       "┃\u001b[1;35m \u001b[0m\u001b[1;35mQuestion Name\u001b[0m\u001b[1;35m \u001b[0m┃\u001b[1;35m \u001b[0m\u001b[1;35mQuestion Type\u001b[0m\u001b[1;35m \u001b[0m┃\u001b[1;35m \u001b[0m\u001b[1;35mQuestion Text                               \u001b[0m\u001b[1;35m \u001b[0m┃\u001b[1;35m \u001b[0m\u001b[1;35mOptions                         \u001b[0m\u001b[1;35m \u001b[0m┃\n",
       "┡━━━━━━━━━━━━━━━╇━━━━━━━━━━━━━━━╇━━━━━━━━━━━━━━━━━━━━━━━━━━━━━━━━━━━━━━━━━━━━━━╇━━━━━━━━━━━━━━━━━━━━━━━━━━━━━━━━━━┩\n",
       "│\u001b[2m \u001b[0m\u001b[2mgen_ai_help  \u001b[0m\u001b[2m \u001b[0m│ linear_scale  │ Consider this occupation: {{ occupation}}    │ 0, 1, 2, 3, 4, 5, 6, 7, 8, 9, 10 │\n",
       "│\u001b[2m               \u001b[0m│               │ and this task: {{ task }}.                   │                                  │\n",
       "│\u001b[2m               \u001b[0m│               │ How helpful would generative AI to be        │                                  │\n",
       "│\u001b[2m               \u001b[0m│               │ someone performing the task?                 │                                  │\n",
       "│\u001b[2m               \u001b[0m│               │                                              │                                  │\n",
       "└───────────────┴───────────────┴──────────────────────────────────────────────┴──────────────────────────────────┘\n"
      ]
     },
     "metadata": {},
     "output_type": "display_data"
    },
    {
     "data": {
      "text/html": [
       "<pre style=\"white-space:pre;overflow-x:auto;line-height:normal;font-family:Menlo,'DejaVu Sans Mono',consolas,'Courier New',monospace\">┏━━━━━━━━━━━━━━━┳━━━━━━━━━━━━━━━┳━━━━━━━━━━━━━━━━━━━━━━━━━━━━━━━━━━━━━━━━━━━━━━┳━━━━━━━━━━━━━━━━━━━━━━━━━━━━━━━━━━┓\n",
       "┃ Question Name ┃ Question Type ┃ Question Text                                ┃ Options                          ┃\n",
       "┡━━━━━━━━━━━━━━━╇━━━━━━━━━━━━━━━╇━━━━━━━━━━━━━━━━━━━━━━━━━━━━━━━━━━━━━━━━━━━━━━╇━━━━━━━━━━━━━━━━━━━━━━━━━━━━━━━━━━┩\n",
       "│ gen_ai_help   │ linear_scale  │ Consider this occupation: <span style=\"font-weight: bold\">{{</span> occupation<span style=\"font-weight: bold\">}}</span>    │ <span style=\"color: #008080; text-decoration-color: #008080; font-weight: bold\">0</span>, <span style=\"color: #008080; text-decoration-color: #008080; font-weight: bold\">1</span>, <span style=\"color: #008080; text-decoration-color: #008080; font-weight: bold\">2</span>, <span style=\"color: #008080; text-decoration-color: #008080; font-weight: bold\">3</span>, <span style=\"color: #008080; text-decoration-color: #008080; font-weight: bold\">4</span>, <span style=\"color: #008080; text-decoration-color: #008080; font-weight: bold\">5</span>, <span style=\"color: #008080; text-decoration-color: #008080; font-weight: bold\">6</span>, <span style=\"color: #008080; text-decoration-color: #008080; font-weight: bold\">7</span>, <span style=\"color: #008080; text-decoration-color: #008080; font-weight: bold\">8</span>, <span style=\"color: #008080; text-decoration-color: #008080; font-weight: bold\">9</span>, <span style=\"color: #008080; text-decoration-color: #008080; font-weight: bold\">10</span> │\n",
       "│               │               │ and this task: <span style=\"font-weight: bold\">{{</span> task <span style=\"font-weight: bold\">}}</span>.                   │                                  │\n",
       "│               │               │ How helpful would generative AI to be        │                                  │\n",
       "│               │               │ someone performing the task?                 │                                  │\n",
       "│               │               │                                              │                                  │\n",
       "└───────────────┴───────────────┴──────────────────────────────────────────────┴──────────────────────────────────┘\n",
       "\n",
       "</pre>\n"
      ],
      "text/plain": [
       "┏━━━━━━━━━━━━━━━┳━━━━━━━━━━━━━━━┳━━━━━━━━━━━━━━━━━━━━━━━━━━━━━━━━━━━━━━━━━━━━━━┳━━━━━━━━━━━━━━━━━━━━━━━━━━━━━━━━━━┓\n",
       "┃ Question Name ┃ Question Type ┃ Question Text                                ┃ Options                          ┃\n",
       "┡━━━━━━━━━━━━━━━╇━━━━━━━━━━━━━━━╇━━━━━━━━━━━━━━━━━━━━━━━━━━━━━━━━━━━━━━━━━━━━━━╇━━━━━━━━━━━━━━━━━━━━━━━━━━━━━━━━━━┩\n",
       "│ gen_ai_help   │ linear_scale  │ Consider this occupation: \u001b[1m{\u001b[0m\u001b[1m{\u001b[0m occupation\u001b[1m}\u001b[0m\u001b[1m}\u001b[0m    │ \u001b[1;36m0\u001b[0m, \u001b[1;36m1\u001b[0m, \u001b[1;36m2\u001b[0m, \u001b[1;36m3\u001b[0m, \u001b[1;36m4\u001b[0m, \u001b[1;36m5\u001b[0m, \u001b[1;36m6\u001b[0m, \u001b[1;36m7\u001b[0m, \u001b[1;36m8\u001b[0m, \u001b[1;36m9\u001b[0m, \u001b[1;36m10\u001b[0m │\n",
       "│               │               │ and this task: \u001b[1m{\u001b[0m\u001b[1m{\u001b[0m task \u001b[1m}\u001b[0m\u001b[1m}\u001b[0m.                   │                                  │\n",
       "│               │               │ How helpful would generative AI to be        │                                  │\n",
       "│               │               │ someone performing the task?                 │                                  │\n",
       "│               │               │                                              │                                  │\n",
       "└───────────────┴───────────────┴──────────────────────────────────────────────┴──────────────────────────────────┘\n",
       "\n"
      ]
     },
     "metadata": {},
     "output_type": "display_data"
    },
    {
     "data": {
      "text/html": [
       "<pre style=\"white-space:pre;overflow-x:auto;line-height:normal;font-family:Menlo,'DejaVu Sans Mono',consolas,'Courier New',monospace\">Question: trigger\n",
       "</pre>\n"
      ],
      "text/plain": [
       "Question: trigger\n"
      ]
     },
     "metadata": {},
     "output_type": "display_data"
    },
    {
     "data": {
      "text/html": [
       "<pre style=\"white-space:pre;overflow-x:auto;line-height:normal;font-family:Menlo,'DejaVu Sans Mono',consolas,'Courier New',monospace\">┏━━━━━━━━━━━━━━━┳━━━━━━━━━━━━━━━━━┳━━━━━━━━━━━━━━━━━━━━━━━━━━━━━━━━━━━━━━━┳━━━━━━━━━━━━━━━━━━━━━━━━━━━━━━━━━━━━━━━┓\n",
       "┃<span style=\"color: #800080; text-decoration-color: #800080; font-weight: bold\"> Question Name </span>┃<span style=\"color: #800080; text-decoration-color: #800080; font-weight: bold\"> Question Type   </span>┃<span style=\"color: #800080; text-decoration-color: #800080; font-weight: bold\"> Question Text                         </span>┃<span style=\"color: #800080; text-decoration-color: #800080; font-weight: bold\"> Options                               </span>┃\n",
       "┡━━━━━━━━━━━━━━━╇━━━━━━━━━━━━━━━━━╇━━━━━━━━━━━━━━━━━━━━━━━━━━━━━━━━━━━━━━━╇━━━━━━━━━━━━━━━━━━━━━━━━━━━━━━━━━━━━━━━┩\n",
       "│<span style=\"color: #7f7f7f; text-decoration-color: #7f7f7f\"> trigger       </span>│ multiple_choice │ Consider the following task {{ task   │ Completion of a previous step in some │\n",
       "│<span style=\"color: #7f7f7f; text-decoration-color: #7f7f7f\">               </span>│                 │ }} as part of the occupation {{       │ productive process, External trigger  │\n",
       "│<span style=\"color: #7f7f7f; text-decoration-color: #7f7f7f\">               </span>│                 │ occupation }}.                        │ like a customer request, External     │\n",
       "│<span style=\"color: #7f7f7f; text-decoration-color: #7f7f7f\">               </span>│                 │     What best describes when this     │ trigger a request from another part   │\n",
       "│<span style=\"color: #7f7f7f; text-decoration-color: #7f7f7f\">               </span>│                 │ task is done?                         │ of the organization, Internal choice  │\n",
       "│<span style=\"color: #7f7f7f; text-decoration-color: #7f7f7f\">               </span>│                 │                                       │ - can be scheduled whenever           │\n",
       "│<span style=\"color: #7f7f7f; text-decoration-color: #7f7f7f\">               </span>│                 │                                       │ convenient                            │\n",
       "└───────────────┴─────────────────┴───────────────────────────────────────┴───────────────────────────────────────┘\n",
       "</pre>\n"
      ],
      "text/plain": [
       "┏━━━━━━━━━━━━━━━┳━━━━━━━━━━━━━━━━━┳━━━━━━━━━━━━━━━━━━━━━━━━━━━━━━━━━━━━━━━┳━━━━━━━━━━━━━━━━━━━━━━━━━━━━━━━━━━━━━━━┓\n",
       "┃\u001b[1;35m \u001b[0m\u001b[1;35mQuestion Name\u001b[0m\u001b[1;35m \u001b[0m┃\u001b[1;35m \u001b[0m\u001b[1;35mQuestion Type  \u001b[0m\u001b[1;35m \u001b[0m┃\u001b[1;35m \u001b[0m\u001b[1;35mQuestion Text                        \u001b[0m\u001b[1;35m \u001b[0m┃\u001b[1;35m \u001b[0m\u001b[1;35mOptions                              \u001b[0m\u001b[1;35m \u001b[0m┃\n",
       "┡━━━━━━━━━━━━━━━╇━━━━━━━━━━━━━━━━━╇━━━━━━━━━━━━━━━━━━━━━━━━━━━━━━━━━━━━━━━╇━━━━━━━━━━━━━━━━━━━━━━━━━━━━━━━━━━━━━━━┩\n",
       "│\u001b[2m \u001b[0m\u001b[2mtrigger      \u001b[0m\u001b[2m \u001b[0m│ multiple_choice │ Consider the following task {{ task   │ Completion of a previous step in some │\n",
       "│\u001b[2m               \u001b[0m│                 │ }} as part of the occupation {{       │ productive process, External trigger  │\n",
       "│\u001b[2m               \u001b[0m│                 │ occupation }}.                        │ like a customer request, External     │\n",
       "│\u001b[2m               \u001b[0m│                 │     What best describes when this     │ trigger a request from another part   │\n",
       "│\u001b[2m               \u001b[0m│                 │ task is done?                         │ of the organization, Internal choice  │\n",
       "│\u001b[2m               \u001b[0m│                 │                                       │ - can be scheduled whenever           │\n",
       "│\u001b[2m               \u001b[0m│                 │                                       │ convenient                            │\n",
       "└───────────────┴─────────────────┴───────────────────────────────────────┴───────────────────────────────────────┘\n"
      ]
     },
     "metadata": {},
     "output_type": "display_data"
    },
    {
     "data": {
      "text/html": [
       "<pre style=\"white-space:pre;overflow-x:auto;line-height:normal;font-family:Menlo,'DejaVu Sans Mono',consolas,'Courier New',monospace\">┏━━━━━━━━━━━━━━━┳━━━━━━━━━━━━━━━━━┳━━━━━━━━━━━━━━━━━━━━━━━━━━━━━━━━━━━━━━━┳━━━━━━━━━━━━━━━━━━━━━━━━━━━━━━━━━━━━━━━┓\n",
       "┃ Question Name ┃ Question Type   ┃ Question Text                         ┃ Options                               ┃\n",
       "┡━━━━━━━━━━━━━━━╇━━━━━━━━━━━━━━━━━╇━━━━━━━━━━━━━━━━━━━━━━━━━━━━━━━━━━━━━━━╇━━━━━━━━━━━━━━━━━━━━━━━━━━━━━━━━━━━━━━━┩\n",
       "│ trigger       │ multiple_choice │ Consider the following task <span style=\"font-weight: bold\">{{</span> task   │ Completion of a previous step in some │\n",
       "│               │                 │ <span style=\"font-weight: bold\">}}</span> as part of the occupation <span style=\"font-weight: bold\">{{</span>       │ productive process, External trigger  │\n",
       "│               │                 │ occupation <span style=\"font-weight: bold\">}}</span>.                        │ like a customer request, External     │\n",
       "│               │                 │     What best describes when this     │ trigger a request from another part   │\n",
       "│               │                 │ task is done?                         │ of the organization, Internal choice  │\n",
       "│               │                 │                                       │ - can be scheduled whenever           │\n",
       "│               │                 │                                       │ convenient                            │\n",
       "└───────────────┴─────────────────┴───────────────────────────────────────┴───────────────────────────────────────┘\n",
       "\n",
       "</pre>\n"
      ],
      "text/plain": [
       "┏━━━━━━━━━━━━━━━┳━━━━━━━━━━━━━━━━━┳━━━━━━━━━━━━━━━━━━━━━━━━━━━━━━━━━━━━━━━┳━━━━━━━━━━━━━━━━━━━━━━━━━━━━━━━━━━━━━━━┓\n",
       "┃ Question Name ┃ Question Type   ┃ Question Text                         ┃ Options                               ┃\n",
       "┡━━━━━━━━━━━━━━━╇━━━━━━━━━━━━━━━━━╇━━━━━━━━━━━━━━━━━━━━━━━━━━━━━━━━━━━━━━━╇━━━━━━━━━━━━━━━━━━━━━━━━━━━━━━━━━━━━━━━┩\n",
       "│ trigger       │ multiple_choice │ Consider the following task \u001b[1m{\u001b[0m\u001b[1m{\u001b[0m task   │ Completion of a previous step in some │\n",
       "│               │                 │ \u001b[1m}\u001b[0m\u001b[1m}\u001b[0m as part of the occupation \u001b[1m{\u001b[0m\u001b[1m{\u001b[0m       │ productive process, External trigger  │\n",
       "│               │                 │ occupation \u001b[1m}\u001b[0m\u001b[1m}\u001b[0m.                        │ like a customer request, External     │\n",
       "│               │                 │     What best describes when this     │ trigger a request from another part   │\n",
       "│               │                 │ task is done?                         │ of the organization, Internal choice  │\n",
       "│               │                 │                                       │ - can be scheduled whenever           │\n",
       "│               │                 │                                       │ convenient                            │\n",
       "└───────────────┴─────────────────┴───────────────────────────────────────┴───────────────────────────────────────┘\n",
       "\n"
      ]
     },
     "metadata": {},
     "output_type": "display_data"
    },
    {
     "data": {
      "text/html": [
       "<pre style=\"white-space:pre;overflow-x:auto;line-height:normal;font-family:Menlo,'DejaVu Sans Mono',consolas,'Courier New',monospace\">Question: easy_to_tell\n",
       "</pre>\n"
      ],
      "text/plain": [
       "Question: easy_to_tell\n"
      ]
     },
     "metadata": {},
     "output_type": "display_data"
    },
    {
     "data": {
      "text/html": [
       "<pre style=\"white-space:pre;overflow-x:auto;line-height:normal;font-family:Menlo,'DejaVu Sans Mono',consolas,'Courier New',monospace\">┏━━━━━━━━━━━━━━━┳━━━━━━━━━━━━━━━┳━━━━━━━━━━━━━━━━━━━━━━━━━━━━━━━━━━━━━━━━━━━━━━┳━━━━━━━━━━━━━━━━━━━━━━━━━━━━━━━━━━┓\n",
       "┃<span style=\"color: #800080; text-decoration-color: #800080; font-weight: bold\"> Question Name </span>┃<span style=\"color: #800080; text-decoration-color: #800080; font-weight: bold\"> Question Type </span>┃<span style=\"color: #800080; text-decoration-color: #800080; font-weight: bold\"> Question Text                                </span>┃<span style=\"color: #800080; text-decoration-color: #800080; font-weight: bold\"> Options                          </span>┃\n",
       "┡━━━━━━━━━━━━━━━╇━━━━━━━━━━━━━━━╇━━━━━━━━━━━━━━━━━━━━━━━━━━━━━━━━━━━━━━━━━━━━━━╇━━━━━━━━━━━━━━━━━━━━━━━━━━━━━━━━━━┩\n",
       "│<span style=\"color: #7f7f7f; text-decoration-color: #7f7f7f\"> easy_to_tell  </span>│ linear_scale  │ Consider the occupation {{ occupation }}.    │ 0, 1, 2, 3, 4, 5, 6, 7, 8, 9, 10 │\n",
       "│<span style=\"color: #7f7f7f; text-decoration-color: #7f7f7f\">               </span>│               │ And consider the task done by someone in     │                                  │\n",
       "│<span style=\"color: #7f7f7f; text-decoration-color: #7f7f7f\">               </span>│               │ this occupation: {{ task }}.                 │                                  │\n",
       "│<span style=\"color: #7f7f7f; text-decoration-color: #7f7f7f\">               </span>│               │ Rate how easy it is for a non-expert to tell │                                  │\n",
       "│<span style=\"color: #7f7f7f; text-decoration-color: #7f7f7f\">               </span>│               │ if the task is done correctly, on a scale of │                                  │\n",
       "│<span style=\"color: #7f7f7f; text-decoration-color: #7f7f7f\">               </span>│               │ 1 to 10.                                     │                                  │\n",
       "│<span style=\"color: #7f7f7f; text-decoration-color: #7f7f7f\">               </span>│               │                                              │                                  │\n",
       "│<span style=\"color: #7f7f7f; text-decoration-color: #7f7f7f\">               </span>│               │ The task: {{ task }}.                        │                                  │\n",
       "│<span style=\"color: #7f7f7f; text-decoration-color: #7f7f7f\">               </span>│               │ 1 = Very easy for a non-expert to tell if    │                                  │\n",
       "│<span style=\"color: #7f7f7f; text-decoration-color: #7f7f7f\">               </span>│               │ done correctly.                              │                                  │\n",
       "│<span style=\"color: #7f7f7f; text-decoration-color: #7f7f7f\">               </span>│               │ 10 = only an expert would know if done       │                                  │\n",
       "│<span style=\"color: #7f7f7f; text-decoration-color: #7f7f7f\">               </span>│               │ correctly.                                   │                                  │\n",
       "│<span style=\"color: #7f7f7f; text-decoration-color: #7f7f7f\">               </span>│               │                                              │                                  │\n",
       "└───────────────┴───────────────┴──────────────────────────────────────────────┴──────────────────────────────────┘\n",
       "</pre>\n"
      ],
      "text/plain": [
       "┏━━━━━━━━━━━━━━━┳━━━━━━━━━━━━━━━┳━━━━━━━━━━━━━━━━━━━━━━━━━━━━━━━━━━━━━━━━━━━━━━┳━━━━━━━━━━━━━━━━━━━━━━━━━━━━━━━━━━┓\n",
       "┃\u001b[1;35m \u001b[0m\u001b[1;35mQuestion Name\u001b[0m\u001b[1;35m \u001b[0m┃\u001b[1;35m \u001b[0m\u001b[1;35mQuestion Type\u001b[0m\u001b[1;35m \u001b[0m┃\u001b[1;35m \u001b[0m\u001b[1;35mQuestion Text                               \u001b[0m\u001b[1;35m \u001b[0m┃\u001b[1;35m \u001b[0m\u001b[1;35mOptions                         \u001b[0m\u001b[1;35m \u001b[0m┃\n",
       "┡━━━━━━━━━━━━━━━╇━━━━━━━━━━━━━━━╇━━━━━━━━━━━━━━━━━━━━━━━━━━━━━━━━━━━━━━━━━━━━━━╇━━━━━━━━━━━━━━━━━━━━━━━━━━━━━━━━━━┩\n",
       "│\u001b[2m \u001b[0m\u001b[2measy_to_tell \u001b[0m\u001b[2m \u001b[0m│ linear_scale  │ Consider the occupation {{ occupation }}.    │ 0, 1, 2, 3, 4, 5, 6, 7, 8, 9, 10 │\n",
       "│\u001b[2m               \u001b[0m│               │ And consider the task done by someone in     │                                  │\n",
       "│\u001b[2m               \u001b[0m│               │ this occupation: {{ task }}.                 │                                  │\n",
       "│\u001b[2m               \u001b[0m│               │ Rate how easy it is for a non-expert to tell │                                  │\n",
       "│\u001b[2m               \u001b[0m│               │ if the task is done correctly, on a scale of │                                  │\n",
       "│\u001b[2m               \u001b[0m│               │ 1 to 10.                                     │                                  │\n",
       "│\u001b[2m               \u001b[0m│               │                                              │                                  │\n",
       "│\u001b[2m               \u001b[0m│               │ The task: {{ task }}.                        │                                  │\n",
       "│\u001b[2m               \u001b[0m│               │ 1 = Very easy for a non-expert to tell if    │                                  │\n",
       "│\u001b[2m               \u001b[0m│               │ done correctly.                              │                                  │\n",
       "│\u001b[2m               \u001b[0m│               │ 10 = only an expert would know if done       │                                  │\n",
       "│\u001b[2m               \u001b[0m│               │ correctly.                                   │                                  │\n",
       "│\u001b[2m               \u001b[0m│               │                                              │                                  │\n",
       "└───────────────┴───────────────┴──────────────────────────────────────────────┴──────────────────────────────────┘\n"
      ]
     },
     "metadata": {},
     "output_type": "display_data"
    },
    {
     "data": {
      "text/html": [
       "<pre style=\"white-space:pre;overflow-x:auto;line-height:normal;font-family:Menlo,'DejaVu Sans Mono',consolas,'Courier New',monospace\">┏━━━━━━━━━━━━━━━┳━━━━━━━━━━━━━━━┳━━━━━━━━━━━━━━━━━━━━━━━━━━━━━━━━━━━━━━━━━━━━━━┳━━━━━━━━━━━━━━━━━━━━━━━━━━━━━━━━━━┓\n",
       "┃ Question Name ┃ Question Type ┃ Question Text                                ┃ Options                          ┃\n",
       "┡━━━━━━━━━━━━━━━╇━━━━━━━━━━━━━━━╇━━━━━━━━━━━━━━━━━━━━━━━━━━━━━━━━━━━━━━━━━━━━━━╇━━━━━━━━━━━━━━━━━━━━━━━━━━━━━━━━━━┩\n",
       "│ easy_to_tell  │ linear_scale  │ Consider the occupation <span style=\"font-weight: bold\">{{</span> occupation <span style=\"font-weight: bold\">}}</span>.    │ <span style=\"color: #008080; text-decoration-color: #008080; font-weight: bold\">0</span>, <span style=\"color: #008080; text-decoration-color: #008080; font-weight: bold\">1</span>, <span style=\"color: #008080; text-decoration-color: #008080; font-weight: bold\">2</span>, <span style=\"color: #008080; text-decoration-color: #008080; font-weight: bold\">3</span>, <span style=\"color: #008080; text-decoration-color: #008080; font-weight: bold\">4</span>, <span style=\"color: #008080; text-decoration-color: #008080; font-weight: bold\">5</span>, <span style=\"color: #008080; text-decoration-color: #008080; font-weight: bold\">6</span>, <span style=\"color: #008080; text-decoration-color: #008080; font-weight: bold\">7</span>, <span style=\"color: #008080; text-decoration-color: #008080; font-weight: bold\">8</span>, <span style=\"color: #008080; text-decoration-color: #008080; font-weight: bold\">9</span>, <span style=\"color: #008080; text-decoration-color: #008080; font-weight: bold\">10</span> │\n",
       "│               │               │ And consider the task done by someone in     │                                  │\n",
       "│               │               │ this occupation: <span style=\"font-weight: bold\">{{</span> task <span style=\"font-weight: bold\">}}</span>.                 │                                  │\n",
       "│               │               │ Rate how easy it is for a non-expert to tell │                                  │\n",
       "│               │               │ if the task is done correctly, on a scale of │                                  │\n",
       "│               │               │ <span style=\"color: #008080; text-decoration-color: #008080; font-weight: bold\">1</span> to <span style=\"color: #008080; text-decoration-color: #008080; font-weight: bold\">10</span>.                                     │                                  │\n",
       "│               │               │                                              │                                  │\n",
       "│               │               │ The task: <span style=\"font-weight: bold\">{{</span> task <span style=\"font-weight: bold\">}}</span>.                        │                                  │\n",
       "│               │               │ <span style=\"color: #008080; text-decoration-color: #008080; font-weight: bold\">1</span> = Very easy for a non-expert to tell if    │                                  │\n",
       "│               │               │ done correctly.                              │                                  │\n",
       "│               │               │ <span style=\"color: #008080; text-decoration-color: #008080; font-weight: bold\">10</span> = only an expert would know if done       │                                  │\n",
       "│               │               │ correctly.                                   │                                  │\n",
       "│               │               │                                              │                                  │\n",
       "└───────────────┴───────────────┴──────────────────────────────────────────────┴──────────────────────────────────┘\n",
       "\n",
       "</pre>\n"
      ],
      "text/plain": [
       "┏━━━━━━━━━━━━━━━┳━━━━━━━━━━━━━━━┳━━━━━━━━━━━━━━━━━━━━━━━━━━━━━━━━━━━━━━━━━━━━━━┳━━━━━━━━━━━━━━━━━━━━━━━━━━━━━━━━━━┓\n",
       "┃ Question Name ┃ Question Type ┃ Question Text                                ┃ Options                          ┃\n",
       "┡━━━━━━━━━━━━━━━╇━━━━━━━━━━━━━━━╇━━━━━━━━━━━━━━━━━━━━━━━━━━━━━━━━━━━━━━━━━━━━━━╇━━━━━━━━━━━━━━━━━━━━━━━━━━━━━━━━━━┩\n",
       "│ easy_to_tell  │ linear_scale  │ Consider the occupation \u001b[1m{\u001b[0m\u001b[1m{\u001b[0m occupation \u001b[1m}\u001b[0m\u001b[1m}\u001b[0m.    │ \u001b[1;36m0\u001b[0m, \u001b[1;36m1\u001b[0m, \u001b[1;36m2\u001b[0m, \u001b[1;36m3\u001b[0m, \u001b[1;36m4\u001b[0m, \u001b[1;36m5\u001b[0m, \u001b[1;36m6\u001b[0m, \u001b[1;36m7\u001b[0m, \u001b[1;36m8\u001b[0m, \u001b[1;36m9\u001b[0m, \u001b[1;36m10\u001b[0m │\n",
       "│               │               │ And consider the task done by someone in     │                                  │\n",
       "│               │               │ this occupation: \u001b[1m{\u001b[0m\u001b[1m{\u001b[0m task \u001b[1m}\u001b[0m\u001b[1m}\u001b[0m.                 │                                  │\n",
       "│               │               │ Rate how easy it is for a non-expert to tell │                                  │\n",
       "│               │               │ if the task is done correctly, on a scale of │                                  │\n",
       "│               │               │ \u001b[1;36m1\u001b[0m to \u001b[1;36m10\u001b[0m.                                     │                                  │\n",
       "│               │               │                                              │                                  │\n",
       "│               │               │ The task: \u001b[1m{\u001b[0m\u001b[1m{\u001b[0m task \u001b[1m}\u001b[0m\u001b[1m}\u001b[0m.                        │                                  │\n",
       "│               │               │ \u001b[1;36m1\u001b[0m = Very easy for a non-expert to tell if    │                                  │\n",
       "│               │               │ done correctly.                              │                                  │\n",
       "│               │               │ \u001b[1;36m10\u001b[0m = only an expert would know if done       │                                  │\n",
       "│               │               │ correctly.                                   │                                  │\n",
       "│               │               │                                              │                                  │\n",
       "└───────────────┴───────────────┴──────────────────────────────────────────────┴──────────────────────────────────┘\n",
       "\n"
      ]
     },
     "metadata": {},
     "output_type": "display_data"
    },
    {
     "data": {
      "text/html": [
       "<pre style=\"white-space:pre;overflow-x:auto;line-height:normal;font-family:Menlo,'DejaVu Sans Mono',consolas,'Courier New',monospace\">Question: manager_task\n",
       "</pre>\n"
      ],
      "text/plain": [
       "Question: manager_task\n"
      ]
     },
     "metadata": {},
     "output_type": "display_data"
    },
    {
     "data": {
      "text/html": [
       "<pre style=\"white-space:pre;overflow-x:auto;line-height:normal;font-family:Menlo,'DejaVu Sans Mono',consolas,'Courier New',monospace\">┏━━━━━━━━━━━━━━━┳━━━━━━━━━━━━━━━━━┳━━━━━━━━━━━━━━━━━━━━━━━━━━━━━━━━━━━━━━━┳━━━━━━━━━━━━━━━━━━━━━━━━━━━━━━━━━━━━━━━┓\n",
       "┃<span style=\"color: #800080; text-decoration-color: #800080; font-weight: bold\"> Question Name </span>┃<span style=\"color: #800080; text-decoration-color: #800080; font-weight: bold\"> Question Type   </span>┃<span style=\"color: #800080; text-decoration-color: #800080; font-weight: bold\"> Question Text                         </span>┃<span style=\"color: #800080; text-decoration-color: #800080; font-weight: bold\"> Options                               </span>┃\n",
       "┡━━━━━━━━━━━━━━━╇━━━━━━━━━━━━━━━━━╇━━━━━━━━━━━━━━━━━━━━━━━━━━━━━━━━━━━━━━━╇━━━━━━━━━━━━━━━━━━━━━━━━━━━━━━━━━━━━━━━┩\n",
       "│<span style=\"color: #7f7f7f; text-decoration-color: #7f7f7f\"> manager_task  </span>│ multiple_choice │                                       │ None, Almost none, Some - less than   │\n",
       "│<span style=\"color: #7f7f7f; text-decoration-color: #7f7f7f\">               </span>│                 │     Consider this occupation: {{      │ an hour, Great deal - mulitple hours  │\n",
       "│<span style=\"color: #7f7f7f; text-decoration-color: #7f7f7f\">               </span>│                 │ occupation }}.                        │                                       │\n",
       "│<span style=\"color: #7f7f7f; text-decoration-color: #7f7f7f\">               </span>│                 │     Part of this occupation is this   │                                       │\n",
       "│<span style=\"color: #7f7f7f; text-decoration-color: #7f7f7f\">               </span>│                 │ task: {{ task }}.                     │                                       │\n",
       "│<span style=\"color: #7f7f7f; text-decoration-color: #7f7f7f\">               </span>│                 │                                       │                                       │\n",
       "│<span style=\"color: #7f7f7f; text-decoration-color: #7f7f7f\">               </span>│                 │     Imagine a manager who was in this │                                       │\n",
       "│<span style=\"color: #7f7f7f; text-decoration-color: #7f7f7f\">               </span>│                 │ occupation is now asking a worker     │                                       │\n",
       "│<span style=\"color: #7f7f7f; text-decoration-color: #7f7f7f\">               </span>│                 │ with the same occupation to do the    │                                       │\n",
       "│<span style=\"color: #7f7f7f; text-decoration-color: #7f7f7f\">               </span>│                 │ task.                                 │                                       │\n",
       "│<span style=\"color: #7f7f7f; text-decoration-color: #7f7f7f\">               </span>│                 │     How much specific instruction is  │                                       │\n",
       "│<span style=\"color: #7f7f7f; text-decoration-color: #7f7f7f\">               </span>│                 │ this task likely to require?          │                                       │\n",
       "│<span style=\"color: #7f7f7f; text-decoration-color: #7f7f7f\">               </span>│                 │                                       │                                       │\n",
       "└───────────────┴─────────────────┴───────────────────────────────────────┴───────────────────────────────────────┘\n",
       "</pre>\n"
      ],
      "text/plain": [
       "┏━━━━━━━━━━━━━━━┳━━━━━━━━━━━━━━━━━┳━━━━━━━━━━━━━━━━━━━━━━━━━━━━━━━━━━━━━━━┳━━━━━━━━━━━━━━━━━━━━━━━━━━━━━━━━━━━━━━━┓\n",
       "┃\u001b[1;35m \u001b[0m\u001b[1;35mQuestion Name\u001b[0m\u001b[1;35m \u001b[0m┃\u001b[1;35m \u001b[0m\u001b[1;35mQuestion Type  \u001b[0m\u001b[1;35m \u001b[0m┃\u001b[1;35m \u001b[0m\u001b[1;35mQuestion Text                        \u001b[0m\u001b[1;35m \u001b[0m┃\u001b[1;35m \u001b[0m\u001b[1;35mOptions                              \u001b[0m\u001b[1;35m \u001b[0m┃\n",
       "┡━━━━━━━━━━━━━━━╇━━━━━━━━━━━━━━━━━╇━━━━━━━━━━━━━━━━━━━━━━━━━━━━━━━━━━━━━━━╇━━━━━━━━━━━━━━━━━━━━━━━━━━━━━━━━━━━━━━━┩\n",
       "│\u001b[2m \u001b[0m\u001b[2mmanager_task \u001b[0m\u001b[2m \u001b[0m│ multiple_choice │                                       │ None, Almost none, Some - less than   │\n",
       "│\u001b[2m               \u001b[0m│                 │     Consider this occupation: {{      │ an hour, Great deal - mulitple hours  │\n",
       "│\u001b[2m               \u001b[0m│                 │ occupation }}.                        │                                       │\n",
       "│\u001b[2m               \u001b[0m│                 │     Part of this occupation is this   │                                       │\n",
       "│\u001b[2m               \u001b[0m│                 │ task: {{ task }}.                     │                                       │\n",
       "│\u001b[2m               \u001b[0m│                 │                                       │                                       │\n",
       "│\u001b[2m               \u001b[0m│                 │     Imagine a manager who was in this │                                       │\n",
       "│\u001b[2m               \u001b[0m│                 │ occupation is now asking a worker     │                                       │\n",
       "│\u001b[2m               \u001b[0m│                 │ with the same occupation to do the    │                                       │\n",
       "│\u001b[2m               \u001b[0m│                 │ task.                                 │                                       │\n",
       "│\u001b[2m               \u001b[0m│                 │     How much specific instruction is  │                                       │\n",
       "│\u001b[2m               \u001b[0m│                 │ this task likely to require?          │                                       │\n",
       "│\u001b[2m               \u001b[0m│                 │                                       │                                       │\n",
       "└───────────────┴─────────────────┴───────────────────────────────────────┴───────────────────────────────────────┘\n"
      ]
     },
     "metadata": {},
     "output_type": "display_data"
    },
    {
     "data": {
      "text/html": [
       "<pre style=\"white-space:pre;overflow-x:auto;line-height:normal;font-family:Menlo,'DejaVu Sans Mono',consolas,'Courier New',monospace\">┏━━━━━━━━━━━━━━━┳━━━━━━━━━━━━━━━━━┳━━━━━━━━━━━━━━━━━━━━━━━━━━━━━━━━━━━━━━━┳━━━━━━━━━━━━━━━━━━━━━━━━━━━━━━━━━━━━━━━┓\n",
       "┃ Question Name ┃ Question Type   ┃ Question Text                         ┃ Options                               ┃\n",
       "┡━━━━━━━━━━━━━━━╇━━━━━━━━━━━━━━━━━╇━━━━━━━━━━━━━━━━━━━━━━━━━━━━━━━━━━━━━━━╇━━━━━━━━━━━━━━━━━━━━━━━━━━━━━━━━━━━━━━━┩\n",
       "│ manager_task  │ multiple_choice │                                       │ <span style=\"color: #800080; text-decoration-color: #800080; font-style: italic\">None</span>, Almost none, Some - less than   │\n",
       "│               │                 │     Consider this occupation: <span style=\"font-weight: bold\">{{</span>      │ an hour, Great deal - mulitple hours  │\n",
       "│               │                 │ occupation <span style=\"font-weight: bold\">}}</span>.                        │                                       │\n",
       "│               │                 │     Part of this occupation is this   │                                       │\n",
       "│               │                 │ task: <span style=\"font-weight: bold\">{{</span> task <span style=\"font-weight: bold\">}}</span>.                     │                                       │\n",
       "│               │                 │                                       │                                       │\n",
       "│               │                 │     Imagine a manager who was in this │                                       │\n",
       "│               │                 │ occupation is now asking a worker     │                                       │\n",
       "│               │                 │ with the same occupation to do the    │                                       │\n",
       "│               │                 │ task.                                 │                                       │\n",
       "│               │                 │     How much specific instruction is  │                                       │\n",
       "│               │                 │ this task likely to require?          │                                       │\n",
       "│               │                 │                                       │                                       │\n",
       "└───────────────┴─────────────────┴───────────────────────────────────────┴───────────────────────────────────────┘\n",
       "\n",
       "</pre>\n"
      ],
      "text/plain": [
       "┏━━━━━━━━━━━━━━━┳━━━━━━━━━━━━━━━━━┳━━━━━━━━━━━━━━━━━━━━━━━━━━━━━━━━━━━━━━━┳━━━━━━━━━━━━━━━━━━━━━━━━━━━━━━━━━━━━━━━┓\n",
       "┃ Question Name ┃ Question Type   ┃ Question Text                         ┃ Options                               ┃\n",
       "┡━━━━━━━━━━━━━━━╇━━━━━━━━━━━━━━━━━╇━━━━━━━━━━━━━━━━━━━━━━━━━━━━━━━━━━━━━━━╇━━━━━━━━━━━━━━━━━━━━━━━━━━━━━━━━━━━━━━━┩\n",
       "│ manager_task  │ multiple_choice │                                       │ \u001b[3;35mNone\u001b[0m, Almost none, Some - less than   │\n",
       "│               │                 │     Consider this occupation: \u001b[1m{\u001b[0m\u001b[1m{\u001b[0m      │ an hour, Great deal - mulitple hours  │\n",
       "│               │                 │ occupation \u001b[1m}\u001b[0m\u001b[1m}\u001b[0m.                        │                                       │\n",
       "│               │                 │     Part of this occupation is this   │                                       │\n",
       "│               │                 │ task: \u001b[1m{\u001b[0m\u001b[1m{\u001b[0m task \u001b[1m}\u001b[0m\u001b[1m}\u001b[0m.                     │                                       │\n",
       "│               │                 │                                       │                                       │\n",
       "│               │                 │     Imagine a manager who was in this │                                       │\n",
       "│               │                 │ occupation is now asking a worker     │                                       │\n",
       "│               │                 │ with the same occupation to do the    │                                       │\n",
       "│               │                 │ task.                                 │                                       │\n",
       "│               │                 │     How much specific instruction is  │                                       │\n",
       "│               │                 │ this task likely to require?          │                                       │\n",
       "│               │                 │                                       │                                       │\n",
       "└───────────────┴─────────────────┴───────────────────────────────────────┴───────────────────────────────────────┘\n",
       "\n"
      ]
     },
     "metadata": {},
     "output_type": "display_data"
    },
    {
     "data": {
      "text/html": [
       "<pre style=\"white-space:pre;overflow-x:auto;line-height:normal;font-family:Menlo,'DejaVu Sans Mono',consolas,'Courier New',monospace\">Question: ratio_describe_to_do\n",
       "</pre>\n"
      ],
      "text/plain": [
       "Question: ratio_describe_to_do\n"
      ]
     },
     "metadata": {},
     "output_type": "display_data"
    },
    {
     "data": {
      "text/html": [
       "<pre style=\"white-space:pre;overflow-x:auto;line-height:normal;font-family:Menlo,'DejaVu Sans Mono',consolas,'Courier New',monospace\">┏━━━━━━━━━━━━━━━━━━━━━━┳━━━━━━━━━━━━━━━┳━━━━━━━━━━━━━━━━━━━━━━━━━━━━━━━━━━━━━━━━━━━━━━━━━━━━━━━━━━━━━━━━┳━━━━━━━━━┓\n",
       "┃<span style=\"color: #800080; text-decoration-color: #800080; font-weight: bold\"> Question Name        </span>┃<span style=\"color: #800080; text-decoration-color: #800080; font-weight: bold\"> Question Type </span>┃<span style=\"color: #800080; text-decoration-color: #800080; font-weight: bold\"> Question Text                                                  </span>┃<span style=\"color: #800080; text-decoration-color: #800080; font-weight: bold\"> Options </span>┃\n",
       "┡━━━━━━━━━━━━━━━━━━━━━━╇━━━━━━━━━━━━━━━╇━━━━━━━━━━━━━━━━━━━━━━━━━━━━━━━━━━━━━━━━━━━━━━━━━━━━━━━━━━━━━━━━╇━━━━━━━━━┩\n",
       "│<span style=\"color: #7f7f7f; text-decoration-color: #7f7f7f\"> ratio_describe_to_do </span>│ numerical     │                                                                │ None    │\n",
       "│<span style=\"color: #7f7f7f; text-decoration-color: #7f7f7f\">                      </span>│               │     Consider this occupation: {{ occupation }}.                │         │\n",
       "│<span style=\"color: #7f7f7f; text-decoration-color: #7f7f7f\">                      </span>│               │     Part of this occupation is this task: {{ task }}.          │         │\n",
       "│<span style=\"color: #7f7f7f; text-decoration-color: #7f7f7f\">                      </span>│               │                                                                │         │\n",
       "│<span style=\"color: #7f7f7f; text-decoration-color: #7f7f7f\">                      </span>│               │     Imagine a manager who was in this occupation is now asking │         │\n",
       "│<span style=\"color: #7f7f7f; text-decoration-color: #7f7f7f\">                      </span>│               │ a worker with the same occupation to do the task.              │         │\n",
       "│<span style=\"color: #7f7f7f; text-decoration-color: #7f7f7f\">                      </span>│               │     The worker is expert and does not need instruction in how  │         │\n",
       "│<span style=\"color: #7f7f7f; text-decoration-color: #7f7f7f\">                      </span>│               │ to do the task generally.                                      │         │\n",
       "│<span style=\"color: #7f7f7f; text-decoration-color: #7f7f7f\">                      </span>│               │     They only need to be instructed on any specifics.          │         │\n",
       "│<span style=\"color: #7f7f7f; text-decoration-color: #7f7f7f\">                      </span>│               │                                                                │         │\n",
       "│<span style=\"color: #7f7f7f; text-decoration-color: #7f7f7f\">                      </span>│               │     What is the ratio of time to describe this task to time to │         │\n",
       "│<span style=\"color: #7f7f7f; text-decoration-color: #7f7f7f\">                      </span>│               │ do it on their own?                                            │         │\n",
       "│<span style=\"color: #7f7f7f; text-decoration-color: #7f7f7f\">                      </span>│               │     E.g., if it takes just as long to describe the task as to  │         │\n",
       "│<span style=\"color: #7f7f7f; text-decoration-color: #7f7f7f\">                      </span>│               │ do it on their own, then 1.                                    │         │\n",
       "│<span style=\"color: #7f7f7f; text-decoration-color: #7f7f7f\">                      </span>│               │     If the task could be described in 5 minutes but the task   │         │\n",
       "│<span style=\"color: #7f7f7f; text-decoration-color: #7f7f7f\">                      </span>│               │ takes 10 minutes, then 0.5.                                    │         │\n",
       "│<span style=\"color: #7f7f7f; text-decoration-color: #7f7f7f\">                      </span>│               │                                                                │         │\n",
       "└──────────────────────┴───────────────┴────────────────────────────────────────────────────────────────┴─────────┘\n",
       "</pre>\n"
      ],
      "text/plain": [
       "┏━━━━━━━━━━━━━━━━━━━━━━┳━━━━━━━━━━━━━━━┳━━━━━━━━━━━━━━━━━━━━━━━━━━━━━━━━━━━━━━━━━━━━━━━━━━━━━━━━━━━━━━━━┳━━━━━━━━━┓\n",
       "┃\u001b[1;35m \u001b[0m\u001b[1;35mQuestion Name       \u001b[0m\u001b[1;35m \u001b[0m┃\u001b[1;35m \u001b[0m\u001b[1;35mQuestion Type\u001b[0m\u001b[1;35m \u001b[0m┃\u001b[1;35m \u001b[0m\u001b[1;35mQuestion Text                                                 \u001b[0m\u001b[1;35m \u001b[0m┃\u001b[1;35m \u001b[0m\u001b[1;35mOptions\u001b[0m\u001b[1;35m \u001b[0m┃\n",
       "┡━━━━━━━━━━━━━━━━━━━━━━╇━━━━━━━━━━━━━━━╇━━━━━━━━━━━━━━━━━━━━━━━━━━━━━━━━━━━━━━━━━━━━━━━━━━━━━━━━━━━━━━━━╇━━━━━━━━━┩\n",
       "│\u001b[2m \u001b[0m\u001b[2mratio_describe_to_do\u001b[0m\u001b[2m \u001b[0m│ numerical     │                                                                │ None    │\n",
       "│\u001b[2m                      \u001b[0m│               │     Consider this occupation: {{ occupation }}.                │         │\n",
       "│\u001b[2m                      \u001b[0m│               │     Part of this occupation is this task: {{ task }}.          │         │\n",
       "│\u001b[2m                      \u001b[0m│               │                                                                │         │\n",
       "│\u001b[2m                      \u001b[0m│               │     Imagine a manager who was in this occupation is now asking │         │\n",
       "│\u001b[2m                      \u001b[0m│               │ a worker with the same occupation to do the task.              │         │\n",
       "│\u001b[2m                      \u001b[0m│               │     The worker is expert and does not need instruction in how  │         │\n",
       "│\u001b[2m                      \u001b[0m│               │ to do the task generally.                                      │         │\n",
       "│\u001b[2m                      \u001b[0m│               │     They only need to be instructed on any specifics.          │         │\n",
       "│\u001b[2m                      \u001b[0m│               │                                                                │         │\n",
       "│\u001b[2m                      \u001b[0m│               │     What is the ratio of time to describe this task to time to │         │\n",
       "│\u001b[2m                      \u001b[0m│               │ do it on their own?                                            │         │\n",
       "│\u001b[2m                      \u001b[0m│               │     E.g., if it takes just as long to describe the task as to  │         │\n",
       "│\u001b[2m                      \u001b[0m│               │ do it on their own, then 1.                                    │         │\n",
       "│\u001b[2m                      \u001b[0m│               │     If the task could be described in 5 minutes but the task   │         │\n",
       "│\u001b[2m                      \u001b[0m│               │ takes 10 minutes, then 0.5.                                    │         │\n",
       "│\u001b[2m                      \u001b[0m│               │                                                                │         │\n",
       "└──────────────────────┴───────────────┴────────────────────────────────────────────────────────────────┴─────────┘\n"
      ]
     },
     "metadata": {},
     "output_type": "display_data"
    },
    {
     "data": {
      "text/html": [
       "<pre style=\"white-space:pre;overflow-x:auto;line-height:normal;font-family:Menlo,'DejaVu Sans Mono',consolas,'Courier New',monospace\">┏━━━━━━━━━━━━━━━━━━━━━━┳━━━━━━━━━━━━━━━┳━━━━━━━━━━━━━━━━━━━━━━━━━━━━━━━━━━━━━━━━━━━━━━━━━━━━━━━━━━━━━━━━┳━━━━━━━━━┓\n",
       "┃ Question Name        ┃ Question Type ┃ Question Text                                                  ┃ Options ┃\n",
       "┡━━━━━━━━━━━━━━━━━━━━━━╇━━━━━━━━━━━━━━━╇━━━━━━━━━━━━━━━━━━━━━━━━━━━━━━━━━━━━━━━━━━━━━━━━━━━━━━━━━━━━━━━━╇━━━━━━━━━┩\n",
       "│ ratio_describe_to_do │ numerical     │                                                                │ <span style=\"color: #800080; text-decoration-color: #800080; font-style: italic\">None</span>    │\n",
       "│                      │               │     Consider this occupation: <span style=\"font-weight: bold\">{{</span> occupation <span style=\"font-weight: bold\">}}</span>.                │         │\n",
       "│                      │               │     Part of this occupation is this task: <span style=\"font-weight: bold\">{{</span> task <span style=\"font-weight: bold\">}}</span>.          │         │\n",
       "│                      │               │                                                                │         │\n",
       "│                      │               │     Imagine a manager who was in this occupation is now asking │         │\n",
       "│                      │               │ a worker with the same occupation to do the task.              │         │\n",
       "│                      │               │     The worker is expert and does not need instruction in how  │         │\n",
       "│                      │               │ to do the task generally.                                      │         │\n",
       "│                      │               │     They only need to be instructed on any specifics.          │         │\n",
       "│                      │               │                                                                │         │\n",
       "│                      │               │     What is the ratio of time to describe this task to time to │         │\n",
       "│                      │               │ do it on their own?                                            │         │\n",
       "│                      │               │     E.g., if it takes just as long to describe the task as to  │         │\n",
       "│                      │               │ do it on their own, then <span style=\"color: #008080; text-decoration-color: #008080; font-weight: bold\">1</span>.                                    │         │\n",
       "│                      │               │     If the task could be described in <span style=\"color: #008080; text-decoration-color: #008080; font-weight: bold\">5</span> minutes but the task   │         │\n",
       "│                      │               │ takes <span style=\"color: #008080; text-decoration-color: #008080; font-weight: bold\">10</span> minutes, then <span style=\"color: #008080; text-decoration-color: #008080; font-weight: bold\">0.5</span>.                                    │         │\n",
       "│                      │               │                                                                │         │\n",
       "└──────────────────────┴───────────────┴────────────────────────────────────────────────────────────────┴─────────┘\n",
       "\n",
       "</pre>\n"
      ],
      "text/plain": [
       "┏━━━━━━━━━━━━━━━━━━━━━━┳━━━━━━━━━━━━━━━┳━━━━━━━━━━━━━━━━━━━━━━━━━━━━━━━━━━━━━━━━━━━━━━━━━━━━━━━━━━━━━━━━┳━━━━━━━━━┓\n",
       "┃ Question Name        ┃ Question Type ┃ Question Text                                                  ┃ Options ┃\n",
       "┡━━━━━━━━━━━━━━━━━━━━━━╇━━━━━━━━━━━━━━━╇━━━━━━━━━━━━━━━━━━━━━━━━━━━━━━━━━━━━━━━━━━━━━━━━━━━━━━━━━━━━━━━━╇━━━━━━━━━┩\n",
       "│ ratio_describe_to_do │ numerical     │                                                                │ \u001b[3;35mNone\u001b[0m    │\n",
       "│                      │               │     Consider this occupation: \u001b[1m{\u001b[0m\u001b[1m{\u001b[0m occupation \u001b[1m}\u001b[0m\u001b[1m}\u001b[0m.                │         │\n",
       "│                      │               │     Part of this occupation is this task: \u001b[1m{\u001b[0m\u001b[1m{\u001b[0m task \u001b[1m}\u001b[0m\u001b[1m}\u001b[0m.          │         │\n",
       "│                      │               │                                                                │         │\n",
       "│                      │               │     Imagine a manager who was in this occupation is now asking │         │\n",
       "│                      │               │ a worker with the same occupation to do the task.              │         │\n",
       "│                      │               │     The worker is expert and does not need instruction in how  │         │\n",
       "│                      │               │ to do the task generally.                                      │         │\n",
       "│                      │               │     They only need to be instructed on any specifics.          │         │\n",
       "│                      │               │                                                                │         │\n",
       "│                      │               │     What is the ratio of time to describe this task to time to │         │\n",
       "│                      │               │ do it on their own?                                            │         │\n",
       "│                      │               │     E.g., if it takes just as long to describe the task as to  │         │\n",
       "│                      │               │ do it on their own, then \u001b[1;36m1\u001b[0m.                                    │         │\n",
       "│                      │               │     If the task could be described in \u001b[1;36m5\u001b[0m minutes but the task   │         │\n",
       "│                      │               │ takes \u001b[1;36m10\u001b[0m minutes, then \u001b[1;36m0.5\u001b[0m.                                    │         │\n",
       "│                      │               │                                                                │         │\n",
       "└──────────────────────┴───────────────┴────────────────────────────────────────────────────────────────┴─────────┘\n",
       "\n"
      ]
     },
     "metadata": {},
     "output_type": "display_data"
    }
   ],
   "source": [
    "task_survey.show_questions()"
   ]
  },
  {
   "cell_type": "code",
   "execution_count": 27,
   "metadata": {},
   "outputs": [],
   "source": [
    "scenarios = get_scenarios(570)\n",
    "results = task_survey.by(scenarios).run(cache = cache, progress_bar = False)"
   ]
  },
  {
   "cell_type": "code",
   "execution_count": 28,
   "metadata": {},
   "outputs": [
    {
     "data": {
      "text/html": [
       "<pre style=\"white-space:pre;overflow-x:auto;line-height:normal;font-family:Menlo,'DejaVu Sans Mono',consolas,'Courier New',monospace\"><span style=\"font-weight: bold\">{</span>\n",
       "  <span style=\"color: #000080; text-decoration-color: #000080; font-weight: bold\">\"occupation\"</span>: <span style=\"color: #008000; text-decoration-color: #008000\">\"Dishwashers\"</span>,\n",
       "  <span style=\"color: #000080; text-decoration-color: #000080; font-weight: bold\">\"task\"</span>: <span style=\"color: #008000; text-decoration-color: #008000\">\"Place clean dishes, utensils, or cooking equipment in storage areas.\"</span>\n",
       "<span style=\"font-weight: bold\">}</span>\n",
       "</pre>\n"
      ],
      "text/plain": [
       "\u001b[1m{\u001b[0m\n",
       "  \u001b[1;34m\"occupation\"\u001b[0m: \u001b[32m\"Dishwashers\"\u001b[0m,\n",
       "  \u001b[1;34m\"task\"\u001b[0m: \u001b[32m\"Place clean dishes, utensils, or cooking equipment in storage areas.\"\u001b[0m\n",
       "\u001b[1m}\u001b[0m\n"
      ]
     },
     "metadata": {},
     "output_type": "display_data"
    },
    {
     "data": {
      "text/html": [
       "<pre style=\"white-space:pre;overflow-x:auto;line-height:normal;font-family:Menlo,'DejaVu Sans Mono',consolas,'Courier New',monospace\"><span style=\"font-weight: bold\">{</span>\n",
       "  <span style=\"color: #000080; text-decoration-color: #000080; font-weight: bold\">\"occupation\"</span>: <span style=\"color: #008000; text-decoration-color: #008000\">\"Dishwashers\"</span>,\n",
       "  <span style=\"color: #000080; text-decoration-color: #000080; font-weight: bold\">\"task\"</span>: <span style=\"color: #008000; text-decoration-color: #008000\">\"Sort and remove trash, placing it in designated pickup areas.\"</span>\n",
       "<span style=\"font-weight: bold\">}</span>\n",
       "</pre>\n"
      ],
      "text/plain": [
       "\u001b[1m{\u001b[0m\n",
       "  \u001b[1;34m\"occupation\"\u001b[0m: \u001b[32m\"Dishwashers\"\u001b[0m,\n",
       "  \u001b[1;34m\"task\"\u001b[0m: \u001b[32m\"Sort and remove trash, placing it in designated pickup areas.\"\u001b[0m\n",
       "\u001b[1m}\u001b[0m\n"
      ]
     },
     "metadata": {},
     "output_type": "display_data"
    },
    {
     "data": {
      "text/html": [
       "<pre style=\"white-space:pre;overflow-x:auto;line-height:normal;font-family:Menlo,'DejaVu Sans Mono',consolas,'Courier New',monospace\"><span style=\"font-weight: bold\">{</span>\n",
       "  <span style=\"color: #000080; text-decoration-color: #000080; font-weight: bold\">\"occupation\"</span>: <span style=\"color: #008000; text-decoration-color: #008000\">\"Dishwashers\"</span>,\n",
       "  <span style=\"color: #000080; text-decoration-color: #000080; font-weight: bold\">\"task\"</span>: <span style=\"color: #008000; text-decoration-color: #008000\">\"Sweep or scrub floors.\"</span>\n",
       "<span style=\"font-weight: bold\">}</span>\n",
       "</pre>\n"
      ],
      "text/plain": [
       "\u001b[1m{\u001b[0m\n",
       "  \u001b[1;34m\"occupation\"\u001b[0m: \u001b[32m\"Dishwashers\"\u001b[0m,\n",
       "  \u001b[1;34m\"task\"\u001b[0m: \u001b[32m\"Sweep or scrub floors.\"\u001b[0m\n",
       "\u001b[1m}\u001b[0m\n"
      ]
     },
     "metadata": {},
     "output_type": "display_data"
    },
    {
     "data": {
      "text/plain": [
       "[Scenario({'occupation': 'Dishwashers', 'task': 'Place clean dishes, utensils, or cooking equipment in storage areas.'}),\n",
       " Scenario({'occupation': 'Dishwashers', 'task': 'Sort and remove trash, placing it in designated pickup areas.'}),\n",
       " Scenario({'occupation': 'Dishwashers', 'task': 'Sweep or scrub floors.'})]"
      ]
     },
     "execution_count": 28,
     "metadata": {},
     "output_type": "execute_result"
    }
   ],
   "source": [
    "scenarios[1:4]"
   ]
  },
  {
   "cell_type": "code",
   "execution_count": 24,
   "metadata": {},
   "outputs": [],
   "source": [
    "from dag import plot_dag"
   ]
  },
  {
   "cell_type": "code",
   "execution_count": 29,
   "metadata": {},
   "outputs": [
    {
     "name": "stdout",
     "output_type": "stream",
     "text": [
      "{'scenario.occupation': ['Dishwashers', 'Dishwashers', 'Dishwashers', 'Dishwashers', 'Dishwashers', 'Dishwashers', 'Dishwashers', 'Dishwashers', 'Dishwashers']}\n",
      "{'scenario.task': ['Clean garbage cans with water or steam.', 'Stock supplies, such as food or utensils, in serving stations, cupboards, refrigerators, or salad bars.', 'Sweep or scrub floors.', 'Place clean dishes, utensils, or cooking equipment in storage areas.', 'Receive and store supplies.', 'Maintain kitchen work areas, equipment, or utensils in clean and orderly condition.', 'Sort and remove trash, placing it in designated pickup areas.', 'Transfer supplies or equipment between storage and work areas, by hand or using hand trucks.', 'Wash dishes, glassware, flatware, pots, or pans, using dishwashers or by hand.']}\n",
      "{'answer.info_good': ['No', 'No', 'No', 'No', 'No', 'No', 'No', 'No', 'No']}\n",
      "{'answer.gen_ai_help': ['0', '0', '0', '0', '1', '0', '0', '0', '0']}\n",
      "{'answer.trigger': ['Completion of a previous step in some productive process', 'Internal choice - can be scheduled whenever convenient', 'Completion of a previous step in some productive process', 'Completion of a previous step in some productive process', 'Completion of a previous step in some productive process', 'Completion of a previous step in some productive process', 'Completion of a previous step in some productive process', 'Completion of a previous step in some productive process', 'External trigger a request from another part of the organization']}\n",
      "{'answer.easy_to_tell': ['1', '1', '1', '1', '2', '1', '1', '1', '1']}\n",
      "{'answer.manager_task': ['Almost none', 'Almost none', 'Almost none', 'Almost none', 'Almost none', 'Almost none', 'Almost none', 'Almost none', 'Almost none']}\n",
      "{'answer.ratio_describe_to_do': ['0.1', '0.1', '0.1', '0.1', '0.1', '0.1', '0.1', '0.1', '0.1']}\n"
     ]
    },
    {
     "data": {
      "text/html": [
       "<table id=\"myTable\" class=\"display\">\n",
       "  <thead>\n",
       "  <tr>\n",
       "    <th>scenario.occupation</th>\n",
       "    <th>scenario.task</th>\n",
       "    <th>answer.info_good</th>\n",
       "    <th>answer.gen_ai_help</th>\n",
       "    <th>answer.trigger</th>\n",
       "    <th>answer.easy_to_tell</th>\n",
       "    <th>answer.manager_task</th>\n",
       "    <th>answer.ratio_describe_to_do</th>\n",
       "  </tr>\n",
       "  </thead>\n",
       "</tbody>\n",
       "  <tr>\n",
       "    <td>Dishwashers</td>\n",
       "    <td>Clean garbage cans with water or steam.</td>\n",
       "    <td>No</td>\n",
       "    <td>0</td>\n",
       "    <td>Completion of a previous step in some productive process</td>\n",
       "    <td>1</td>\n",
       "    <td>Almost none</td>\n",
       "    <td>0.1</td>\n",
       "  </tr>\n",
       "  <tr>\n",
       "    <td>Dishwashers</td>\n",
       "    <td>Stock supplies, such as food or utensils, in serving stations, cupboards, refrigerators, or salad bars.</td>\n",
       "    <td>No</td>\n",
       "    <td>0</td>\n",
       "    <td>Internal choice - can be scheduled whenever convenient</td>\n",
       "    <td>1</td>\n",
       "    <td>Almost none</td>\n",
       "    <td>0.1</td>\n",
       "  </tr>\n",
       "  <tr>\n",
       "    <td>Dishwashers</td>\n",
       "    <td>Sweep or scrub floors.</td>\n",
       "    <td>No</td>\n",
       "    <td>0</td>\n",
       "    <td>Completion of a previous step in some productive process</td>\n",
       "    <td>1</td>\n",
       "    <td>Almost none</td>\n",
       "    <td>0.1</td>\n",
       "  </tr>\n",
       "  <tr>\n",
       "    <td>Dishwashers</td>\n",
       "    <td>Place clean dishes, utensils, or cooking equipment in storage areas.</td>\n",
       "    <td>No</td>\n",
       "    <td>0</td>\n",
       "    <td>Completion of a previous step in some productive process</td>\n",
       "    <td>1</td>\n",
       "    <td>Almost none</td>\n",
       "    <td>0.1</td>\n",
       "  </tr>\n",
       "  <tr>\n",
       "    <td>Dishwashers</td>\n",
       "    <td>Receive and store supplies.</td>\n",
       "    <td>No</td>\n",
       "    <td>1</td>\n",
       "    <td>Completion of a previous step in some productive process</td>\n",
       "    <td>2</td>\n",
       "    <td>Almost none</td>\n",
       "    <td>0.1</td>\n",
       "  </tr>\n",
       "  <tr>\n",
       "    <td>Dishwashers</td>\n",
       "    <td>Maintain kitchen work areas, equipment, or utensils in clean and orderly condition.</td>\n",
       "    <td>No</td>\n",
       "    <td>0</td>\n",
       "    <td>Completion of a previous step in some productive process</td>\n",
       "    <td>1</td>\n",
       "    <td>Almost none</td>\n",
       "    <td>0.1</td>\n",
       "  </tr>\n",
       "  <tr>\n",
       "    <td>Dishwashers</td>\n",
       "    <td>Sort and remove trash, placing it in designated pickup areas.</td>\n",
       "    <td>No</td>\n",
       "    <td>0</td>\n",
       "    <td>Completion of a previous step in some productive process</td>\n",
       "    <td>1</td>\n",
       "    <td>Almost none</td>\n",
       "    <td>0.1</td>\n",
       "  </tr>\n",
       "  <tr>\n",
       "    <td>Dishwashers</td>\n",
       "    <td>Transfer supplies or equipment between storage and work areas, by hand or using hand trucks.</td>\n",
       "    <td>No</td>\n",
       "    <td>0</td>\n",
       "    <td>Completion of a previous step in some productive process</td>\n",
       "    <td>1</td>\n",
       "    <td>Almost none</td>\n",
       "    <td>0.1</td>\n",
       "  </tr>\n",
       "  <tr>\n",
       "    <td>Dishwashers</td>\n",
       "    <td>Wash dishes, glassware, flatware, pots, or pans, using dishwashers or by hand.</td>\n",
       "    <td>No</td>\n",
       "    <td>0</td>\n",
       "    <td>External trigger a request from another part of the organization</td>\n",
       "    <td>1</td>\n",
       "    <td>Almost none</td>\n",
       "    <td>0.1</td>\n",
       "  </tr>\n",
       "</tbody>\n",
       "</table>"
      ],
      "text/plain": [
       "<IPython.core.display.HTML object>"
      ]
     },
     "metadata": {},
     "output_type": "display_data"
    }
   ],
   "source": [
    "columns = [\"occupation\", \"task\"] +  task_survey.question_names\n",
    "results.select(*columns).order_by(\"scenario.occupation\").print()"
   ]
  },
  {
   "cell_type": "code",
   "execution_count": 31,
   "metadata": {},
   "outputs": [
    {
     "data": {
      "image/png": "[encoded data removed]",
      "text/plain": [
       "<Figure size 1000x600 with 1 Axes>"
      ]
     },
     "metadata": {},
     "output_type": "display_data"
    }
   ],
   "source": [
    "from dag import draw_dag, plot_dag\n",
    "\n",
    "plot_dag(draw_dag(570))"
   ]
  },
  {
   "cell_type": "code",
   "execution_count": 19,
   "metadata": {},
   "outputs": [],
   "source": [
    "results.to_csv(\"rubin_results.csv\")"
   ]
  },
  {
   "cell_type": "code",
   "execution_count": 134,
   "metadata": {
    "scrolled": true
   },
   "outputs": [
    {
     "data": {
      "text/html": [
       "<pre style=\"white-space:pre;overflow-x:auto;line-height:normal;font-family:Menlo,'DejaVu Sans Mono',consolas,'Courier New',monospace\">┏━━━━━━━━━━━━━━━━━━━━━━━━━━━┳━━━━━━━━━━━━━━━━━━━━━━━━━━━━┳━━━━━━━━━━━━━━━━━━━━━━━━━━━┳━━━━━━━━━━━━━━━━━━━━━━━━━━━━┓\n",
       "┃<span style=\"color: #800080; text-decoration-color: #800080; font-weight: bold\"> answer                    </span>┃<span style=\"color: #800080; text-decoration-color: #800080; font-weight: bold\"> answer                     </span>┃<span style=\"color: #800080; text-decoration-color: #800080; font-weight: bold\"> answer                    </span>┃<span style=\"color: #800080; text-decoration-color: #800080; font-weight: bold\"> answer                     </span>┃\n",
       "┃<span style=\"color: #800080; text-decoration-color: #800080; font-weight: bold\"> .budget_2                 </span>┃<span style=\"color: #800080; text-decoration-color: #800080; font-weight: bold\"> .budget_1_comment          </span>┃<span style=\"color: #800080; text-decoration-color: #800080; font-weight: bold\"> .budget_1                 </span>┃<span style=\"color: #800080; text-decoration-color: #800080; font-weight: bold\"> .budget_2_comment          </span>┃\n",
       "┡━━━━━━━━━━━━━━━━━━━━━━━━━━━╇━━━━━━━━━━━━━━━━━━━━━━━━━━━━╇━━━━━━━━━━━━━━━━━━━━━━━━━━━╇━━━━━━━━━━━━━━━━━━━━━━━━━━━━┩\n",
       "│<span style=\"color: #7f7f7f; text-decoration-color: #7f7f7f\"> [{'Food': 1500}, {'Data': </span>│<span style=\"color: #7f7f7f; text-decoration-color: #7f7f7f\"> The majority of the budget </span>│<span style=\"color: #7f7f7f; text-decoration-color: #7f7f7f\"> [{'Food': 1500}, {'Data': </span>│<span style=\"color: #7f7f7f; text-decoration-color: #7f7f7f\"> I allocated a significant  </span>│\n",
       "│<span style=\"color: #7f7f7f; text-decoration-color: #7f7f7f\"> 100}, {'Rent': 2500},     </span>│<span style=\"color: #7f7f7f; text-decoration-color: #7f7f7f\"> is allocated to rent and   </span>│<span style=\"color: #7f7f7f; text-decoration-color: #7f7f7f\"> 100}, {'Rent': 2000},     </span>│<span style=\"color: #7f7f7f; text-decoration-color: #7f7f7f\"> portion to rent as it's    </span>│\n",
       "│<span style=\"color: #7f7f7f; text-decoration-color: #7f7f7f\"> {'Candles': 50},          </span>│<span style=\"color: #7f7f7f; text-decoration-color: #7f7f7f\"> food which are essential.  </span>│<span style=\"color: #7f7f7f; text-decoration-color: #7f7f7f\"> {'Candles': 50},          </span>│<span style=\"color: #7f7f7f; text-decoration-color: #7f7f7f\"> typically the largest      </span>│\n",
       "│<span style=\"color: #7f7f7f; text-decoration-color: #7f7f7f\"> {'Utility': 1750}]        </span>│<span style=\"color: #7f7f7f; text-decoration-color: #7f7f7f\"> Data and candles have      </span>│<span style=\"color: #7f7f7f; text-decoration-color: #7f7f7f\"> {'Utility': 1250}]        </span>│<span style=\"color: #7f7f7f; text-decoration-color: #7f7f7f\"> expense, followed by food, </span>│\n",
       "│<span style=\"color: #7f7f7f; text-decoration-color: #7f7f7f\">                           </span>│<span style=\"color: #7f7f7f; text-decoration-color: #7f7f7f\"> smaller allocations, and   </span>│<span style=\"color: #7f7f7f; text-decoration-color: #7f7f7f\">                           </span>│<span style=\"color: #7f7f7f; text-decoration-color: #7f7f7f\"> utilities, data, and a     </span>│\n",
       "│<span style=\"color: #7f7f7f; text-decoration-color: #7f7f7f\">                           </span>│<span style=\"color: #7f7f7f; text-decoration-color: #7f7f7f\"> utilities are given a      </span>│<span style=\"color: #7f7f7f; text-decoration-color: #7f7f7f\">                           </span>│<span style=\"color: #7f7f7f; text-decoration-color: #7f7f7f\"> small amount for candles.  </span>│\n",
       "│<span style=\"color: #7f7f7f; text-decoration-color: #7f7f7f\">                           </span>│<span style=\"color: #7f7f7f; text-decoration-color: #7f7f7f\"> significant portion as     </span>│<span style=\"color: #7f7f7f; text-decoration-color: #7f7f7f\">                           </span>│<span style=\"color: #7f7f7f; text-decoration-color: #7f7f7f\">                            </span>│\n",
       "│<span style=\"color: #7f7f7f; text-decoration-color: #7f7f7f\">                           </span>│<span style=\"color: #7f7f7f; text-decoration-color: #7f7f7f\"> they are necessary for     </span>│<span style=\"color: #7f7f7f; text-decoration-color: #7f7f7f\">                           </span>│<span style=\"color: #7f7f7f; text-decoration-color: #7f7f7f\">                            </span>│\n",
       "│<span style=\"color: #7f7f7f; text-decoration-color: #7f7f7f\">                           </span>│<span style=\"color: #7f7f7f; text-decoration-color: #7f7f7f\"> comfortable living.        </span>│<span style=\"color: #7f7f7f; text-decoration-color: #7f7f7f\">                           </span>│<span style=\"color: #7f7f7f; text-decoration-color: #7f7f7f\">                            </span>│\n",
       "└───────────────────────────┴────────────────────────────┴───────────────────────────┴────────────────────────────┘\n",
       "</pre>\n"
      ],
      "text/plain": [
       "┏━━━━━━━━━━━━━━━━━━━━━━━━━━━┳━━━━━━━━━━━━━━━━━━━━━━━━━━━━┳━━━━━━━━━━━━━━━━━━━━━━━━━━━┳━━━━━━━━━━━━━━━━━━━━━━━━━━━━┓\n",
       "┃\u001b[1;35m \u001b[0m\u001b[1;35manswer                   \u001b[0m\u001b[1;35m \u001b[0m┃\u001b[1;35m \u001b[0m\u001b[1;35manswer                    \u001b[0m\u001b[1;35m \u001b[0m┃\u001b[1;35m \u001b[0m\u001b[1;35manswer                   \u001b[0m\u001b[1;35m \u001b[0m┃\u001b[1;35m \u001b[0m\u001b[1;35manswer                    \u001b[0m\u001b[1;35m \u001b[0m┃\n",
       "┃\u001b[1;35m \u001b[0m\u001b[1;35m.budget_2                \u001b[0m\u001b[1;35m \u001b[0m┃\u001b[1;35m \u001b[0m\u001b[1;35m.budget_1_comment         \u001b[0m\u001b[1;35m \u001b[0m┃\u001b[1;35m \u001b[0m\u001b[1;35m.budget_1                \u001b[0m\u001b[1;35m \u001b[0m┃\u001b[1;35m \u001b[0m\u001b[1;35m.budget_2_comment         \u001b[0m\u001b[1;35m \u001b[0m┃\n",
       "┡━━━━━━━━━━━━━━━━━━━━━━━━━━━╇━━━━━━━━━━━━━━━━━━━━━━━━━━━━╇━━━━━━━━━━━━━━━━━━━━━━━━━━━╇━━━━━━━━━━━━━━━━━━━━━━━━━━━━┩\n",
       "│\u001b[2m \u001b[0m\u001b[2m[{'Food': 1500}, {'Data':\u001b[0m\u001b[2m \u001b[0m│\u001b[2m \u001b[0m\u001b[2mThe majority of the budget\u001b[0m\u001b[2m \u001b[0m│\u001b[2m \u001b[0m\u001b[2m[{'Food': 1500}, {'Data':\u001b[0m\u001b[2m \u001b[0m│\u001b[2m \u001b[0m\u001b[2mI allocated a significant \u001b[0m\u001b[2m \u001b[0m│\n",
       "│\u001b[2m \u001b[0m\u001b[2m100}, {'Rent': 2500},    \u001b[0m\u001b[2m \u001b[0m│\u001b[2m \u001b[0m\u001b[2mis allocated to rent and  \u001b[0m\u001b[2m \u001b[0m│\u001b[2m \u001b[0m\u001b[2m100}, {'Rent': 2000},    \u001b[0m\u001b[2m \u001b[0m│\u001b[2m \u001b[0m\u001b[2mportion to rent as it's   \u001b[0m\u001b[2m \u001b[0m│\n",
       "│\u001b[2m \u001b[0m\u001b[2m{'Candles': 50},         \u001b[0m\u001b[2m \u001b[0m│\u001b[2m \u001b[0m\u001b[2mfood which are essential. \u001b[0m\u001b[2m \u001b[0m│\u001b[2m \u001b[0m\u001b[2m{'Candles': 50},         \u001b[0m\u001b[2m \u001b[0m│\u001b[2m \u001b[0m\u001b[2mtypically the largest     \u001b[0m\u001b[2m \u001b[0m│\n",
       "│\u001b[2m \u001b[0m\u001b[2m{'Utility': 1750}]       \u001b[0m\u001b[2m \u001b[0m│\u001b[2m \u001b[0m\u001b[2mData and candles have     \u001b[0m\u001b[2m \u001b[0m│\u001b[2m \u001b[0m\u001b[2m{'Utility': 1250}]       \u001b[0m\u001b[2m \u001b[0m│\u001b[2m \u001b[0m\u001b[2mexpense, followed by food,\u001b[0m\u001b[2m \u001b[0m│\n",
       "│\u001b[2m                           \u001b[0m│\u001b[2m \u001b[0m\u001b[2msmaller allocations, and  \u001b[0m\u001b[2m \u001b[0m│\u001b[2m                           \u001b[0m│\u001b[2m \u001b[0m\u001b[2mutilities, data, and a    \u001b[0m\u001b[2m \u001b[0m│\n",
       "│\u001b[2m                           \u001b[0m│\u001b[2m \u001b[0m\u001b[2mutilities are given a     \u001b[0m\u001b[2m \u001b[0m│\u001b[2m                           \u001b[0m│\u001b[2m \u001b[0m\u001b[2msmall amount for candles. \u001b[0m\u001b[2m \u001b[0m│\n",
       "│\u001b[2m                           \u001b[0m│\u001b[2m \u001b[0m\u001b[2msignificant portion as    \u001b[0m\u001b[2m \u001b[0m│\u001b[2m                           \u001b[0m│\u001b[2m                            \u001b[0m│\n",
       "│\u001b[2m                           \u001b[0m│\u001b[2m \u001b[0m\u001b[2mthey are necessary for    \u001b[0m\u001b[2m \u001b[0m│\u001b[2m                           \u001b[0m│\u001b[2m                            \u001b[0m│\n",
       "│\u001b[2m                           \u001b[0m│\u001b[2m \u001b[0m\u001b[2mcomfortable living.       \u001b[0m\u001b[2m \u001b[0m│\u001b[2m                           \u001b[0m│\u001b[2m                            \u001b[0m│\n",
       "└───────────────────────────┴────────────────────────────┴───────────────────────────┴────────────────────────────┘\n"
      ]
     },
     "metadata": {},
     "output_type": "display_data"
    }
   ],
   "source": [
    "from edsl.questions import QuestionBudget\n",
    "\n",
    "q1 = QuestionBudget(\n",
    "    question_text = \"\"\"Please help me allocated my monthly budget.\"\"\", \n",
    "    question_options = [\"Food\", \"Data\", \"Rent\", \"Candles\", \"Utility\"],\n",
    "    question_name = \"budget_1\",\n",
    "    budget_sum = sum([200, 150, 800, 3600, 150])\n",
    ")\n",
    "q2 = QuestionBudget(\n",
    "    question_text = \"\"\"Please help me allocated my monthly budget.\"\"\", \n",
    "    question_options = [\"Food\", \"Data\", \"Rent\", \"Candles\", \"Utility\"],\n",
    "    question_name = \"budget_2\",\n",
    "    budget_sum = sum([200, 150, 800, 3600, 150]) + 1000\n",
    ")\n",
    "q1.add_question(q2).run().select(\"answer.*\").print(format = \"rich\")"
   ]
  },
  {
   "cell_type": "code",
   "execution_count": null,
   "metadata": {},
   "outputs": [],
   "source": []
  }
 ],
 "metadata": {
  "kernelspec": {
   "display_name": "Python 3 (ipykernel)",
   "language": "python",
   "name": "python3"
  },
  "language_info": {
   "codemirror_mode": {
    "name": "ipython",
    "version": 3
   },
   "file_extension": ".py",
   "mimetype": "text/x-python",
   "name": "python",
   "nbconvert_exporter": "python",
   "pygments_lexer": "ipython3",
   "version": "3.10.13"
  }
 },
 "nbformat": 4,
 "nbformat_minor": 4
}
